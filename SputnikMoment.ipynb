{
 "cells": [
  {
   "cell_type": "markdown",
   "metadata": {},
   "source": [
    "### Add libraries"
   ]
  },
  {
   "cell_type": "code",
   "execution_count": 2,
   "metadata": {},
   "outputs": [],
   "source": [
    "#libraries\n",
    "import numpy as np\n",
    "import matplotlib as plt\n",
    "import plotly.graph_objects as go"
   ]
  },
  {
   "cell_type": "code",
   "execution_count": 3,
   "metadata": {},
   "outputs": [],
   "source": [
    "# tef,dtt,a: array [0..1501] of longint# \n",
    "# tav,ms,Ω,djs,djs1,μ,φ,Rsat,Xsp,Xsp1,PerSat,dφs,t2,t1,Jsc,Jr1,Jr2,j12,tpl1,tpl2:array [0..1500] of real# \n",
    "# t1s,t2s,te1s,te2s,Jadd1,Jadd2,k: array [1..10,0..1501] of real#\n",
    "# Pp,Ps,Rp,Ap,m,Mp,φp,dφp,dt1:longint# \n",
    "# dt,n,ts,s,t:longint# \n",
    "# Rs,xp,xp1,Xplo,Xpl,Xpln,Xpln1,Xpl1o,G,Mstar,Mplanet,Ωp,F,f1,Alb:real# \n",
    "# delt,tint,i:integer# \n",
    "# delj,dttav,jav,sigmajdtt,sigmaj,sigmadtt,Jres,Jcut,Jcuto:real#\n",
    "# PpObs,t0,Korr,TTVmax,TTVmin:real# \n",
    "# PerP:real#\n",
    "\n",
    "# Jo:array [0..1500,-70000..70000] of real#\n",
    "# V1,V2,V3,V4,V5,L,S3,djp1,djp,djp0:real#\n",
    "# Rz,Aps,Ass:longint# \n",
    "\n",
    "# xs,xs1,dJ:real# \n",
    "\n",
    "# te1,te2:integer# \n",
    "\n",
    "# nn,sumn,ntav,sumtav,Delta,DeltaPp,Deltat0:real# "
   ]
  },
  {
   "cell_type": "markdown",
   "metadata": {},
   "source": [
    "### Define all the constants i.e. star/planet/moons/noise"
   ]
  },
  {
   "cell_type": "code",
   "execution_count": 126,
   "metadata": {},
   "outputs": [],
   "source": [
    "m=2;\n",
    "ms=[None]*3\n",
    "a=[None]*3\n",
    "Rsat=[None]*3\n",
    "\n",
    "G=6.67*10**(-11)#\n",
    "Mstar=1.99*10**30#\n",
    "Mplanet=5.99*10**24#\n",
    "\n",
    "Mp=1#{Масса планеты в относительных единицах}\n",
    "ms[0]=1/81.3#{Масса спутника-1 в массах планеты}\n",
    "ms[1]=1/95#{Масса спутника-2 в массах планеты}\n",
    "ms[2]=1/98#\n",
    "Ap=149598000# {Большая полуось орбиты планеты в км} \n",
    "Pp=31556952# {Период обращения планеты вокруг звезды в сек}\n",
    "Ps=245000# {Период обращения спутника вокруг планеты в сек} \n",
    "Rp=6400# {Радиус планеты в км} \n",
    "Rs=695000# {Радиус звезды в км} \n",
    "\n",
    "a[0]=384000#{Радиус орбиты спутника-1 в км}\n",
    "a[1]=200000#{Радиус орбиты спутника-2 в км}\n",
    "a[2]=699000#\n",
    "\n",
    "Rsat[0]=1738# {Радиус спутника-1 в км} \n",
    "Rsat[1]=1450# {Радиус спутника-2 в км} \n",
    "Rsat[2]=1950#\n",
    "Alb=0.3#\n",
    "s=100# {Число транзитов системы спутники-планета}  \n",
    "tint=6500# {Время усреднения яркости до/после затмения в сек} \n",
    "delJ=0.000007#{Погрешность измения яркости, случайная добавка принимает значения от delJ до +delJ, всегда равна нулю при delt=0} \n",
    "delt=6# {Погрешность изменения времени транзита, принимает значения от -delt до +delt, в сек} \n",
    "φp=0# what is it?\n",
    "Ωp=np.sqrt(G*Mstar/1000000000/Ap/Ap/Ap)#\n",
    "djp=(Rp/Rs)**2#\n",
    "djp0=Rp/Rs#\n",
    "PerP=2*np.pi/Ωp#\n",
    "Ω=[None]*m\n",
    "djs=[None]*m\n",
    "μ=[None]*m\n",
    "dφs=[None]*m\n",
    "PerSat=[None]*m\n",
    "φ=[None]*m\n",
    "dφs=[None]*m\n",
    "t1=[None]*s   \n",
    "t2=[None]*s\n",
    "Xsp=[0]*m\n",
    "Xspprev=[0]*m\n",
    "djs1=[0]*m\n",
    "tpl1=[None]*s\n",
    "tpl2=[None]*s\n",
    "Ω=[None]*m\n",
    "w1 = s\n",
    "T=70000\n",
    "t1s = [[0 for x in range(m)] for y in range(w1)] \n",
    "t2s = [[0 for x in range(m)] for y in range(w1)] \n",
    "te1s = [[0 for x in range(int(-T/10),int(T/10))] for y in range(w1)] \n",
    "te2s= [[0 for x in range(int(-T/10),int(T/10))] for y in range(w1)] \n",
    "Jo= [[0 for x in range(int(-T/10),int(T/10))] for y in range(w1)] \n",
    "Xpprev=0\n",
    "Xplnprev=0"
   ]
  },
  {
   "cell_type": "markdown",
   "metadata": {},
   "source": [
    "### Parameters of the moons"
   ]
  },
  {
   "cell_type": "code",
   "execution_count": 127,
   "metadata": {},
   "outputs": [
    {
     "name": "stdout",
     "output_type": "stream",
     "text": [
      "2.6563144917024576e-06\n",
      "djs=  6.253597639873713e-06\n",
      "μ= 81.3\n",
      "Ps- 0 = None\n",
      "dφs- 0 = 0.34070305677683876\n",
      "7.066938870543597e-06\n",
      "djs=  4.352776771388645e-06\n",
      "μ= 95.0\n",
      "Ps- 1 = None\n",
      "dφs- 1 = 0.4920071726493447\n",
      "Pp= 31555792.695338428\n"
     ]
    }
   ],
   "source": [
    "for i in range(m):\n",
    "    Ω[i]=np.sqrt(G*Mplanet/1000000000/a[i]/a[i]/a[i])# {Доп. коэфф. необходим при переводе из км в метры}\n",
    "    djs[i]=(Rsat[i]**2)/(Rs**2)# {Изменение яркости звезды во время транзита i-го спутника}\n",
    "    μ[i]=(Mp/ms[i])# {Отношение масс i-го спутника к массе планеты.}\n",
    "    print(Ω[i])\n",
    "    print('djs= ', djs[i])#\n",
    "    print('μ=', μ[i])#\n",
    "#     PerSat[i]=2*np.pi/Ω[i]#\n",
    "    dφs[i]=(Ω[i]*PerP/2/np.pi-int(Ω[i]*PerP/2/np.pi))# Phase shift?+np.pi/2\n",
    "    print('Ps-',i,'=',PerSat[i])#\n",
    "    print('dφs-',i,'=',dφs[i])#\n",
    "    \n",
    "print('Pp=',PerP)#"
   ]
  },
  {
   "cell_type": "markdown",
   "metadata": {},
   "source": [
    "### Loop over s transits"
   ]
  },
  {
   "cell_type": "code",
   "execution_count": 129,
   "metadata": {},
   "outputs": [
    {
     "name": "stdout",
     "output_type": "stream",
     "text": [
      "tpl1= [-23540, -23540, -23540, -23540, -23540, -23540, -23540, -23540, -23540, -23540, -23540, -23540, -23540, -23540, -23540, -23540, -23540, -23540, -23540, -23540, -23540, -23540, -23540, -23540, -23540, -23540, -23540, -23540, -23540, -23540, -23540, -23540, -23540, -23540, -23540, -23540, -23540, -23540, -23540, -23540, -23540, -23540, -23540, -23540, -23540, -23540, -23540, -23540, -23540, -23540, -23540, -23540, -23540, -23540, -23540, -23540, -23540, -23540, -23540, -23540, -23540, -23540, -23540, -23540, -23540, -23540, -23540, -23540, -23540, -23540, -23540, -23540, -23540, -23540, -23540, -23540, -23540, -23540, -23540, -23540, -23540, -23540, -23540, -23540, -23540, -23540, -23540, -23540, -23540, -23540, -23540, -23540, -23540, -23540, -23540, -23540, -23540, -23540, -23540, -23540]\n",
      "tpl2= [23550, 23550, 23550, 23550, 23550, 23550, 23550, 23550, 23550, 23550, 23550, 23550, 23550, 23550, 23550, 23550, 23550, 23550, 23550, 23550, 23550, 23550, 23550, 23550, 23550, 23550, 23550, 23550, 23550, 23550, 23550, 23550, 23550, 23550, 23550, 23550, 23550, 23550, 23550, 23550, 23550, 23550, 23550, 23550, 23550, 23550, 23550, 23550, 23550, 23550, 23550, 23550, 23550, 23550, 23550, 23550, 23550, 23550, 23550, 23550, 23550, 23550, 23550, 23550, 23550, 23550, 23550, 23550, 23550, 23550, 23550, 23550, 23550, 23550, 23550, 23550, 23550, 23550, 23550, 23550, 23550, 23550, 23550, 23550, 23550, 23550, 23550, 23550, 23550, 23550, 23550, 23550, 23550, 23550, 23550, 23550, 23550, 23550, 23550, 23550]\n"
     ]
    }
   ],
   "source": [
    "#we have to understand this loop\n",
    "\n",
    "# print(len(Jo))\n",
    "\n",
    "for n in range(0,s):\n",
    "    #{n-transit's number}\n",
    "    for i in range(m):\n",
    "        φ[i]=2*np.pi*(n*dφs[i]-int(n*dφs[i]))# current phase of each satellite?\n",
    "#         print(φ[i])\n",
    "    \n",
    "    t=-T#  \n",
    "    while t<T: #by 10 second iteration\n",
    "        t=t+10#\n",
    "        \n",
    "        Jo[n][int(t/10)]=1\n",
    "#         dt=dt+5\n",
    "        Xplo=0#\n",
    "        for i in range(m):#Contribution of every satellite to planet's position\n",
    "            Xplo=Xplo-(a[i]/(μ[i]+1)*np.sin(Ω[i]*t+φ[i]))\n",
    "        Xp=0#\n",
    "        Xp=Xplo+Ap*np.sin(Ωp*t+φp)#{координата центра планеты в момент t}\n",
    "#         Xp1=0#\n",
    "#         Xp1=Xplo+Ap*np.sin(Ωp*(t+5)+φp)#{координата центра планеты в момент t+1}\n",
    "#         print('Xp=',Xp)\n",
    "#         print('Xp=',Xp)\n",
    "        \n",
    "        \n",
    "        #every time check the condition:\n",
    "        \n",
    "        if (-Xpprev>Rs+Rp) and (-Xp<Rs+Rp):\n",
    "            t1[n]=t# {Условие вступления центра планеты на диск звезды, t1[n]-время начала n-го транзита в сек}\n",
    "        if (Xpprev<Rs+Rp) and (Xp>Rs+Rp):\n",
    "            t2[n]=t# {Условие схода центра планеты с диска звезды, t2[n]-время окончания n-го транзита в сек}\n",
    "        Xpprev=Xp\n",
    "        \n",
    "#{Транзиты планеты без участия спутников}\n",
    "        Xpln=Ap*np.sin(Ωp*t+φp)\n",
    "        Xpln1=Ap*np.sin(Ωp*(t+1)+φp)#\n",
    "        \n",
    "        if (-Xplnprev>Rs+Rp) and (-Xpln<Rs+Rp):\n",
    "            tpl1[n]=t# {Условие вступления центра планеты на диск звезды, tpl1[n]-время начала n-го транзита в сек}\n",
    "        if (Xplnprev<Rs+Rp) and (Xpln>Rs+Rp):\n",
    "            tpl2[n]=t# {Условие схода центра планеты с диска звезды, tpl2[n]-время окончания n-го транзита в сек} \n",
    "        Xplnprev=Xpln  \n",
    "#         print('Xpl',Xp, 't=',t)\n",
    "\n",
    "        \n",
    "        for i in range(m):\n",
    "            Xspprev[i]=Xsp[i]\n",
    "            Xsp[i]=Xp+a[i]*(μ[i]/(μ[i]+1))*np.sin(Ω[i]*t+φ[i])# {координата центра спутника в момент t}\n",
    "#             print('Xspprev=',Xspprev[i],'t=',t)\n",
    "#             Xsp1[i]=Xp1+a[i]*(μ[i]/(μ[i]+1))*np.sin(Ω[i]*(t+1)+φ[i])# {координата центра спутника в момент t+1}\n",
    "            if (-Xspprev[i]>Rs) and (-Xsp[i]<Rs):\n",
    "                t1s[n][i]=t # {Условие вступления центра спутника на диск звезды, t1s[n]-время начала n-го транзита в сек} \n",
    "#                 print('t=',t)\n",
    "            if (Xspprev[i]<Rs) and (Xsp[i]>Rs):\n",
    "                t2s[n][i]=t# {Условие схода центра спутника с диска звезды, t2[n]-время окончания n-го транзита в сек}\n",
    "#                 print('t=',t)\n",
    "#             print('Xsp=',Xsp)\n",
    "            \n",
    "        for i in range(m):\n",
    "            l=0\n",
    "            S3=0\n",
    "            v3=0 # what is it?\n",
    "            v1=0\n",
    "            v2=0\n",
    "            if (abs(Xsp[i])<(Rs+Rsat[i])) and (abs(Xsp[i])>Rs):\n",
    "                v1=1\n",
    "            else:\n",
    "                v1=0\n",
    "                \n",
    "            if  (abs(Xsp[i])>(Rs-Rsat[i])) and (abs(Xsp[i])<Rs):\n",
    "                v2=1 \n",
    "            else:\n",
    "                v2=0\n",
    "            if abs(Xsp[i])<(Rs-Rsat[i]):\n",
    "                v3=1\n",
    "            else:\n",
    "                v3=0\n",
    "            djs1[0]=0 \n",
    "            djs1[1]=0\n",
    "            if v1>0 or v2>0:\n",
    "#                 Jo[n][int(t/10)]=Jo[n][int(t/10)]-djs[i]*0.5\n",
    "#             if v3>0:\n",
    "#                 Jo[n][int(t/10)]=Jo[n][int(t/10)]-djs[i]\n",
    "# #                 print('Xsp[i]=', Xsp[i])\n",
    "                l=np.sqrt(Rsat[i]**2-(abs(Xsp[i])-Rs)**2)\n",
    "                S3=np.arccos(abs(-Rs+abs(Xsp[i]))/Rsat[i])*Rsat[i]**2-l*abs(-Rs+abs(Xsp[i]))\n",
    "                djs1[i]=S3/(np.pi*Rs*Rs)\n",
    "#             Jo[n][int(t/10)]=Jo[n][int(t/10)]-djs1[i]*v1-(djs[i]-djs1[i])*v2-djs[i]*v3#\n",
    "            Jo[n][int(t/10)]=Jo[n][int(t/10)]-(1-0.65+0.65*np.sqrt(abs(1-(abs(Xsp[i]))*(abs(Xsp[i]))/Rs/Rs)))*(djs1[i]*v1+(djs[i]-djs1[i])*v2+djs[i]*v3)   \n",
    "#             print(Jo[n][int(t/10)])\n",
    "#             print('v3=',v3)\n",
    "#             print('Jo1=',Jo[n][int(t/10)])\n",
    "        v3=0 # what is it?\n",
    "        v1=0\n",
    "        v2=0\n",
    "        if (abs(Xp)<(Rs+Rp)) and (abs(Xp)>Rs):\n",
    "            v1=1\n",
    "        else:\n",
    "            v1=0 \n",
    "        if  (abs(Xp)>(Rs-Rp)) and (abs(Xp)<Rs):\n",
    "            v2=1 \n",
    "        else:\n",
    "            v2=0\n",
    "        if abs(Xp)<(Rs-Rp):\n",
    "            v3=1\n",
    "        else:\n",
    "            v3=0\n",
    "        l=0\n",
    "        S3=0\n",
    "        djp1=0\n",
    "        if v1>0 or v2>0:\n",
    "#             print('t=',t)\n",
    "#             print('Xp=', Xp)\n",
    "#             l=abs(abs(Xp)-Rs)\n",
    "#             print('l=',l)\n",
    "#             S3=1/2*(Rp**2)*np.arcsin(2*l*np.sqrt(Rp**2-l**2)/Rp**2)-l*np.sqrt(Rp**2-l**2)\n",
    "            l=np.sqrt(Rp**2-(abs(Xp)-Rs)**2)\n",
    "            S3=np.arccos(abs(-Rs+abs(Xp))/Rp)*Rp*Rp-l*abs(-Rs+abs(Xp))#\n",
    "            djp1=S3/(np.pi*Rs*Rs)\n",
    "#             Jo[n][int(t/10)]=1-djp1*v1-(djp-djp1)*v2#\n",
    "#         if v3>0:\n",
    "#             Jo[n][int(t/10)]=1-djp*v3\n",
    "            \n",
    "#         v3=1\n",
    "        Jo[n][int(t/10)]=Jo[n][int(t/10)]-(1-0.65+0.65*np.sqrt(abs(1-(abs(Xp))*(abs(Xp))/Rs/Rs)))*(djp1*v1+(djp-djp1)*v2+djp*v3)\n",
    "#         print('Jo2=',Jo[n][int(t/10)],'t=',t) \n",
    "# print('J=',Jo[n][int(t/10)])\n",
    "\n",
    "#             djp1=(S3/(np.pi*Rs*Rs))#\n",
    "            \n",
    "#         Jo[n][t]=Jo[n][t]-(djp1*(V1+V5)+(djp-djp1)*(V2+V4)+djp*V3)#\n",
    "#          {Jo[n,t]=Jo[n,t]-(1-0.65+0.65*np.sqrt(abs(1-(abs(Xp))*(abs(Xp))/Rs/Rs)))*(djp1*(V1)+(djp-djp1)*(V2)+djp*V3)#}\n",
    "\n",
    "#     print(t1[n])\n",
    "#     print(t2[n])\n",
    "# print(t1s)\n",
    "# print(t2s)\n",
    "print('tpl1=',tpl1)\n",
    "print('tpl2=',tpl2)\n",
    "#     for i in range(m):\n",
    "#         te1s[n][i]=t1[n]-t1s[n][i]#{Продолж. нахождения спутников на диске звезды до и после транзита планеты}\n",
    "#         te2s[n][i]=t2s[n][i]-t2[n]#"
   ]
  },
  {
   "cell_type": "code",
   "execution_count": null,
   "metadata": {},
   "outputs": [],
   "source": []
  },
  {
   "cell_type": "code",
   "execution_count": 130,
   "metadata": {},
   "outputs": [
    {
     "name": "stdout",
     "output_type": "stream",
     "text": [
      "Pp= -0.0878626231836367  t0= 8.61306915602972\n",
      "nan\n",
      "nan\n",
      "-0.9999999999999999\n",
      "nan\n",
      "-1.0\n",
      "0.0\n",
      "-1.0\n",
      "0.0\n",
      "-0.9999999999999999\n",
      "1.4042654220543672e-24\n",
      "-1.0\n",
      "0.0\n",
      "-0.9642857142857145\n",
      "0.0004541491691941689\n",
      "-0.9523809523809524\n",
      "0.00026040002438725105\n",
      "-0.9666666666666667\n",
      "2.155031274835775e-05\n",
      "-0.9757575757575757\n",
      "1.4675461874042197e-06\n",
      "-0.9818181818181818\n",
      "8.403066433955246e-08\n",
      "-0.9860139860139862\n",
      "4.1168959116543284e-09\n",
      "-0.989010989010989\n",
      "1.7507283021964818e-10\n",
      "-0.9824175824175824\n",
      "4.1071830416421516e-10\n",
      "-0.9857142857142854\n",
      "1.92909487460678e-11\n",
      "-0.988235294117647\n",
      "8.108881053980581e-13\n",
      "-0.982843137254902\n",
      "2.000914024116428e-12\n",
      "-0.9855521155830752\n",
      "9.124170334062525e-14\n",
      "-0.9859649122807018\n",
      "1.1746402861484317e-14\n",
      "-0.9864661654135337\n",
      "1.3775681209191945e-15\n",
      "-0.9870129870129869\n",
      "1.4901403238291642e-16\n",
      "-0.9887069452286844\n",
      "5.811668452413504e-18\n",
      "-0.9901185770750988\n",
      "2.1058652770074573e-19\n",
      "-0.9913043478260868\n",
      "7.113899561244949e-21\n",
      "-0.9900000000000001\n",
      "4.541299577671185e-21\n",
      "-0.9904273504273503\n",
      "3.7231216402557793e-22\n",
      "-0.9896214896214895\n",
      "1.377650952152576e-22\n",
      "-0.990695128626163\n",
      "4.724358720615866e-24\n",
      "-0.9901477832512312\n",
      "1.3611285650629523e-24\n",
      "-0.9911012235817575\n",
      "4.5293548454952727e-26\n",
      "-0.9875\n",
      "7.993798983063995e-25\n",
      "-0.9868035190615836\n",
      "2.782027511049853e-25\n",
      "-0.9862967914438503\n",
      "7.921577065252244e-26\n",
      "-0.9871657754010694\n",
      "4.538461499524597e-27\n",
      "-0.9834733893557424\n",
      "4.5058751408244626e-26\n",
      "-0.9840411840411842\n",
      "4.456293178800678e-27\n",
      "-0.9784257942152679\n",
      "1.4628836739995853e-25\n",
      "-0.9794288215340846\n",
      "1.275556303241825e-26\n",
      "-0.9797570850202431\n",
      "1.891013728905132e-27\n",
      "-0.9808630393996248\n",
      "1.2971106735324035e-28\n",
      "-0.9796167247386763\n",
      "8.439131301708927e-29\n",
      "-0.9810388137103964\n",
      "3.992794163117999e-30\n",
      "-0.9788583509513741\n",
      "6.97571294829182e-30\n",
      "-0.9798449612403101\n",
      "5.217652088443798e-31\n",
      "-0.9808959156785243\n",
      "3.291689360930905e-32\n",
      "-0.9821153253160654\n",
      "1.5019544103624532e-33\n",
      "-0.9816142460684552\n",
      "5.180769429784558e-34\n",
      "-0.9814372557533652\n",
      "1.2170580189232535e-34\n",
      "-0.9798979591836735\n",
      "1.4766693573517952e-34\n",
      "-0.9807923169267706\n",
      "9.878065153840824e-36\n",
      "-0.9817194570135747\n",
      "5.735687076069724e-37\n",
      "-0.9823273286092375\n",
      "4.673734716601641e-38\n",
      "-0.9818577648766328\n",
      "1.6812643819456116e-38\n",
      "-0.9784257671050123\n",
      "2.739037545636063e-37\n",
      "-0.9764069264069265\n",
      "5.8512819285966805e-37\n",
      "-0.9774436090225566\n",
      "3.7702495133020003e-38\n",
      "-0.978091781177081\n",
      "3.568881636471262e-39\n",
      "-0.9792057584053647\n",
      "1.733266827482123e-40\n",
      "-0.979544126241964\n",
      "2.1937424310225875e-41\n",
      "-0.9801055848846905\n",
      "1.9676651670600623e-42\n",
      "-0.980525919254374\n",
      "2.0746069596642457e-43\n",
      "-0.9813525390788099\n",
      "1.1127700224119116e-44\n",
      "-0.981890623758107\n",
      "8.753118035322572e-46\n",
      "-0.9821195542764821\n",
      "1.11258587821422e-46\n",
      "-0.9828449050621595\n",
      "5.699089257729668e-48\n",
      "-0.9831431946118517\n",
      "5.976524565846074e-49\n",
      "-0.9835277219582919\n",
      "5.152830038095564e-50\n",
      "-0.9838240210168477\n",
      "5.1018407193852e-51\n",
      "-0.9844807588851232\n",
      "2.2866895178158378e-52\n",
      "-0.9850665316977943\n",
      "1.0870503197420618e-53\n",
      "-0.9856217044122912\n",
      "5.0744315353004685e-55\n",
      "-0.9858588784833489\n",
      "4.775067072789605e-56\n",
      "-0.9861544990877364\n",
      "3.7721511552448416e-57\n",
      "-0.986293660968885\n",
      "4.3284550547924466e-58\n",
      "-0.9868275061605669\n",
      "1.6792786515936032e-59\n",
      "-0.987067315948327\n",
      "1.373111595387991e-60\n",
      "-0.9875121595546689\n",
      "5.931554416719259e-62\n",
      "-0.9874552654371627\n",
      "1.102251974419609e-62\n",
      "-0.9876822710392594\n",
      "8.596416757362384e-64\n",
      "-0.9880447270583166\n",
      "4.197902703629972e-65\n",
      "-0.9884369568229061\n",
      "1.7347787589384608e-66\n",
      "-0.988223642198015\n",
      "5.408848890582394e-67\n",
      "-0.988413341667336\n",
      "4.276834685212485e-68\n",
      "-0.9882755550381912\n",
      "1.0447952996535083e-68\n",
      "-0.9885525836588414\n",
      "5.910488438143614e-70\n",
      "-0.9887586388579549\n",
      "4.150910272445038e-71\n",
      "-0.9891054238511288\n",
      "1.640575306997326e-72\n",
      "-0.9890499863705288\n",
      "2.9832914457397347e-73\n",
      "-0.9885978168270311\n",
      "2.5209891601158488e-73\n",
      "-0.9880353139375309\n",
      "3.103792641889124e-73\n",
      "-0.988377695244736\n",
      "1.3173318958506373e-74\n",
      "-0.9886639491556567\n",
      "6.523765200459062e-76\n",
      "-0.9889660628703261\n",
      "2.8689541696453998e-77\n",
      "-0.9893145105349552\n",
      "9.734943204211519e-79\n",
      "-0.9891725052398539\n",
      "2.6000310573479748e-79\n",
      "-0.9892632109320848\n",
      "2.5612039991293182e-80\n",
      "-0.9895392952290878\n",
      "1.0871686182536012e-81\n",
      "-0.9898180382566238\n",
      "4.295147739989562e-83\n",
      "-0.990080211924487\n",
      "1.726893385753765e-84\n",
      "-0.9903748643944581\n",
      "5.547276175286055e-86\n"
     ]
    }
   ],
   "source": [
    "from scipy.stats import spearmanr \n",
    "Jr1=[0]*s\n",
    "Jr2=[0]*s\n",
    "J12=[0]*s\n",
    "tav=[0]*s\n",
    "nn=0\n",
    "sumn=0\n",
    "ntav=0\n",
    "sumtav=0\n",
    "\n",
    "for n in range(s):\n",
    "    for t in range(np.round(t1[n]-tint),np.round(t1[n])):\n",
    "                   Jr1[n]=Jr1[n]+Jo[n][int(t/10)]\n",
    "              \n",
    "    for t in range(np.round(t2[n]),np.round(t2[n]+tint)):\n",
    "                   Jr2[n]=Jr2[n]+Jo[n][int(t/10)]#\n",
    "\n",
    "                   \n",
    "for n in range(s):\n",
    "#     print(n,'Jr1= ',Jr1[n])#\n",
    "#     print(n,'Jr2= ',Jr2[n])# \n",
    "    Jr1[n]=Jr1[n]/tint#\n",
    "    Jr2[n]=Jr2[n]/tint#\n",
    "    J12[n]=Jr2[n]/Jr1[n]# {отношение j2[n] и j1[n]}\n",
    "#     {j12[n]=j12[n]+2*delj*(np.random(delt+1)-(delt+1)/2)/(delt+1)#}\n",
    "#     print('J12[',n,']=',J12[n],'#')#\n",
    "\n",
    "\n",
    "# for n in range(s):\n",
    "#     t1[n]=t1[n]+2*Random(delt+1)-(delt+1)#{Эта строчка и две следующие - случайные погрешности\n",
    "#     t2[n]=t2[n]+2*Random(delt+1)-(delt+1)# }\n",
    "\n",
    "\n",
    "for n in range(s):\n",
    "    tav[n]=np.round((t1[n]+t2[n])/2)# {tav[n]-время середины n-того\n",
    "    nn=nn+n*n# {отсюда и до конца абзаца составление эфемериды планеты методом наименьших квадратов\n",
    "    sumn=sumn+n# \n",
    "    ntav=ntav+n*tav[n]# \n",
    "    sumtav=sumtav+tav[n]# \n",
    "\n",
    "\n",
    "Delta=nn*(s+1)-sumn*sumn# \n",
    "DeltaPp=ntav*(s+1)-sumtav*sumn# \n",
    "Deltat0=nn*sumtav-sumn*ntav# \n",
    "PpObs=DeltaPp/Delta# \n",
    "t0=Deltat0/Delta\n",
    "\n",
    "                   \n",
    "             \n",
    "print('Pp=', PpObs,' t0=',t0)# {ppObs-наблюдаемый период обращения планеты вокруг звезды, на основе известных времен транзитов в сек} \n",
    "# {t0- постоянная, входящая в эферемениду, измеряется в сек} \n",
    "\n",
    "\n",
    "\n",
    "tef=[0]*s\n",
    "dtt=[0]*s\n",
    "x=[]\n",
    "y=[]\n",
    "for n in range(s):\n",
    "\n",
    "    tpl1[n]=PpObs*(n-np.arcsin(Rs/Ap)/2/np.pi)#\n",
    "    tpl2[n]=PpObs*(n+np.arcsin(Rs/Ap)/2/np.pi)#}\n",
    "    dtt[n]=np.round(tav[n])-tef[n]# {dtt[n] - вариация времени середины n-того транзита планеты в сек\n",
    "    tef[n]=np.round(n*PpObs+t0)# tef[n] - время середины n-того транзита планеты согласно эфемериде в сек} \n",
    "    dtt[n]=np.round((t1[n]-tpl1[n]+t2[n]-tpl2[n])/2)# {dtt[n] - вариация времени середины n-того транзита планеты в сек} \n",
    "    \n",
    "    x.append(dtt[n])\n",
    "    y.append(-(1-1/J12[n])*1000000)  \n",
    "    \n",
    "    r,p=spearmanr(x,y)\n",
    "    print(r)\n",
    "    print(p)\n",
    "    \n",
    "#     print('dtt[n]=','  ',dtt[n])#\n",
    "#     print('TDV[',n,']=',-(tpl2[n]-tpl1[n])+(t2[n]-t1[n]),'#')#}\n",
    "#     print('[',(t1[n]-tpl1[n]+t2[n]-tpl2[n])/2,',',(1-1/J12[n])*1000000,']',',')# \n",
    "    \n",
    "#     print('[',(t1[n]-tpl1[n]+t2[n]-tpl2[n])/2,',', -(tpl2[n]-tpl1[n])+(t2[n]-t1[n]),']',',')#}\n",
    "#     print('TTV[',n,']=',(t1[n]-tpl1[n]+t2[n]-tpl2[n])/2,'#')\n",
    "    \n",
    " \n",
    "\n",
    "\n",
    "\n",
    "# dttav=0\n",
    "# Sigmaj=0\n",
    "# Sigmadtt=0\n",
    "# Sigmajdtt=0    \n",
    "    \n",
    "    \n",
    "# For n in range(s):\n",
    "#     jav=jav+j12[n]/(s+1)# print('jav=',jav:8:8)#    \n",
    "#     dttav=dttav+dtt[n]/(s+1)# print('dttav=',dttav:8:4)#    \n",
    "#     Sigmaj=Sigmaj+j12[n]*j12[n]-jav*jav# Sigmaj=np.sqrt(Sigmaj)#    \n",
    "#     Sigmadtt=Sigmadtt+dtt[n]*dtt[n]-dttav*dttav# Sigmadtt=np.sqrt(Sigmadtt)#    \n",
    "#     Sigmajdtt=Sigmajdtt+(j12[n]-jav)*(dtt[n]-dttav)#     \n",
    "    \n",
    "\n",
    "\n",
    "\n",
    "# print(Sigmaj,' ',Sigmadtt,' ',Sigmajdtt)# \n",
    "# Korr=Sigmajdtt/Sigmaj/Sigmadtt# \n",
    "# print('Коэффициент корреляции, Korr=', Korr:4:3)# \n"
   ]
  },
  {
   "cell_type": "code",
   "execution_count": 131,
   "metadata": {},
   "outputs": [
    {
     "data": {
      "text/plain": [
       "<matplotlib.collections.PathCollection at 0x1b61eb42358>"
      ]
     },
     "execution_count": 131,
     "metadata": {},
     "output_type": "execute_result"
    },
    {
     "data": {
      "image/png": "[encoded data removed]",
      "text/plain": [
       "<Figure size 432x288 with 1 Axes>"
      ]
     },
     "metadata": {
      "needs_background": "light"
     },
     "output_type": "display_data"
    }
   ],
   "source": [
    "plt.scatter(x,y)"
   ]
  },
  {
   "cell_type": "code",
   "execution_count": 132,
   "metadata": {},
   "outputs": [
    {
     "data": {
      "application/vnd.plotly.v1+json": {
       "config": {
        "plotlyServerURL": "https://plot.ly"
       },
       "data": [
        {
         "marker": {
          "color": "rgba(255, 182, 193, .9)",
          "line": {
           "width": 2
          },
          "size": 10
         },
         "mode": "markers",
         "name": "TTV-BF",
         "type": "scatter",
         "x": [
          5,
          140,
          -145,
          35,
          110,
          -125,
          31,
          131,
          -174,
          96,
          61,
          -114,
          46,
          111,
          -194,
          156,
          6,
          -94,
          72,
          92,
          -193,
          197,
          -48,
          -63,
          82,
          57,
          -183,
          222,
          -98,
          -32,
          93,
          18,
          -152,
          233,
          -137,
          3,
          98,
          -22,
          -107,
          223,
          -166,
          39,
          94,
          -61,
          -56,
          194,
          -181,
          69,
          89,
          -96,
          4,
          154,
          -180,
          100,
          75,
          -120,
          60,
          105,
          -160,
          115,
          60,
          -135,
          120,
          46,
          -134,
          131,
          36,
          -144,
          166,
          -19,
          -89,
          126,
          11,
          -139,
          197,
          -78,
          -38,
          122,
          -13,
          -118,
          217,
          -133,
          7,
          107,
          -38,
          -88,
          228,
          -177,
          63,
          83,
          -52,
          -52,
          208,
          -197,
          108,
          58,
          -67,
          -6,
          184,
          -206
         ],
         "y": [
          -0.00024790725028367433,
          -5.419686722740735,
          5.291305029686555,
          -1.0082939937428037,
          -5.012001833892832,
          4.408928738763862,
          -1.0895764067653246,
          -6.004501918122074,
          5.8266400615458736,
          -3.8542857404566533,
          -3.8059083650177072,
          3.659240954245746,
          -2.587477511362124,
          -5.808444875188279,
          6.5487631004668145,
          -6.560523751253378,
          -1.2310995488595822,
          2.927388404794229,
          -3.05954695389854,
          -4.025162060883325,
          7.096078966206676,
          -7.633280154406563,
          1.7418335149788078,
          2.2843397009530975,
          -2.8502246781636487,
          -1.7811015604607405,
          7.296594601635675,
          -8.105385486234518,
          4.753315202332686,
          1.7033335495408863,
          -2.6432087308903007,
          0.5732116679091348,
          6.75736001598537,
          -8.088995269606158,
          7.113894188393033,
          0.25020618532600736,
          -2.5773337282153364,
          2.2381272493099402,
          4.517907853163194,
          -7.645792149846287,
          7.658831640666719,
          -1.3732931750665145,
          -2.6917591235964267,
          3.2700989238687583,
          2.5013511644189634,
          -6.845738161564974,
          7.58199492145728,
          -1.386418579607529,
          -2.94939701095398,
          4.221647643909421,
          1.0514969406294483,
          -5.755947246721682,
          7.0689061344442194,
          -2.5386096066393193,
          -3.187829282325083,
          5.032732710352761,
          -1.8749336108125902,
          -4.365039664833148,
          6.272739671020489,
          -4.164535184703055,
          -2.5338201908864377,
          5.337705063057641,
          -4.457333126373086,
          -1.9553256050963697,
          4.8934223757513,
          -4.876755009930456,
          -1.5861310296294562,
          5.160660188519017,
          -6.088434241435792,
          0.8638640320857149,
          3.6412807900010336,
          -4.748305842627865,
          0.14118340674329488,
          5.389329836846812,
          -7.111133249027013,
          3.831753455640907,
          2.250167262740632,
          -4.156491731133194,
          1.818409891329864,
          4.774864259760037,
          -7.817524791287056,
          6.247865362851712,
          -0.4052229479745151,
          -3.4575696947758416,
          2.147966042143068,
          3.241669958908844,
          -8.128841556875877,
          7.386168000556026,
          -2.6499206448038493,
          -2.7787568993575817,
          2.3631553573988384,
          2.62818731200376,
          -7.967185057689008,
          8.03333214771662,
          -3.2450748420620457,
          -2.1827683532871234,
          2.7026492717130424,
          1.3572465333844264,
          -7.285655029831695,
          8.22788008947306
         ]
        }
       ],
       "layout": {
        "plot_bgcolor": "rgb(255, 255, 255)",
        "template": {
         "data": {
          "bar": [
           {
            "error_x": {
             "color": "#2a3f5f"
            },
            "error_y": {
             "color": "#2a3f5f"
            },
            "marker": {
             "line": {
              "color": "#E5ECF6",
              "width": 0.5
             }
            },
            "type": "bar"
           }
          ],
          "barpolar": [
           {
            "marker": {
             "line": {
              "color": "#E5ECF6",
              "width": 0.5
             }
            },
            "type": "barpolar"
           }
          ],
          "carpet": [
           {
            "aaxis": {
             "endlinecolor": "#2a3f5f",
             "gridcolor": "white",
             "linecolor": "white",
             "minorgridcolor": "white",
             "startlinecolor": "#2a3f5f"
            },
            "baxis": {
             "endlinecolor": "#2a3f5f",
             "gridcolor": "white",
             "linecolor": "white",
             "minorgridcolor": "white",
             "startlinecolor": "#2a3f5f"
            },
            "type": "carpet"
           }
          ],
          "choropleth": [
           {
            "colorbar": {
             "outlinewidth": 0,
             "ticks": ""
            },
            "type": "choropleth"
           }
          ],
          "contour": [
           {
            "colorbar": {
             "outlinewidth": 0,
             "ticks": ""
            },
            "colorscale": [
             [
              0,
              "#0d0887"
             ],
             [
              0.1111111111111111,
              "#46039f"
             ],
             [
              0.2222222222222222,
              "#7201a8"
             ],
             [
              0.3333333333333333,
              "#9c179e"
             ],
             [
              0.4444444444444444,
              "#bd3786"
             ],
             [
              0.5555555555555556,
              "#d8576b"
             ],
             [
              0.6666666666666666,
              "#ed7953"
             ],
             [
              0.7777777777777778,
              "#fb9f3a"
             ],
             [
              0.8888888888888888,
              "#fdca26"
             ],
             [
              1,
              "#f0f921"
             ]
            ],
            "type": "contour"
           }
          ],
          "contourcarpet": [
           {
            "colorbar": {
             "outlinewidth": 0,
             "ticks": ""
            },
            "type": "contourcarpet"
           }
          ],
          "heatmap": [
           {
            "colorbar": {
             "outlinewidth": 0,
             "ticks": ""
            },
            "colorscale": [
             [
              0,
              "#0d0887"
             ],
             [
              0.1111111111111111,
              "#46039f"
             ],
             [
              0.2222222222222222,
              "#7201a8"
             ],
             [
              0.3333333333333333,
              "#9c179e"
             ],
             [
              0.4444444444444444,
              "#bd3786"
             ],
             [
              0.5555555555555556,
              "#d8576b"
             ],
             [
              0.6666666666666666,
              "#ed7953"
             ],
             [
              0.7777777777777778,
              "#fb9f3a"
             ],
             [
              0.8888888888888888,
              "#fdca26"
             ],
             [
              1,
              "#f0f921"
             ]
            ],
            "type": "heatmap"
           }
          ],
          "heatmapgl": [
           {
            "colorbar": {
             "outlinewidth": 0,
             "ticks": ""
            },
            "colorscale": [
             [
              0,
              "#0d0887"
             ],
             [
              0.1111111111111111,
              "#46039f"
             ],
             [
              0.2222222222222222,
              "#7201a8"
             ],
             [
              0.3333333333333333,
              "#9c179e"
             ],
             [
              0.4444444444444444,
              "#bd3786"
             ],
             [
              0.5555555555555556,
              "#d8576b"
             ],
             [
              0.6666666666666666,
              "#ed7953"
             ],
             [
              0.7777777777777778,
              "#fb9f3a"
             ],
             [
              0.8888888888888888,
              "#fdca26"
             ],
             [
              1,
              "#f0f921"
             ]
            ],
            "type": "heatmapgl"
           }
          ],
          "histogram": [
           {
            "marker": {
             "colorbar": {
              "outlinewidth": 0,
              "ticks": ""
             }
            },
            "type": "histogram"
           }
          ],
          "histogram2d": [
           {
            "colorbar": {
             "outlinewidth": 0,
             "ticks": ""
            },
            "colorscale": [
             [
              0,
              "#0d0887"
             ],
             [
              0.1111111111111111,
              "#46039f"
             ],
             [
              0.2222222222222222,
              "#7201a8"
             ],
             [
              0.3333333333333333,
              "#9c179e"
             ],
             [
              0.4444444444444444,
              "#bd3786"
             ],
             [
              0.5555555555555556,
              "#d8576b"
             ],
             [
              0.6666666666666666,
              "#ed7953"
             ],
             [
              0.7777777777777778,
              "#fb9f3a"
             ],
             [
              0.8888888888888888,
              "#fdca26"
             ],
             [
              1,
              "#f0f921"
             ]
            ],
            "type": "histogram2d"
           }
          ],
          "histogram2dcontour": [
           {
            "colorbar": {
             "outlinewidth": 0,
             "ticks": ""
            },
            "colorscale": [
             [
              0,
              "#0d0887"
             ],
             [
              0.1111111111111111,
              "#46039f"
             ],
             [
              0.2222222222222222,
              "#7201a8"
             ],
             [
              0.3333333333333333,
              "#9c179e"
             ],
             [
              0.4444444444444444,
              "#bd3786"
             ],
             [
              0.5555555555555556,
              "#d8576b"
             ],
             [
              0.6666666666666666,
              "#ed7953"
             ],
             [
              0.7777777777777778,
              "#fb9f3a"
             ],
             [
              0.8888888888888888,
              "#fdca26"
             ],
             [
              1,
              "#f0f921"
             ]
            ],
            "type": "histogram2dcontour"
           }
          ],
          "mesh3d": [
           {
            "colorbar": {
             "outlinewidth": 0,
             "ticks": ""
            },
            "type": "mesh3d"
           }
          ],
          "parcoords": [
           {
            "line": {
             "colorbar": {
              "outlinewidth": 0,
              "ticks": ""
             }
            },
            "type": "parcoords"
           }
          ],
          "pie": [
           {
            "automargin": true,
            "type": "pie"
           }
          ],
          "scatter": [
           {
            "marker": {
             "colorbar": {
              "outlinewidth": 0,
              "ticks": ""
             }
            },
            "type": "scatter"
           }
          ],
          "scatter3d": [
           {
            "line": {
             "colorbar": {
              "outlinewidth": 0,
              "ticks": ""
             }
            },
            "marker": {
             "colorbar": {
              "outlinewidth": 0,
              "ticks": ""
             }
            },
            "type": "scatter3d"
           }
          ],
          "scattercarpet": [
           {
            "marker": {
             "colorbar": {
              "outlinewidth": 0,
              "ticks": ""
             }
            },
            "type": "scattercarpet"
           }
          ],
          "scattergeo": [
           {
            "marker": {
             "colorbar": {
              "outlinewidth": 0,
              "ticks": ""
             }
            },
            "type": "scattergeo"
           }
          ],
          "scattergl": [
           {
            "marker": {
             "colorbar": {
              "outlinewidth": 0,
              "ticks": ""
             }
            },
            "type": "scattergl"
           }
          ],
          "scattermapbox": [
           {
            "marker": {
             "colorbar": {
              "outlinewidth": 0,
              "ticks": ""
             }
            },
            "type": "scattermapbox"
           }
          ],
          "scatterpolar": [
           {
            "marker": {
             "colorbar": {
              "outlinewidth": 0,
              "ticks": ""
             }
            },
            "type": "scatterpolar"
           }
          ],
          "scatterpolargl": [
           {
            "marker": {
             "colorbar": {
              "outlinewidth": 0,
              "ticks": ""
             }
            },
            "type": "scatterpolargl"
           }
          ],
          "scatterternary": [
           {
            "marker": {
             "colorbar": {
              "outlinewidth": 0,
              "ticks": ""
             }
            },
            "type": "scatterternary"
           }
          ],
          "surface": [
           {
            "colorbar": {
             "outlinewidth": 0,
             "ticks": ""
            },
            "colorscale": [
             [
              0,
              "#0d0887"
             ],
             [
              0.1111111111111111,
              "#46039f"
             ],
             [
              0.2222222222222222,
              "#7201a8"
             ],
             [
              0.3333333333333333,
              "#9c179e"
             ],
             [
              0.4444444444444444,
              "#bd3786"
             ],
             [
              0.5555555555555556,
              "#d8576b"
             ],
             [
              0.6666666666666666,
              "#ed7953"
             ],
             [
              0.7777777777777778,
              "#fb9f3a"
             ],
             [
              0.8888888888888888,
              "#fdca26"
             ],
             [
              1,
              "#f0f921"
             ]
            ],
            "type": "surface"
           }
          ],
          "table": [
           {
            "cells": {
             "fill": {
              "color": "#EBF0F8"
             },
             "line": {
              "color": "white"
             }
            },
            "header": {
             "fill": {
              "color": "#C8D4E3"
             },
             "line": {
              "color": "white"
             }
            },
            "type": "table"
           }
          ]
         },
         "layout": {
          "annotationdefaults": {
           "arrowcolor": "#2a3f5f",
           "arrowhead": 0,
           "arrowwidth": 1
          },
          "coloraxis": {
           "colorbar": {
            "outlinewidth": 0,
            "ticks": ""
           }
          },
          "colorscale": {
           "diverging": [
            [
             0,
             "#8e0152"
            ],
            [
             0.1,
             "#c51b7d"
            ],
            [
             0.2,
             "#de77ae"
            ],
            [
             0.3,
             "#f1b6da"
            ],
            [
             0.4,
             "#fde0ef"
            ],
            [
             0.5,
             "#f7f7f7"
            ],
            [
             0.6,
             "#e6f5d0"
            ],
            [
             0.7,
             "#b8e186"
            ],
            [
             0.8,
             "#7fbc41"
            ],
            [
             0.9,
             "#4d9221"
            ],
            [
             1,
             "#276419"
            ]
           ],
           "sequential": [
            [
             0,
             "#0d0887"
            ],
            [
             0.1111111111111111,
             "#46039f"
            ],
            [
             0.2222222222222222,
             "#7201a8"
            ],
            [
             0.3333333333333333,
             "#9c179e"
            ],
            [
             0.4444444444444444,
             "#bd3786"
            ],
            [
             0.5555555555555556,
             "#d8576b"
            ],
            [
             0.6666666666666666,
             "#ed7953"
            ],
            [
             0.7777777777777778,
             "#fb9f3a"
            ],
            [
             0.8888888888888888,
             "#fdca26"
            ],
            [
             1,
             "#f0f921"
            ]
           ],
           "sequentialminus": [
            [
             0,
             "#0d0887"
            ],
            [
             0.1111111111111111,
             "#46039f"
            ],
            [
             0.2222222222222222,
             "#7201a8"
            ],
            [
             0.3333333333333333,
             "#9c179e"
            ],
            [
             0.4444444444444444,
             "#bd3786"
            ],
            [
             0.5555555555555556,
             "#d8576b"
            ],
            [
             0.6666666666666666,
             "#ed7953"
            ],
            [
             0.7777777777777778,
             "#fb9f3a"
            ],
            [
             0.8888888888888888,
             "#fdca26"
            ],
            [
             1,
             "#f0f921"
            ]
           ]
          },
          "colorway": [
           "#636efa",
           "#EF553B",
           "#00cc96",
           "#ab63fa",
           "#FFA15A",
           "#19d3f3",
           "#FF6692",
           "#B6E880",
           "#FF97FF",
           "#FECB52"
          ],
          "font": {
           "color": "#2a3f5f"
          },
          "geo": {
           "bgcolor": "white",
           "lakecolor": "white",
           "landcolor": "#E5ECF6",
           "showlakes": true,
           "showland": true,
           "subunitcolor": "white"
          },
          "hoverlabel": {
           "align": "left"
          },
          "hovermode": "closest",
          "mapbox": {
           "style": "light"
          },
          "paper_bgcolor": "white",
          "plot_bgcolor": "#E5ECF6",
          "polar": {
           "angularaxis": {
            "gridcolor": "white",
            "linecolor": "white",
            "ticks": ""
           },
           "bgcolor": "#E5ECF6",
           "radialaxis": {
            "gridcolor": "white",
            "linecolor": "white",
            "ticks": ""
           }
          },
          "scene": {
           "xaxis": {
            "backgroundcolor": "#E5ECF6",
            "gridcolor": "white",
            "gridwidth": 2,
            "linecolor": "white",
            "showbackground": true,
            "ticks": "",
            "zerolinecolor": "white"
           },
           "yaxis": {
            "backgroundcolor": "#E5ECF6",
            "gridcolor": "white",
            "gridwidth": 2,
            "linecolor": "white",
            "showbackground": true,
            "ticks": "",
            "zerolinecolor": "white"
           },
           "zaxis": {
            "backgroundcolor": "#E5ECF6",
            "gridcolor": "white",
            "gridwidth": 2,
            "linecolor": "white",
            "showbackground": true,
            "ticks": "",
            "zerolinecolor": "white"
           }
          },
          "shapedefaults": {
           "line": {
            "color": "#2a3f5f"
           }
          },
          "ternary": {
           "aaxis": {
            "gridcolor": "white",
            "linecolor": "white",
            "ticks": ""
           },
           "baxis": {
            "gridcolor": "white",
            "linecolor": "white",
            "ticks": ""
           },
           "bgcolor": "#E5ECF6",
           "caxis": {
            "gridcolor": "white",
            "linecolor": "white",
            "ticks": ""
           }
          },
          "title": {
           "x": 0.05
          },
          "xaxis": {
           "automargin": true,
           "gridcolor": "white",
           "linecolor": "white",
           "ticks": "",
           "title": {
            "standoff": 15
           },
           "zerolinecolor": "white",
           "zerolinewidth": 2
          },
          "yaxis": {
           "automargin": true,
           "gridcolor": "white",
           "linecolor": "white",
           "ticks": "",
           "title": {
            "standoff": 15
           },
           "zerolinecolor": "white",
           "zerolinewidth": 2
          }
         }
        },
        "title": {
         "text": "TTV-BF for Earth-Moon with initial orbital speed"
        },
        "xaxis": {
         "gridcolor": "rgb(0, 255, 255)",
         "gridwidth": 1,
         "showgrid": true,
         "title": {
          "text": "TTV, sec"
         },
         "zeroline": false
        },
        "yaxis": {
         "gridcolor": "rgb(0, 255, 255)",
         "gridwidth": 1,
         "showgrid": true,
         "title": {
          "text": "BF, nomalized units"
         },
         "zeroline": true
        }
       }
      },
      "text/html": [
       "<div>\n",
       "        \n",
       "        \n",
       "            <div id=\"9b22ce59-6f54-46d1-83a7-b2980255743e\" class=\"plotly-graph-div\" style=\"height:525px; width:100%;\"></div>\n",
       "            <script type=\"text/javascript\">\n",
       "                require([\"plotly\"], function(Plotly) {\n",
       "                    window.PLOTLYENV=window.PLOTLYENV || {};\n",
       "                    \n",
       "                if (document.getElementById(\"9b22ce59-6f54-46d1-83a7-b2980255743e\")) {\n",
       "                    Plotly.newPlot(\n",
       "                        '9b22ce59-6f54-46d1-83a7-b2980255743e',\n",
       "                        [{\"marker\": {\"color\": \"rgba(255, 182, 193, .9)\", \"line\": {\"width\": 2}, \"size\": 10}, \"mode\": \"markers\", \"name\": \"TTV-BF\", \"type\": \"scatter\", \"x\": [5.0, 140.0, -145.0, 35.0, 110.0, -125.0, 31.0, 131.0, -174.0, 96.0, 61.0, -114.0, 46.0, 111.0, -194.0, 156.0, 6.0, -94.0, 72.0, 92.0, -193.0, 197.0, -48.0, -63.0, 82.0, 57.0, -183.0, 222.0, -98.0, -32.0, 93.0, 18.0, -152.0, 233.0, -137.0, 3.0, 98.0, -22.0, -107.0, 223.0, -166.0, 39.0, 94.0, -61.0, -56.0, 194.0, -181.0, 69.0, 89.0, -96.0, 4.0, 154.0, -180.0, 100.0, 75.0, -120.0, 60.0, 105.0, -160.0, 115.0, 60.0, -135.0, 120.0, 46.0, -134.0, 131.0, 36.0, -144.0, 166.0, -19.0, -89.0, 126.0, 11.0, -139.0, 197.0, -78.0, -38.0, 122.0, -13.0, -118.0, 217.0, -133.0, 7.0, 107.0, -38.0, -88.0, 228.0, -177.0, 63.0, 83.0, -52.0, -52.0, 208.0, -197.0, 108.0, 58.0, -67.0, -6.0, 184.0, -206.0], \"y\": [-0.00024790725028367433, -5.419686722740735, 5.291305029686555, -1.0082939937428037, -5.012001833892832, 4.408928738763862, -1.0895764067653246, -6.004501918122074, 5.8266400615458736, -3.8542857404566533, -3.8059083650177072, 3.659240954245746, -2.587477511362124, -5.808444875188279, 6.5487631004668145, -6.560523751253378, -1.2310995488595822, 2.927388404794229, -3.05954695389854, -4.025162060883325, 7.096078966206676, -7.633280154406563, 1.7418335149788078, 2.2843397009530975, -2.8502246781636487, -1.7811015604607405, 7.296594601635675, -8.105385486234518, 4.753315202332686, 1.7033335495408863, -2.6432087308903007, 0.5732116679091348, 6.75736001598537, -8.088995269606158, 7.113894188393033, 0.25020618532600736, -2.5773337282153364, 2.2381272493099402, 4.517907853163194, -7.645792149846287, 7.658831640666719, -1.3732931750665145, -2.6917591235964267, 3.2700989238687583, 2.5013511644189634, -6.845738161564974, 7.58199492145728, -1.386418579607529, -2.94939701095398, 4.221647643909421, 1.0514969406294483, -5.755947246721682, 7.0689061344442194, -2.5386096066393193, -3.187829282325083, 5.032732710352761, -1.8749336108125902, -4.365039664833148, 6.272739671020489, -4.164535184703055, -2.5338201908864377, 5.337705063057641, -4.457333126373086, -1.9553256050963697, 4.8934223757513, -4.876755009930456, -1.5861310296294562, 5.160660188519017, -6.088434241435792, 0.8638640320857149, 3.6412807900010336, -4.748305842627865, 0.14118340674329488, 5.389329836846812, -7.111133249027013, 3.831753455640907, 2.250167262740632, -4.156491731133194, 1.818409891329864, 4.774864259760037, -7.817524791287056, 6.247865362851712, -0.4052229479745151, -3.4575696947758416, 2.147966042143068, 3.241669958908844, -8.128841556875877, 7.386168000556026, -2.6499206448038493, -2.7787568993575817, 2.3631553573988384, 2.62818731200376, -7.967185057689008, 8.03333214771662, -3.2450748420620457, -2.1827683532871234, 2.7026492717130424, 1.3572465333844264, -7.285655029831695, 8.22788008947306]}],\n",
       "                        {\"plot_bgcolor\": \"rgb(255, 255, 255)\", \"template\": {\"data\": {\"bar\": [{\"error_x\": {\"color\": \"#2a3f5f\"}, \"error_y\": {\"color\": \"#2a3f5f\"}, \"marker\": {\"line\": {\"color\": \"#E5ECF6\", \"width\": 0.5}}, \"type\": \"bar\"}], \"barpolar\": [{\"marker\": {\"line\": {\"color\": \"#E5ECF6\", \"width\": 0.5}}, \"type\": \"barpolar\"}], \"carpet\": [{\"aaxis\": {\"endlinecolor\": \"#2a3f5f\", \"gridcolor\": \"white\", \"linecolor\": \"white\", \"minorgridcolor\": \"white\", \"startlinecolor\": \"#2a3f5f\"}, \"baxis\": {\"endlinecolor\": \"#2a3f5f\", \"gridcolor\": \"white\", \"linecolor\": \"white\", \"minorgridcolor\": \"white\", \"startlinecolor\": \"#2a3f5f\"}, \"type\": \"carpet\"}], \"choropleth\": [{\"colorbar\": {\"outlinewidth\": 0, \"ticks\": \"\"}, \"type\": \"choropleth\"}], \"contour\": [{\"colorbar\": {\"outlinewidth\": 0, \"ticks\": \"\"}, \"colorscale\": [[0.0, \"#0d0887\"], [0.1111111111111111, \"#46039f\"], [0.2222222222222222, \"#7201a8\"], [0.3333333333333333, \"#9c179e\"], [0.4444444444444444, \"#bd3786\"], [0.5555555555555556, \"#d8576b\"], [0.6666666666666666, \"#ed7953\"], [0.7777777777777778, \"#fb9f3a\"], [0.8888888888888888, \"#fdca26\"], [1.0, \"#f0f921\"]], \"type\": \"contour\"}], \"contourcarpet\": [{\"colorbar\": {\"outlinewidth\": 0, \"ticks\": \"\"}, \"type\": \"contourcarpet\"}], \"heatmap\": [{\"colorbar\": {\"outlinewidth\": 0, \"ticks\": \"\"}, \"colorscale\": [[0.0, \"#0d0887\"], [0.1111111111111111, \"#46039f\"], [0.2222222222222222, \"#7201a8\"], [0.3333333333333333, \"#9c179e\"], [0.4444444444444444, \"#bd3786\"], [0.5555555555555556, \"#d8576b\"], [0.6666666666666666, \"#ed7953\"], [0.7777777777777778, \"#fb9f3a\"], [0.8888888888888888, \"#fdca26\"], [1.0, \"#f0f921\"]], \"type\": \"heatmap\"}], \"heatmapgl\": [{\"colorbar\": {\"outlinewidth\": 0, \"ticks\": \"\"}, \"colorscale\": [[0.0, \"#0d0887\"], [0.1111111111111111, \"#46039f\"], [0.2222222222222222, \"#7201a8\"], [0.3333333333333333, \"#9c179e\"], [0.4444444444444444, \"#bd3786\"], [0.5555555555555556, \"#d8576b\"], [0.6666666666666666, \"#ed7953\"], [0.7777777777777778, \"#fb9f3a\"], [0.8888888888888888, \"#fdca26\"], [1.0, \"#f0f921\"]], \"type\": \"heatmapgl\"}], \"histogram\": [{\"marker\": {\"colorbar\": {\"outlinewidth\": 0, \"ticks\": \"\"}}, \"type\": \"histogram\"}], \"histogram2d\": [{\"colorbar\": {\"outlinewidth\": 0, \"ticks\": \"\"}, \"colorscale\": [[0.0, \"#0d0887\"], [0.1111111111111111, \"#46039f\"], [0.2222222222222222, \"#7201a8\"], [0.3333333333333333, \"#9c179e\"], [0.4444444444444444, \"#bd3786\"], [0.5555555555555556, \"#d8576b\"], [0.6666666666666666, \"#ed7953\"], [0.7777777777777778, \"#fb9f3a\"], [0.8888888888888888, \"#fdca26\"], [1.0, \"#f0f921\"]], \"type\": \"histogram2d\"}], \"histogram2dcontour\": [{\"colorbar\": {\"outlinewidth\": 0, \"ticks\": \"\"}, \"colorscale\": [[0.0, \"#0d0887\"], [0.1111111111111111, \"#46039f\"], [0.2222222222222222, \"#7201a8\"], [0.3333333333333333, \"#9c179e\"], [0.4444444444444444, \"#bd3786\"], [0.5555555555555556, \"#d8576b\"], [0.6666666666666666, \"#ed7953\"], [0.7777777777777778, \"#fb9f3a\"], [0.8888888888888888, \"#fdca26\"], [1.0, \"#f0f921\"]], \"type\": \"histogram2dcontour\"}], \"mesh3d\": [{\"colorbar\": {\"outlinewidth\": 0, \"ticks\": \"\"}, \"type\": \"mesh3d\"}], \"parcoords\": [{\"line\": {\"colorbar\": {\"outlinewidth\": 0, \"ticks\": \"\"}}, \"type\": \"parcoords\"}], \"pie\": [{\"automargin\": true, \"type\": \"pie\"}], \"scatter\": [{\"marker\": {\"colorbar\": {\"outlinewidth\": 0, \"ticks\": \"\"}}, \"type\": \"scatter\"}], \"scatter3d\": [{\"line\": {\"colorbar\": {\"outlinewidth\": 0, \"ticks\": \"\"}}, \"marker\": {\"colorbar\": {\"outlinewidth\": 0, \"ticks\": \"\"}}, \"type\": \"scatter3d\"}], \"scattercarpet\": [{\"marker\": {\"colorbar\": {\"outlinewidth\": 0, \"ticks\": \"\"}}, \"type\": \"scattercarpet\"}], \"scattergeo\": [{\"marker\": {\"colorbar\": {\"outlinewidth\": 0, \"ticks\": \"\"}}, \"type\": \"scattergeo\"}], \"scattergl\": [{\"marker\": {\"colorbar\": {\"outlinewidth\": 0, \"ticks\": \"\"}}, \"type\": \"scattergl\"}], \"scattermapbox\": [{\"marker\": {\"colorbar\": {\"outlinewidth\": 0, \"ticks\": \"\"}}, \"type\": \"scattermapbox\"}], \"scatterpolar\": [{\"marker\": {\"colorbar\": {\"outlinewidth\": 0, \"ticks\": \"\"}}, \"type\": \"scatterpolar\"}], \"scatterpolargl\": [{\"marker\": {\"colorbar\": {\"outlinewidth\": 0, \"ticks\": \"\"}}, \"type\": \"scatterpolargl\"}], \"scatterternary\": [{\"marker\": {\"colorbar\": {\"outlinewidth\": 0, \"ticks\": \"\"}}, \"type\": \"scatterternary\"}], \"surface\": [{\"colorbar\": {\"outlinewidth\": 0, \"ticks\": \"\"}, \"colorscale\": [[0.0, \"#0d0887\"], [0.1111111111111111, \"#46039f\"], [0.2222222222222222, \"#7201a8\"], [0.3333333333333333, \"#9c179e\"], [0.4444444444444444, \"#bd3786\"], [0.5555555555555556, \"#d8576b\"], [0.6666666666666666, \"#ed7953\"], [0.7777777777777778, \"#fb9f3a\"], [0.8888888888888888, \"#fdca26\"], [1.0, \"#f0f921\"]], \"type\": \"surface\"}], \"table\": [{\"cells\": {\"fill\": {\"color\": \"#EBF0F8\"}, \"line\": {\"color\": \"white\"}}, \"header\": {\"fill\": {\"color\": \"#C8D4E3\"}, \"line\": {\"color\": \"white\"}}, \"type\": \"table\"}]}, \"layout\": {\"annotationdefaults\": {\"arrowcolor\": \"#2a3f5f\", \"arrowhead\": 0, \"arrowwidth\": 1}, \"coloraxis\": {\"colorbar\": {\"outlinewidth\": 0, \"ticks\": \"\"}}, \"colorscale\": {\"diverging\": [[0, \"#8e0152\"], [0.1, \"#c51b7d\"], [0.2, \"#de77ae\"], [0.3, \"#f1b6da\"], [0.4, \"#fde0ef\"], [0.5, \"#f7f7f7\"], [0.6, \"#e6f5d0\"], [0.7, \"#b8e186\"], [0.8, \"#7fbc41\"], [0.9, \"#4d9221\"], [1, \"#276419\"]], \"sequential\": [[0.0, \"#0d0887\"], [0.1111111111111111, \"#46039f\"], [0.2222222222222222, \"#7201a8\"], [0.3333333333333333, \"#9c179e\"], [0.4444444444444444, \"#bd3786\"], [0.5555555555555556, \"#d8576b\"], [0.6666666666666666, \"#ed7953\"], [0.7777777777777778, \"#fb9f3a\"], [0.8888888888888888, \"#fdca26\"], [1.0, \"#f0f921\"]], \"sequentialminus\": [[0.0, \"#0d0887\"], [0.1111111111111111, \"#46039f\"], [0.2222222222222222, \"#7201a8\"], [0.3333333333333333, \"#9c179e\"], [0.4444444444444444, \"#bd3786\"], [0.5555555555555556, \"#d8576b\"], [0.6666666666666666, \"#ed7953\"], [0.7777777777777778, \"#fb9f3a\"], [0.8888888888888888, \"#fdca26\"], [1.0, \"#f0f921\"]]}, \"colorway\": [\"#636efa\", \"#EF553B\", \"#00cc96\", \"#ab63fa\", \"#FFA15A\", \"#19d3f3\", \"#FF6692\", \"#B6E880\", \"#FF97FF\", \"#FECB52\"], \"font\": {\"color\": \"#2a3f5f\"}, \"geo\": {\"bgcolor\": \"white\", \"lakecolor\": \"white\", \"landcolor\": \"#E5ECF6\", \"showlakes\": true, \"showland\": true, \"subunitcolor\": \"white\"}, \"hoverlabel\": {\"align\": \"left\"}, \"hovermode\": \"closest\", \"mapbox\": {\"style\": \"light\"}, \"paper_bgcolor\": \"white\", \"plot_bgcolor\": \"#E5ECF6\", \"polar\": {\"angularaxis\": {\"gridcolor\": \"white\", \"linecolor\": \"white\", \"ticks\": \"\"}, \"bgcolor\": \"#E5ECF6\", \"radialaxis\": {\"gridcolor\": \"white\", \"linecolor\": \"white\", \"ticks\": \"\"}}, \"scene\": {\"xaxis\": {\"backgroundcolor\": \"#E5ECF6\", \"gridcolor\": \"white\", \"gridwidth\": 2, \"linecolor\": \"white\", \"showbackground\": true, \"ticks\": \"\", \"zerolinecolor\": \"white\"}, \"yaxis\": {\"backgroundcolor\": \"#E5ECF6\", \"gridcolor\": \"white\", \"gridwidth\": 2, \"linecolor\": \"white\", \"showbackground\": true, \"ticks\": \"\", \"zerolinecolor\": \"white\"}, \"zaxis\": {\"backgroundcolor\": \"#E5ECF6\", \"gridcolor\": \"white\", \"gridwidth\": 2, \"linecolor\": \"white\", \"showbackground\": true, \"ticks\": \"\", \"zerolinecolor\": \"white\"}}, \"shapedefaults\": {\"line\": {\"color\": \"#2a3f5f\"}}, \"ternary\": {\"aaxis\": {\"gridcolor\": \"white\", \"linecolor\": \"white\", \"ticks\": \"\"}, \"baxis\": {\"gridcolor\": \"white\", \"linecolor\": \"white\", \"ticks\": \"\"}, \"bgcolor\": \"#E5ECF6\", \"caxis\": {\"gridcolor\": \"white\", \"linecolor\": \"white\", \"ticks\": \"\"}}, \"title\": {\"x\": 0.05}, \"xaxis\": {\"automargin\": true, \"gridcolor\": \"white\", \"linecolor\": \"white\", \"ticks\": \"\", \"title\": {\"standoff\": 15}, \"zerolinecolor\": \"white\", \"zerolinewidth\": 2}, \"yaxis\": {\"automargin\": true, \"gridcolor\": \"white\", \"linecolor\": \"white\", \"ticks\": \"\", \"title\": {\"standoff\": 15}, \"zerolinecolor\": \"white\", \"zerolinewidth\": 2}}}, \"title\": {\"text\": \"TTV-BF for Earth-Moon with initial orbital speed\"}, \"xaxis\": {\"gridcolor\": \"rgb(0, 255, 255)\", \"gridwidth\": 1, \"showgrid\": true, \"title\": {\"text\": \"TTV, sec\"}, \"zeroline\": false}, \"yaxis\": {\"gridcolor\": \"rgb(0, 255, 255)\", \"gridwidth\": 1, \"showgrid\": true, \"title\": {\"text\": \"BF, nomalized units\"}, \"zeroline\": true}},\n",
       "                        {\"responsive\": true}\n",
       "                    ).then(function(){\n",
       "                            \n",
       "var gd = document.getElementById('9b22ce59-6f54-46d1-83a7-b2980255743e');\n",
       "var x = new MutationObserver(function (mutations, observer) {{\n",
       "        var display = window.getComputedStyle(gd).display;\n",
       "        if (!display || display === 'none') {{\n",
       "            console.log([gd, 'removed!']);\n",
       "            Plotly.purge(gd);\n",
       "            observer.disconnect();\n",
       "        }}\n",
       "}});\n",
       "\n",
       "// Listen for the removal of the full notebook cells\n",
       "var notebookContainer = gd.closest('#notebook-container');\n",
       "if (notebookContainer) {{\n",
       "    x.observe(notebookContainer, {childList: true});\n",
       "}}\n",
       "\n",
       "// Listen for the clearing of the current output cell\n",
       "var outputEl = gd.closest('.output');\n",
       "if (outputEl) {{\n",
       "    x.observe(outputEl, {childList: true});\n",
       "}}\n",
       "\n",
       "                        })\n",
       "                };\n",
       "                });\n",
       "            </script>\n",
       "        </div>"
      ]
     },
     "metadata": {},
     "output_type": "display_data"
    }
   ],
   "source": [
    "t = np.linspace(0, 10, 100)\n",
    "# pio.templates.default = \"simple_white\"\n",
    "fig = go.Figure()\n",
    "\n",
    "fig.add_trace(go.Scatter(\n",
    "    x=x, y=y,\n",
    "    name='TTV-BF', mode='lines',\n",
    "    marker_color='rgba(255, 182, 193, .9)'\n",
    "))\n",
    "fig.update_layout(\n",
    "    xaxis_title=\"TTV, sec\",\n",
    "    yaxis_title=\"BF, nomalized units\")\n",
    "# Set options common to all traces with fig.update_traces\n",
    "fig.update_traces(mode='markers', marker_line_width=2, marker_size=10)\n",
    "fig.update_layout(title='TTV-BF for Earth-Moon with initial orbital speed',\n",
    "                  yaxis_zeroline=True, xaxis_zeroline=False,plot_bgcolor= \"rgb(255, 255, 255)\")\n",
    "# hovermode='closest'\n",
    "fig.update_xaxes(showgrid=True, gridwidth=1, gridcolor='rgb(0, 255, 255)')\n",
    "fig.update_yaxes(showgrid=True, gridwidth=1, gridcolor='rgb(0, 255, 255)')\n",
    "fig.show()"
   ]
  },
  {
   "cell_type": "code",
   "execution_count": null,
   "metadata": {},
   "outputs": [],
   "source": []
  },
  {
   "cell_type": "code",
   "execution_count": null,
   "metadata": {},
   "outputs": [],
   "source": []
  },
  {
   "cell_type": "code",
   "execution_count": null,
   "metadata": {},
   "outputs": [],
   "source": []
  },
  {
   "cell_type": "markdown",
   "metadata": {},
   "source": [
    "### Plot star flux for one transit"
   ]
  },
  {
   "cell_type": "code",
   "execution_count": 90,
   "metadata": {},
   "outputs": [],
   "source": [
    "curve=[]\n",
    "index=[]\n",
    "k=0\n",
    "for i in range(-6000,6000):\n",
    "#     if Jo[2][i]!=1:\n",
    "    curve.append(Jo[2][i])\n",
    "    index.append(k)\n",
    "    k=k+1\n",
    "#         print('i=',i*10,Jo[2][i])"
   ]
  },
  {
   "cell_type": "code",
   "execution_count": 91,
   "metadata": {},
   "outputs": [
    {
     "data": {
      "image/png": "[encoded data removed]",
      "text/plain": [
       "<Figure size 1080x1440 with 1 Axes>"
      ]
     },
     "metadata": {
      "needs_background": "light"
     },
     "output_type": "display_data"
    }
   ],
   "source": [
    "import matplotlib.pyplot as plt \n",
    "\n",
    "from os import path\n",
    "import matplotlib.backends.backend_pdf\n",
    "import matplotlib.dates as mdates\n",
    "\n",
    "  \n",
    "f=plt.figure(figsize=[15,20])\n",
    "plt.gca().set_xlim([1600,11500])\n",
    "plt.gca().set_ylim([0.99986,1.00001])\n",
    "# plt.gca().xaxis.set_major_locator(mdates.DayLocator(interval=10000))\n",
    "\n",
    "ax = plt.gca()\n",
    "ax.set_facecolor((1.0, 1, 1))\n",
    "plt.plot(index,curve,'bo')\n",
    "\n",
    "plt.grid(True,color='blue',linestyle=\"--\")\n",
    "plt.show()"
   ]
  },
  {
   "cell_type": "code",
   "execution_count": 9,
   "metadata": {},
   "outputs": [
    {
     "name": "stdout",
     "output_type": "stream",
     "text": [
      "Pp= -0.053053106796677  t0= 6.956563154886645\n",
      "nan\n",
      "nan\n",
      "-0.9999999999999999\n",
      "nan\n",
      "-1.0\n",
      "0.0\n",
      "-1.0\n",
      "0.0\n",
      "-0.9999999999999999\n",
      "1.4042654220543672e-24\n",
      "-1.0\n",
      "0.0\n",
      "-1.0\n",
      "0.0\n",
      "-1.0\n",
      "0.0\n",
      "-1.0\n",
      "0.0\n",
      "-0.9999999999999999\n",
      "6.646897422032013e-64\n",
      "-1.0\n",
      "0.0\n",
      "-0.9930069930069931\n",
      "1.3016730560634403e-10\n",
      "-0.9945054945054945\n",
      "3.909411051466979e-12\n",
      "-0.9912087912087912\n",
      "6.540154944134387e-12\n",
      "-0.9901701898439528\n",
      "1.7165979509271075e-12\n",
      "-0.9889627401448371\n",
      "5.197032238123189e-13\n",
      "-0.9883508908579187\n",
      "1.1143959174356086e-13\n",
      "-0.9834560848371363\n",
      "2.6792639483452404e-13\n",
      "-0.9806693528098043\n",
      "1.7534781628267238e-13\n",
      "-0.9819288244045999\n",
      "1.8283606028749953e-14\n",
      "-0.9830957596934659\n",
      "1.7958280408920733e-15\n",
      "-0.9807807285775225\n",
      "1.1465204948913116e-15\n",
      "-0.98219632616714\n",
      "9.843889256967216e-17\n",
      "-0.9843345764526624\n",
      "4.468905390008158e-18\n",
      "-0.9846038329371556\n",
      "6.324753673667828e-19\n",
      "-0.9863156602344836\n",
      "2.655190756158105e-20\n",
      "-0.9877827133202163\n",
      "1.0480047859717743e-21\n",
      "-0.9890472457959868\n",
      "3.8985795110139735e-23\n",
      "-0.9901430478057213\n",
      "1.3699492465907725e-24\n",
      "-0.9910973605996012\n",
      "4.5568523051055235e-26\n",
      "-0.991932311442934\n",
      "1.437576537916605e-27\n",
      "-0.9926660000025569\n",
      "4.309114291656043e-29\n",
      "-0.9933133286694675\n",
      "1.2293330589256756e-30\n",
      "-0.993809778324714\n",
      "4.080832040645452e-32\n",
      "-0.9940455951273383\n",
      "2.3566769628936336e-33\n",
      "-0.9942710524637918\n",
      "1.3151252829356979e-34\n",
      "-0.9945447039362967\n",
      "5.897090099185757e-36\n",
      "-0.9947455797647585\n",
      "3.0928719435127665e-37\n",
      "-0.9949373031534604\n",
      "1.5730864546559022e-38\n",
      "-0.9949325025287489\n",
      "1.5885472893700076e-39\n",
      "-0.9951203114068805\n",
      "7.562890380198633e-41\n",
      "-0.9952987472973436\n",
      "3.504089637225875e-42\n",
      "-0.9956193807841934\n",
      "7.90294270962081e-44\n",
      "-0.9957705175208746\n",
      "3.4981772837609376e-45\n",
      "-0.9960464236336332\n",
      "7.469324503384591e-47\n",
      "-0.9960520937353539\n",
      "6.356833441857463e-48\n",
      "-0.9960675723353217\n",
      "5.1093890523334864e-49\n",
      "-0.9960912286977696\n",
      "3.8985731548597537e-50\n",
      "-0.99601961658612\n",
      "5.2161568322538616e-51\n",
      "-0.9959656300214855\n",
      "6.3538007044046e-52\n",
      "-0.9960173950314335\n",
      "4.1154213121739274e-53\n",
      "-0.9959866937148166\n",
      "4.400088906696643e-54\n",
      "-0.9954636346064348\n",
      "8.812478572349778e-54\n",
      "-0.9955586200906064\n",
      "4.795728505868383e-55\n",
      "-0.9956522654734983\n",
      "2.54563385266629e-56\n",
      "-0.9949240431485378\n",
      "1.523558647823636e-55\n",
      "-0.9950569770209811\n",
      "7.335489578690627e-57\n",
      "-0.9951083061373021\n",
      "5.393666847270058e-58\n",
      "-0.9945198801572864\n",
      "1.334483716099418e-57\n",
      "-0.9944837476691708\n",
      "1.6727851649166876e-58\n",
      "-0.9943671781174397\n",
      "3.218954307638924e-59\n",
      "-0.9936151901936352\n",
      "1.4368963360147161e-58\n",
      "-0.9935903774551759\n",
      "1.8091912483851977e-59\n",
      "-0.9935541674058948\n",
      "2.4145277882773368e-60\n",
      "-0.9935849269319326\n",
      "2.336683787906389e-61\n",
      "-0.993527660767271\n",
      "3.481456344903685e-62\n",
      "-0.9937334265313276\n",
      "1.3775934066585857e-63\n",
      "-0.9939295746574192\n",
      "5.367155796192264e-65\n",
      "-0.9938060831229\n",
      "1.1484698518348328e-65\n",
      "-0.9940328405222069\n",
      "3.577765984809591e-67\n",
      "-0.9942144299986166\n",
      "1.3380176827966132e-68\n",
      "-0.9941949386122649\n",
      "1.6047330595855192e-69\n",
      "-0.9943685971046293\n",
      "5.849904025458531e-71\n",
      "-0.9945050150566028\n",
      "2.5524246255160497e-72\n",
      "-0.9942666994760752\n",
      "1.244748158493514e-72\n",
      "-0.994353379781495\n",
      "7.535409127262116e-74\n",
      "-0.9944128272371806\n",
      "5.34687514530244e-75\n",
      "-0.9943151350072544\n",
      "1.0815499128239073e-75\n",
      "-0.9943822684732402\n",
      "7.250874003387609e-77\n",
      "-0.9943324740325317\n",
      "1.0748782419762009e-77\n",
      "-0.9943647097018292\n",
      "9.070267654742402e-79\n",
      "-0.9943071803068497\n",
      "1.4329657947220912e-79\n",
      "-0.9944475416066604\n",
      "5.535895903157916e-81\n",
      "-0.9942790085875486\n",
      "1.9664682901197563e-81\n",
      "-0.9942831512850734\n",
      "2.026189295241277e-82\n",
      "-0.9944425627233211\n",
      "6.578213528036189e-84\n",
      "-0.9943039466688336\n",
      "1.9561677785811437e-84\n",
      "-0.9944079022994676\n",
      "9.408574912379449e-86\n",
      "-0.9945091940188611\n",
      "4.470002769489209e-87\n",
      "-0.9946079037107811\n",
      "2.0981101765352834e-88\n",
      "-0.9945926182354045\n",
      "2.4533700801178686e-89\n",
      "-0.994628341595767\n",
      "1.8817732447397573e-90\n",
      "-0.9946505744776788\n",
      "1.60480068443044e-91\n",
      "-0.9945485516996692\n",
      "3.922732822656181e-92\n",
      "-0.9946349297455706\n",
      "1.9396517422042842e-93\n",
      "-0.9946584306706416\n",
      "1.62463778260306e-94\n",
      "-0.9944734698959347\n",
      "8.368169979904091e-95\n",
      "-0.9944687999954263\n",
      "9.100602859954321e-96\n",
      "-0.9945172378166852\n",
      "6.214102694434323e-97\n",
      "-0.9941850023977833\n",
      "1.1458698816925682e-96\n"
     ]
    }
   ],
   "source": []
  },
  {
   "cell_type": "code",
   "execution_count": 71,
   "metadata": {},
   "outputs": [
    {
     "data": {
      "application/vnd.plotly.v1+json": {
       "config": {
        "plotlyServerURL": "https://plot.ly"
       },
       "data": [
        {
         "marker": {
          "color": "rgba(255, 182, 193, .9)",
          "line": {
           "width": 2
          },
          "size": 10
         },
         "mode": "markers",
         "name": "TTV-BF",
         "type": "scatter",
         "x": [
          5,
          135,
          -135,
          25,
          120,
          -145,
          45,
          110,
          -150,
          65,
          91,
          -149,
          86,
          71,
          -149,
          106,
          51,
          -149,
          121,
          31,
          -139,
          136,
          11,
          -129,
          146,
          -9,
          -114,
          151,
          -34,
          -103,
          162,
          -53,
          -83,
          162,
          -68,
          -63,
          162,
          -88,
          -43,
          157,
          -108,
          -23,
          152,
          -118,
          -3,
          142,
          -133,
          17,
          133,
          -142,
          43,
          118,
          -142,
          63,
          103,
          -147,
          83,
          83,
          -147,
          98,
          63,
          -147,
          118,
          43,
          -137,
          133,
          24,
          -131,
          144,
          -1,
          -116,
          154,
          -21,
          -101,
          164,
          -41,
          -91,
          164,
          -61,
          -71,
          164,
          -81,
          -51,
          159,
          -96,
          -30,
          160,
          -115,
          -10,
          150,
          -125,
          15,
          140,
          -135,
          35,
          125,
          -140,
          60,
          115,
          -145
         ],
         "y": [
          -0.00018307710902831786,
          -12.85003592566003,
          13.129804132150369,
          -0.8161294154929166,
          -12.44491608787257,
          13.311723462861025,
          -3.185993598942005,
          -11.882788786277132,
          13.401442715554879,
          -5.880271113034574,
          -11.0889862563468,
          13.408344961884922,
          -8.702945134886342,
          -9.530371018917627,
          13.333079472710452,
          -10.83870220064398,
          -6.561222276713075,
          13.170657389371954,
          -11.716004051476325,
          -3.6840665270654327,
          12.905764985360335,
          -12.326105699789203,
          -0.8905875517051243,
          12.522661032354776,
          -12.76573052744201,
          2.559924866751828,
          11.983586542863023,
          -13.075970425768801,
          5.35883489871658,
          11.235971963285962,
          -13.280679512006621,
          8.310846351777812,
          9.85027299238439,
          -13.390544020164263,
          10.653141467864558,
          7.01773802980199,
          -13.416991017645152,
          11.584673139886092,
          4.252879709287782,
          -13.361739705786135,
          12.233858282417742,
          1.7202148943074036,
          -13.22122898506084,
          12.69816109794597,
          -0.00014185763674845475,
          -12.981827639757526,
          13.028523552449656,
          -0.03994351516212191,
          -12.630267909985449,
          13.249965897799143,
          -2.156979773126899,
          -12.133363364141836,
          13.374673784705138,
          -4.747861104603679,
          -11.450360245079949,
          13.415363510738132,
          -7.536382012229836,
          -10.44500054914188,
          13.374069423921497,
          -10.329903625594383,
          -7.780366097720481,
          13.24836206673119,
          -11.395631025701292,
          -4.8441917694930225,
          13.025638327945899,
          -12.102145645398465,
          -2.1122997786449105,
          12.694112722089201,
          -12.604852026920632,
          1.5324122266680007,
          12.22672694600746,
          -12.964348236832457,
          4.182487323145523,
          11.572172330387431,
          -13.210039864541834,
          7.088811501354542,
          10.631036127861648,
          -13.355865438269277,
          10.05537818277169,
          8.182164712655648,
          -13.416008096567289,
          11.252239556780452,
          5.372072919618276,
          -13.394382247899905,
          11.992228031942886,
          2.7199010859124684,
          -13.289613413181023,
          12.527875822065937,
          0.44515988850690746,
          -13.0907573095973,
          12.908939330813496,
          -5.502132083279321e-05,
          -12.78768397638963,
          13.172439990771778,
          -1.2001756481971881,
          -12.357570201793067,
          13.334099937978294,
          -3.6642282827958894,
          -11.76175260830803,
          13.408702181028076
         ]
        }
       ],
       "layout": {
        "plot_bgcolor": "rgb(255, 255, 255)",
        "template": {
         "data": {
          "bar": [
           {
            "error_x": {
             "color": "#2a3f5f"
            },
            "error_y": {
             "color": "#2a3f5f"
            },
            "marker": {
             "line": {
              "color": "#E5ECF6",
              "width": 0.5
             }
            },
            "type": "bar"
           }
          ],
          "barpolar": [
           {
            "marker": {
             "line": {
              "color": "#E5ECF6",
              "width": 0.5
             }
            },
            "type": "barpolar"
           }
          ],
          "carpet": [
           {
            "aaxis": {
             "endlinecolor": "#2a3f5f",
             "gridcolor": "white",
             "linecolor": "white",
             "minorgridcolor": "white",
             "startlinecolor": "#2a3f5f"
            },
            "baxis": {
             "endlinecolor": "#2a3f5f",
             "gridcolor": "white",
             "linecolor": "white",
             "minorgridcolor": "white",
             "startlinecolor": "#2a3f5f"
            },
            "type": "carpet"
           }
          ],
          "choropleth": [
           {
            "colorbar": {
             "outlinewidth": 0,
             "ticks": ""
            },
            "type": "choropleth"
           }
          ],
          "contour": [
           {
            "colorbar": {
             "outlinewidth": 0,
             "ticks": ""
            },
            "colorscale": [
             [
              0,
              "#0d0887"
             ],
             [
              0.1111111111111111,
              "#46039f"
             ],
             [
              0.2222222222222222,
              "#7201a8"
             ],
             [
              0.3333333333333333,
              "#9c179e"
             ],
             [
              0.4444444444444444,
              "#bd3786"
             ],
             [
              0.5555555555555556,
              "#d8576b"
             ],
             [
              0.6666666666666666,
              "#ed7953"
             ],
             [
              0.7777777777777778,
              "#fb9f3a"
             ],
             [
              0.8888888888888888,
              "#fdca26"
             ],
             [
              1,
              "#f0f921"
             ]
            ],
            "type": "contour"
           }
          ],
          "contourcarpet": [
           {
            "colorbar": {
             "outlinewidth": 0,
             "ticks": ""
            },
            "type": "contourcarpet"
           }
          ],
          "heatmap": [
           {
            "colorbar": {
             "outlinewidth": 0,
             "ticks": ""
            },
            "colorscale": [
             [
              0,
              "#0d0887"
             ],
             [
              0.1111111111111111,
              "#46039f"
             ],
             [
              0.2222222222222222,
              "#7201a8"
             ],
             [
              0.3333333333333333,
              "#9c179e"
             ],
             [
              0.4444444444444444,
              "#bd3786"
             ],
             [
              0.5555555555555556,
              "#d8576b"
             ],
             [
              0.6666666666666666,
              "#ed7953"
             ],
             [
              0.7777777777777778,
              "#fb9f3a"
             ],
             [
              0.8888888888888888,
              "#fdca26"
             ],
             [
              1,
              "#f0f921"
             ]
            ],
            "type": "heatmap"
           }
          ],
          "heatmapgl": [
           {
            "colorbar": {
             "outlinewidth": 0,
             "ticks": ""
            },
            "colorscale": [
             [
              0,
              "#0d0887"
             ],
             [
              0.1111111111111111,
              "#46039f"
             ],
             [
              0.2222222222222222,
              "#7201a8"
             ],
             [
              0.3333333333333333,
              "#9c179e"
             ],
             [
              0.4444444444444444,
              "#bd3786"
             ],
             [
              0.5555555555555556,
              "#d8576b"
             ],
             [
              0.6666666666666666,
              "#ed7953"
             ],
             [
              0.7777777777777778,
              "#fb9f3a"
             ],
             [
              0.8888888888888888,
              "#fdca26"
             ],
             [
              1,
              "#f0f921"
             ]
            ],
            "type": "heatmapgl"
           }
          ],
          "histogram": [
           {
            "marker": {
             "colorbar": {
              "outlinewidth": 0,
              "ticks": ""
             }
            },
            "type": "histogram"
           }
          ],
          "histogram2d": [
           {
            "colorbar": {
             "outlinewidth": 0,
             "ticks": ""
            },
            "colorscale": [
             [
              0,
              "#0d0887"
             ],
             [
              0.1111111111111111,
              "#46039f"
             ],
             [
              0.2222222222222222,
              "#7201a8"
             ],
             [
              0.3333333333333333,
              "#9c179e"
             ],
             [
              0.4444444444444444,
              "#bd3786"
             ],
             [
              0.5555555555555556,
              "#d8576b"
             ],
             [
              0.6666666666666666,
              "#ed7953"
             ],
             [
              0.7777777777777778,
              "#fb9f3a"
             ],
             [
              0.8888888888888888,
              "#fdca26"
             ],
             [
              1,
              "#f0f921"
             ]
            ],
            "type": "histogram2d"
           }
          ],
          "histogram2dcontour": [
           {
            "colorbar": {
             "outlinewidth": 0,
             "ticks": ""
            },
            "colorscale": [
             [
              0,
              "#0d0887"
             ],
             [
              0.1111111111111111,
              "#46039f"
             ],
             [
              0.2222222222222222,
              "#7201a8"
             ],
             [
              0.3333333333333333,
              "#9c179e"
             ],
             [
              0.4444444444444444,
              "#bd3786"
             ],
             [
              0.5555555555555556,
              "#d8576b"
             ],
             [
              0.6666666666666666,
              "#ed7953"
             ],
             [
              0.7777777777777778,
              "#fb9f3a"
             ],
             [
              0.8888888888888888,
              "#fdca26"
             ],
             [
              1,
              "#f0f921"
             ]
            ],
            "type": "histogram2dcontour"
           }
          ],
          "mesh3d": [
           {
            "colorbar": {
             "outlinewidth": 0,
             "ticks": ""
            },
            "type": "mesh3d"
           }
          ],
          "parcoords": [
           {
            "line": {
             "colorbar": {
              "outlinewidth": 0,
              "ticks": ""
             }
            },
            "type": "parcoords"
           }
          ],
          "pie": [
           {
            "automargin": true,
            "type": "pie"
           }
          ],
          "scatter": [
           {
            "marker": {
             "colorbar": {
              "outlinewidth": 0,
              "ticks": ""
             }
            },
            "type": "scatter"
           }
          ],
          "scatter3d": [
           {
            "line": {
             "colorbar": {
              "outlinewidth": 0,
              "ticks": ""
             }
            },
            "marker": {
             "colorbar": {
              "outlinewidth": 0,
              "ticks": ""
             }
            },
            "type": "scatter3d"
           }
          ],
          "scattercarpet": [
           {
            "marker": {
             "colorbar": {
              "outlinewidth": 0,
              "ticks": ""
             }
            },
            "type": "scattercarpet"
           }
          ],
          "scattergeo": [
           {
            "marker": {
             "colorbar": {
              "outlinewidth": 0,
              "ticks": ""
             }
            },
            "type": "scattergeo"
           }
          ],
          "scattergl": [
           {
            "marker": {
             "colorbar": {
              "outlinewidth": 0,
              "ticks": ""
             }
            },
            "type": "scattergl"
           }
          ],
          "scattermapbox": [
           {
            "marker": {
             "colorbar": {
              "outlinewidth": 0,
              "ticks": ""
             }
            },
            "type": "scattermapbox"
           }
          ],
          "scatterpolar": [
           {
            "marker": {
             "colorbar": {
              "outlinewidth": 0,
              "ticks": ""
             }
            },
            "type": "scatterpolar"
           }
          ],
          "scatterpolargl": [
           {
            "marker": {
             "colorbar": {
              "outlinewidth": 0,
              "ticks": ""
             }
            },
            "type": "scatterpolargl"
           }
          ],
          "scatterternary": [
           {
            "marker": {
             "colorbar": {
              "outlinewidth": 0,
              "ticks": ""
             }
            },
            "type": "scatterternary"
           }
          ],
          "surface": [
           {
            "colorbar": {
             "outlinewidth": 0,
             "ticks": ""
            },
            "colorscale": [
             [
              0,
              "#0d0887"
             ],
             [
              0.1111111111111111,
              "#46039f"
             ],
             [
              0.2222222222222222,
              "#7201a8"
             ],
             [
              0.3333333333333333,
              "#9c179e"
             ],
             [
              0.4444444444444444,
              "#bd3786"
             ],
             [
              0.5555555555555556,
              "#d8576b"
             ],
             [
              0.6666666666666666,
              "#ed7953"
             ],
             [
              0.7777777777777778,
              "#fb9f3a"
             ],
             [
              0.8888888888888888,
              "#fdca26"
             ],
             [
              1,
              "#f0f921"
             ]
            ],
            "type": "surface"
           }
          ],
          "table": [
           {
            "cells": {
             "fill": {
              "color": "#EBF0F8"
             },
             "line": {
              "color": "white"
             }
            },
            "header": {
             "fill": {
              "color": "#C8D4E3"
             },
             "line": {
              "color": "white"
             }
            },
            "type": "table"
           }
          ]
         },
         "layout": {
          "annotationdefaults": {
           "arrowcolor": "#2a3f5f",
           "arrowhead": 0,
           "arrowwidth": 1
          },
          "coloraxis": {
           "colorbar": {
            "outlinewidth": 0,
            "ticks": ""
           }
          },
          "colorscale": {
           "diverging": [
            [
             0,
             "#8e0152"
            ],
            [
             0.1,
             "#c51b7d"
            ],
            [
             0.2,
             "#de77ae"
            ],
            [
             0.3,
             "#f1b6da"
            ],
            [
             0.4,
             "#fde0ef"
            ],
            [
             0.5,
             "#f7f7f7"
            ],
            [
             0.6,
             "#e6f5d0"
            ],
            [
             0.7,
             "#b8e186"
            ],
            [
             0.8,
             "#7fbc41"
            ],
            [
             0.9,
             "#4d9221"
            ],
            [
             1,
             "#276419"
            ]
           ],
           "sequential": [
            [
             0,
             "#0d0887"
            ],
            [
             0.1111111111111111,
             "#46039f"
            ],
            [
             0.2222222222222222,
             "#7201a8"
            ],
            [
             0.3333333333333333,
             "#9c179e"
            ],
            [
             0.4444444444444444,
             "#bd3786"
            ],
            [
             0.5555555555555556,
             "#d8576b"
            ],
            [
             0.6666666666666666,
             "#ed7953"
            ],
            [
             0.7777777777777778,
             "#fb9f3a"
            ],
            [
             0.8888888888888888,
             "#fdca26"
            ],
            [
             1,
             "#f0f921"
            ]
           ],
           "sequentialminus": [
            [
             0,
             "#0d0887"
            ],
            [
             0.1111111111111111,
             "#46039f"
            ],
            [
             0.2222222222222222,
             "#7201a8"
            ],
            [
             0.3333333333333333,
             "#9c179e"
            ],
            [
             0.4444444444444444,
             "#bd3786"
            ],
            [
             0.5555555555555556,
             "#d8576b"
            ],
            [
             0.6666666666666666,
             "#ed7953"
            ],
            [
             0.7777777777777778,
             "#fb9f3a"
            ],
            [
             0.8888888888888888,
             "#fdca26"
            ],
            [
             1,
             "#f0f921"
            ]
           ]
          },
          "colorway": [
           "#636efa",
           "#EF553B",
           "#00cc96",
           "#ab63fa",
           "#FFA15A",
           "#19d3f3",
           "#FF6692",
           "#B6E880",
           "#FF97FF",
           "#FECB52"
          ],
          "font": {
           "color": "#2a3f5f"
          },
          "geo": {
           "bgcolor": "white",
           "lakecolor": "white",
           "landcolor": "#E5ECF6",
           "showlakes": true,
           "showland": true,
           "subunitcolor": "white"
          },
          "hoverlabel": {
           "align": "left"
          },
          "hovermode": "closest",
          "mapbox": {
           "style": "light"
          },
          "paper_bgcolor": "white",
          "plot_bgcolor": "#E5ECF6",
          "polar": {
           "angularaxis": {
            "gridcolor": "white",
            "linecolor": "white",
            "ticks": ""
           },
           "bgcolor": "#E5ECF6",
           "radialaxis": {
            "gridcolor": "white",
            "linecolor": "white",
            "ticks": ""
           }
          },
          "scene": {
           "xaxis": {
            "backgroundcolor": "#E5ECF6",
            "gridcolor": "white",
            "gridwidth": 2,
            "linecolor": "white",
            "showbackground": true,
            "ticks": "",
            "zerolinecolor": "white"
           },
           "yaxis": {
            "backgroundcolor": "#E5ECF6",
            "gridcolor": "white",
            "gridwidth": 2,
            "linecolor": "white",
            "showbackground": true,
            "ticks": "",
            "zerolinecolor": "white"
           },
           "zaxis": {
            "backgroundcolor": "#E5ECF6",
            "gridcolor": "white",
            "gridwidth": 2,
            "linecolor": "white",
            "showbackground": true,
            "ticks": "",
            "zerolinecolor": "white"
           }
          },
          "shapedefaults": {
           "line": {
            "color": "#2a3f5f"
           }
          },
          "ternary": {
           "aaxis": {
            "gridcolor": "white",
            "linecolor": "white",
            "ticks": ""
           },
           "baxis": {
            "gridcolor": "white",
            "linecolor": "white",
            "ticks": ""
           },
           "bgcolor": "#E5ECF6",
           "caxis": {
            "gridcolor": "white",
            "linecolor": "white",
            "ticks": ""
           }
          },
          "title": {
           "x": 0.05
          },
          "xaxis": {
           "automargin": true,
           "gridcolor": "white",
           "linecolor": "white",
           "ticks": "",
           "title": {
            "standoff": 15
           },
           "zerolinecolor": "white",
           "zerolinewidth": 2
          },
          "yaxis": {
           "automargin": true,
           "gridcolor": "white",
           "linecolor": "white",
           "ticks": "",
           "title": {
            "standoff": 15
           },
           "zerolinecolor": "white",
           "zerolinewidth": 2
          }
         }
        },
        "title": {
         "text": "TTV-BF for Earth-Moon with initial orbital speed"
        },
        "xaxis": {
         "gridcolor": "rgb(0, 255, 255)",
         "gridwidth": 1,
         "showgrid": true,
         "title": {
          "text": "TTV, sec"
         },
         "zeroline": false
        },
        "yaxis": {
         "gridcolor": "rgb(0, 255, 255)",
         "gridwidth": 1,
         "showgrid": true,
         "title": {
          "text": "BF, nomalized units"
         },
         "zeroline": true
        }
       }
      },
      "text/html": [
       "<div>\n",
       "        \n",
       "        \n",
       "            <div id=\"fcb3663c-409e-4f91-89f0-9f4505c3811f\" class=\"plotly-graph-div\" style=\"height:525px; width:100%;\"></div>\n",
       "            <script type=\"text/javascript\">\n",
       "                require([\"plotly\"], function(Plotly) {\n",
       "                    window.PLOTLYENV=window.PLOTLYENV || {};\n",
       "                    \n",
       "                if (document.getElementById(\"fcb3663c-409e-4f91-89f0-9f4505c3811f\")) {\n",
       "                    Plotly.newPlot(\n",
       "                        'fcb3663c-409e-4f91-89f0-9f4505c3811f',\n",
       "                        [{\"marker\": {\"color\": \"rgba(255, 182, 193, .9)\", \"line\": {\"width\": 2}, \"size\": 10}, \"mode\": \"markers\", \"name\": \"TTV-BF\", \"type\": \"scatter\", \"x\": [5.0, 135.0, -135.0, 25.0, 120.0, -145.0, 45.0, 110.0, -150.0, 65.0, 91.0, -149.0, 86.0, 71.0, -149.0, 106.0, 51.0, -149.0, 121.0, 31.0, -139.0, 136.0, 11.0, -129.0, 146.0, -9.0, -114.0, 151.0, -34.0, -103.0, 162.0, -53.0, -83.0, 162.0, -68.0, -63.0, 162.0, -88.0, -43.0, 157.0, -108.0, -23.0, 152.0, -118.0, -3.0, 142.0, -133.0, 17.0, 133.0, -142.0, 43.0, 118.0, -142.0, 63.0, 103.0, -147.0, 83.0, 83.0, -147.0, 98.0, 63.0, -147.0, 118.0, 43.0, -137.0, 133.0, 24.0, -131.0, 144.0, -1.0, -116.0, 154.0, -21.0, -101.0, 164.0, -41.0, -91.0, 164.0, -61.0, -71.0, 164.0, -81.0, -51.0, 159.0, -96.0, -30.0, 160.0, -115.0, -10.0, 150.0, -125.0, 15.0, 140.0, -135.0, 35.0, 125.0, -140.0, 60.0, 115.0, -145.0], \"y\": [-0.00018307710902831786, -12.85003592566003, 13.129804132150369, -0.8161294154929166, -12.44491608787257, 13.311723462861025, -3.185993598942005, -11.882788786277132, 13.401442715554879, -5.880271113034574, -11.0889862563468, 13.408344961884922, -8.702945134886342, -9.530371018917627, 13.333079472710452, -10.83870220064398, -6.561222276713075, 13.170657389371954, -11.716004051476325, -3.6840665270654327, 12.905764985360335, -12.326105699789203, -0.8905875517051243, 12.522661032354776, -12.76573052744201, 2.559924866751828, 11.983586542863023, -13.075970425768801, 5.35883489871658, 11.235971963285962, -13.280679512006621, 8.310846351777812, 9.85027299238439, -13.390544020164263, 10.653141467864558, 7.01773802980199, -13.416991017645152, 11.584673139886092, 4.252879709287782, -13.361739705786135, 12.233858282417742, 1.7202148943074036, -13.22122898506084, 12.69816109794597, -0.00014185763674845475, -12.981827639757526, 13.028523552449656, -0.03994351516212191, -12.630267909985449, 13.249965897799143, -2.156979773126899, -12.133363364141836, 13.374673784705138, -4.747861104603679, -11.450360245079949, 13.415363510738132, -7.536382012229836, -10.44500054914188, 13.374069423921497, -10.329903625594383, -7.780366097720481, 13.24836206673119, -11.395631025701292, -4.8441917694930225, 13.025638327945899, -12.102145645398465, -2.1122997786449105, 12.694112722089201, -12.604852026920632, 1.5324122266680007, 12.22672694600746, -12.964348236832457, 4.182487323145523, 11.572172330387431, -13.210039864541834, 7.088811501354542, 10.631036127861648, -13.355865438269277, 10.05537818277169, 8.182164712655648, -13.416008096567289, 11.252239556780452, 5.372072919618276, -13.394382247899905, 11.992228031942886, 2.7199010859124684, -13.289613413181023, 12.527875822065937, 0.44515988850690746, -13.0907573095973, 12.908939330813496, -5.502132083279321e-05, -12.78768397638963, 13.172439990771778, -1.2001756481971881, -12.357570201793067, 13.334099937978294, -3.6642282827958894, -11.76175260830803, 13.408702181028076]}],\n",
       "                        {\"plot_bgcolor\": \"rgb(255, 255, 255)\", \"template\": {\"data\": {\"bar\": [{\"error_x\": {\"color\": \"#2a3f5f\"}, \"error_y\": {\"color\": \"#2a3f5f\"}, \"marker\": {\"line\": {\"color\": \"#E5ECF6\", \"width\": 0.5}}, \"type\": \"bar\"}], \"barpolar\": [{\"marker\": {\"line\": {\"color\": \"#E5ECF6\", \"width\": 0.5}}, \"type\": \"barpolar\"}], \"carpet\": [{\"aaxis\": {\"endlinecolor\": \"#2a3f5f\", \"gridcolor\": \"white\", \"linecolor\": \"white\", \"minorgridcolor\": \"white\", \"startlinecolor\": \"#2a3f5f\"}, \"baxis\": {\"endlinecolor\": \"#2a3f5f\", \"gridcolor\": \"white\", \"linecolor\": \"white\", \"minorgridcolor\": \"white\", \"startlinecolor\": \"#2a3f5f\"}, \"type\": \"carpet\"}], \"choropleth\": [{\"colorbar\": {\"outlinewidth\": 0, \"ticks\": \"\"}, \"type\": \"choropleth\"}], \"contour\": [{\"colorbar\": {\"outlinewidth\": 0, \"ticks\": \"\"}, \"colorscale\": [[0.0, \"#0d0887\"], [0.1111111111111111, \"#46039f\"], [0.2222222222222222, \"#7201a8\"], [0.3333333333333333, \"#9c179e\"], [0.4444444444444444, \"#bd3786\"], [0.5555555555555556, \"#d8576b\"], [0.6666666666666666, \"#ed7953\"], [0.7777777777777778, \"#fb9f3a\"], [0.8888888888888888, \"#fdca26\"], [1.0, \"#f0f921\"]], \"type\": \"contour\"}], \"contourcarpet\": [{\"colorbar\": {\"outlinewidth\": 0, \"ticks\": \"\"}, \"type\": \"contourcarpet\"}], \"heatmap\": [{\"colorbar\": {\"outlinewidth\": 0, \"ticks\": \"\"}, \"colorscale\": [[0.0, \"#0d0887\"], [0.1111111111111111, \"#46039f\"], [0.2222222222222222, \"#7201a8\"], [0.3333333333333333, \"#9c179e\"], [0.4444444444444444, \"#bd3786\"], [0.5555555555555556, \"#d8576b\"], [0.6666666666666666, \"#ed7953\"], [0.7777777777777778, \"#fb9f3a\"], [0.8888888888888888, \"#fdca26\"], [1.0, \"#f0f921\"]], \"type\": \"heatmap\"}], \"heatmapgl\": [{\"colorbar\": {\"outlinewidth\": 0, \"ticks\": \"\"}, \"colorscale\": [[0.0, \"#0d0887\"], [0.1111111111111111, \"#46039f\"], [0.2222222222222222, \"#7201a8\"], [0.3333333333333333, \"#9c179e\"], [0.4444444444444444, \"#bd3786\"], [0.5555555555555556, \"#d8576b\"], [0.6666666666666666, \"#ed7953\"], [0.7777777777777778, \"#fb9f3a\"], [0.8888888888888888, \"#fdca26\"], [1.0, \"#f0f921\"]], \"type\": \"heatmapgl\"}], \"histogram\": [{\"marker\": {\"colorbar\": {\"outlinewidth\": 0, \"ticks\": \"\"}}, \"type\": \"histogram\"}], \"histogram2d\": [{\"colorbar\": {\"outlinewidth\": 0, \"ticks\": \"\"}, \"colorscale\": [[0.0, \"#0d0887\"], [0.1111111111111111, \"#46039f\"], [0.2222222222222222, \"#7201a8\"], [0.3333333333333333, \"#9c179e\"], [0.4444444444444444, \"#bd3786\"], [0.5555555555555556, \"#d8576b\"], [0.6666666666666666, \"#ed7953\"], [0.7777777777777778, \"#fb9f3a\"], [0.8888888888888888, \"#fdca26\"], [1.0, \"#f0f921\"]], \"type\": \"histogram2d\"}], \"histogram2dcontour\": [{\"colorbar\": {\"outlinewidth\": 0, \"ticks\": \"\"}, \"colorscale\": [[0.0, \"#0d0887\"], [0.1111111111111111, \"#46039f\"], [0.2222222222222222, \"#7201a8\"], [0.3333333333333333, \"#9c179e\"], [0.4444444444444444, \"#bd3786\"], [0.5555555555555556, \"#d8576b\"], [0.6666666666666666, \"#ed7953\"], [0.7777777777777778, \"#fb9f3a\"], [0.8888888888888888, \"#fdca26\"], [1.0, \"#f0f921\"]], \"type\": \"histogram2dcontour\"}], \"mesh3d\": [{\"colorbar\": {\"outlinewidth\": 0, \"ticks\": \"\"}, \"type\": \"mesh3d\"}], \"parcoords\": [{\"line\": {\"colorbar\": {\"outlinewidth\": 0, \"ticks\": \"\"}}, \"type\": \"parcoords\"}], \"pie\": [{\"automargin\": true, \"type\": \"pie\"}], \"scatter\": [{\"marker\": {\"colorbar\": {\"outlinewidth\": 0, \"ticks\": \"\"}}, \"type\": \"scatter\"}], \"scatter3d\": [{\"line\": {\"colorbar\": {\"outlinewidth\": 0, \"ticks\": \"\"}}, \"marker\": {\"colorbar\": {\"outlinewidth\": 0, \"ticks\": \"\"}}, \"type\": \"scatter3d\"}], \"scattercarpet\": [{\"marker\": {\"colorbar\": {\"outlinewidth\": 0, \"ticks\": \"\"}}, \"type\": \"scattercarpet\"}], \"scattergeo\": [{\"marker\": {\"colorbar\": {\"outlinewidth\": 0, \"ticks\": \"\"}}, \"type\": \"scattergeo\"}], \"scattergl\": [{\"marker\": {\"colorbar\": {\"outlinewidth\": 0, \"ticks\": \"\"}}, \"type\": \"scattergl\"}], \"scattermapbox\": [{\"marker\": {\"colorbar\": {\"outlinewidth\": 0, \"ticks\": \"\"}}, \"type\": \"scattermapbox\"}], \"scatterpolar\": [{\"marker\": {\"colorbar\": {\"outlinewidth\": 0, \"ticks\": \"\"}}, \"type\": \"scatterpolar\"}], \"scatterpolargl\": [{\"marker\": {\"colorbar\": {\"outlinewidth\": 0, \"ticks\": \"\"}}, \"type\": \"scatterpolargl\"}], \"scatterternary\": [{\"marker\": {\"colorbar\": {\"outlinewidth\": 0, \"ticks\": \"\"}}, \"type\": \"scatterternary\"}], \"surface\": [{\"colorbar\": {\"outlinewidth\": 0, \"ticks\": \"\"}, \"colorscale\": [[0.0, \"#0d0887\"], [0.1111111111111111, \"#46039f\"], [0.2222222222222222, \"#7201a8\"], [0.3333333333333333, \"#9c179e\"], [0.4444444444444444, \"#bd3786\"], [0.5555555555555556, \"#d8576b\"], [0.6666666666666666, \"#ed7953\"], [0.7777777777777778, \"#fb9f3a\"], [0.8888888888888888, \"#fdca26\"], [1.0, \"#f0f921\"]], \"type\": \"surface\"}], \"table\": [{\"cells\": {\"fill\": {\"color\": \"#EBF0F8\"}, \"line\": {\"color\": \"white\"}}, \"header\": {\"fill\": {\"color\": \"#C8D4E3\"}, \"line\": {\"color\": \"white\"}}, \"type\": \"table\"}]}, \"layout\": {\"annotationdefaults\": {\"arrowcolor\": \"#2a3f5f\", \"arrowhead\": 0, \"arrowwidth\": 1}, \"coloraxis\": {\"colorbar\": {\"outlinewidth\": 0, \"ticks\": \"\"}}, \"colorscale\": {\"diverging\": [[0, \"#8e0152\"], [0.1, \"#c51b7d\"], [0.2, \"#de77ae\"], [0.3, \"#f1b6da\"], [0.4, \"#fde0ef\"], [0.5, \"#f7f7f7\"], [0.6, \"#e6f5d0\"], [0.7, \"#b8e186\"], [0.8, \"#7fbc41\"], [0.9, \"#4d9221\"], [1, \"#276419\"]], \"sequential\": [[0.0, \"#0d0887\"], [0.1111111111111111, \"#46039f\"], [0.2222222222222222, \"#7201a8\"], [0.3333333333333333, \"#9c179e\"], [0.4444444444444444, \"#bd3786\"], [0.5555555555555556, \"#d8576b\"], [0.6666666666666666, \"#ed7953\"], [0.7777777777777778, \"#fb9f3a\"], [0.8888888888888888, \"#fdca26\"], [1.0, \"#f0f921\"]], \"sequentialminus\": [[0.0, \"#0d0887\"], [0.1111111111111111, \"#46039f\"], [0.2222222222222222, \"#7201a8\"], [0.3333333333333333, \"#9c179e\"], [0.4444444444444444, \"#bd3786\"], [0.5555555555555556, \"#d8576b\"], [0.6666666666666666, \"#ed7953\"], [0.7777777777777778, \"#fb9f3a\"], [0.8888888888888888, \"#fdca26\"], [1.0, \"#f0f921\"]]}, \"colorway\": [\"#636efa\", \"#EF553B\", \"#00cc96\", \"#ab63fa\", \"#FFA15A\", \"#19d3f3\", \"#FF6692\", \"#B6E880\", \"#FF97FF\", \"#FECB52\"], \"font\": {\"color\": \"#2a3f5f\"}, \"geo\": {\"bgcolor\": \"white\", \"lakecolor\": \"white\", \"landcolor\": \"#E5ECF6\", \"showlakes\": true, \"showland\": true, \"subunitcolor\": \"white\"}, \"hoverlabel\": {\"align\": \"left\"}, \"hovermode\": \"closest\", \"mapbox\": {\"style\": \"light\"}, \"paper_bgcolor\": \"white\", \"plot_bgcolor\": \"#E5ECF6\", \"polar\": {\"angularaxis\": {\"gridcolor\": \"white\", \"linecolor\": \"white\", \"ticks\": \"\"}, \"bgcolor\": \"#E5ECF6\", \"radialaxis\": {\"gridcolor\": \"white\", \"linecolor\": \"white\", \"ticks\": \"\"}}, \"scene\": {\"xaxis\": {\"backgroundcolor\": \"#E5ECF6\", \"gridcolor\": \"white\", \"gridwidth\": 2, \"linecolor\": \"white\", \"showbackground\": true, \"ticks\": \"\", \"zerolinecolor\": \"white\"}, \"yaxis\": {\"backgroundcolor\": \"#E5ECF6\", \"gridcolor\": \"white\", \"gridwidth\": 2, \"linecolor\": \"white\", \"showbackground\": true, \"ticks\": \"\", \"zerolinecolor\": \"white\"}, \"zaxis\": {\"backgroundcolor\": \"#E5ECF6\", \"gridcolor\": \"white\", \"gridwidth\": 2, \"linecolor\": \"white\", \"showbackground\": true, \"ticks\": \"\", \"zerolinecolor\": \"white\"}}, \"shapedefaults\": {\"line\": {\"color\": \"#2a3f5f\"}}, \"ternary\": {\"aaxis\": {\"gridcolor\": \"white\", \"linecolor\": \"white\", \"ticks\": \"\"}, \"baxis\": {\"gridcolor\": \"white\", \"linecolor\": \"white\", \"ticks\": \"\"}, \"bgcolor\": \"#E5ECF6\", \"caxis\": {\"gridcolor\": \"white\", \"linecolor\": \"white\", \"ticks\": \"\"}}, \"title\": {\"x\": 0.05}, \"xaxis\": {\"automargin\": true, \"gridcolor\": \"white\", \"linecolor\": \"white\", \"ticks\": \"\", \"title\": {\"standoff\": 15}, \"zerolinecolor\": \"white\", \"zerolinewidth\": 2}, \"yaxis\": {\"automargin\": true, \"gridcolor\": \"white\", \"linecolor\": \"white\", \"ticks\": \"\", \"title\": {\"standoff\": 15}, \"zerolinecolor\": \"white\", \"zerolinewidth\": 2}}}, \"title\": {\"text\": \"TTV-BF for Earth-Moon with initial orbital speed\"}, \"xaxis\": {\"gridcolor\": \"rgb(0, 255, 255)\", \"gridwidth\": 1, \"showgrid\": true, \"title\": {\"text\": \"TTV, sec\"}, \"zeroline\": false}, \"yaxis\": {\"gridcolor\": \"rgb(0, 255, 255)\", \"gridwidth\": 1, \"showgrid\": true, \"title\": {\"text\": \"BF, nomalized units\"}, \"zeroline\": true}},\n",
       "                        {\"responsive\": true}\n",
       "                    ).then(function(){\n",
       "                            \n",
       "var gd = document.getElementById('fcb3663c-409e-4f91-89f0-9f4505c3811f');\n",
       "var x = new MutationObserver(function (mutations, observer) {{\n",
       "        var display = window.getComputedStyle(gd).display;\n",
       "        if (!display || display === 'none') {{\n",
       "            console.log([gd, 'removed!']);\n",
       "            Plotly.purge(gd);\n",
       "            observer.disconnect();\n",
       "        }}\n",
       "}});\n",
       "\n",
       "// Listen for the removal of the full notebook cells\n",
       "var notebookContainer = gd.closest('#notebook-container');\n",
       "if (notebookContainer) {{\n",
       "    x.observe(notebookContainer, {childList: true});\n",
       "}}\n",
       "\n",
       "// Listen for the clearing of the current output cell\n",
       "var outputEl = gd.closest('.output');\n",
       "if (outputEl) {{\n",
       "    x.observe(outputEl, {childList: true});\n",
       "}}\n",
       "\n",
       "                        })\n",
       "                };\n",
       "                });\n",
       "            </script>\n",
       "        </div>"
      ]
     },
     "metadata": {},
     "output_type": "display_data"
    }
   ],
   "source": [
    "\n"
   ]
  },
  {
   "cell_type": "code",
   "execution_count": null,
   "metadata": {},
   "outputs": [],
   "source": [
    "# Spirman coeffitient"
   ]
  },
  {
   "cell_type": "code",
   "execution_count": null,
   "metadata": {},
   "outputs": [],
   "source": []
  },
  {
   "cell_type": "code",
   "execution_count": null,
   "metadata": {},
   "outputs": [],
   "source": []
  },
  {
   "cell_type": "code",
   "execution_count": null,
   "metadata": {},
   "outputs": [],
   "source": []
  }
 ],
 "metadata": {
  "kernelspec": {
   "display_name": "Python 3",
   "language": "python",
   "name": "python3"
  },
  "language_info": {
   "codemirror_mode": {
    "name": "ipython",
    "version": 3
   },
   "file_extension": ".py",
   "mimetype": "text/x-python",
   "name": "python",
   "nbconvert_exporter": "python",
   "pygments_lexer": "ipython3",
   "version": "3.7.3"
  }
 },
 "nbformat": 4,
 "nbformat_minor": 2
}
