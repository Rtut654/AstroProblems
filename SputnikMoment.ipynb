{
 "cells": [
  {
   "cell_type": "markdown",
   "metadata": {},
   "source": [
    "### Add libraries"
   ]
  },
  {
   "cell_type": "code",
   "execution_count": 98,
   "metadata": {},
   "outputs": [],
   "source": [
    "#libraries\n",
    "import numpy as np\n",
    "import matplotlib as plt\n",
    "import plotly.graph_objects as go"
   ]
  },
  {
   "cell_type": "code",
   "execution_count": 99,
   "metadata": {},
   "outputs": [],
   "source": [
    "# tef,dtt,a: array [0..1501] of longint# \n",
    "# tav,ms,Ω,djs,djs1,μ,φ,Rsat,Xsp,Xsp1,PerSat,dφs,t2,t1,Jsc,Jr1,Jr2,j12,tpl1,tpl2:array [0..1500] of real# \n",
    "# t1s,t2s,te1s,te2s,Jadd1,Jadd2,k: array [1..10,0..1501] of real#\n",
    "# Pp,Ps,Rp,Ap,m,Mp,φp,dφp,dt1:longint# \n",
    "# dt,n,ts,s,t:longint# \n",
    "# Rs,xp,xp1,Xplo,Xpl,Xpln,Xpln1,Xpl1o,G,Mstar,Mplanet,Ωp,F,f1,Alb:real# \n",
    "# delt,tint,i:integer# \n",
    "# delj,dttav,jav,sigmajdtt,sigmaj,sigmadtt,Jres,Jcut,Jcuto:real#\n",
    "# PpObs,t0,Korr,TTVmax,TTVmin:real# \n",
    "# PerP:real#\n",
    "\n",
    "# Jo:array [0..1500,-70000..70000] of real#\n",
    "# V1,V2,V3,V4,V5,L,S3,djp1,djp,djp0:real#\n",
    "# Rz,Aps,Ass:longint# \n",
    "\n",
    "# xs,xs1,dJ:real# \n",
    "\n",
    "# te1,te2:integer# \n",
    "\n",
    "# nn,sumn,ntav,sumtav,Delta,DeltaPp,Deltat0:real# "
   ]
  },
  {
   "cell_type": "markdown",
   "metadata": {},
   "source": [
    "### Define all the constants i.e. star/planet/moons/noise"
   ]
  },
  {
   "cell_type": "code",
   "execution_count": 139,
   "metadata": {},
   "outputs": [],
   "source": [
    "m=1;\n",
    "ms=[None]*3\n",
    "a=[None]*3\n",
    "Rsat=[None]*3\n",
    "\n",
    "G=6.67*10**(-11)#\n",
    "Mstar=1.99*10**30#\n",
    "Mplanet=5.99*10**24#\n",
    "\n",
    "Mp=1#{Масса планеты в относительных единицах}\n",
    "ms[0]=1/81.3#{Масса спутника-1 в массах планеты}\n",
    "ms[1]=1/116.14#{Масса спутника-2 в массах планеты}\n",
    "ms[2]=1/98#\n",
    "Ap=149598000# {Большая полуось орбиты планеты в км} \n",
    "Pp=31556952# {Период обращения планеты вокруг звезды в сек}\n",
    "Ps=245000# {Период обращения спутника вокруг планеты в сек} \n",
    "Rp=6400# {Радиус планеты в км} \n",
    "Rs=695000# {Радиус звезды в км} \n",
    "\n",
    "a[0]=384000#{Радиус орбиты спутника-1 в км}\n",
    "a[1]=192000#{Радиус орбиты спутника-2 в км}\n",
    "a[2]=699000#\n",
    "\n",
    "Rsat[0]=2738# {Радиус спутника-1 в км} \n",
    "Rsat[1]=1225# {Радиус спутника-2 в км} \n",
    "Rsat[2]=1950#\n",
    "Alb=0.3#\n",
    "s=100# {Число транзитов системы спутники-планета}  \n",
    "tint=6500# {Время усреднения яркости до/после затмения в сек} \n",
    "delJ=0.000007#{Погрешность измения яркости, случайная добавка принимает значения от delJ до +delJ, всегда равна нулю при delt=0} \n",
    "delt=6# {Погрешность изменения времени транзита, принимает значения от -delt до +delt, в сек} \n",
    "φp=0# what is it?\n",
    "Ωp=np.sqrt(G*Mstar/1000000000/Ap/Ap/Ap)#\n",
    "djp=(Rp/Rs)**2#\n",
    "djp0=Rp/Rs#\n",
    "PerP=2*np.pi/Ωp#\n",
    "Ω=[None]*m\n",
    "djs=[None]*m\n",
    "μ=[None]*m\n",
    "dφs=[None]*m\n",
    "PerSat=[None]*m\n",
    "φ=[None]*m\n",
    "dφs=[None]*m\n",
    "t1=[None]*s   \n",
    "t2=[None]*s\n",
    "Xsp=[0]*m\n",
    "Xspprev=[0]*m\n",
    "djs1=[None]*m\n",
    "tpl1=[None]*s\n",
    "tpl2=[None]*s\n",
    "Ω=[None]*m\n",
    "w1 = s\n",
    "T=70000\n",
    "t1s = [[0 for x in range(m)] for y in range(w1)] \n",
    "t2s = [[0 for x in range(m)] for y in range(w1)] \n",
    "te1s = [[0 for x in range(int(-T/10),int(T/10))] for y in range(w1)] \n",
    "te2s= [[0 for x in range(int(-T/10),int(T/10))] for y in range(w1)] \n",
    "Jo= [[0 for x in range(int(-T/10),int(T/10))] for y in range(w1)] \n",
    "Xpprev=0\n",
    "Xplnprev=0"
   ]
  },
  {
   "cell_type": "markdown",
   "metadata": {},
   "source": [
    "### Parameters of the moons"
   ]
  },
  {
   "cell_type": "code",
   "execution_count": 140,
   "metadata": {},
   "outputs": [
    {
     "name": "stdout",
     "output_type": "stream",
     "text": [
      "2.6563144917024576e-06\n",
      "djs=  1.5520198747476837e-05\n",
      "μ= 81.3\n",
      "Ps- 0 = None\n",
      "dφs- 0 = 0.34070305677683876\n",
      "Pp= 31555792.695338428\n"
     ]
    }
   ],
   "source": [
    "for i in range(m):\n",
    "    Ω[i]=np.sqrt(G*Mplanet/1000000000/a[i]/a[i]/a[i])# {Доп. коэфф. необходим при переводе из км в метры}\n",
    "    djs[i]=(Rsat[i]**2)/(Rs**2)# {Изменение яркости звезды во время транзита i-го спутника}\n",
    "    μ[i]=(Mp/ms[i])# {Отношение масс i-го спутника к массе планеты.}\n",
    "    print(Ω[i])\n",
    "    print('djs= ', djs[i])#\n",
    "    print('μ=', μ[i])#\n",
    "#     PerSat[i]=2*np.pi/Ω[i]#\n",
    "    dφs[i]=(Ω[i]*PerP/2/np.pi-int(Ω[i]*PerP/2/np.pi))# Phase shift?+np.pi/2\n",
    "    print('Ps-',i,'=',PerSat[i])#\n",
    "    print('dφs-',i,'=',dφs[i])#\n",
    "    \n",
    "print('Pp=',PerP)#"
   ]
  },
  {
   "cell_type": "markdown",
   "metadata": {},
   "source": [
    "### Loop over s transits"
   ]
  },
  {
   "cell_type": "code",
   "execution_count": 142,
   "metadata": {},
   "outputs": [
    {
     "name": "stdout",
     "output_type": "stream",
     "text": [
      "tpl1= [-23540, -23540, -23540, -23540, -23540, -23540, -23540, -23540, -23540, -23540, -23540, -23540, -23540, -23540, -23540, -23540, -23540, -23540, -23540, -23540, -23540, -23540, -23540, -23540, -23540, -23540, -23540, -23540, -23540, -23540, -23540, -23540, -23540, -23540, -23540, -23540, -23540, -23540, -23540, -23540, -23540, -23540, -23540, -23540, -23540, -23540, -23540, -23540, -23540, -23540, -23540, -23540, -23540, -23540, -23540, -23540, -23540, -23540, -23540, -23540, -23540, -23540, -23540, -23540, -23540, -23540, -23540, -23540, -23540, -23540, -23540, -23540, -23540, -23540, -23540, -23540, -23540, -23540, -23540, -23540, -23540, -23540, -23540, -23540, -23540, -23540, -23540, -23540, -23540, -23540, -23540, -23540, -23540, -23540, -23540, -23540, -23540, -23540, -23540, -23540]\n",
      "tpl2= [23550, 23550, 23550, 23550, 23550, 23550, 23550, 23550, 23550, 23550, 23550, 23550, 23550, 23550, 23550, 23550, 23550, 23550, 23550, 23550, 23550, 23550, 23550, 23550, 23550, 23550, 23550, 23550, 23550, 23550, 23550, 23550, 23550, 23550, 23550, 23550, 23550, 23550, 23550, 23550, 23550, 23550, 23550, 23550, 23550, 23550, 23550, 23550, 23550, 23550, 23550, 23550, 23550, 23550, 23550, 23550, 23550, 23550, 23550, 23550, 23550, 23550, 23550, 23550, 23550, 23550, 23550, 23550, 23550, 23550, 23550, 23550, 23550, 23550, 23550, 23550, 23550, 23550, 23550, 23550, 23550, 23550, 23550, 23550, 23550, 23550, 23550, 23550, 23550, 23550, 23550, 23550, 23550, 23550, 23550, 23550, 23550, 23550, 23550, 23550]\n"
     ]
    }
   ],
   "source": [
    "#we have to understand this loop\n",
    "\n",
    "# print(len(Jo))\n",
    "\n",
    "for n in range(0,s):\n",
    "    #{n-transit's number}\n",
    "    for i in range(m):\n",
    "        φ[i]=2*np.pi*(n*dφs[i]-int(n*dφs[i]))# current phase of each satellite?\n",
    "#         print(φ[i])\n",
    "    \n",
    "    t=-T#  \n",
    "    while t<T: #by 10 second iteration\n",
    "\n",
    "        t=t+10#\n",
    "        Jo[n][int(t/10)]=1\n",
    "#         dt=dt+5\n",
    "        Xplo=0#\n",
    "        for i in range(m):#Contribution of every satellite to planet's position\n",
    "            Xplo=Xplo-(a[i]/(μ[i]+1)*np.sin(Ω[i]*t+φ[i]))\n",
    "        Xp=0#\n",
    "        Xp=Xplo+Ap*np.sin(Ωp*t+φp)#{координата центра планеты в момент t}\n",
    "#         Xp1=0#\n",
    "#         Xp1=Xplo+Ap*np.sin(Ωp*(t+5)+φp)#{координата центра планеты в момент t+1}\n",
    "#         print('Xp=',Xp)\n",
    "#         print('Xp=',Xp)\n",
    "        \n",
    "        \n",
    "        #every time check the condition:\n",
    "        \n",
    "        if (-Xpprev>Rs+Rp) and (-Xp<Rs+Rp):\n",
    "            t1[n]=t# {Условие вступления центра планеты на диск звезды, t1[n]-время начала n-го транзита в сек}\n",
    "        if (Xpprev<Rs+Rp) and (Xp>Rs+Rp):\n",
    "            t2[n]=t# {Условие схода центра планеты с диска звезды, t2[n]-время окончания n-го транзита в сек}\n",
    "        Xpprev=Xp\n",
    "        \n",
    "#{Транзиты планеты без участия спутников}\n",
    "        Xpln=Ap*np.sin(Ωp*t+φp)\n",
    "        Xpln1=Ap*np.sin(Ωp*(t+1)+φp)#\n",
    "        \n",
    "        if (-Xplnprev>Rs+Rp) and (-Xpln<Rs+Rp):\n",
    "            tpl1[n]=t# {Условие вступления центра планеты на диск звезды, tpl1[n]-время начала n-го транзита в сек}\n",
    "        if (Xplnprev<Rs+Rp) and (Xpln>Rs+Rp):\n",
    "            tpl2[n]=t# {Условие схода центра планеты с диска звезды, tpl2[n]-время окончания n-го транзита в сек} \n",
    "        Xplnprev=Xpln  \n",
    "#         print('Xpl',Xp, 't=',t)\n",
    "\n",
    "        \n",
    "        for i in range(m):\n",
    "            Xspprev[i]=Xsp[i]\n",
    "            Xsp[i]=Xp+a[i]*(μ[i]/(μ[i]+1))*np.sin(Ω[i]*t+φ[i])# {координата центра спутника в момент t}\n",
    "#             print('Xspprev=',Xspprev[i],'t=',t)\n",
    "#             Xsp1[i]=Xp1+a[i]*(μ[i]/(μ[i]+1))*np.sin(Ω[i]*(t+1)+φ[i])# {координата центра спутника в момент t+1}\n",
    "            if (-Xspprev[i]>Rs) and (-Xsp[i]<Rs):\n",
    "                t1s[n][i]=t # {Условие вступления центра спутника на диск звезды, t1s[n]-время начала n-го транзита в сек} \n",
    "#                 print('t=',t)\n",
    "            if (Xspprev[i]<Rs) and (Xsp[i]>Rs):\n",
    "                t2s[n][i]=t# {Условие схода центра спутника с диска звезды, t2[n]-время окончания n-го транзита в сек}\n",
    "#                 print('t=',t)\n",
    "#             print('Xsp=',Xsp)\n",
    "            \n",
    "        for i in range(m):\n",
    "            l=0\n",
    "            S3=0\n",
    "            v3=0 # what is it?\n",
    "            v1=0\n",
    "            v2=0\n",
    "            if (abs(Xsp[i])<(Rs+Rsat[i])) and (abs(Xsp[i])>Rs):\n",
    "                v1=1\n",
    "            else:\n",
    "                v1=0\n",
    "                \n",
    "            if  (abs(Xsp[i])>(Rs-Rsat[i])) and (abs(Xsp[i])<Rs):\n",
    "                v2=1 \n",
    "            else:\n",
    "                v2=0\n",
    "            if abs(Xsp[i])<(Rs-Rsat[i]):\n",
    "                v3=1\n",
    "            else:\n",
    "                v3=0\n",
    "            djs1[0]=0    \n",
    "            if v1>0 or v2>0:\n",
    "#                 Jo[n][int(t/10)]=Jo[n][int(t/10)]-djs[i]*0.5\n",
    "#             if v3>0:\n",
    "#                 Jo[n][int(t/10)]=Jo[n][int(t/10)]-djs[i]\n",
    "# #                 print('Xsp[i]=', Xsp[i])\n",
    "                l=np.sqrt(Rsat[i]**2-(abs(Xsp[i])-Rs)**2)\n",
    "                S3=np.arccos(abs(-Rs+abs(Xsp[i]))/Rsat[i])*Rsat[i]**2-l*abs(-Rs+abs(Xsp[i]))\n",
    "                djs1[i]=S3/(np.pi*Rs*Rs)\n",
    "#             Jo[n][int(t/10)]=Jo[n][int(t/10)]-djs1[i]*v1-(djs[i]-djs1[i])*v2-djs[i]*v3#\n",
    "            Jo[n][int(t/10)]=Jo[n][int(t/10)]-(1-0.65+0.65*np.sqrt(abs(1-(abs(Xsp[i]))*(abs(Xsp[i]))/Rs/Rs)))*(djs1[i]*v1+(djs[i]-djs1[i])*v2+djs[i]*v3)   \n",
    "#             print(Jo[n][int(t/10)])\n",
    "#             print('v3=',v3)\n",
    "            \n",
    "        v3=0 # what is it?\n",
    "        v1=0\n",
    "        v2=0\n",
    "        if (abs(Xp)<(Rs+Rp)) and (abs(Xp)>Rs):\n",
    "            v1=1\n",
    "        else:\n",
    "            v1=0 \n",
    "        if  (abs(Xp)>(Rs-Rp)) and (abs(Xp)<Rs):\n",
    "            v2=1 \n",
    "        else:\n",
    "            v2=0\n",
    "        if abs(Xp)<(Rs-Rp):\n",
    "            v3=1\n",
    "        else:\n",
    "            v3=0\n",
    "        l=0\n",
    "        S3=0\n",
    "        djp1=0\n",
    "        if v1>0 or v2>0:\n",
    "#             print('t=',t)\n",
    "#             print('Xp=', Xp)\n",
    "#             l=abs(abs(Xp)-Rs)\n",
    "#             print('l=',l)\n",
    "#             S3=1/2*(Rp**2)*np.arcsin(2*l*np.sqrt(Rp**2-l**2)/Rp**2)-l*np.sqrt(Rp**2-l**2)\n",
    "            l=np.sqrt(Rp**2-(abs(Xp)-Rs)**2)\n",
    "            S3=np.arccos(abs(-Rs+abs(Xp))/Rp)*Rp*Rp-l*abs(-Rs+abs(Xp))#\n",
    "            djp1=S3/(np.pi*Rs*Rs)\n",
    "#             Jo[n][int(t/10)]=1-djp1*v1-(djp-djp1)*v2#\n",
    "#         if v3>0:\n",
    "#             Jo[n][int(t/10)]=1-djp*v3\n",
    "            \n",
    "#         v3=1\n",
    "        Jo[n][int(t/10)]=Jo[n][int(t/10)]-(1-0.65+0.65*np.sqrt(abs(1-(abs(Xp))*(abs(Xp))/Rs/Rs)))*(djp1*v1+(djp-djp1)*v2+djp*v3)\n",
    "#         print('J=',Jo[n][int(t/10)])\n",
    "\n",
    "#             djp1=(S3/(np.pi*Rs*Rs))#\n",
    "            \n",
    "#         Jo[n][t]=Jo[n][t]-(djp1*(V1+V5)+(djp-djp1)*(V2+V4)+djp*V3)#\n",
    "#          {Jo[n,t]=Jo[n,t]-(1-0.65+0.65*np.sqrt(abs(1-(abs(Xp))*(abs(Xp))/Rs/Rs)))*(djp1*(V1)+(djp-djp1)*(V2)+djp*V3)#}\n",
    "\n",
    "#     print(t1[n])\n",
    "#     print(t2[n])\n",
    "# print(t1s)\n",
    "# print(t2s)\n",
    "print('tpl1=',tpl1)\n",
    "print('tpl2=',tpl2)\n",
    "#     for i in range(m):\n",
    "#         te1s[n][i]=t1[n]-t1s[n][i]#{Продолж. нахождения спутников на диске звезды до и после транзита планеты}\n",
    "#         te2s[n][i]=t2s[n][i]-t2[n]#"
   ]
  },
  {
   "cell_type": "markdown",
   "metadata": {},
   "source": [
    "### Plot star flux for one transit"
   ]
  },
  {
   "cell_type": "code",
   "execution_count": 143,
   "metadata": {},
   "outputs": [],
   "source": [
    "curve=[]\n",
    "index=[]\n",
    "k=0\n",
    "for i in range(-4000,4040):\n",
    "    if Jo[2][i]!=1:\n",
    "        curve.append(Jo[2][i])\n",
    "        index.append(k)\n",
    "        k=k+1\n",
    "#         print('i=',i*10,Jo[2][i])"
   ]
  },
  {
   "cell_type": "code",
   "execution_count": 144,
   "metadata": {},
   "outputs": [
    {
     "data": {
      "image/png": "[encoded data removed]",
      "text/plain": [
       "<Figure size 1080x1440 with 1 Axes>"
      ]
     },
     "metadata": {
      "needs_background": "light"
     },
     "output_type": "display_data"
    }
   ],
   "source": [
    "import matplotlib.pyplot as plt \n",
    "\n",
    "from os import path\n",
    "import matplotlib.backends.backend_pdf\n",
    "import matplotlib.dates as mdates\n",
    "\n",
    "  \n",
    "f=plt.figure(figsize=[15,20])\n",
    "plt.gca().set_xlim([-600,6500])\n",
    "plt.gca().set_ylim([0.9998,1.00001])\n",
    "# plt.gca().xaxis.set_major_locator(mdates.DayLocator(interval=10000))\n",
    "\n",
    "ax = plt.gca()\n",
    "ax.set_facecolor((1.0, 0.94, 1))\n",
    "plt.plot(index,curve,'ro')\n",
    "\n",
    "plt.grid(True,color='blue',linestyle=\"--\")\n",
    "plt.show()"
   ]
  },
  {
   "cell_type": "code",
   "execution_count": 145,
   "metadata": {},
   "outputs": [
    {
     "name": "stdout",
     "output_type": "stream",
     "text": [
      "Pp= -0.053053106796677  t0= 6.956563154886645\n",
      "dtt[n]=    5.0\n",
      "TDV[ 0 ]= 47110.00007845516 #\n",
      "[ 5.000000000000861 , 0.00018307710902831786 ] ,\n",
      "[ 5.000000000000861 , 47110.00007845516 ] ,\n",
      "TTV[ 0 ]= 5.000000000000861 #\n",
      "dtt[n]=    135.0\n",
      "TDV[ 1 ]= 47090.00007845516 #\n",
      "[ 135.05305310679728 , 12.85003592566003 ] ,\n",
      "[ 135.05305310679728 , 47090.00007845516 ] ,\n",
      "TTV[ 1 ]= 135.05305310679728 #\n",
      "dtt[n]=    -135.0\n",
      "TDV[ 2 ]= 47090.00007845516 #\n",
      "[ -134.89389378640632 , -13.129804132150369 ] ,\n",
      "[ -134.89389378640632 , 47090.00007845516 ] ,\n",
      "TTV[ 2 ]= -134.89389378640632 #\n",
      "dtt[n]=    25.0\n",
      "TDV[ 3 ]= 47110.00007845516 #\n",
      "[ 25.15915932039009 , 0.8161294154929166 ] ,\n",
      "[ 25.15915932039009 , 47110.00007845516 ] ,\n",
      "TTV[ 3 ]= 25.15915932039009 #\n",
      "dtt[n]=    120.0\n",
      "TDV[ 4 ]= 47080.00007845516 #\n",
      "[ 120.2122124271865 , 12.44491608787257 ] ,\n",
      "[ 120.2122124271865 , 47080.00007845516 ] ,\n",
      "TTV[ 4 ]= 120.2122124271865 #\n",
      "dtt[n]=    -145.0\n",
      "TDV[ 5 ]= 47090.00007845516 #\n",
      "[ -144.7347344660171 , -13.311723462861025 ] ,\n",
      "[ -144.7347344660171 , 47090.00007845516 ] ,\n",
      "TTV[ 5 ]= -144.7347344660171 #\n",
      "dtt[n]=    45.0\n",
      "TDV[ 6 ]= 47110.00007845516 #\n",
      "[ 45.31831864077932 , 3.185993598942005 ] ,\n",
      "[ 45.31831864077932 , 47110.00007845516 ] ,\n",
      "TTV[ 6 ]= 45.31831864077932 #\n",
      "dtt[n]=    110.0\n",
      "TDV[ 7 ]= 47080.00007845516 #\n",
      "[ 110.37137174757754 , 11.882788786277132 ] ,\n",
      "[ 110.37137174757754 , 47080.00007845516 ] ,\n",
      "TTV[ 7 ]= 110.37137174757754 #\n",
      "dtt[n]=    -150.0\n",
      "TDV[ 8 ]= 47100.00007845516 #\n",
      "[ -149.57557514562603 , -13.401442715554879 ] ,\n",
      "[ -149.57557514562603 , 47100.00007845516 ] ,\n",
      "TTV[ 8 ]= -149.57557514562603 #\n",
      "dtt[n]=    65.0\n",
      "TDV[ 9 ]= 47110.00007845516 #\n",
      "[ 65.47747796117037 , 5.880271113034574 ] ,\n",
      "[ 65.47747796117037 , 47110.00007845516 ] ,\n",
      "TTV[ 9 ]= 65.47747796117037 #\n",
      "dtt[n]=    91.0\n",
      "TDV[ 10 ]= 47080.00007845516 #\n",
      "[ 90.53053106796678 , 11.0889862563468 ] ,\n",
      "[ 90.53053106796678 , 47080.00007845516 ] ,\n",
      "TTV[ 10 ]= 90.53053106796678 #\n",
      "dtt[n]=    -149.0\n",
      "TDV[ 11 ]= 47100.00007845516 #\n",
      "[ -149.4164158252368 , -13.408344961884922 ] ,\n",
      "[ -149.4164158252368 , 47100.00007845516 ] ,\n",
      "TTV[ 11 ]= -149.4164158252368 #\n",
      "dtt[n]=    86.0\n",
      "TDV[ 12 ]= 47110.00007845516 #\n",
      "[ 85.63663728155959 , 8.702945134886342 ] ,\n",
      "[ 85.63663728155959 , 47110.00007845516 ] ,\n",
      "TTV[ 12 ]= 85.63663728155959 #\n",
      "dtt[n]=    71.0\n",
      "TDV[ 13 ]= 47080.00007845516 #\n",
      "[ 70.689690388356 , 9.530371018917627 ] ,\n",
      "[ 70.689690388356 , 47080.00007845516 ] ,\n",
      "TTV[ 13 ]= 70.689690388356 #\n",
      "dtt[n]=    -149.0\n",
      "TDV[ 14 ]= 47100.00007845516 #\n",
      "[ -149.25725650484577 , -13.333079472710452 ] ,\n",
      "[ -149.25725650484577 , 47100.00007845516 ] ,\n",
      "TTV[ 14 ]= -149.25725650484577 #\n",
      "dtt[n]=    106.0\n",
      "TDV[ 15 ]= 47110.00007845516 #\n",
      "[ 105.79579660195064 , 10.83870220064398 ] ,\n",
      "[ 105.79579660195064 , 47110.00007845516 ] ,\n",
      "TTV[ 15 ]= 105.79579660195064 #\n",
      "dtt[n]=    51.0\n",
      "TDV[ 16 ]= 47080.00007845516 #\n",
      "[ 50.84884970874705 , 6.561222276713075 ] ,\n",
      "[ 50.84884970874705 , 47080.00007845516 ] ,\n",
      "TTV[ 16 ]= 50.84884970874705 #\n",
      "dtt[n]=    -149.0\n",
      "TDV[ 17 ]= 47100.00007845516 #\n",
      "[ -149.09809718445655 , -13.170657389371954 ] ,\n",
      "[ -149.09809718445655 , 47100.00007845516 ] ,\n",
      "TTV[ 17 ]= -149.09809718445655 #\n",
      "dtt[n]=    121.0\n",
      "TDV[ 18 ]= 47100.00007845516 #\n",
      "[ 120.95495592233986 , 11.716004051476325 ] ,\n",
      "[ 120.95495592233986 , 47100.00007845516 ] ,\n",
      "TTV[ 18 ]= 120.95495592233986 #\n",
      "dtt[n]=    31.0\n",
      "TDV[ 19 ]= 47080.00007845516 #\n",
      "[ 31.00800902913628 , 3.6840665270654327 ] ,\n",
      "[ 31.00800902913628 , 47080.00007845516 ] ,\n",
      "TTV[ 19 ]= 31.00800902913628 #\n",
      "dtt[n]=    -139.0\n",
      "TDV[ 20 ]= 47100.00007845516 #\n",
      "[ -138.9389378640673 , -12.905764985360335 ] ,\n",
      "[ -138.9389378640673 , 47100.00007845516 ] ,\n",
      "TTV[ 20 ]= -138.9389378640673 #\n",
      "dtt[n]=    136.0\n",
      "TDV[ 21 ]= 47110.00007845516 #\n",
      "[ 136.11411524273092 , 12.326105699789203 ] ,\n",
      "[ 136.11411524273092 , 47110.00007845516 ] ,\n",
      "TTV[ 21 ]= 136.11411524273092 #\n",
      "dtt[n]=    11.0\n",
      "TDV[ 22 ]= 47080.00007845516 #\n",
      "[ 11.167168349527326 , 0.8905875517051243 ] ,\n",
      "[ 11.167168349527326 , 47080.00007845516 ] ,\n",
      "TTV[ 22 ]= 11.167168349527326 #\n",
      "dtt[n]=    -129.0\n",
      "TDV[ 23 ]= 47100.00007845516 #\n",
      "[ -128.77977854367626 , -12.522661032354776 ] ,\n",
      "[ -128.77977854367626 , 47100.00007845516 ] ,\n",
      "TTV[ 23 ]= -128.77977854367626 #\n",
      "dtt[n]=    146.0\n",
      "TDV[ 24 ]= 47110.00007845516 #\n",
      "[ 146.27327456312014 , 12.76573052744201 ] ,\n",
      "[ 146.27327456312014 , 47110.00007845516 ] ,\n",
      "TTV[ 24 ]= 146.27327456312014 #\n",
      "dtt[n]=    -9.0\n",
      "TDV[ 25 ]= 47080.00007845516 #\n",
      "[ -8.673672330083445 , -2.559924866751828 ] ,\n",
      "[ -8.673672330083445 , 47080.00007845516 ] ,\n",
      "TTV[ 25 ]= -8.673672330083445 #\n",
      "dtt[n]=    -114.0\n",
      "TDV[ 26 ]= 47110.00007845516 #\n",
      "[ -113.62061922328704 , -11.983586542863023 ] ,\n",
      "[ -113.62061922328704 , 47110.00007845516 ] ,\n",
      "TTV[ 26 ]= -113.62061922328704 #\n",
      "dtt[n]=    151.0\n",
      "TDV[ 27 ]= 47100.00007845516 #\n",
      "[ 151.43243388350936 , 13.075970425768801 ] ,\n",
      "[ 151.43243388350936 , 47100.00007845516 ] ,\n",
      "TTV[ 27 ]= 151.43243388350936 #\n",
      "dtt[n]=    -34.0\n",
      "TDV[ 28 ]= 47070.00007845516 #\n",
      "[ -33.5145130096924 , -5.35883489871658 ] ,\n",
      "[ -33.5145130096924 , 47070.00007845516 ] ,\n",
      "TTV[ 28 ]= -33.5145130096924 #\n",
      "dtt[n]=    -103.0\n",
      "TDV[ 29 ]= 47110.00007845516 #\n",
      "[ -103.461459902896 , -11.235971963285962 ] ,\n",
      "[ -103.461459902896 , 47110.00007845516 ] ,\n",
      "TTV[ 29 ]= -103.461459902896 #\n",
      "dtt[n]=    162.0\n",
      "TDV[ 30 ]= 47100.00007845516 #\n",
      "[ 161.59159320390043 , 13.280679512006621 ] ,\n",
      "[ 161.59159320390043 , 47100.00007845516 ] ,\n",
      "TTV[ 30 ]= 161.59159320390043 #\n",
      "dtt[n]=    -53.0\n",
      "TDV[ 31 ]= 47070.00007845516 #\n",
      "[ -53.35535368930317 , -8.310846351777812 ] ,\n",
      "[ -53.35535368930317 , 47070.00007845516 ] ,\n",
      "TTV[ 31 ]= -53.35535368930317 #\n",
      "dtt[n]=    -83.0\n",
      "TDV[ 32 ]= 47110.00007845516 #\n",
      "[ -83.30230058250676 , -9.85027299238439 ] ,\n",
      "[ -83.30230058250676 , 47110.00007845516 ] ,\n",
      "TTV[ 32 ]= -83.30230058250676 #\n",
      "dtt[n]=    162.0\n",
      "TDV[ 33 ]= 47100.00007845516 #\n",
      "[ 161.75075252428965 , 13.390544020164263 ] ,\n",
      "[ 161.75075252428965 , 47100.00007845516 ] ,\n",
      "TTV[ 33 ]= 161.75075252428965 #\n",
      "dtt[n]=    -68.0\n",
      "TDV[ 34 ]= 47080.00007845516 #\n",
      "[ -68.19619436891212 , -10.653141467864558 ] ,\n",
      "[ -68.19619436891212 , 47080.00007845516 ] ,\n",
      "TTV[ 34 ]= -68.19619436891212 #\n",
      "dtt[n]=    -63.0\n",
      "TDV[ 35 ]= 47110.00007845516 #\n",
      "[ -63.14314126211571 , -7.01773802980199 ] ,\n",
      "[ -63.14314126211571 , 47110.00007845516 ] ,\n",
      "TTV[ 35 ]= -63.14314126211571 #\n",
      "dtt[n]=    162.0\n",
      "TDV[ 36 ]= 47100.00007845516 #\n",
      "[ 161.9099118446807 , 13.416991017645152 ] ,\n",
      "[ 161.9099118446807 , 47100.00007845516 ] ,\n",
      "TTV[ 36 ]= 161.9099118446807 #\n",
      "dtt[n]=    -88.0\n",
      "TDV[ 37 ]= 47080.00007845516 #\n",
      "[ -88.0370350485229 , -11.584673139886092 ] ,\n",
      "[ -88.0370350485229 , 47080.00007845516 ] ,\n",
      "TTV[ 37 ]= -88.0370350485229 #\n",
      "dtt[n]=    -43.0\n",
      "TDV[ 38 ]= 47110.00007845516 #\n",
      "[ -42.98398194172648 , -4.252879709287782 ] ,\n",
      "[ -42.98398194172648 , 47110.00007845516 ] ,\n",
      "TTV[ 38 ]= -42.98398194172648 #\n",
      "dtt[n]=    157.0\n",
      "TDV[ 39 ]= 47090.00007845516 #\n",
      "[ 157.06907116506991 , 13.361739705786135 ] ,\n",
      "[ 157.06907116506991 , 47090.00007845516 ] ,\n",
      "TTV[ 39 ]= 157.06907116506991 #\n",
      "dtt[n]=    -108.0\n",
      "TDV[ 40 ]= 47080.00007845516 #\n",
      "[ -107.87787572813366 , -12.233858282417742 ] ,\n",
      "[ -107.87787572813366 , 47080.00007845516 ] ,\n",
      "TTV[ 40 ]= -107.87787572813366 #\n",
      "dtt[n]=    -23.0\n",
      "TDV[ 41 ]= 47110.00007845516 #\n",
      "[ -22.824822621335436 , -1.7202148943074036 ] ,\n",
      "[ -22.824822621335436 , 47110.00007845516 ] ,\n",
      "TTV[ 41 ]= -22.824822621335436 #\n",
      "dtt[n]=    152.0\n",
      "TDV[ 42 ]= 47080.00007845516 #\n",
      "[ 152.22823048546098 , 13.22122898506084 ] ,\n",
      "[ 152.22823048546098 , 47080.00007845516 ] ,\n",
      "TTV[ 42 ]= 152.22823048546098 #\n",
      "dtt[n]=    -118.0\n",
      "TDV[ 43 ]= 47080.00007845516 #\n",
      "[ -117.71871640774262 , -12.69816109794597 ] ,\n",
      "[ -117.71871640774262 , 47080.00007845516 ] ,\n",
      "TTV[ 43 ]= -117.71871640774262 #\n",
      "dtt[n]=    -3.0\n",
      "TDV[ 44 ]= 47110.00007845516 #\n",
      "[ -2.6656633009462087 , 0.00014185763674845475 ] ,\n",
      "[ -2.6656633009462087 , 47110.00007845516 ] ,\n",
      "TTV[ 44 ]= -2.6656633009462087 #\n",
      "dtt[n]=    142.0\n",
      "TDV[ 45 ]= 47080.00007845516 #\n",
      "[ 142.3873898058502 , 12.981827639757526 ] ,\n",
      "[ 142.3873898058502 , 47080.00007845516 ] ,\n",
      "TTV[ 45 ]= 142.3873898058502 #\n",
      "dtt[n]=    -133.0\n",
      "TDV[ 46 ]= 47090.00007845516 #\n",
      "[ -132.5595570873534 , -13.028523552449656 ] ,\n",
      "[ -132.5595570873534 , 47090.00007845516 ] ,\n",
      "TTV[ 46 ]= -132.5595570873534 #\n",
      "dtt[n]=    17.0\n",
      "TDV[ 47 ]= 47110.00007845516 #\n",
      "[ 17.49349601944302 , 0.03994351516212191 ] ,\n",
      "[ 17.49349601944302 , 47110.00007845516 ] ,\n",
      "TTV[ 47 ]= 17.49349601944302 #\n",
      "dtt[n]=    133.0\n",
      "TDV[ 48 ]= 47080.00007845516 #\n",
      "[ 132.54654912624125 , 12.630267909985449 ] ,\n",
      "[ 132.54654912624125 , 47080.00007845516 ] ,\n",
      "TTV[ 48 ]= 132.54654912624125 #\n",
      "dtt[n]=    -142.0\n",
      "TDV[ 49 ]= 47090.00007845516 #\n",
      "[ -142.40039776696233 , -13.249965897799143 ] ,\n",
      "[ -142.40039776696233 , 47090.00007845516 ] ,\n",
      "TTV[ 49 ]= -142.40039776696233 #\n",
      "dtt[n]=    43.0\n",
      "TDV[ 50 ]= 47120.00007845516 #\n",
      "[ 42.65265533983407 , 2.156979773126899 ] ,\n",
      "[ 42.65265533983407 , 47120.00007845516 ] ,\n",
      "TTV[ 50 ]= 42.65265533983407 #\n",
      "dtt[n]=    118.0\n",
      "TDV[ 51 ]= 47090.00007845516 #\n",
      "[ 117.70570844663048 , 12.133363364141836 ] ,\n",
      "[ 117.70570844663048 , 47090.00007845516 ] ,\n",
      "TTV[ 51 ]= 117.70570844663048 #\n",
      "dtt[n]=    -142.0\n",
      "TDV[ 52 ]= 47090.00007845516 #\n",
      "[ -142.2412384465731 , -13.374673784705138 ] ,\n",
      "[ -142.2412384465731 , 47090.00007845516 ] ,\n",
      "TTV[ 52 ]= -142.2412384465731 #\n",
      "dtt[n]=    63.0\n",
      "TDV[ 53 ]= 47120.00007845516 #\n",
      "[ 62.8118146602233 , 4.747861104603679 ] ,\n",
      "[ 62.8118146602233 , 47120.00007845516 ] ,\n",
      "TTV[ 53 ]= 62.8118146602233 #\n",
      "dtt[n]=    103.0\n",
      "TDV[ 54 ]= 47080.00007845516 #\n",
      "[ 102.8648677670197 , 11.450360245079949 ] ,\n",
      "[ 102.8648677670197 , 47080.00007845516 ] ,\n",
      "TTV[ 54 ]= 102.8648677670197 #\n",
      "dtt[n]=    -147.0\n",
      "TDV[ 55 ]= 47100.00007845516 #\n",
      "[ -147.08207912618207 , -13.415363510738132 ] ,\n",
      "[ -147.08207912618207 , 47100.00007845516 ] ,\n",
      "TTV[ 55 ]= -147.08207912618207 #\n",
      "dtt[n]=    83.0\n",
      "TDV[ 56 ]= 47120.00007845516 #\n",
      "[ 82.97097398061435 , 7.536382012229836 ] ,\n",
      "[ 82.97097398061435 , 47120.00007845516 ] ,\n",
      "TTV[ 56 ]= 82.97097398061435 #\n",
      "dtt[n]=    83.0\n",
      "TDV[ 57 ]= 47080.00007845516 #\n",
      "[ 83.02402708741076 , 10.44500054914188 ] ,\n",
      "[ 83.02402708741076 , 47080.00007845516 ] ,\n",
      "TTV[ 57 ]= 83.02402708741076 #\n",
      "dtt[n]=    -147.0\n",
      "TDV[ 58 ]= 47100.00007845516 #\n",
      "[ -146.92291980579284 , -13.374069423921497 ] ,\n",
      "[ -146.92291980579284 , 47100.00007845516 ] ,\n",
      "TTV[ 58 ]= -146.92291980579284 #\n",
      "dtt[n]=    98.0\n",
      "TDV[ 59 ]= 47110.00007845516 #\n",
      "[ 98.13013330100357 , 10.329903625594383 ] ,\n",
      "[ 98.13013330100357 , 47110.00007845516 ] ,\n",
      "TTV[ 59 ]= 98.13013330100357 #\n",
      "dtt[n]=    63.0\n",
      "TDV[ 60 ]= 47080.00007845516 #\n",
      "[ 63.18318640779998 , 7.780366097720481 ] ,\n",
      "[ 63.18318640779998 , 47080.00007845516 ] ,\n",
      "TTV[ 60 ]= 63.18318640779998 #\n",
      "dtt[n]=    -147.0\n",
      "TDV[ 61 ]= 47100.00007845516 #\n",
      "[ -146.76376048540362 , -13.24836206673119 ] ,\n",
      "[ -146.76376048540362 , 47100.00007845516 ] ,\n",
      "TTV[ 61 ]= -146.76376048540362 #\n",
      "dtt[n]=    118.0\n",
      "TDV[ 62 ]= 47110.00007845516 #\n",
      "[ 118.28929262139462 , 11.395631025701292 ] ,\n",
      "[ 118.28929262139462 , 47110.00007845516 ] ,\n",
      "TTV[ 62 ]= 118.28929262139462 #\n",
      "dtt[n]=    43.0\n",
      "TDV[ 63 ]= 47080.00007845516 #\n",
      "[ 43.34234572819103 , 4.8441917694930225 ] ,\n",
      "[ 43.34234572819103 , 47080.00007845516 ] ,\n",
      "TTV[ 63 ]= 43.34234572819103 #\n",
      "dtt[n]=    -137.0\n",
      "TDV[ 64 ]= 47100.00007845516 #\n",
      "[ -136.60460116501255 , -13.025638327945899 ] ,\n",
      "[ -136.60460116501255 , 47100.00007845516 ] ,\n",
      "TTV[ 64 ]= -136.60460116501255 #\n",
      "dtt[n]=    133.0\n"
     ]
    },
    {
     "name": "stdout",
     "output_type": "stream",
     "text": [
      "TDV[ 65 ]= 47100.00007845516 #\n",
      "[ 133.44845194178384 , 12.102145645398465 ] ,\n",
      "[ 133.44845194178384 , 47100.00007845516 ] ,\n",
      "TTV[ 65 ]= 133.44845194178384 #\n",
      "dtt[n]=    24.0\n",
      "TDV[ 66 ]= 47080.00007845516 #\n",
      "[ 23.501505048580256 , 2.1122997786449105 ] ,\n",
      "[ 23.501505048580256 , 47080.00007845516 ] ,\n",
      "TTV[ 66 ]= 23.501505048580256 #\n",
      "dtt[n]=    -131.0\n",
      "TDV[ 67 ]= 47110.00007845516 #\n",
      "[ -131.44544184462333 , -12.694112722089201 ] ,\n",
      "[ -131.44544184462333 , 47110.00007845516 ] ,\n",
      "TTV[ 67 ]= -131.44544184462333 #\n",
      "dtt[n]=    144.0\n",
      "TDV[ 68 ]= 47100.00007845516 #\n",
      "[ 143.60761126217488 , 12.604852026920632 ] ,\n",
      "[ 143.60761126217488 , 47100.00007845516 ] ,\n",
      "TTV[ 68 ]= 143.60761126217488 #\n",
      "dtt[n]=    -1.0\n",
      "TDV[ 69 ]= 47070.00007845516 #\n",
      "[ -1.339335631028696 , -1.5324122266680007 ] ,\n",
      "[ -1.339335631028696 , 47070.00007845516 ] ,\n",
      "TTV[ 69 ]= -1.339335631028696 #\n",
      "dtt[n]=    -116.0\n",
      "TDV[ 70 ]= 47100.00007845516 #\n",
      "[ -116.28628252423229 , -12.22672694600746 ] ,\n",
      "[ -116.28628252423229 , 47100.00007845516 ] ,\n",
      "TTV[ 70 ]= -116.28628252423229 #\n",
      "dtt[n]=    154.0\n",
      "TDV[ 71 ]= 47100.00007845516 #\n",
      "[ 153.76677058256413 , 12.964348236832457 ] ,\n",
      "[ 153.76677058256413 , 47100.00007845516 ] ,\n",
      "TTV[ 71 ]= 153.76677058256413 #\n",
      "dtt[n]=    -21.0\n",
      "TDV[ 72 ]= 47070.00007845516 #\n",
      "[ -21.180176310639467 , -4.182487323145523 ] ,\n",
      "[ -21.180176310639467 , 47070.00007845516 ] ,\n",
      "TTV[ 72 ]= -21.180176310639467 #\n",
      "dtt[n]=    -101.0\n",
      "TDV[ 73 ]= 47110.00007845516 #\n",
      "[ -101.12712320384306 , -11.572172330387431 ] ,\n",
      "[ -101.12712320384306 , 47110.00007845516 ] ,\n",
      "TTV[ 73 ]= -101.12712320384306 #\n",
      "dtt[n]=    164.0\n",
      "TDV[ 74 ]= 47100.00007845516 #\n",
      "[ 163.92592990295336 , 13.210039864541834 ] ,\n",
      "[ 163.92592990295336 , 47100.00007845516 ] ,\n",
      "TTV[ 74 ]= 163.92592990295336 #\n",
      "dtt[n]=    -41.0\n",
      "TDV[ 75 ]= 47070.00007845516 #\n",
      "[ -41.02101699024842 , -7.088811501354542 ] ,\n",
      "[ -41.02101699024842 , 47070.00007845516 ] ,\n",
      "TTV[ 75 ]= -41.02101699024842 #\n",
      "dtt[n]=    -91.0\n",
      "TDV[ 76 ]= 47110.00007845516 #\n",
      "[ -90.96796388345201 , -10.631036127861648 ] ,\n",
      "[ -90.96796388345201 , 47110.00007845516 ] ,\n",
      "TTV[ 76 ]= -90.96796388345201 #\n",
      "dtt[n]=    164.0\n",
      "TDV[ 77 ]= 47100.00007845516 #\n",
      "[ 164.0850892233444 , 13.355865438269277 ] ,\n",
      "[ 164.0850892233444 , 47100.00007845516 ] ,\n",
      "TTV[ 77 ]= 164.0850892233444 #\n",
      "dtt[n]=    -61.0\n",
      "TDV[ 78 ]= 47070.00007845516 #\n",
      "[ -60.86185766985919 , -10.05537818277169 ] ,\n",
      "[ -60.86185766985919 , 47070.00007845516 ] ,\n",
      "TTV[ 78 ]= -60.86185766985919 #\n",
      "dtt[n]=    -71.0\n",
      "TDV[ 79 ]= 47110.00007845516 #\n",
      "[ -70.80880456306278 , -8.182164712655648 ] ,\n",
      "[ -70.80880456306278 , 47110.00007845516 ] ,\n",
      "TTV[ 79 ]= -70.80880456306278 #\n",
      "dtt[n]=    164.0\n",
      "TDV[ 80 ]= 47100.00007845516 #\n",
      "[ 164.24424854373362 , 13.416008096567289 ] ,\n",
      "[ 164.24424854373362 , 47100.00007845516 ] ,\n",
      "TTV[ 80 ]= 164.24424854373362 #\n",
      "dtt[n]=    -81.0\n",
      "TDV[ 81 ]= 47070.00007845516 #\n",
      "[ -80.70269834946997 , -11.252239556780452 ] ,\n",
      "[ -80.70269834946997 , 47070.00007845516 ] ,\n",
      "TTV[ 81 ]= -80.70269834946997 #\n",
      "dtt[n]=    -51.0\n",
      "TDV[ 82 ]= 47110.00007845516 #\n",
      "[ -50.64964524267174 , -5.372072919618276 ] ,\n",
      "[ -50.64964524267174 , 47110.00007845516 ] ,\n",
      "TTV[ 82 ]= -50.64964524267174 #\n",
      "dtt[n]=    159.0\n",
      "TDV[ 83 ]= 47090.00007845516 #\n",
      "[ 159.4034078641247 , 13.394382247899905 ] ,\n",
      "[ 159.4034078641247 , 47090.00007845516 ] ,\n",
      "TTV[ 83 ]= 159.4034078641247 #\n",
      "dtt[n]=    -96.0\n",
      "TDV[ 84 ]= 47080.00007845516 #\n",
      "[ -95.54353902907891 , -11.992228031942886 ] ,\n",
      "[ -95.54353902907891 , 47080.00007845516 ] ,\n",
      "TTV[ 84 ]= -95.54353902907891 #\n",
      "dtt[n]=    -30.0\n",
      "TDV[ 85 ]= 47110.00007845516 #\n",
      "[ -30.490485922282506 , -2.7199010859124684 ] ,\n",
      "[ -30.490485922282506 , 47110.00007845516 ] ,\n",
      "TTV[ 85 ]= -30.490485922282506 #\n",
      "dtt[n]=    160.0\n",
      "TDV[ 86 ]= 47090.00007845516 #\n",
      "[ 159.5625671845139 , 13.289613413181023 ] ,\n",
      "[ 159.5625671845139 , 47090.00007845516 ] ,\n",
      "TTV[ 86 ]= 159.5625671845139 #\n",
      "dtt[n]=    -115.0\n",
      "TDV[ 87 ]= 47080.00007845516 #\n",
      "[ -115.38437970868969 , -12.527875822065937 ] ,\n",
      "[ -115.38437970868969 , 47080.00007845516 ] ,\n",
      "TTV[ 87 ]= -115.38437970868969 #\n",
      "dtt[n]=    -10.0\n",
      "TDV[ 88 ]= 47110.00007845516 #\n",
      "[ -10.331326601893277 , -0.44515988850690746 ] ,\n",
      "[ -10.331326601893277 , 47110.00007845516 ] ,\n",
      "TTV[ 88 ]= -10.331326601893277 #\n",
      "dtt[n]=    150.0\n",
      "TDV[ 89 ]= 47090.00007845516 #\n",
      "[ 149.72172650490495 , 13.0907573095973 ] ,\n",
      "[ 149.72172650490495 , 47090.00007845516 ] ,\n",
      "TTV[ 89 ]= 149.72172650490495 #\n",
      "dtt[n]=    -125.0\n",
      "TDV[ 90 ]= 47080.00007845516 #\n",
      "[ -125.22522038829864 , -12.908939330813496 ] ,\n",
      "[ -125.22522038829864 , 47080.00007845516 ] ,\n",
      "TTV[ 90 ]= -125.22522038829864 #\n",
      "dtt[n]=    15.0\n",
      "TDV[ 91 ]= 47120.00007845516 #\n",
      "[ 14.827832718497769 , 5.502132083279321e-05 ] ,\n",
      "[ 14.827832718497769 , 47120.00007845516 ] ,\n",
      "TTV[ 91 ]= 14.827832718497769 #\n",
      "dtt[n]=    140.0\n",
      "TDV[ 92 ]= 47090.00007845516 #\n",
      "[ 139.88088582529417 , 12.78768397638963 ] ,\n",
      "[ 139.88088582529417 , 47090.00007845516 ] ,\n",
      "TTV[ 92 ]= 139.88088582529417 #\n",
      "dtt[n]=    -135.0\n",
      "TDV[ 93 ]= 47080.00007845516 #\n",
      "[ -135.0660610679094 , -13.172439990771778 ] ,\n",
      "[ -135.0660610679094 , 47080.00007845516 ] ,\n",
      "TTV[ 93 ]= -135.0660610679094 #\n",
      "dtt[n]=    35.0\n",
      "TDV[ 94 ]= 47120.00007845516 #\n",
      "[ 34.986992038886996 , 1.2001756481971881 ] ,\n",
      "[ 34.986992038886996 , 47120.00007845516 ] ,\n",
      "TTV[ 94 ]= 34.986992038886996 #\n",
      "dtt[n]=    125.0\n",
      "TDV[ 95 ]= 47080.00007845516 #\n",
      "[ 125.04004514568341 , 12.357570201793067 ] ,\n",
      "[ 125.04004514568341 , 47080.00007845516 ] ,\n",
      "TTV[ 95 ]= 125.04004514568341 #\n",
      "dtt[n]=    -140.0\n",
      "TDV[ 96 ]= 47090.00007845516 #\n",
      "[ -139.90690174751836 , -13.334099937978294 ] ,\n",
      "[ -139.90690174751836 , 47090.00007845516 ] ,\n",
      "TTV[ 96 ]= -139.90690174751836 #\n",
      "dtt[n]=    60.0\n",
      "TDV[ 97 ]= 47110.00007845516 #\n",
      "[ 60.14615135927804 , 3.6642282827958894 ] ,\n",
      "[ 60.14615135927804 , 47110.00007845516 ] ,\n",
      "TTV[ 97 ]= 60.14615135927804 #\n",
      "dtt[n]=    115.0\n",
      "TDV[ 98 ]= 47080.00007845516 #\n",
      "[ 115.19920446607445 , 11.76175260830803 ] ,\n",
      "[ 115.19920446607445 , 47080.00007845516 ] ,\n",
      "TTV[ 98 ]= 115.19920446607445 #\n",
      "dtt[n]=    -145.0\n",
      "TDV[ 99 ]= 47100.00007845516 #\n",
      "[ -144.74774242712914 , -13.408702181028076 ] ,\n",
      "[ -144.74774242712914 , 47100.00007845516 ] ,\n",
      "TTV[ 99 ]= -144.74774242712914 #\n"
     ]
    }
   ],
   "source": [
    "Jr1=[0]*s\n",
    "Jr2=[0]*s\n",
    "J12=[0]*s\n",
    "tav=[0]*s\n",
    "nn=0\n",
    "sumn=0\n",
    "ntav=0\n",
    "sumtav=0\n",
    "\n",
    "for n in range(s):\n",
    "    for t in range(np.round(t1[n]-tint),np.round(t1[n])):\n",
    "                   Jr1[n]=Jr1[n]+Jo[n][int(t/10)]\n",
    "              \n",
    "    for t in range(np.round(t2[n]),np.round(t2[n]+tint)):\n",
    "                   Jr2[n]=Jr2[n]+Jo[n][int(t/10)]#\n",
    "\n",
    "                   \n",
    "for n in range(s):\n",
    "#     print(n,'Jr1= ',Jr1[n])#\n",
    "#     print(n,'Jr2= ',Jr2[n])# \n",
    "    Jr1[n]=Jr1[n]/tint#\n",
    "    Jr2[n]=Jr2[n]/tint#\n",
    "    J12[n]=Jr2[n]/Jr1[n]# {отношение j2[n] и j1[n]}\n",
    "#     {j12[n]=j12[n]+2*delj*(np.random(delt+1)-(delt+1)/2)/(delt+1)#}\n",
    "#     print('J12[',n,']=',J12[n],'#')#\n",
    "\n",
    "\n",
    "# for n in range(s):\n",
    "#     t1[n]=t1[n]+2*Random(delt+1)-(delt+1)#{Эта строчка и две следующие - случайные погрешности\n",
    "#     t2[n]=t2[n]+2*Random(delt+1)-(delt+1)# }\n",
    "\n",
    "\n",
    "for n in range(s):\n",
    "    tav[n]=np.round((t1[n]+t2[n])/2)# {tav[n]-время середины n-того\n",
    "    nn=nn+n*n# {отсюда и до конца абзаца составление эфемериды планеты методом наименьших квадратов\n",
    "    sumn=sumn+n# \n",
    "    ntav=ntav+n*tav[n]# \n",
    "    sumtav=sumtav+tav[n]# \n",
    "\n",
    "\n",
    "Delta=nn*(s+1)-sumn*sumn# \n",
    "DeltaPp=ntav*(s+1)-sumtav*sumn# \n",
    "Deltat0=nn*sumtav-sumn*ntav# \n",
    "PpObs=DeltaPp/Delta# \n",
    "t0=Deltat0/Delta\n",
    "\n",
    "                   \n",
    "             \n",
    "print('Pp=', PpObs,' t0=',t0)# {ppObs-наблюдаемый период обращения планеты вокруг звезды, на основе известных времен транзитов в сек} \n",
    "# {t0- постоянная, входящая в эферемениду, измеряется в сек} \n",
    "\n",
    "\n",
    "\n",
    "tef=[0]*s\n",
    "dtt=[0]*s\n",
    "x=[]\n",
    "y=[]\n",
    "for n in range(s):\n",
    "\n",
    "    tpl1[n]=PpObs*(n-np.arcsin(Rs/Ap)/2/np.pi)#\n",
    "    tpl2[n]=PpObs*(n+np.arcsin(Rs/Ap)/2/np.pi)#}\n",
    "    dtt[n]=np.round(tav[n])-tef[n]# {dtt[n] - вариация времени середины n-того транзита планеты в сек\n",
    "    tef[n]=np.round(n*PpObs+t0)# tef[n] - время середины n-того транзита планеты согласно эфемериде в сек} \n",
    "    dtt[n]=np.round((t1[n]-tpl1[n]+t2[n]-tpl2[n])/2)# {dtt[n] - вариация времени середины n-того транзита планеты в сек} \n",
    "    \n",
    "    x.append(dtt[n])\n",
    "    y.append(-(1-1/J12[n])*1000000)  \n",
    "    \n",
    "    \n",
    "    \n",
    "    \n",
    "    print('dtt[n]=','  ',dtt[n])#\n",
    "    print('TDV[',n,']=',-(tpl2[n]-tpl1[n])+(t2[n]-t1[n]),'#')#}\n",
    "    print('[',(t1[n]-tpl1[n]+t2[n]-tpl2[n])/2,',',(1-1/J12[n])*1000000,']',',')# \n",
    "    \n",
    "    print('[',(t1[n]-tpl1[n]+t2[n]-tpl2[n])/2,',', -(tpl2[n]-tpl1[n])+(t2[n]-t1[n]),']',',')#}\n",
    "    print('TTV[',n,']=',(t1[n]-tpl1[n]+t2[n]-tpl2[n])/2,'#')\n",
    "    \n",
    "    \n",
    "# jav=0\n",
    "# dttav=0\n",
    "# Sigmaj=0\n",
    "# Sigmadtt=0\n",
    "# Sigmajdtt=0    \n",
    "    \n",
    "    \n",
    "# For n in range(s):\n",
    "#     jav=jav+j12[n]/(s+1)# print('jav=',jav:8:8)#    \n",
    "#     dttav=dttav+dtt[n]/(s+1)# print('dttav=',dttav:8:4)#    \n",
    "#     Sigmaj=Sigmaj+j12[n]*j12[n]-jav*jav# Sigmaj=np.sqrt(Sigmaj)#    \n",
    "#     Sigmadtt=Sigmadtt+dtt[n]*dtt[n]-dttav*dttav# Sigmadtt=np.sqrt(Sigmadtt)#    \n",
    "#     Sigmajdtt=Sigmajdtt+(j12[n]-jav)*(dtt[n]-dttav)#     \n",
    "    \n",
    "\n",
    "\n",
    "\n",
    "# print(Sigmaj,' ',Sigmadtt,' ',Sigmajdtt)# \n",
    "# Korr=Sigmajdtt/Sigmaj/Sigmadtt# \n",
    "# print('Коэффициент корреляции, Korr=', Korr:4:3)# \n",
    "\n",
    "\n"
   ]
  },
  {
   "cell_type": "code",
   "execution_count": 150,
   "metadata": {},
   "outputs": [
    {
     "data": {
      "application/vnd.plotly.v1+json": {
       "config": {
        "plotlyServerURL": "https://plot.ly"
       },
       "data": [
        {
         "marker": {
          "color": "rgba(255, 182, 193, .9)",
          "line": {
           "width": 2
          },
          "size": 10
         },
         "mode": "markers",
         "name": "TTV-BF",
         "type": "scatter",
         "x": [
          5,
          135,
          -135,
          25,
          120,
          -145,
          45,
          110,
          -150,
          65,
          91,
          -149,
          86,
          71,
          -149,
          106,
          51,
          -149,
          121,
          31,
          -139,
          136,
          11,
          -129,
          146,
          -9,
          -114,
          151,
          -34,
          -103,
          162,
          -53,
          -83,
          162,
          -68,
          -63,
          162,
          -88,
          -43,
          157,
          -108,
          -23,
          152,
          -118,
          -3,
          142,
          -133,
          17,
          133,
          -142,
          43,
          118,
          -142,
          63,
          103,
          -147,
          83,
          83,
          -147,
          98,
          63,
          -147,
          118,
          43,
          -137,
          133,
          24,
          -131,
          144,
          -1,
          -116,
          154,
          -21,
          -101,
          164,
          -41,
          -91,
          164,
          -61,
          -71,
          164,
          -81,
          -51,
          159,
          -96,
          -30,
          160,
          -115,
          -10,
          150,
          -125,
          15,
          140,
          -135,
          35,
          125,
          -140,
          60,
          115,
          -145
         ],
         "y": [
          -0.00018307710902831786,
          -12.85003592566003,
          13.129804132150369,
          -0.8161294154929166,
          -12.44491608787257,
          13.311723462861025,
          -3.185993598942005,
          -11.882788786277132,
          13.401442715554879,
          -5.880271113034574,
          -11.0889862563468,
          13.408344961884922,
          -8.702945134886342,
          -9.530371018917627,
          13.333079472710452,
          -10.83870220064398,
          -6.561222276713075,
          13.170657389371954,
          -11.716004051476325,
          -3.6840665270654327,
          12.905764985360335,
          -12.326105699789203,
          -0.8905875517051243,
          12.522661032354776,
          -12.76573052744201,
          2.559924866751828,
          11.983586542863023,
          -13.075970425768801,
          5.35883489871658,
          11.235971963285962,
          -13.280679512006621,
          8.310846351777812,
          9.85027299238439,
          -13.390544020164263,
          10.653141467864558,
          7.01773802980199,
          -13.416991017645152,
          11.584673139886092,
          4.252879709287782,
          -13.361739705786135,
          12.233858282417742,
          1.7202148943074036,
          -13.22122898506084,
          12.69816109794597,
          -0.00014185763674845475,
          -12.981827639757526,
          13.028523552449656,
          -0.03994351516212191,
          -12.630267909985449,
          13.249965897799143,
          -2.156979773126899,
          -12.133363364141836,
          13.374673784705138,
          -4.747861104603679,
          -11.450360245079949,
          13.415363510738132,
          -7.536382012229836,
          -10.44500054914188,
          13.374069423921497,
          -10.329903625594383,
          -7.780366097720481,
          13.24836206673119,
          -11.395631025701292,
          -4.8441917694930225,
          13.025638327945899,
          -12.102145645398465,
          -2.1122997786449105,
          12.694112722089201,
          -12.604852026920632,
          1.5324122266680007,
          12.22672694600746,
          -12.964348236832457,
          4.182487323145523,
          11.572172330387431,
          -13.210039864541834,
          7.088811501354542,
          10.631036127861648,
          -13.355865438269277,
          10.05537818277169,
          8.182164712655648,
          -13.416008096567289,
          11.252239556780452,
          5.372072919618276,
          -13.394382247899905,
          11.992228031942886,
          2.7199010859124684,
          -13.289613413181023,
          12.527875822065937,
          0.44515988850690746,
          -13.0907573095973,
          12.908939330813496,
          -5.502132083279321e-05,
          -12.78768397638963,
          13.172439990771778,
          -1.2001756481971881,
          -12.357570201793067,
          13.334099937978294,
          -3.6642282827958894,
          -11.76175260830803,
          13.408702181028076
         ]
        }
       ],
       "layout": {
        "plot_bgcolor": "rgb(255, 255, 255)",
        "template": {
         "data": {
          "bar": [
           {
            "error_x": {
             "color": "rgb(36,36,36)"
            },
            "error_y": {
             "color": "rgb(36,36,36)"
            },
            "marker": {
             "line": {
              "color": "white",
              "width": 0.5
             }
            },
            "type": "bar"
           }
          ],
          "barpolar": [
           {
            "marker": {
             "line": {
              "color": "white",
              "width": 0.5
             }
            },
            "type": "barpolar"
           }
          ],
          "carpet": [
           {
            "aaxis": {
             "endlinecolor": "rgb(36,36,36)",
             "gridcolor": "white",
             "linecolor": "white",
             "minorgridcolor": "white",
             "startlinecolor": "rgb(36,36,36)"
            },
            "baxis": {
             "endlinecolor": "rgb(36,36,36)",
             "gridcolor": "white",
             "linecolor": "white",
             "minorgridcolor": "white",
             "startlinecolor": "rgb(36,36,36)"
            },
            "type": "carpet"
           }
          ],
          "choropleth": [
           {
            "colorbar": {
             "outlinewidth": 1,
             "tickcolor": "rgb(36,36,36)",
             "ticks": "outside"
            },
            "type": "choropleth"
           }
          ],
          "contour": [
           {
            "colorbar": {
             "outlinewidth": 1,
             "tickcolor": "rgb(36,36,36)",
             "ticks": "outside"
            },
            "colorscale": [
             [
              0,
              "#440154"
             ],
             [
              0.1111111111111111,
              "#482878"
             ],
             [
              0.2222222222222222,
              "#3e4989"
             ],
             [
              0.3333333333333333,
              "#31688e"
             ],
             [
              0.4444444444444444,
              "#26828e"
             ],
             [
              0.5555555555555556,
              "#1f9e89"
             ],
             [
              0.6666666666666666,
              "#35b779"
             ],
             [
              0.7777777777777778,
              "#6ece58"
             ],
             [
              0.8888888888888888,
              "#b5de2b"
             ],
             [
              1,
              "#fde725"
             ]
            ],
            "type": "contour"
           }
          ],
          "contourcarpet": [
           {
            "colorbar": {
             "outlinewidth": 1,
             "tickcolor": "rgb(36,36,36)",
             "ticks": "outside"
            },
            "type": "contourcarpet"
           }
          ],
          "heatmap": [
           {
            "colorbar": {
             "outlinewidth": 1,
             "tickcolor": "rgb(36,36,36)",
             "ticks": "outside"
            },
            "colorscale": [
             [
              0,
              "#440154"
             ],
             [
              0.1111111111111111,
              "#482878"
             ],
             [
              0.2222222222222222,
              "#3e4989"
             ],
             [
              0.3333333333333333,
              "#31688e"
             ],
             [
              0.4444444444444444,
              "#26828e"
             ],
             [
              0.5555555555555556,
              "#1f9e89"
             ],
             [
              0.6666666666666666,
              "#35b779"
             ],
             [
              0.7777777777777778,
              "#6ece58"
             ],
             [
              0.8888888888888888,
              "#b5de2b"
             ],
             [
              1,
              "#fde725"
             ]
            ],
            "type": "heatmap"
           }
          ],
          "heatmapgl": [
           {
            "colorbar": {
             "outlinewidth": 1,
             "tickcolor": "rgb(36,36,36)",
             "ticks": "outside"
            },
            "colorscale": [
             [
              0,
              "#440154"
             ],
             [
              0.1111111111111111,
              "#482878"
             ],
             [
              0.2222222222222222,
              "#3e4989"
             ],
             [
              0.3333333333333333,
              "#31688e"
             ],
             [
              0.4444444444444444,
              "#26828e"
             ],
             [
              0.5555555555555556,
              "#1f9e89"
             ],
             [
              0.6666666666666666,
              "#35b779"
             ],
             [
              0.7777777777777778,
              "#6ece58"
             ],
             [
              0.8888888888888888,
              "#b5de2b"
             ],
             [
              1,
              "#fde725"
             ]
            ],
            "type": "heatmapgl"
           }
          ],
          "histogram": [
           {
            "marker": {
             "line": {
              "color": "white",
              "width": 0.6
             }
            },
            "type": "histogram"
           }
          ],
          "histogram2d": [
           {
            "colorbar": {
             "outlinewidth": 1,
             "tickcolor": "rgb(36,36,36)",
             "ticks": "outside"
            },
            "colorscale": [
             [
              0,
              "#440154"
             ],
             [
              0.1111111111111111,
              "#482878"
             ],
             [
              0.2222222222222222,
              "#3e4989"
             ],
             [
              0.3333333333333333,
              "#31688e"
             ],
             [
              0.4444444444444444,
              "#26828e"
             ],
             [
              0.5555555555555556,
              "#1f9e89"
             ],
             [
              0.6666666666666666,
              "#35b779"
             ],
             [
              0.7777777777777778,
              "#6ece58"
             ],
             [
              0.8888888888888888,
              "#b5de2b"
             ],
             [
              1,
              "#fde725"
             ]
            ],
            "type": "histogram2d"
           }
          ],
          "histogram2dcontour": [
           {
            "colorbar": {
             "outlinewidth": 1,
             "tickcolor": "rgb(36,36,36)",
             "ticks": "outside"
            },
            "colorscale": [
             [
              0,
              "#440154"
             ],
             [
              0.1111111111111111,
              "#482878"
             ],
             [
              0.2222222222222222,
              "#3e4989"
             ],
             [
              0.3333333333333333,
              "#31688e"
             ],
             [
              0.4444444444444444,
              "#26828e"
             ],
             [
              0.5555555555555556,
              "#1f9e89"
             ],
             [
              0.6666666666666666,
              "#35b779"
             ],
             [
              0.7777777777777778,
              "#6ece58"
             ],
             [
              0.8888888888888888,
              "#b5de2b"
             ],
             [
              1,
              "#fde725"
             ]
            ],
            "type": "histogram2dcontour"
           }
          ],
          "mesh3d": [
           {
            "colorbar": {
             "outlinewidth": 1,
             "tickcolor": "rgb(36,36,36)",
             "ticks": "outside"
            },
            "type": "mesh3d"
           }
          ],
          "parcoords": [
           {
            "line": {
             "colorbar": {
              "outlinewidth": 1,
              "tickcolor": "rgb(36,36,36)",
              "ticks": "outside"
             }
            },
            "type": "parcoords"
           }
          ],
          "pie": [
           {
            "automargin": true,
            "type": "pie"
           }
          ],
          "scatter": [
           {
            "marker": {
             "colorbar": {
              "outlinewidth": 1,
              "tickcolor": "rgb(36,36,36)",
              "ticks": "outside"
             }
            },
            "type": "scatter"
           }
          ],
          "scatter3d": [
           {
            "line": {
             "colorbar": {
              "outlinewidth": 1,
              "tickcolor": "rgb(36,36,36)",
              "ticks": "outside"
             }
            },
            "marker": {
             "colorbar": {
              "outlinewidth": 1,
              "tickcolor": "rgb(36,36,36)",
              "ticks": "outside"
             }
            },
            "type": "scatter3d"
           }
          ],
          "scattercarpet": [
           {
            "marker": {
             "colorbar": {
              "outlinewidth": 1,
              "tickcolor": "rgb(36,36,36)",
              "ticks": "outside"
             }
            },
            "type": "scattercarpet"
           }
          ],
          "scattergeo": [
           {
            "marker": {
             "colorbar": {
              "outlinewidth": 1,
              "tickcolor": "rgb(36,36,36)",
              "ticks": "outside"
             }
            },
            "type": "scattergeo"
           }
          ],
          "scattergl": [
           {
            "marker": {
             "colorbar": {
              "outlinewidth": 1,
              "tickcolor": "rgb(36,36,36)",
              "ticks": "outside"
             }
            },
            "type": "scattergl"
           }
          ],
          "scattermapbox": [
           {
            "marker": {
             "colorbar": {
              "outlinewidth": 1,
              "tickcolor": "rgb(36,36,36)",
              "ticks": "outside"
             }
            },
            "type": "scattermapbox"
           }
          ],
          "scatterpolar": [
           {
            "marker": {
             "colorbar": {
              "outlinewidth": 1,
              "tickcolor": "rgb(36,36,36)",
              "ticks": "outside"
             }
            },
            "type": "scatterpolar"
           }
          ],
          "scatterpolargl": [
           {
            "marker": {
             "colorbar": {
              "outlinewidth": 1,
              "tickcolor": "rgb(36,36,36)",
              "ticks": "outside"
             }
            },
            "type": "scatterpolargl"
           }
          ],
          "scatterternary": [
           {
            "marker": {
             "colorbar": {
              "outlinewidth": 1,
              "tickcolor": "rgb(36,36,36)",
              "ticks": "outside"
             }
            },
            "type": "scatterternary"
           }
          ],
          "surface": [
           {
            "colorbar": {
             "outlinewidth": 1,
             "tickcolor": "rgb(36,36,36)",
             "ticks": "outside"
            },
            "colorscale": [
             [
              0,
              "#440154"
             ],
             [
              0.1111111111111111,
              "#482878"
             ],
             [
              0.2222222222222222,
              "#3e4989"
             ],
             [
              0.3333333333333333,
              "#31688e"
             ],
             [
              0.4444444444444444,
              "#26828e"
             ],
             [
              0.5555555555555556,
              "#1f9e89"
             ],
             [
              0.6666666666666666,
              "#35b779"
             ],
             [
              0.7777777777777778,
              "#6ece58"
             ],
             [
              0.8888888888888888,
              "#b5de2b"
             ],
             [
              1,
              "#fde725"
             ]
            ],
            "type": "surface"
           }
          ],
          "table": [
           {
            "cells": {
             "fill": {
              "color": "rgb(237,237,237)"
             },
             "line": {
              "color": "white"
             }
            },
            "header": {
             "fill": {
              "color": "rgb(217,217,217)"
             },
             "line": {
              "color": "white"
             }
            },
            "type": "table"
           }
          ]
         },
         "layout": {
          "annotationdefaults": {
           "arrowhead": 0,
           "arrowwidth": 1
          },
          "coloraxis": {
           "colorbar": {
            "outlinewidth": 1,
            "tickcolor": "rgb(36,36,36)",
            "ticks": "outside"
           }
          },
          "colorscale": {
           "diverging": [
            [
             0,
             "rgb(103,0,31)"
            ],
            [
             0.1,
             "rgb(178,24,43)"
            ],
            [
             0.2,
             "rgb(214,96,77)"
            ],
            [
             0.3,
             "rgb(244,165,130)"
            ],
            [
             0.4,
             "rgb(253,219,199)"
            ],
            [
             0.5,
             "rgb(247,247,247)"
            ],
            [
             0.6,
             "rgb(209,229,240)"
            ],
            [
             0.7,
             "rgb(146,197,222)"
            ],
            [
             0.8,
             "rgb(67,147,195)"
            ],
            [
             0.9,
             "rgb(33,102,172)"
            ],
            [
             1,
             "rgb(5,48,97)"
            ]
           ],
           "sequential": [
            [
             0,
             "#440154"
            ],
            [
             0.1111111111111111,
             "#482878"
            ],
            [
             0.2222222222222222,
             "#3e4989"
            ],
            [
             0.3333333333333333,
             "#31688e"
            ],
            [
             0.4444444444444444,
             "#26828e"
            ],
            [
             0.5555555555555556,
             "#1f9e89"
            ],
            [
             0.6666666666666666,
             "#35b779"
            ],
            [
             0.7777777777777778,
             "#6ece58"
            ],
            [
             0.8888888888888888,
             "#b5de2b"
            ],
            [
             1,
             "#fde725"
            ]
           ],
           "sequentialminus": [
            [
             0,
             "#440154"
            ],
            [
             0.1111111111111111,
             "#482878"
            ],
            [
             0.2222222222222222,
             "#3e4989"
            ],
            [
             0.3333333333333333,
             "#31688e"
            ],
            [
             0.4444444444444444,
             "#26828e"
            ],
            [
             0.5555555555555556,
             "#1f9e89"
            ],
            [
             0.6666666666666666,
             "#35b779"
            ],
            [
             0.7777777777777778,
             "#6ece58"
            ],
            [
             0.8888888888888888,
             "#b5de2b"
            ],
            [
             1,
             "#fde725"
            ]
           ]
          },
          "colorway": [
           "#1F77B4",
           "#FF7F0E",
           "#2CA02C",
           "#D62728",
           "#9467BD",
           "#8C564B",
           "#E377C2",
           "#7F7F7F",
           "#BCBD22",
           "#17BECF"
          ],
          "font": {
           "color": "rgb(36,36,36)"
          },
          "geo": {
           "bgcolor": "white",
           "lakecolor": "white",
           "landcolor": "white",
           "showlakes": true,
           "showland": true,
           "subunitcolor": "white"
          },
          "hoverlabel": {
           "align": "left"
          },
          "hovermode": "closest",
          "mapbox": {
           "style": "light"
          },
          "paper_bgcolor": "white",
          "plot_bgcolor": "white",
          "polar": {
           "angularaxis": {
            "gridcolor": "rgb(232,232,232)",
            "linecolor": "rgb(36,36,36)",
            "showgrid": false,
            "showline": true,
            "ticks": "outside"
           },
           "bgcolor": "white",
           "radialaxis": {
            "gridcolor": "rgb(232,232,232)",
            "linecolor": "rgb(36,36,36)",
            "showgrid": false,
            "showline": true,
            "ticks": "outside"
           }
          },
          "scene": {
           "xaxis": {
            "backgroundcolor": "white",
            "gridcolor": "rgb(232,232,232)",
            "gridwidth": 2,
            "linecolor": "rgb(36,36,36)",
            "showbackground": true,
            "showgrid": false,
            "showline": true,
            "ticks": "outside",
            "zeroline": false,
            "zerolinecolor": "rgb(36,36,36)"
           },
           "yaxis": {
            "backgroundcolor": "white",
            "gridcolor": "rgb(232,232,232)",
            "gridwidth": 2,
            "linecolor": "rgb(36,36,36)",
            "showbackground": true,
            "showgrid": false,
            "showline": true,
            "ticks": "outside",
            "zeroline": false,
            "zerolinecolor": "rgb(36,36,36)"
           },
           "zaxis": {
            "backgroundcolor": "white",
            "gridcolor": "rgb(232,232,232)",
            "gridwidth": 2,
            "linecolor": "rgb(36,36,36)",
            "showbackground": true,
            "showgrid": false,
            "showline": true,
            "ticks": "outside",
            "zeroline": false,
            "zerolinecolor": "rgb(36,36,36)"
           }
          },
          "shapedefaults": {
           "fillcolor": "black",
           "line": {
            "width": 0
           },
           "opacity": 0.3
          },
          "ternary": {
           "aaxis": {
            "gridcolor": "rgb(232,232,232)",
            "linecolor": "rgb(36,36,36)",
            "showgrid": false,
            "showline": true,
            "ticks": "outside"
           },
           "baxis": {
            "gridcolor": "rgb(232,232,232)",
            "linecolor": "rgb(36,36,36)",
            "showgrid": false,
            "showline": true,
            "ticks": "outside"
           },
           "bgcolor": "white",
           "caxis": {
            "gridcolor": "rgb(232,232,232)",
            "linecolor": "rgb(36,36,36)",
            "showgrid": false,
            "showline": true,
            "ticks": "outside"
           }
          },
          "title": {
           "x": 0.05
          },
          "xaxis": {
           "automargin": true,
           "gridcolor": "rgb(232,232,232)",
           "linecolor": "rgb(36,36,36)",
           "showgrid": false,
           "showline": true,
           "ticks": "outside",
           "title": {
            "standoff": 15
           },
           "zeroline": false,
           "zerolinecolor": "rgb(36,36,36)"
          },
          "yaxis": {
           "automargin": true,
           "gridcolor": "rgb(232,232,232)",
           "linecolor": "rgb(36,36,36)",
           "showgrid": false,
           "showline": true,
           "ticks": "outside",
           "title": {
            "standoff": 15
           },
           "zeroline": false,
           "zerolinecolor": "rgb(36,36,36)"
          }
         }
        },
        "title": {
         "text": "TTV-BF for Earth-Moon with initial orbital speed"
        },
        "xaxis": {
         "gridcolor": "rgb(0, 255, 255)",
         "gridwidth": 1,
         "showgrid": true,
         "title": {
          "text": "TTV, sec"
         },
         "zeroline": false
        },
        "yaxis": {
         "gridcolor": "rgb(0, 255, 255)",
         "gridwidth": 1,
         "showgrid": true,
         "title": {
          "text": "BF, nomalized units"
         },
         "zeroline": true
        }
       }
      },
      "text/html": [
       "<div>\n",
       "        \n",
       "        \n",
       "            <div id=\"148f4805-f707-4248-aaab-ec5628173111\" class=\"plotly-graph-div\" style=\"height:525px; width:100%;\"></div>\n",
       "            <script type=\"text/javascript\">\n",
       "                require([\"plotly\"], function(Plotly) {\n",
       "                    window.PLOTLYENV=window.PLOTLYENV || {};\n",
       "                    \n",
       "                if (document.getElementById(\"148f4805-f707-4248-aaab-ec5628173111\")) {\n",
       "                    Plotly.newPlot(\n",
       "                        '148f4805-f707-4248-aaab-ec5628173111',\n",
       "                        [{\"marker\": {\"color\": \"rgba(255, 182, 193, .9)\", \"line\": {\"width\": 2}, \"size\": 10}, \"mode\": \"markers\", \"name\": \"TTV-BF\", \"type\": \"scatter\", \"x\": [5.0, 135.0, -135.0, 25.0, 120.0, -145.0, 45.0, 110.0, -150.0, 65.0, 91.0, -149.0, 86.0, 71.0, -149.0, 106.0, 51.0, -149.0, 121.0, 31.0, -139.0, 136.0, 11.0, -129.0, 146.0, -9.0, -114.0, 151.0, -34.0, -103.0, 162.0, -53.0, -83.0, 162.0, -68.0, -63.0, 162.0, -88.0, -43.0, 157.0, -108.0, -23.0, 152.0, -118.0, -3.0, 142.0, -133.0, 17.0, 133.0, -142.0, 43.0, 118.0, -142.0, 63.0, 103.0, -147.0, 83.0, 83.0, -147.0, 98.0, 63.0, -147.0, 118.0, 43.0, -137.0, 133.0, 24.0, -131.0, 144.0, -1.0, -116.0, 154.0, -21.0, -101.0, 164.0, -41.0, -91.0, 164.0, -61.0, -71.0, 164.0, -81.0, -51.0, 159.0, -96.0, -30.0, 160.0, -115.0, -10.0, 150.0, -125.0, 15.0, 140.0, -135.0, 35.0, 125.0, -140.0, 60.0, 115.0, -145.0], \"y\": [-0.00018307710902831786, -12.85003592566003, 13.129804132150369, -0.8161294154929166, -12.44491608787257, 13.311723462861025, -3.185993598942005, -11.882788786277132, 13.401442715554879, -5.880271113034574, -11.0889862563468, 13.408344961884922, -8.702945134886342, -9.530371018917627, 13.333079472710452, -10.83870220064398, -6.561222276713075, 13.170657389371954, -11.716004051476325, -3.6840665270654327, 12.905764985360335, -12.326105699789203, -0.8905875517051243, 12.522661032354776, -12.76573052744201, 2.559924866751828, 11.983586542863023, -13.075970425768801, 5.35883489871658, 11.235971963285962, -13.280679512006621, 8.310846351777812, 9.85027299238439, -13.390544020164263, 10.653141467864558, 7.01773802980199, -13.416991017645152, 11.584673139886092, 4.252879709287782, -13.361739705786135, 12.233858282417742, 1.7202148943074036, -13.22122898506084, 12.69816109794597, -0.00014185763674845475, -12.981827639757526, 13.028523552449656, -0.03994351516212191, -12.630267909985449, 13.249965897799143, -2.156979773126899, -12.133363364141836, 13.374673784705138, -4.747861104603679, -11.450360245079949, 13.415363510738132, -7.536382012229836, -10.44500054914188, 13.374069423921497, -10.329903625594383, -7.780366097720481, 13.24836206673119, -11.395631025701292, -4.8441917694930225, 13.025638327945899, -12.102145645398465, -2.1122997786449105, 12.694112722089201, -12.604852026920632, 1.5324122266680007, 12.22672694600746, -12.964348236832457, 4.182487323145523, 11.572172330387431, -13.210039864541834, 7.088811501354542, 10.631036127861648, -13.355865438269277, 10.05537818277169, 8.182164712655648, -13.416008096567289, 11.252239556780452, 5.372072919618276, -13.394382247899905, 11.992228031942886, 2.7199010859124684, -13.289613413181023, 12.527875822065937, 0.44515988850690746, -13.0907573095973, 12.908939330813496, -5.502132083279321e-05, -12.78768397638963, 13.172439990771778, -1.2001756481971881, -12.357570201793067, 13.334099937978294, -3.6642282827958894, -11.76175260830803, 13.408702181028076]}],\n",
       "                        {\"plot_bgcolor\": \"rgb(255, 255, 255)\", \"template\": {\"data\": {\"bar\": [{\"error_x\": {\"color\": \"rgb(36,36,36)\"}, \"error_y\": {\"color\": \"rgb(36,36,36)\"}, \"marker\": {\"line\": {\"color\": \"white\", \"width\": 0.5}}, \"type\": \"bar\"}], \"barpolar\": [{\"marker\": {\"line\": {\"color\": \"white\", \"width\": 0.5}}, \"type\": \"barpolar\"}], \"carpet\": [{\"aaxis\": {\"endlinecolor\": \"rgb(36,36,36)\", \"gridcolor\": \"white\", \"linecolor\": \"white\", \"minorgridcolor\": \"white\", \"startlinecolor\": \"rgb(36,36,36)\"}, \"baxis\": {\"endlinecolor\": \"rgb(36,36,36)\", \"gridcolor\": \"white\", \"linecolor\": \"white\", \"minorgridcolor\": \"white\", \"startlinecolor\": \"rgb(36,36,36)\"}, \"type\": \"carpet\"}], \"choropleth\": [{\"colorbar\": {\"outlinewidth\": 1, \"tickcolor\": \"rgb(36,36,36)\", \"ticks\": \"outside\"}, \"type\": \"choropleth\"}], \"contour\": [{\"colorbar\": {\"outlinewidth\": 1, \"tickcolor\": \"rgb(36,36,36)\", \"ticks\": \"outside\"}, \"colorscale\": [[0.0, \"#440154\"], [0.1111111111111111, \"#482878\"], [0.2222222222222222, \"#3e4989\"], [0.3333333333333333, \"#31688e\"], [0.4444444444444444, \"#26828e\"], [0.5555555555555556, \"#1f9e89\"], [0.6666666666666666, \"#35b779\"], [0.7777777777777778, \"#6ece58\"], [0.8888888888888888, \"#b5de2b\"], [1.0, \"#fde725\"]], \"type\": \"contour\"}], \"contourcarpet\": [{\"colorbar\": {\"outlinewidth\": 1, \"tickcolor\": \"rgb(36,36,36)\", \"ticks\": \"outside\"}, \"type\": \"contourcarpet\"}], \"heatmap\": [{\"colorbar\": {\"outlinewidth\": 1, \"tickcolor\": \"rgb(36,36,36)\", \"ticks\": \"outside\"}, \"colorscale\": [[0.0, \"#440154\"], [0.1111111111111111, \"#482878\"], [0.2222222222222222, \"#3e4989\"], [0.3333333333333333, \"#31688e\"], [0.4444444444444444, \"#26828e\"], [0.5555555555555556, \"#1f9e89\"], [0.6666666666666666, \"#35b779\"], [0.7777777777777778, \"#6ece58\"], [0.8888888888888888, \"#b5de2b\"], [1.0, \"#fde725\"]], \"type\": \"heatmap\"}], \"heatmapgl\": [{\"colorbar\": {\"outlinewidth\": 1, \"tickcolor\": \"rgb(36,36,36)\", \"ticks\": \"outside\"}, \"colorscale\": [[0.0, \"#440154\"], [0.1111111111111111, \"#482878\"], [0.2222222222222222, \"#3e4989\"], [0.3333333333333333, \"#31688e\"], [0.4444444444444444, \"#26828e\"], [0.5555555555555556, \"#1f9e89\"], [0.6666666666666666, \"#35b779\"], [0.7777777777777778, \"#6ece58\"], [0.8888888888888888, \"#b5de2b\"], [1.0, \"#fde725\"]], \"type\": \"heatmapgl\"}], \"histogram\": [{\"marker\": {\"line\": {\"color\": \"white\", \"width\": 0.6}}, \"type\": \"histogram\"}], \"histogram2d\": [{\"colorbar\": {\"outlinewidth\": 1, \"tickcolor\": \"rgb(36,36,36)\", \"ticks\": \"outside\"}, \"colorscale\": [[0.0, \"#440154\"], [0.1111111111111111, \"#482878\"], [0.2222222222222222, \"#3e4989\"], [0.3333333333333333, \"#31688e\"], [0.4444444444444444, \"#26828e\"], [0.5555555555555556, \"#1f9e89\"], [0.6666666666666666, \"#35b779\"], [0.7777777777777778, \"#6ece58\"], [0.8888888888888888, \"#b5de2b\"], [1.0, \"#fde725\"]], \"type\": \"histogram2d\"}], \"histogram2dcontour\": [{\"colorbar\": {\"outlinewidth\": 1, \"tickcolor\": \"rgb(36,36,36)\", \"ticks\": \"outside\"}, \"colorscale\": [[0.0, \"#440154\"], [0.1111111111111111, \"#482878\"], [0.2222222222222222, \"#3e4989\"], [0.3333333333333333, \"#31688e\"], [0.4444444444444444, \"#26828e\"], [0.5555555555555556, \"#1f9e89\"], [0.6666666666666666, \"#35b779\"], [0.7777777777777778, \"#6ece58\"], [0.8888888888888888, \"#b5de2b\"], [1.0, \"#fde725\"]], \"type\": \"histogram2dcontour\"}], \"mesh3d\": [{\"colorbar\": {\"outlinewidth\": 1, \"tickcolor\": \"rgb(36,36,36)\", \"ticks\": \"outside\"}, \"type\": \"mesh3d\"}], \"parcoords\": [{\"line\": {\"colorbar\": {\"outlinewidth\": 1, \"tickcolor\": \"rgb(36,36,36)\", \"ticks\": \"outside\"}}, \"type\": \"parcoords\"}], \"pie\": [{\"automargin\": true, \"type\": \"pie\"}], \"scatter\": [{\"marker\": {\"colorbar\": {\"outlinewidth\": 1, \"tickcolor\": \"rgb(36,36,36)\", \"ticks\": \"outside\"}}, \"type\": \"scatter\"}], \"scatter3d\": [{\"line\": {\"colorbar\": {\"outlinewidth\": 1, \"tickcolor\": \"rgb(36,36,36)\", \"ticks\": \"outside\"}}, \"marker\": {\"colorbar\": {\"outlinewidth\": 1, \"tickcolor\": \"rgb(36,36,36)\", \"ticks\": \"outside\"}}, \"type\": \"scatter3d\"}], \"scattercarpet\": [{\"marker\": {\"colorbar\": {\"outlinewidth\": 1, \"tickcolor\": \"rgb(36,36,36)\", \"ticks\": \"outside\"}}, \"type\": \"scattercarpet\"}], \"scattergeo\": [{\"marker\": {\"colorbar\": {\"outlinewidth\": 1, \"tickcolor\": \"rgb(36,36,36)\", \"ticks\": \"outside\"}}, \"type\": \"scattergeo\"}], \"scattergl\": [{\"marker\": {\"colorbar\": {\"outlinewidth\": 1, \"tickcolor\": \"rgb(36,36,36)\", \"ticks\": \"outside\"}}, \"type\": \"scattergl\"}], \"scattermapbox\": [{\"marker\": {\"colorbar\": {\"outlinewidth\": 1, \"tickcolor\": \"rgb(36,36,36)\", \"ticks\": \"outside\"}}, \"type\": \"scattermapbox\"}], \"scatterpolar\": [{\"marker\": {\"colorbar\": {\"outlinewidth\": 1, \"tickcolor\": \"rgb(36,36,36)\", \"ticks\": \"outside\"}}, \"type\": \"scatterpolar\"}], \"scatterpolargl\": [{\"marker\": {\"colorbar\": {\"outlinewidth\": 1, \"tickcolor\": \"rgb(36,36,36)\", \"ticks\": \"outside\"}}, \"type\": \"scatterpolargl\"}], \"scatterternary\": [{\"marker\": {\"colorbar\": {\"outlinewidth\": 1, \"tickcolor\": \"rgb(36,36,36)\", \"ticks\": \"outside\"}}, \"type\": \"scatterternary\"}], \"surface\": [{\"colorbar\": {\"outlinewidth\": 1, \"tickcolor\": \"rgb(36,36,36)\", \"ticks\": \"outside\"}, \"colorscale\": [[0.0, \"#440154\"], [0.1111111111111111, \"#482878\"], [0.2222222222222222, \"#3e4989\"], [0.3333333333333333, \"#31688e\"], [0.4444444444444444, \"#26828e\"], [0.5555555555555556, \"#1f9e89\"], [0.6666666666666666, \"#35b779\"], [0.7777777777777778, \"#6ece58\"], [0.8888888888888888, \"#b5de2b\"], [1.0, \"#fde725\"]], \"type\": \"surface\"}], \"table\": [{\"cells\": {\"fill\": {\"color\": \"rgb(237,237,237)\"}, \"line\": {\"color\": \"white\"}}, \"header\": {\"fill\": {\"color\": \"rgb(217,217,217)\"}, \"line\": {\"color\": \"white\"}}, \"type\": \"table\"}]}, \"layout\": {\"annotationdefaults\": {\"arrowhead\": 0, \"arrowwidth\": 1}, \"coloraxis\": {\"colorbar\": {\"outlinewidth\": 1, \"tickcolor\": \"rgb(36,36,36)\", \"ticks\": \"outside\"}}, \"colorscale\": {\"diverging\": [[0.0, \"rgb(103,0,31)\"], [0.1, \"rgb(178,24,43)\"], [0.2, \"rgb(214,96,77)\"], [0.3, \"rgb(244,165,130)\"], [0.4, \"rgb(253,219,199)\"], [0.5, \"rgb(247,247,247)\"], [0.6, \"rgb(209,229,240)\"], [0.7, \"rgb(146,197,222)\"], [0.8, \"rgb(67,147,195)\"], [0.9, \"rgb(33,102,172)\"], [1.0, \"rgb(5,48,97)\"]], \"sequential\": [[0.0, \"#440154\"], [0.1111111111111111, \"#482878\"], [0.2222222222222222, \"#3e4989\"], [0.3333333333333333, \"#31688e\"], [0.4444444444444444, \"#26828e\"], [0.5555555555555556, \"#1f9e89\"], [0.6666666666666666, \"#35b779\"], [0.7777777777777778, \"#6ece58\"], [0.8888888888888888, \"#b5de2b\"], [1.0, \"#fde725\"]], \"sequentialminus\": [[0.0, \"#440154\"], [0.1111111111111111, \"#482878\"], [0.2222222222222222, \"#3e4989\"], [0.3333333333333333, \"#31688e\"], [0.4444444444444444, \"#26828e\"], [0.5555555555555556, \"#1f9e89\"], [0.6666666666666666, \"#35b779\"], [0.7777777777777778, \"#6ece58\"], [0.8888888888888888, \"#b5de2b\"], [1.0, \"#fde725\"]]}, \"colorway\": [\"#1F77B4\", \"#FF7F0E\", \"#2CA02C\", \"#D62728\", \"#9467BD\", \"#8C564B\", \"#E377C2\", \"#7F7F7F\", \"#BCBD22\", \"#17BECF\"], \"font\": {\"color\": \"rgb(36,36,36)\"}, \"geo\": {\"bgcolor\": \"white\", \"lakecolor\": \"white\", \"landcolor\": \"white\", \"showlakes\": true, \"showland\": true, \"subunitcolor\": \"white\"}, \"hoverlabel\": {\"align\": \"left\"}, \"hovermode\": \"closest\", \"mapbox\": {\"style\": \"light\"}, \"paper_bgcolor\": \"white\", \"plot_bgcolor\": \"white\", \"polar\": {\"angularaxis\": {\"gridcolor\": \"rgb(232,232,232)\", \"linecolor\": \"rgb(36,36,36)\", \"showgrid\": false, \"showline\": true, \"ticks\": \"outside\"}, \"bgcolor\": \"white\", \"radialaxis\": {\"gridcolor\": \"rgb(232,232,232)\", \"linecolor\": \"rgb(36,36,36)\", \"showgrid\": false, \"showline\": true, \"ticks\": \"outside\"}}, \"scene\": {\"xaxis\": {\"backgroundcolor\": \"white\", \"gridcolor\": \"rgb(232,232,232)\", \"gridwidth\": 2, \"linecolor\": \"rgb(36,36,36)\", \"showbackground\": true, \"showgrid\": false, \"showline\": true, \"ticks\": \"outside\", \"zeroline\": false, \"zerolinecolor\": \"rgb(36,36,36)\"}, \"yaxis\": {\"backgroundcolor\": \"white\", \"gridcolor\": \"rgb(232,232,232)\", \"gridwidth\": 2, \"linecolor\": \"rgb(36,36,36)\", \"showbackground\": true, \"showgrid\": false, \"showline\": true, \"ticks\": \"outside\", \"zeroline\": false, \"zerolinecolor\": \"rgb(36,36,36)\"}, \"zaxis\": {\"backgroundcolor\": \"white\", \"gridcolor\": \"rgb(232,232,232)\", \"gridwidth\": 2, \"linecolor\": \"rgb(36,36,36)\", \"showbackground\": true, \"showgrid\": false, \"showline\": true, \"ticks\": \"outside\", \"zeroline\": false, \"zerolinecolor\": \"rgb(36,36,36)\"}}, \"shapedefaults\": {\"fillcolor\": \"black\", \"line\": {\"width\": 0}, \"opacity\": 0.3}, \"ternary\": {\"aaxis\": {\"gridcolor\": \"rgb(232,232,232)\", \"linecolor\": \"rgb(36,36,36)\", \"showgrid\": false, \"showline\": true, \"ticks\": \"outside\"}, \"baxis\": {\"gridcolor\": \"rgb(232,232,232)\", \"linecolor\": \"rgb(36,36,36)\", \"showgrid\": false, \"showline\": true, \"ticks\": \"outside\"}, \"bgcolor\": \"white\", \"caxis\": {\"gridcolor\": \"rgb(232,232,232)\", \"linecolor\": \"rgb(36,36,36)\", \"showgrid\": false, \"showline\": true, \"ticks\": \"outside\"}}, \"title\": {\"x\": 0.05}, \"xaxis\": {\"automargin\": true, \"gridcolor\": \"rgb(232,232,232)\", \"linecolor\": \"rgb(36,36,36)\", \"showgrid\": false, \"showline\": true, \"ticks\": \"outside\", \"title\": {\"standoff\": 15}, \"zeroline\": false, \"zerolinecolor\": \"rgb(36,36,36)\"}, \"yaxis\": {\"automargin\": true, \"gridcolor\": \"rgb(232,232,232)\", \"linecolor\": \"rgb(36,36,36)\", \"showgrid\": false, \"showline\": true, \"ticks\": \"outside\", \"title\": {\"standoff\": 15}, \"zeroline\": false, \"zerolinecolor\": \"rgb(36,36,36)\"}}}, \"title\": {\"text\": \"TTV-BF for Earth-Moon with initial orbital speed\"}, \"xaxis\": {\"gridcolor\": \"rgb(0, 255, 255)\", \"gridwidth\": 1, \"showgrid\": true, \"title\": {\"text\": \"TTV, sec\"}, \"zeroline\": false}, \"yaxis\": {\"gridcolor\": \"rgb(0, 255, 255)\", \"gridwidth\": 1, \"showgrid\": true, \"title\": {\"text\": \"BF, nomalized units\"}, \"zeroline\": true}},\n",
       "                        {\"responsive\": true}\n",
       "                    ).then(function(){\n",
       "                            \n",
       "var gd = document.getElementById('148f4805-f707-4248-aaab-ec5628173111');\n",
       "var x = new MutationObserver(function (mutations, observer) {{\n",
       "        var display = window.getComputedStyle(gd).display;\n",
       "        if (!display || display === 'none') {{\n",
       "            console.log([gd, 'removed!']);\n",
       "            Plotly.purge(gd);\n",
       "            observer.disconnect();\n",
       "        }}\n",
       "}});\n",
       "\n",
       "// Listen for the removal of the full notebook cells\n",
       "var notebookContainer = gd.closest('#notebook-container');\n",
       "if (notebookContainer) {{\n",
       "    x.observe(notebookContainer, {childList: true});\n",
       "}}\n",
       "\n",
       "// Listen for the clearing of the current output cell\n",
       "var outputEl = gd.closest('.output');\n",
       "if (outputEl) {{\n",
       "    x.observe(outputEl, {childList: true});\n",
       "}}\n",
       "\n",
       "                        })\n",
       "                };\n",
       "                });\n",
       "            </script>\n",
       "        </div>"
      ]
     },
     "metadata": {},
     "output_type": "display_data"
    }
   ],
   "source": [
    "t = np.linspace(0, 10, 100)\n",
    "pio.templates.default = \"simple_white\"\n",
    "fig = go.Figure()\n",
    "\n",
    "fig.add_trace(go.Scatter(\n",
    "    x=x, y=y,\n",
    "    name='TTV-BF', mode='lines',\n",
    "    marker_color='rgba(255, 182, 193, .9)'\n",
    "))\n",
    "fig.update_layout(\n",
    "    xaxis_title=\"TTV, sec\",\n",
    "    yaxis_title=\"BF, nomalized units\")\n",
    "# Set options common to all traces with fig.update_traces\n",
    "fig.update_traces(mode='markers', marker_line_width=2, marker_size=10)\n",
    "fig.update_layout(title='TTV-BF for Earth-Moon with initial orbital speed',\n",
    "                  yaxis_zeroline=True, xaxis_zeroline=False,plot_bgcolor= \"rgb(255, 255, 255)\")\n",
    "# hovermode='closest'\n",
    "fig.update_xaxes(showgrid=True, gridwidth=1, gridcolor='rgb(0, 255, 255)')\n",
    "fig.update_yaxes(showgrid=True, gridwidth=1, gridcolor='rgb(0, 255, 255)')\n",
    "fig.show()\n"
   ]
  },
  {
   "cell_type": "code",
   "execution_count": null,
   "metadata": {},
   "outputs": [],
   "source": []
  },
  {
   "cell_type": "code",
   "execution_count": null,
   "metadata": {},
   "outputs": [],
   "source": []
  },
  {
   "cell_type": "code",
   "execution_count": null,
   "metadata": {},
   "outputs": [],
   "source": []
  },
  {
   "cell_type": "code",
   "execution_count": null,
   "metadata": {},
   "outputs": [],
   "source": []
  }
 ],
 "metadata": {
  "kernelspec": {
   "display_name": "Python 3",
   "language": "python",
   "name": "python3"
  },
  "language_info": {
   "codemirror_mode": {
    "name": "ipython",
    "version": 3
   },
   "file_extension": ".py",
   "mimetype": "text/x-python",
   "name": "python",
   "nbconvert_exporter": "python",
   "pygments_lexer": "ipython3",
   "version": "3.7.3"
  }
 },
 "nbformat": 4,
 "nbformat_minor": 2
}
