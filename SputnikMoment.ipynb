{
 "cells": [
  {
   "cell_type": "markdown",
   "metadata": {},
   "source": [
    "### Add libraries"
   ]
  },
  {
   "cell_type": "code",
   "execution_count": 156,
   "metadata": {},
   "outputs": [],
   "source": [
    "#libraries\n",
    "import numpy as np\n",
    "import matplotlib as plt\n",
    "import plotly.graph_objects as go"
   ]
  },
  {
   "cell_type": "code",
   "execution_count": 157,
   "metadata": {},
   "outputs": [],
   "source": [
    "# tef,dtt,a: array [0..1501] of longint# \n",
    "# tav,ms,Ω,djs,djs1,μ,φ,Rsat,Xsp,Xsp1,PerSat,dφs,t2,t1,Jsc,Jr1,Jr2,j12,tpl1,tpl2:array [0..1500] of real# \n",
    "# t1s,t2s,te1s,te2s,Jadd1,Jadd2,k: array [1..10,0..1501] of real#\n",
    "# Pp,Ps,Rp,Ap,m,Mp,φp,dφp,dt1:longint# \n",
    "# dt,n,ts,s,t:longint# \n",
    "# Rs,xp,xp1,Xplo,Xpl,Xpln,Xpln1,Xpl1o,G,Mstar,Mplanet,Ωp,F,f1,Alb:real# \n",
    "# delt,tint,i:integer# \n",
    "# delj,dttav,jav,sigmajdtt,sigmaj,sigmadtt,Jres,Jcut,Jcuto:real#\n",
    "# PpObs,t0,Korr,TTVmax,TTVmin:real# \n",
    "# PerP:real#\n",
    "\n",
    "# Jo:array [0..1500,-70000..70000] of real#\n",
    "# V1,V2,V3,V4,V5,L,S3,djp1,djp,djp0:real#\n",
    "# Rz,Aps,Ass:longint# \n",
    "\n",
    "# xs,xs1,dJ:real# \n",
    "\n",
    "# te1,te2:integer# \n",
    "\n",
    "# nn,sumn,ntav,sumtav,Delta,DeltaPp,Deltat0:real# "
   ]
  },
  {
   "cell_type": "markdown",
   "metadata": {},
   "source": [
    "### Define all the constants i.e. star/planet/moons/noise"
   ]
  },
  {
   "cell_type": "code",
   "execution_count": 279,
   "metadata": {},
   "outputs": [],
   "source": [
    "m=2;\n",
    "ms=[None]*3\n",
    "a=[None]*3\n",
    "Rsat=[None]*3\n",
    "\n",
    "G=6.67*10**(-11)#\n",
    "Mstar=1.99*10**30#\n",
    "Mplanet=5.99*10**24#\n",
    "\n",
    "Mp=1#{Масса планеты в относительных единицах}\n",
    "ms[0]=1/81.3#{Масса спутника-1 в массах планеты}\n",
    "ms[1]=1/95#{Масса спутника-2 в массах планеты}\n",
    "ms[2]=1/98#\n",
    "Ap=149598000# {Большая полуось орбиты планеты в км} \n",
    "Pp=31556952# {Период обращения планеты вокруг звезды в сек}\n",
    "Ps=245000# {Период обращения спутника вокруг планеты в сек} \n",
    "Rp=6400# {Радиус планеты в км} \n",
    "Rs=695000# {Радиус звезды в км} \n",
    "\n",
    "a[0]=384000#{Радиус орбиты спутника-1 в км}\n",
    "a[1]=241904.8416#{Радиус орбиты спутника-2 в км}\n",
    "a[2]=699000#\n",
    "\n",
    "Rsat[0]=1738# {Радиус спутника-1 в км} \n",
    "Rsat[1]=1450# {Радиус спутника-2 в км} \n",
    "Rsat[2]=1950#\n",
    "Alb=0.3#\n",
    "s=100# {Число транзитов системы спутники-планета}  \n",
    "tint=6500# {Время усреднения яркости до/после затмения в сек} \n",
    "delJ=0.000007#{Погрешность измения яркости, случайная добавка принимает значения от delJ до +delJ, всегда равна нулю при delt=0} \n",
    "delt=6# {Погрешность изменения времени транзита, принимает значения от -delt до +delt, в сек} \n",
    "φp=0# what is it?\n",
    "Ωp=np.sqrt(G*Mstar/1000000000/Ap/Ap/Ap)#\n",
    "Vp=np.sqrt(G*Mstar/1000000000/Ap)\n",
    "djp=(Rp/Rs)**2#\n",
    "djp0=Rp/Rs#\n",
    "PerP=2*np.pi/Ωp#\n",
    "Ω=[None]*m\n",
    "djs=[None]*m\n",
    "μ=[None]*m\n",
    "dφs=[None]*m\n",
    "PerSat=[None]*m\n",
    "φ=[None]*m\n",
    "dφs=[None]*m\n",
    "t1=[None]*s   \n",
    "t2=[None]*s\n",
    "Xsp=[0]*m\n",
    "Xspprev=[0]*m\n",
    "djs1=[0]*m\n",
    "tpl1=[None]*s\n",
    "tpl2=[None]*s\n",
    "Ω=[None]*m\n",
    "w1 = s\n",
    "T=70000\n",
    "t1s = [[0 for x in range(m)] for y in range(w1)] \n",
    "t2s = [[0 for x in range(m)] for y in range(w1)] \n",
    "te1s = [[0 for x in range(int(-T/10),int(T/10))] for y in range(w1)] \n",
    "te2s= [[0 for x in range(int(-T/10),int(T/10))] for y in range(w1)] \n",
    "Jo= [[0 for x in range(int(-T/10),int(T/10))] for y in range(w1)] \n",
    "Xpprev=0\n",
    "Xplnprev=0\n",
    "dur=2*Rs/Vp    #transit duration"
   ]
  },
  {
   "cell_type": "code",
   "execution_count": 280,
   "metadata": {},
   "outputs": [],
   "source": [
    "import math\n",
    "frac, _ = math.modf(2.5)"
   ]
  },
  {
   "cell_type": "markdown",
   "metadata": {},
   "source": [
    "### Parameters of the moons"
   ]
  },
  {
   "cell_type": "code",
   "execution_count": 281,
   "metadata": {},
   "outputs": [
    {
     "name": "stdout",
     "output_type": "stream",
     "text": [
      "2.6563144917024576e-06\n",
      "djs=  6.253597639873713e-06\n",
      "μ= 81.3\n",
      "Ps- 0 = None\n",
      "dφs- 0 = 0.32097483860699505\n",
      "5.312628982739993e-06\n",
      "djs=  4.352776771388645e-06\n",
      "μ= 95.0\n",
      "Ps- 1 = None\n",
      "dφs- 1 = 0.6419496738795161\n",
      "Pp= 31555792.695338428\n"
     ]
    }
   ],
   "source": [
    "for i in range(m):\n",
    "    Ω[i]=np.sqrt(G*Mplanet/1000000000/a[i]/a[i]/a[i])# {Доп. коэфф. необходим при переводе из км в метры}\n",
    "    djs[i]=(Rsat[i]**2)/(Rs**2)# {Изменение яркости звезды во время транзита i-го спутника}\n",
    "    μ[i]=(Mp/ms[i])# {Отношение масс i-го спутника к массе планеты.}\n",
    "    print(Ω[i])\n",
    "    print('djs= ', djs[i])#\n",
    "    print('μ=', μ[i])#\n",
    "#     PerSat[i]=2*np.pi/Ω[i]#\n",
    "    dφs[i]=(Ω[i]*(PerP-dur)/2/np.pi-int(Ω[i]*(PerP-dur)/2/np.pi))# Phase shift?+np.pi/2\n",
    "    print('Ps-',i,'=',PerSat[i])#\n",
    "    print('dφs-',i,'=',dφs[i])#\n",
    "    \n",
    "print('Pp=',PerP)#"
   ]
  },
  {
   "cell_type": "code",
   "execution_count": 282,
   "metadata": {},
   "outputs": [
    {
     "data": {
      "text/plain": [
       "2"
      ]
     },
     "execution_count": 282,
     "metadata": {},
     "output_type": "execute_result"
    }
   ],
   "source": [
    "int(2.93444)"
   ]
  },
  {
   "cell_type": "markdown",
   "metadata": {},
   "source": [
    "### Loop over s transits"
   ]
  },
  {
   "cell_type": "code",
   "execution_count": 283,
   "metadata": {},
   "outputs": [
    {
     "name": "stdout",
     "output_type": "stream",
     "text": [
      "tpl1= [-23540, -23540, -23540, -23540, -23540, -23540, -23540, -23540, -23540, -23540, -23540, -23540, -23540, -23540, -23540, -23540, -23540, -23540, -23540, -23540, -23540, -23540, -23540, -23540, -23540, -23540, -23540, -23540, -23540, -23540, -23540, -23540, -23540, -23540, -23540, -23540, -23540, -23540, -23540, -23540, -23540, -23540, -23540, -23540, -23540, -23540, -23540, -23540, -23540, -23540, -23540, -23540, -23540, -23540, -23540, -23540, -23540, -23540, -23540, -23540, -23540, -23540, -23540, -23540, -23540, -23540, -23540, -23540, -23540, -23540, -23540, -23540, -23540, -23540, -23540, -23540, -23540, -23540, -23540, -23540, -23540, -23540, -23540, -23540, -23540, -23540, -23540, -23540, -23540, -23540, -23540, -23540, -23540, -23540, -23540, -23540, -23540, -23540, -23540, -23540]\n",
      "tpl2= [23550, 23550, 23550, 23550, 23550, 23550, 23550, 23550, 23550, 23550, 23550, 23550, 23550, 23550, 23550, 23550, 23550, 23550, 23550, 23550, 23550, 23550, 23550, 23550, 23550, 23550, 23550, 23550, 23550, 23550, 23550, 23550, 23550, 23550, 23550, 23550, 23550, 23550, 23550, 23550, 23550, 23550, 23550, 23550, 23550, 23550, 23550, 23550, 23550, 23550, 23550, 23550, 23550, 23550, 23550, 23550, 23550, 23550, 23550, 23550, 23550, 23550, 23550, 23550, 23550, 23550, 23550, 23550, 23550, 23550, 23550, 23550, 23550, 23550, 23550, 23550, 23550, 23550, 23550, 23550, 23550, 23550, 23550, 23550, 23550, 23550, 23550, 23550, 23550, 23550, 23550, 23550, 23550, 23550, 23550, 23550, 23550, 23550, 23550, 23550]\n"
     ]
    }
   ],
   "source": [
    "#we have to understand this loop\n",
    "tpl1=[-23540]*s\n",
    "tpl2=[23550]*s\n",
    "# print(len(Jo))\n",
    "\n",
    "for n in range(s):\n",
    "    #{n-transit's number}\n",
    "    for i in range(m):\n",
    "        φ[i]=2*np.pi*(n*dφs[i]-int(n*dφs[i]))# current phase of each satellite?\n",
    "#         print(φ[i])\n",
    "    \n",
    "    t=-T#  \n",
    "    while t<T: #by 10 second iteration\n",
    "        t=t+10#\n",
    "        \n",
    "        Jo[n][int(t/10)]=1\n",
    "#         dt=dt+5\n",
    "        Xplo=0#\n",
    "        for i in range(m):#Contribution of every satellite to planet's position\n",
    "            Xplo=Xplo-(a[i]/(μ[i]+1)*np.sin(Ω[i]*t+φ[i]))\n",
    "        Xp=0#\n",
    "        Xp=Xplo+Ap*np.sin(Ωp*t+φp)#{координата центра планеты в момент t}\n",
    "#         Xp1=0#\n",
    "#         Xp1=Xplo+Ap*np.sin(Ωp*(t+5)+φp)#{координата центра планеты в момент t+1}\n",
    "#         print('Xp=',Xp)\n",
    "#         print('Xp=',Xp)\n",
    "        \n",
    "        \n",
    "        #every time check the condition:\n",
    "        \n",
    "        if (-Xpprev>Rs+Rp) and (-Xp<Rs+Rp):\n",
    "            t1[n]=t# {Условие вступления центра планеты на диск звезды, t1[n]-время начала n-го транзита в сек}\n",
    "        if (Xpprev<Rs+Rp) and (Xp>Rs+Rp):\n",
    "            t2[n]=t# {Условие схода центра планеты с диска звезды, t2[n]-время окончания n-го транзита в сек}\n",
    "        Xpprev=Xp\n",
    "        \n",
    "#{Транзиты планеты без участия спутников}\n",
    "#         Xpln=Ap*np.sin(Ωp*t+φp)\n",
    "#         Xpln1=Ap*np.sin(Ωp*(t+1)+φp)#\n",
    "        \n",
    "#         if (-Xplnprev>Rs+Rp) and (-Xpln<Rs+Rp):\n",
    "#             tpl1[n]=t# {Условие вступления центра планеты на диск звезды, tpl1[n]-время начала n-го транзита в сек}\n",
    "#         if (Xplnprev<Rs+Rp) and (Xpln>Rs+Rp):\n",
    "#             tpl2[n]=t# {Условие схода центра планеты с диска звезды, tpl2[n]-время окончания n-го транзита в сек} \n",
    "#         Xplnprev=Xpln  \n",
    "#         print('Xpl',Xp, 't=',t)\n",
    "\n",
    "        \n",
    "    \n",
    "        for i in range(m):\n",
    "            Xspprev[i]=Xsp[i]\n",
    "            Xsp[i]=Xp+a[i]*(μ[i]/(μ[i]+1))*np.sin(Ω[i]*t+φ[i])# {координата центра спутника в момент t}\n",
    "#             print('Xspprev=',Xspprev[i],'t=',t)\n",
    "#             Xsp1[i]=Xp1+a[i]*(μ[i]/(μ[i]+1))*np.sin(Ω[i]*(t+1)+φ[i])# {координата центра спутника в момент t+1}\n",
    "            if (-Xspprev[i]>Rs) and (-Xsp[i]<Rs):\n",
    "                t1s[n][i]=t # {Условие вступления центра спутника на диск звезды, t1s[n]-время начала n-го транзита в сек} \n",
    "#                 print('t=',t)\n",
    "            if (Xspprev[i]<Rs) and (Xsp[i]>Rs):\n",
    "                t2s[n][i]=t# {Условие схода центра спутника с диска звезды, t2[n]-время окончания n-го транзита в сек}\n",
    "#                 print('t=',t)\n",
    "#             print('Xsp=',Xsp)\n",
    "            \n",
    "        for i in range(m):\n",
    "            l=0\n",
    "            S3=0\n",
    "            v3=0 # what is it?\n",
    "            v1=0\n",
    "            v2=0\n",
    "            if (abs(Xsp[i])<(Rs+Rsat[i])) and (abs(Xsp[i])>Rs):\n",
    "                v1=1\n",
    "            else:\n",
    "                v1=0\n",
    "                \n",
    "            if  (abs(Xsp[i])>(Rs-Rsat[i])) and (abs(Xsp[i])<Rs):\n",
    "                v2=1 \n",
    "            else:\n",
    "                v2=0\n",
    "            if abs(Xsp[i])<(Rs-Rsat[i]):\n",
    "                v3=1\n",
    "            else:\n",
    "                v3=0\n",
    "            djs1[i]=0 \n",
    "            if v1>0 or v2>0:\n",
    "#                 Jo[n][int(t/10)]=Jo[n][int(t/10)]-djs[i]*0.5\n",
    "#             if v3>0:\n",
    "#                 Jo[n][int(t/10)]=Jo[n][int(t/10)]-djs[i]\n",
    "# #                 print('Xsp[i]=', Xsp[i])\n",
    "                l=np.sqrt(Rsat[i]**2-(abs(Xsp[i])-Rs)**2)\n",
    "                S3=np.arccos(abs(-Rs+abs(Xsp[i]))/Rsat[i])*Rsat[i]**2-l*abs(-Rs+abs(Xsp[i]))\n",
    "                djs1[i]=S3/(np.pi*Rs*Rs)\n",
    "#             Jo[n][int(t/10)]=Jo[n][int(t/10)]-djs1[i]*v1-(djs[i]-djs1[i])*v2-djs[i]*v3#\n",
    "\n",
    "            Jo[n][int(t/10)]=Jo[n][int(t/10)]-(1-0.65+0.65*np.sqrt(abs(1-(abs(Xsp[i]))*(abs(Xsp[i]))/Rs/Rs)))*(djs1[i]*v1+(djs[i]-djs1[i])*v2+djs[i]*v3)   \n",
    "#             print(Jo[n][int(t/10)])\n",
    "#             print('v3=',v3)\n",
    "#             print('Jo1=',Jo[n][int(t/10)])\n",
    "        v3=0 # what is it?\n",
    "        v1=0\n",
    "        v2=0\n",
    "        if (abs(Xp)<(Rs+Rp)) and (abs(Xp)>Rs):\n",
    "            v1=1\n",
    "        else:\n",
    "            v1=0 \n",
    "        if  (abs(Xp)>(Rs-Rp)) and (abs(Xp)<Rs):\n",
    "            v2=1 \n",
    "        else:\n",
    "            v2=0\n",
    "        if abs(Xp)<(Rs-Rp):\n",
    "            v3=1\n",
    "        else:\n",
    "            v3=0\n",
    "        l=0\n",
    "        S3=0\n",
    "        djp1=0\n",
    "        if v1>0 or v2>0:\n",
    "#             print('t=',t)\n",
    "#             print('Xp=', Xp)\n",
    "#             l=abs(abs(Xp)-Rs)\n",
    "#             print('l=',l)\n",
    "#             S3=1/2*(Rp**2)*np.arcsin(2*l*np.sqrt(Rp**2-l**2)/Rp**2)-l*np.sqrt(Rp**2-l**2)\n",
    "            l=np.sqrt(Rp**2-(abs(Xp)-Rs)**2)\n",
    "            S3=np.arccos(abs(-Rs+abs(Xp))/Rp)*Rp*Rp-l*abs(-Rs+abs(Xp))#\n",
    "            djp1=S3/(np.pi*Rs*Rs)\n",
    "#             Jo[n][int(t/10)]=1-djp1*v1-(djp-djp1)*v2#\n",
    "#         if v3>0:\n",
    "#             Jo[n][int(t/10)]=1-djp*v3\n",
    "            \n",
    "#         v3=1\n",
    "        Jo[n][int(t/10)]=Jo[n][int(t/10)]-(1-0.65+0.65*np.sqrt(abs(1-(abs(Xp))*(abs(Xp))/Rs/Rs)))*(djp1*v1+(djp-djp1)*v2+djp*v3)\n",
    "#         print('Jo2=',Jo[n][int(t/10)],'t=',t) \n",
    "# print('J=',Jo[n][int(t/10)])\n",
    "\n",
    "#             djp1=(S3/(np.pi*Rs*Rs))#\n",
    "            \n",
    "#         Jo[n][t]=Jo[n][t]-(djp1*(V1+V5)+(djp-djp1)*(V2+V4)+djp*V3)#\n",
    "#          {Jo[n,t]=Jo[n,t]-(1-0.65+0.65*np.sqrt(abs(1-(abs(Xp))*(abs(Xp))/Rs/Rs)))*(djp1*(V1)+(djp-djp1)*(V2)+djp*V3)#}\n",
    "\n",
    "#     print(t1[n])\n",
    "#     print(t2[n])\n",
    "# print(t1s)\n",
    "# print(t2s)\n",
    "print('tpl1=',tpl1)\n",
    "print('tpl2=',tpl2)\n",
    "#     for i in range(m):\n",
    "#         te1s[n][i]=t1[n]-t1s[n][i]#{Продолж. нахождения спутников на диске звезды до и после транзита планеты}\n",
    "#         te2s[n][i]=t2s[n][i]-t2[n]#"
   ]
  },
  {
   "cell_type": "code",
   "execution_count": 284,
   "metadata": {},
   "outputs": [
    {
     "name": "stdout",
     "output_type": "stream",
     "text": [
      "Pp= -0.08885502000381025  t0= 8.760716326919413\n"
     ]
    }
   ],
   "source": [
    "from scipy.stats import spearmanr \n",
    "Jr1=[0]*s\n",
    "Jr2=[0]*s\n",
    "J12=[0]*s\n",
    "tav=[0]*s\n",
    "nn=0\n",
    "sumn=0\n",
    "ntav=0\n",
    "sumtav=0\n",
    "\n",
    "for n in range(s):\n",
    "    for t in range(np.round(t1[n]-tint),np.round(t1[n])):\n",
    "                   Jr1[n]=Jr1[n]+Jo[n][int(t/10)]\n",
    "              \n",
    "    for t in range(np.round(t2[n]),np.round(t2[n]+tint)):\n",
    "                   Jr2[n]=Jr2[n]+Jo[n][int(t/10)]#\n",
    "\n",
    "                   \n",
    "for n in range(s):\n",
    "#     print(n,'Jr1= ',Jr1[n])#\n",
    "#     print(n,'Jr2= ',Jr2[n])# \n",
    "    Jr1[n]=Jr1[n]/tint#\n",
    "    Jr2[n]=Jr2[n]/tint#\n",
    "    J12[n]=Jr2[n]/Jr1[n]# {отношение j2[n] и j1[n]}\n",
    "#     {j12[n]=j12[n]+2*delj*(np.random(delt+1)-(delt+1)/2)/(delt+1)#}\n",
    "#     print('J12[',n,']=',J12[n],'#')#\n",
    "\n",
    "\n",
    "# for n in range(s):\n",
    "#     t1[n]=t1[n]+2*Random(delt+1)-(delt+1)#{Эта строчка и две следующие - случайные погрешности\n",
    "#     t2[n]=t2[n]+2*Random(delt+1)-(delt+1)# }\n",
    "\n",
    "\n",
    "for n in range(s):\n",
    "    tav[n]=np.round((t1[n]+t2[n])/2)# {tav[n]-время середины n-того\n",
    "    nn=nn+n*n# {отсюда и до конца абзаца составление эфемериды планеты методом наименьших квадратов\n",
    "    sumn=sumn+n# \n",
    "    ntav=ntav+n*tav[n]# \n",
    "    sumtav=sumtav+tav[n]# \n",
    "\n",
    "\n",
    "Delta=nn*(s+1)-sumn*sumn# \n",
    "DeltaPp=ntav*(s+1)-sumtav*sumn# \n",
    "Deltat0=nn*sumtav-sumn*ntav# \n",
    "PpObs=DeltaPp/Delta# \n",
    "t0=Deltat0/Delta\n",
    "\n",
    "                   \n",
    "             \n",
    "print('Pp=', PpObs,' t0=',t0)# {ppObs-наблюдаемый период обращения планеты вокруг звезды, на основе известных времен транзитов в сек} \n",
    "# {t0- постоянная, входящая в эферемениду, измеряется в сек} \n",
    "\n",
    "\n",
    "\n",
    "tef=[0]*s\n",
    "dtt=[0]*s\n",
    "x=[]\n",
    "y=[]\n",
    "for n in range(s):\n",
    "\n",
    "    tpl1[n]=PpObs*(n-np.arcsin(Rs/Ap)/2/np.pi)#\n",
    "    tpl2[n]=PpObs*(n+np.arcsin(Rs/Ap)/2/np.pi)#}\n",
    "    dtt[n]=np.round(tav[n])-tef[n]# {dtt[n] - вариация времени середины n-того транзита планеты в сек\n",
    "    tef[n]=np.round(n*PpObs+t0)# tef[n] - время середины n-того транзита планеты согласно эфемериде в сек} \n",
    "    dtt[n]=np.round((t1[n]-tpl1[n]+t2[n]-tpl2[n])/2)# {dtt[n] - вариация времени середины n-того транзита планеты в сек} \n",
    "    \n",
    "    x.append(dtt[n])\n",
    "    y.append(-(1-1/J12[n])*1000000)  \n",
    "    \n",
    "    r,p=spearmanr(x,y)\n",
    "#     print(r)\n",
    "#     print(p)\n",
    "    \n",
    "#     print('dtt[n]=','  ',dtt[n])#\n",
    "#     print('TDV[',n,']=',-(tpl2[n]-tpl1[n])+(t2[n]-t1[n]),'#')#}\n",
    "#     print('[',(t1[n]-tpl1[n]+t2[n]-tpl2[n])/2,',',(1-1/J12[n])*1000000,']',',')# \n",
    "    \n",
    "#     print('[',(t1[n]-tpl1[n]+t2[n]-tpl2[n])/2,',', -(tpl2[n]-tpl1[n])+(t2[n]-t1[n]),']',',')#}\n",
    "#     print('TTV[',n,']=',(t1[n]-tpl1[n]+t2[n]-tpl2[n])/2,'#')\n",
    "    \n",
    " \n",
    "\n",
    "\n",
    "\n",
    "# dttav=0\n",
    "# Sigmaj=0\n",
    "# Sigmadtt=0\n",
    "# Sigmajdtt=0    \n",
    "    \n",
    "    \n",
    "# For n in range(s):\n",
    "#     jav=jav+j12[n]/(s+1)# print('jav=',jav:8:8)#    \n",
    "#     dttav=dttav+dtt[n]/(s+1)# print('dttav=',dttav:8:4)#    \n",
    "#     Sigmaj=Sigmaj+j12[n]*j12[n]-jav*jav# Sigmaj=np.sqrt(Sigmaj)#    \n",
    "#     Sigmadtt=Sigmadtt+dtt[n]*dtt[n]-dttav*dttav# Sigmadtt=np.sqrt(Sigmadtt)#    \n",
    "#     Sigmajdtt=Sigmajdtt+(j12[n]-jav)*(dtt[n]-dttav)#     \n",
    "    \n",
    "\n",
    "\n",
    "\n",
    "# print(Sigmaj,' ',Sigmadtt,' ',Sigmajdtt)# \n",
    "# Korr=Sigmajdtt/Sigmaj/Sigmadtt# \n",
    "# print('Коэффициент корреляции, Korr=', Korr:4:3)# \n"
   ]
  },
  {
   "cell_type": "code",
   "execution_count": 285,
   "metadata": {},
   "outputs": [
    {
     "data": {
      "image/png": "[encoded data removed]",
      "text/plain": [
       "<Figure size 792x576 with 1 Axes>"
      ]
     },
     "metadata": {
      "needs_background": "light"
     },
     "output_type": "display_data"
    }
   ],
   "source": [
    "fig, ax = plt.subplots()\n",
    "ax.scatter(x, y, alpha=0.7,c='r')\n",
    "\n",
    "ax.set_xlabel(r'transit timing variation, sec', fontsize=15)\n",
    "ax.set_ylabel(r'$\\delta$F', fontsize=15)\n",
    "ax.set_title('Earth - Moon system TTV - BF',fontsize=17)\n",
    "fig.set_size_inches(11,8)\n",
    "ax.grid(True)\n",
    "fig.tight_layout(h_pad=5,w_pad=10)"
   ]
  },
  {
   "cell_type": "code",
   "execution_count": 132,
   "metadata": {},
   "outputs": [
    {
     "data": {
      "application/vnd.plotly.v1+json": {
       "config": {
        "plotlyServerURL": "https://plot.ly"
       },
       "data": [
        {
         "marker": {
          "color": "rgba(255, 182, 193, .9)",
          "line": {
           "width": 2
          },
          "size": 10
         },
         "mode": "markers",
         "name": "TTV-BF",
         "type": "scatter",
         "x": [
          5,
          140,
          -145,
          35,
          110,
          -125,
          31,
          131,
          -174,
          96,
          61,
          -114,
          46,
          111,
          -194,
          156,
          6,
          -94,
          72,
          92,
          -193,
          197,
          -48,
          -63,
          82,
          57,
          -183,
          222,
          -98,
          -32,
          93,
          18,
          -152,
          233,
          -137,
          3,
          98,
          -22,
          -107,
          223,
          -166,
          39,
          94,
          -61,
          -56,
          194,
          -181,
          69,
          89,
          -96,
          4,
          154,
          -180,
          100,
          75,
          -120,
          60,
          105,
          -160,
          115,
          60,
          -135,
          120,
          46,
          -134,
          131,
          36,
          -144,
          166,
          -19,
          -89,
          126,
          11,
          -139,
          197,
          -78,
          -38,
          122,
          -13,
          -118,
          217,
          -133,
          7,
          107,
          -38,
          -88,
          228,
          -177,
          63,
          83,
          -52,
          -52,
          208,
          -197,
          108,
          58,
          -67,
          -6,
          184,
          -206
         ],
         "y": [
          -0.00024790725028367433,
          -5.419686722740735,
          5.291305029686555,
          -1.0082939937428037,
          -5.012001833892832,
          4.408928738763862,
          -1.0895764067653246,
          -6.004501918122074,
          5.8266400615458736,
          -3.8542857404566533,
          -3.8059083650177072,
          3.659240954245746,
          -2.587477511362124,
          -5.808444875188279,
          6.5487631004668145,
          -6.560523751253378,
          -1.2310995488595822,
          2.927388404794229,
          -3.05954695389854,
          -4.025162060883325,
          7.096078966206676,
          -7.633280154406563,
          1.7418335149788078,
          2.2843397009530975,
          -2.8502246781636487,
          -1.7811015604607405,
          7.296594601635675,
          -8.105385486234518,
          4.753315202332686,
          1.7033335495408863,
          -2.6432087308903007,
          0.5732116679091348,
          6.75736001598537,
          -8.088995269606158,
          7.113894188393033,
          0.25020618532600736,
          -2.5773337282153364,
          2.2381272493099402,
          4.517907853163194,
          -7.645792149846287,
          7.658831640666719,
          -1.3732931750665145,
          -2.6917591235964267,
          3.2700989238687583,
          2.5013511644189634,
          -6.845738161564974,
          7.58199492145728,
          -1.386418579607529,
          -2.94939701095398,
          4.221647643909421,
          1.0514969406294483,
          -5.755947246721682,
          7.0689061344442194,
          -2.5386096066393193,
          -3.187829282325083,
          5.032732710352761,
          -1.8749336108125902,
          -4.365039664833148,
          6.272739671020489,
          -4.164535184703055,
          -2.5338201908864377,
          5.337705063057641,
          -4.457333126373086,
          -1.9553256050963697,
          4.8934223757513,
          -4.876755009930456,
          -1.5861310296294562,
          5.160660188519017,
          -6.088434241435792,
          0.8638640320857149,
          3.6412807900010336,
          -4.748305842627865,
          0.14118340674329488,
          5.389329836846812,
          -7.111133249027013,
          3.831753455640907,
          2.250167262740632,
          -4.156491731133194,
          1.818409891329864,
          4.774864259760037,
          -7.817524791287056,
          6.247865362851712,
          -0.4052229479745151,
          -3.4575696947758416,
          2.147966042143068,
          3.241669958908844,
          -8.128841556875877,
          7.386168000556026,
          -2.6499206448038493,
          -2.7787568993575817,
          2.3631553573988384,
          2.62818731200376,
          -7.967185057689008,
          8.03333214771662,
          -3.2450748420620457,
          -2.1827683532871234,
          2.7026492717130424,
          1.3572465333844264,
          -7.285655029831695,
          8.22788008947306
         ]
        }
       ],
       "layout": {
        "plot_bgcolor": "rgb(255, 255, 255)",
        "template": {
         "data": {
          "bar": [
           {
            "error_x": {
             "color": "#2a3f5f"
            },
            "error_y": {
             "color": "#2a3f5f"
            },
            "marker": {
             "line": {
              "color": "#E5ECF6",
              "width": 0.5
             }
            },
            "type": "bar"
           }
          ],
          "barpolar": [
           {
            "marker": {
             "line": {
              "color": "#E5ECF6",
              "width": 0.5
             }
            },
            "type": "barpolar"
           }
          ],
          "carpet": [
           {
            "aaxis": {
             "endlinecolor": "#2a3f5f",
             "gridcolor": "white",
             "linecolor": "white",
             "minorgridcolor": "white",
             "startlinecolor": "#2a3f5f"
            },
            "baxis": {
             "endlinecolor": "#2a3f5f",
             "gridcolor": "white",
             "linecolor": "white",
             "minorgridcolor": "white",
             "startlinecolor": "#2a3f5f"
            },
            "type": "carpet"
           }
          ],
          "choropleth": [
           {
            "colorbar": {
             "outlinewidth": 0,
             "ticks": ""
            },
            "type": "choropleth"
           }
          ],
          "contour": [
           {
            "colorbar": {
             "outlinewidth": 0,
             "ticks": ""
            },
            "colorscale": [
             [
              0,
              "#0d0887"
             ],
             [
              0.1111111111111111,
              "#46039f"
             ],
             [
              0.2222222222222222,
              "#7201a8"
             ],
             [
              0.3333333333333333,
              "#9c179e"
             ],
             [
              0.4444444444444444,
              "#bd3786"
             ],
             [
              0.5555555555555556,
              "#d8576b"
             ],
             [
              0.6666666666666666,
              "#ed7953"
             ],
             [
              0.7777777777777778,
              "#fb9f3a"
             ],
             [
              0.8888888888888888,
              "#fdca26"
             ],
             [
              1,
              "#f0f921"
             ]
            ],
            "type": "contour"
           }
          ],
          "contourcarpet": [
           {
            "colorbar": {
             "outlinewidth": 0,
             "ticks": ""
            },
            "type": "contourcarpet"
           }
          ],
          "heatmap": [
           {
            "colorbar": {
             "outlinewidth": 0,
             "ticks": ""
            },
            "colorscale": [
             [
              0,
              "#0d0887"
             ],
             [
              0.1111111111111111,
              "#46039f"
             ],
             [
              0.2222222222222222,
              "#7201a8"
             ],
             [
              0.3333333333333333,
              "#9c179e"
             ],
             [
              0.4444444444444444,
              "#bd3786"
             ],
             [
              0.5555555555555556,
              "#d8576b"
             ],
             [
              0.6666666666666666,
              "#ed7953"
             ],
             [
              0.7777777777777778,
              "#fb9f3a"
             ],
             [
              0.8888888888888888,
              "#fdca26"
             ],
             [
              1,
              "#f0f921"
             ]
            ],
            "type": "heatmap"
           }
          ],
          "heatmapgl": [
           {
            "colorbar": {
             "outlinewidth": 0,
             "ticks": ""
            },
            "colorscale": [
             [
              0,
              "#0d0887"
             ],
             [
              0.1111111111111111,
              "#46039f"
             ],
             [
              0.2222222222222222,
              "#7201a8"
             ],
             [
              0.3333333333333333,
              "#9c179e"
             ],
             [
              0.4444444444444444,
              "#bd3786"
             ],
             [
              0.5555555555555556,
              "#d8576b"
             ],
             [
              0.6666666666666666,
              "#ed7953"
             ],
             [
              0.7777777777777778,
              "#fb9f3a"
             ],
             [
              0.8888888888888888,
              "#fdca26"
             ],
             [
              1,
              "#f0f921"
             ]
            ],
            "type": "heatmapgl"
           }
          ],
          "histogram": [
           {
            "marker": {
             "colorbar": {
              "outlinewidth": 0,
              "ticks": ""
             }
            },
            "type": "histogram"
           }
          ],
          "histogram2d": [
           {
            "colorbar": {
             "outlinewidth": 0,
             "ticks": ""
            },
            "colorscale": [
             [
              0,
              "#0d0887"
             ],
             [
              0.1111111111111111,
              "#46039f"
             ],
             [
              0.2222222222222222,
              "#7201a8"
             ],
             [
              0.3333333333333333,
              "#9c179e"
             ],
             [
              0.4444444444444444,
              "#bd3786"
             ],
             [
              0.5555555555555556,
              "#d8576b"
             ],
             [
              0.6666666666666666,
              "#ed7953"
             ],
             [
              0.7777777777777778,
              "#fb9f3a"
             ],
             [
              0.8888888888888888,
              "#fdca26"
             ],
             [
              1,
              "#f0f921"
             ]
            ],
            "type": "histogram2d"
           }
          ],
          "histogram2dcontour": [
           {
            "colorbar": {
             "outlinewidth": 0,
             "ticks": ""
            },
            "colorscale": [
             [
              0,
              "#0d0887"
             ],
             [
              0.1111111111111111,
              "#46039f"
             ],
             [
              0.2222222222222222,
              "#7201a8"
             ],
             [
              0.3333333333333333,
              "#9c179e"
             ],
             [
              0.4444444444444444,
              "#bd3786"
             ],
             [
              0.5555555555555556,
              "#d8576b"
             ],
             [
              0.6666666666666666,
              "#ed7953"
             ],
             [
              0.7777777777777778,
              "#fb9f3a"
             ],
             [
              0.8888888888888888,
              "#fdca26"
             ],
             [
              1,
              "#f0f921"
             ]
            ],
            "type": "histogram2dcontour"
           }
          ],
          "mesh3d": [
           {
            "colorbar": {
             "outlinewidth": 0,
             "ticks": ""
            },
            "type": "mesh3d"
           }
          ],
          "parcoords": [
           {
            "line": {
             "colorbar": {
              "outlinewidth": 0,
              "ticks": ""
             }
            },
            "type": "parcoords"
           }
          ],
          "pie": [
           {
            "automargin": true,
            "type": "pie"
           }
          ],
          "scatter": [
           {
            "marker": {
             "colorbar": {
              "outlinewidth": 0,
              "ticks": ""
             }
            },
            "type": "scatter"
           }
          ],
          "scatter3d": [
           {
            "line": {
             "colorbar": {
              "outlinewidth": 0,
              "ticks": ""
             }
            },
            "marker": {
             "colorbar": {
              "outlinewidth": 0,
              "ticks": ""
             }
            },
            "type": "scatter3d"
           }
          ],
          "scattercarpet": [
           {
            "marker": {
             "colorbar": {
              "outlinewidth": 0,
              "ticks": ""
             }
            },
            "type": "scattercarpet"
           }
          ],
          "scattergeo": [
           {
            "marker": {
             "colorbar": {
              "outlinewidth": 0,
              "ticks": ""
             }
            },
            "type": "scattergeo"
           }
          ],
          "scattergl": [
           {
            "marker": {
             "colorbar": {
              "outlinewidth": 0,
              "ticks": ""
             }
            },
            "type": "scattergl"
           }
          ],
          "scattermapbox": [
           {
            "marker": {
             "colorbar": {
              "outlinewidth": 0,
              "ticks": ""
             }
            },
            "type": "scattermapbox"
           }
          ],
          "scatterpolar": [
           {
            "marker": {
             "colorbar": {
              "outlinewidth": 0,
              "ticks": ""
             }
            },
            "type": "scatterpolar"
           }
          ],
          "scatterpolargl": [
           {
            "marker": {
             "colorbar": {
              "outlinewidth": 0,
              "ticks": ""
             }
            },
            "type": "scatterpolargl"
           }
          ],
          "scatterternary": [
           {
            "marker": {
             "colorbar": {
              "outlinewidth": 0,
              "ticks": ""
             }
            },
            "type": "scatterternary"
           }
          ],
          "surface": [
           {
            "colorbar": {
             "outlinewidth": 0,
             "ticks": ""
            },
            "colorscale": [
             [
              0,
              "#0d0887"
             ],
             [
              0.1111111111111111,
              "#46039f"
             ],
             [
              0.2222222222222222,
              "#7201a8"
             ],
             [
              0.3333333333333333,
              "#9c179e"
             ],
             [
              0.4444444444444444,
              "#bd3786"
             ],
             [
              0.5555555555555556,
              "#d8576b"
             ],
             [
              0.6666666666666666,
              "#ed7953"
             ],
             [
              0.7777777777777778,
              "#fb9f3a"
             ],
             [
              0.8888888888888888,
              "#fdca26"
             ],
             [
              1,
              "#f0f921"
             ]
            ],
            "type": "surface"
           }
          ],
          "table": [
           {
            "cells": {
             "fill": {
              "color": "#EBF0F8"
             },
             "line": {
              "color": "white"
             }
            },
            "header": {
             "fill": {
              "color": "#C8D4E3"
             },
             "line": {
              "color": "white"
             }
            },
            "type": "table"
           }
          ]
         },
         "layout": {
          "annotationdefaults": {
           "arrowcolor": "#2a3f5f",
           "arrowhead": 0,
           "arrowwidth": 1
          },
          "coloraxis": {
           "colorbar": {
            "outlinewidth": 0,
            "ticks": ""
           }
          },
          "colorscale": {
           "diverging": [
            [
             0,
             "#8e0152"
            ],
            [
             0.1,
             "#c51b7d"
            ],
            [
             0.2,
             "#de77ae"
            ],
            [
             0.3,
             "#f1b6da"
            ],
            [
             0.4,
             "#fde0ef"
            ],
            [
             0.5,
             "#f7f7f7"
            ],
            [
             0.6,
             "#e6f5d0"
            ],
            [
             0.7,
             "#b8e186"
            ],
            [
             0.8,
             "#7fbc41"
            ],
            [
             0.9,
             "#4d9221"
            ],
            [
             1,
             "#276419"
            ]
           ],
           "sequential": [
            [
             0,
             "#0d0887"
            ],
            [
             0.1111111111111111,
             "#46039f"
            ],
            [
             0.2222222222222222,
             "#7201a8"
            ],
            [
             0.3333333333333333,
             "#9c179e"
            ],
            [
             0.4444444444444444,
             "#bd3786"
            ],
            [
             0.5555555555555556,
             "#d8576b"
            ],
            [
             0.6666666666666666,
             "#ed7953"
            ],
            [
             0.7777777777777778,
             "#fb9f3a"
            ],
            [
             0.8888888888888888,
             "#fdca26"
            ],
            [
             1,
             "#f0f921"
            ]
           ],
           "sequentialminus": [
            [
             0,
             "#0d0887"
            ],
            [
             0.1111111111111111,
             "#46039f"
            ],
            [
             0.2222222222222222,
             "#7201a8"
            ],
            [
             0.3333333333333333,
             "#9c179e"
            ],
            [
             0.4444444444444444,
             "#bd3786"
            ],
            [
             0.5555555555555556,
             "#d8576b"
            ],
            [
             0.6666666666666666,
             "#ed7953"
            ],
            [
             0.7777777777777778,
             "#fb9f3a"
            ],
            [
             0.8888888888888888,
             "#fdca26"
            ],
            [
             1,
             "#f0f921"
            ]
           ]
          },
          "colorway": [
           "#636efa",
           "#EF553B",
           "#00cc96",
           "#ab63fa",
           "#FFA15A",
           "#19d3f3",
           "#FF6692",
           "#B6E880",
           "#FF97FF",
           "#FECB52"
          ],
          "font": {
           "color": "#2a3f5f"
          },
          "geo": {
           "bgcolor": "white",
           "lakecolor": "white",
           "landcolor": "#E5ECF6",
           "showlakes": true,
           "showland": true,
           "subunitcolor": "white"
          },
          "hoverlabel": {
           "align": "left"
          },
          "hovermode": "closest",
          "mapbox": {
           "style": "light"
          },
          "paper_bgcolor": "white",
          "plot_bgcolor": "#E5ECF6",
          "polar": {
           "angularaxis": {
            "gridcolor": "white",
            "linecolor": "white",
            "ticks": ""
           },
           "bgcolor": "#E5ECF6",
           "radialaxis": {
            "gridcolor": "white",
            "linecolor": "white",
            "ticks": ""
           }
          },
          "scene": {
           "xaxis": {
            "backgroundcolor": "#E5ECF6",
            "gridcolor": "white",
            "gridwidth": 2,
            "linecolor": "white",
            "showbackground": true,
            "ticks": "",
            "zerolinecolor": "white"
           },
           "yaxis": {
            "backgroundcolor": "#E5ECF6",
            "gridcolor": "white",
            "gridwidth": 2,
            "linecolor": "white",
            "showbackground": true,
            "ticks": "",
            "zerolinecolor": "white"
           },
           "zaxis": {
            "backgroundcolor": "#E5ECF6",
            "gridcolor": "white",
            "gridwidth": 2,
            "linecolor": "white",
            "showbackground": true,
            "ticks": "",
            "zerolinecolor": "white"
           }
          },
          "shapedefaults": {
           "line": {
            "color": "#2a3f5f"
           }
          },
          "ternary": {
           "aaxis": {
            "gridcolor": "white",
            "linecolor": "white",
            "ticks": ""
           },
           "baxis": {
            "gridcolor": "white",
            "linecolor": "white",
            "ticks": ""
           },
           "bgcolor": "#E5ECF6",
           "caxis": {
            "gridcolor": "white",
            "linecolor": "white",
            "ticks": ""
           }
          },
          "title": {
           "x": 0.05
          },
          "xaxis": {
           "automargin": true,
           "gridcolor": "white",
           "linecolor": "white",
           "ticks": "",
           "title": {
            "standoff": 15
           },
           "zerolinecolor": "white",
           "zerolinewidth": 2
          },
          "yaxis": {
           "automargin": true,
           "gridcolor": "white",
           "linecolor": "white",
           "ticks": "",
           "title": {
            "standoff": 15
           },
           "zerolinecolor": "white",
           "zerolinewidth": 2
          }
         }
        },
        "title": {
         "text": "TTV-BF for Earth-Moon with initial orbital speed"
        },
        "xaxis": {
         "gridcolor": "rgb(0, 255, 255)",
         "gridwidth": 1,
         "showgrid": true,
         "title": {
          "text": "TTV, sec"
         },
         "zeroline": false
        },
        "yaxis": {
         "gridcolor": "rgb(0, 255, 255)",
         "gridwidth": 1,
         "showgrid": true,
         "title": {
          "text": "BF, nomalized units"
         },
         "zeroline": true
        }
       }
      },
      "text/html": [
       "<div>\n",
       "        \n",
       "        \n",
       "            <div id=\"9b22ce59-6f54-46d1-83a7-b2980255743e\" class=\"plotly-graph-div\" style=\"height:525px; width:100%;\"></div>\n",
       "            <script type=\"text/javascript\">\n",
       "                require([\"plotly\"], function(Plotly) {\n",
       "                    window.PLOTLYENV=window.PLOTLYENV || {};\n",
       "                    \n",
       "                if (document.getElementById(\"9b22ce59-6f54-46d1-83a7-b2980255743e\")) {\n",
       "                    Plotly.newPlot(\n",
       "                        '9b22ce59-6f54-46d1-83a7-b2980255743e',\n",
       "                        [{\"marker\": {\"color\": \"rgba(255, 182, 193, .9)\", \"line\": {\"width\": 2}, \"size\": 10}, \"mode\": \"markers\", \"name\": \"TTV-BF\", \"type\": \"scatter\", \"x\": [5.0, 140.0, -145.0, 35.0, 110.0, -125.0, 31.0, 131.0, -174.0, 96.0, 61.0, -114.0, 46.0, 111.0, -194.0, 156.0, 6.0, -94.0, 72.0, 92.0, -193.0, 197.0, -48.0, -63.0, 82.0, 57.0, -183.0, 222.0, -98.0, -32.0, 93.0, 18.0, -152.0, 233.0, -137.0, 3.0, 98.0, -22.0, -107.0, 223.0, -166.0, 39.0, 94.0, -61.0, -56.0, 194.0, -181.0, 69.0, 89.0, -96.0, 4.0, 154.0, -180.0, 100.0, 75.0, -120.0, 60.0, 105.0, -160.0, 115.0, 60.0, -135.0, 120.0, 46.0, -134.0, 131.0, 36.0, -144.0, 166.0, -19.0, -89.0, 126.0, 11.0, -139.0, 197.0, -78.0, -38.0, 122.0, -13.0, -118.0, 217.0, -133.0, 7.0, 107.0, -38.0, -88.0, 228.0, -177.0, 63.0, 83.0, -52.0, -52.0, 208.0, -197.0, 108.0, 58.0, -67.0, -6.0, 184.0, -206.0], \"y\": [-0.00024790725028367433, -5.419686722740735, 5.291305029686555, -1.0082939937428037, -5.012001833892832, 4.408928738763862, -1.0895764067653246, -6.004501918122074, 5.8266400615458736, -3.8542857404566533, -3.8059083650177072, 3.659240954245746, -2.587477511362124, -5.808444875188279, 6.5487631004668145, -6.560523751253378, -1.2310995488595822, 2.927388404794229, -3.05954695389854, -4.025162060883325, 7.096078966206676, -7.633280154406563, 1.7418335149788078, 2.2843397009530975, -2.8502246781636487, -1.7811015604607405, 7.296594601635675, -8.105385486234518, 4.753315202332686, 1.7033335495408863, -2.6432087308903007, 0.5732116679091348, 6.75736001598537, -8.088995269606158, 7.113894188393033, 0.25020618532600736, -2.5773337282153364, 2.2381272493099402, 4.517907853163194, -7.645792149846287, 7.658831640666719, -1.3732931750665145, -2.6917591235964267, 3.2700989238687583, 2.5013511644189634, -6.845738161564974, 7.58199492145728, -1.386418579607529, -2.94939701095398, 4.221647643909421, 1.0514969406294483, -5.755947246721682, 7.0689061344442194, -2.5386096066393193, -3.187829282325083, 5.032732710352761, -1.8749336108125902, -4.365039664833148, 6.272739671020489, -4.164535184703055, -2.5338201908864377, 5.337705063057641, -4.457333126373086, -1.9553256050963697, 4.8934223757513, -4.876755009930456, -1.5861310296294562, 5.160660188519017, -6.088434241435792, 0.8638640320857149, 3.6412807900010336, -4.748305842627865, 0.14118340674329488, 5.389329836846812, -7.111133249027013, 3.831753455640907, 2.250167262740632, -4.156491731133194, 1.818409891329864, 4.774864259760037, -7.817524791287056, 6.247865362851712, -0.4052229479745151, -3.4575696947758416, 2.147966042143068, 3.241669958908844, -8.128841556875877, 7.386168000556026, -2.6499206448038493, -2.7787568993575817, 2.3631553573988384, 2.62818731200376, -7.967185057689008, 8.03333214771662, -3.2450748420620457, -2.1827683532871234, 2.7026492717130424, 1.3572465333844264, -7.285655029831695, 8.22788008947306]}],\n",
       "                        {\"plot_bgcolor\": \"rgb(255, 255, 255)\", \"template\": {\"data\": {\"bar\": [{\"error_x\": {\"color\": \"#2a3f5f\"}, \"error_y\": {\"color\": \"#2a3f5f\"}, \"marker\": {\"line\": {\"color\": \"#E5ECF6\", \"width\": 0.5}}, \"type\": \"bar\"}], \"barpolar\": [{\"marker\": {\"line\": {\"color\": \"#E5ECF6\", \"width\": 0.5}}, \"type\": \"barpolar\"}], \"carpet\": [{\"aaxis\": {\"endlinecolor\": \"#2a3f5f\", \"gridcolor\": \"white\", \"linecolor\": \"white\", \"minorgridcolor\": \"white\", \"startlinecolor\": \"#2a3f5f\"}, \"baxis\": {\"endlinecolor\": \"#2a3f5f\", \"gridcolor\": \"white\", \"linecolor\": \"white\", \"minorgridcolor\": \"white\", \"startlinecolor\": \"#2a3f5f\"}, \"type\": \"carpet\"}], \"choropleth\": [{\"colorbar\": {\"outlinewidth\": 0, \"ticks\": \"\"}, \"type\": \"choropleth\"}], \"contour\": [{\"colorbar\": {\"outlinewidth\": 0, \"ticks\": \"\"}, \"colorscale\": [[0.0, \"#0d0887\"], [0.1111111111111111, \"#46039f\"], [0.2222222222222222, \"#7201a8\"], [0.3333333333333333, \"#9c179e\"], [0.4444444444444444, \"#bd3786\"], [0.5555555555555556, \"#d8576b\"], [0.6666666666666666, \"#ed7953\"], [0.7777777777777778, \"#fb9f3a\"], [0.8888888888888888, \"#fdca26\"], [1.0, \"#f0f921\"]], \"type\": \"contour\"}], \"contourcarpet\": [{\"colorbar\": {\"outlinewidth\": 0, \"ticks\": \"\"}, \"type\": \"contourcarpet\"}], \"heatmap\": [{\"colorbar\": {\"outlinewidth\": 0, \"ticks\": \"\"}, \"colorscale\": [[0.0, \"#0d0887\"], [0.1111111111111111, \"#46039f\"], [0.2222222222222222, \"#7201a8\"], [0.3333333333333333, \"#9c179e\"], [0.4444444444444444, \"#bd3786\"], [0.5555555555555556, \"#d8576b\"], [0.6666666666666666, \"#ed7953\"], [0.7777777777777778, \"#fb9f3a\"], [0.8888888888888888, \"#fdca26\"], [1.0, \"#f0f921\"]], \"type\": \"heatmap\"}], \"heatmapgl\": [{\"colorbar\": {\"outlinewidth\": 0, \"ticks\": \"\"}, \"colorscale\": [[0.0, \"#0d0887\"], [0.1111111111111111, \"#46039f\"], [0.2222222222222222, \"#7201a8\"], [0.3333333333333333, \"#9c179e\"], [0.4444444444444444, \"#bd3786\"], [0.5555555555555556, \"#d8576b\"], [0.6666666666666666, \"#ed7953\"], [0.7777777777777778, \"#fb9f3a\"], [0.8888888888888888, \"#fdca26\"], [1.0, \"#f0f921\"]], \"type\": \"heatmapgl\"}], \"histogram\": [{\"marker\": {\"colorbar\": {\"outlinewidth\": 0, \"ticks\": \"\"}}, \"type\": \"histogram\"}], \"histogram2d\": [{\"colorbar\": {\"outlinewidth\": 0, \"ticks\": \"\"}, \"colorscale\": [[0.0, \"#0d0887\"], [0.1111111111111111, \"#46039f\"], [0.2222222222222222, \"#7201a8\"], [0.3333333333333333, \"#9c179e\"], [0.4444444444444444, \"#bd3786\"], [0.5555555555555556, \"#d8576b\"], [0.6666666666666666, \"#ed7953\"], [0.7777777777777778, \"#fb9f3a\"], [0.8888888888888888, \"#fdca26\"], [1.0, \"#f0f921\"]], \"type\": \"histogram2d\"}], \"histogram2dcontour\": [{\"colorbar\": {\"outlinewidth\": 0, \"ticks\": \"\"}, \"colorscale\": [[0.0, \"#0d0887\"], [0.1111111111111111, \"#46039f\"], [0.2222222222222222, \"#7201a8\"], [0.3333333333333333, \"#9c179e\"], [0.4444444444444444, \"#bd3786\"], [0.5555555555555556, \"#d8576b\"], [0.6666666666666666, \"#ed7953\"], [0.7777777777777778, \"#fb9f3a\"], [0.8888888888888888, \"#fdca26\"], [1.0, \"#f0f921\"]], \"type\": \"histogram2dcontour\"}], \"mesh3d\": [{\"colorbar\": {\"outlinewidth\": 0, \"ticks\": \"\"}, \"type\": \"mesh3d\"}], \"parcoords\": [{\"line\": {\"colorbar\": {\"outlinewidth\": 0, \"ticks\": \"\"}}, \"type\": \"parcoords\"}], \"pie\": [{\"automargin\": true, \"type\": \"pie\"}], \"scatter\": [{\"marker\": {\"colorbar\": {\"outlinewidth\": 0, \"ticks\": \"\"}}, \"type\": \"scatter\"}], \"scatter3d\": [{\"line\": {\"colorbar\": {\"outlinewidth\": 0, \"ticks\": \"\"}}, \"marker\": {\"colorbar\": {\"outlinewidth\": 0, \"ticks\": \"\"}}, \"type\": \"scatter3d\"}], \"scattercarpet\": [{\"marker\": {\"colorbar\": {\"outlinewidth\": 0, \"ticks\": \"\"}}, \"type\": \"scattercarpet\"}], \"scattergeo\": [{\"marker\": {\"colorbar\": {\"outlinewidth\": 0, \"ticks\": \"\"}}, \"type\": \"scattergeo\"}], \"scattergl\": [{\"marker\": {\"colorbar\": {\"outlinewidth\": 0, \"ticks\": \"\"}}, \"type\": \"scattergl\"}], \"scattermapbox\": [{\"marker\": {\"colorbar\": {\"outlinewidth\": 0, \"ticks\": \"\"}}, \"type\": \"scattermapbox\"}], \"scatterpolar\": [{\"marker\": {\"colorbar\": {\"outlinewidth\": 0, \"ticks\": \"\"}}, \"type\": \"scatterpolar\"}], \"scatterpolargl\": [{\"marker\": {\"colorbar\": {\"outlinewidth\": 0, \"ticks\": \"\"}}, \"type\": \"scatterpolargl\"}], \"scatterternary\": [{\"marker\": {\"colorbar\": {\"outlinewidth\": 0, \"ticks\": \"\"}}, \"type\": \"scatterternary\"}], \"surface\": [{\"colorbar\": {\"outlinewidth\": 0, \"ticks\": \"\"}, \"colorscale\": [[0.0, \"#0d0887\"], [0.1111111111111111, \"#46039f\"], [0.2222222222222222, \"#7201a8\"], [0.3333333333333333, \"#9c179e\"], [0.4444444444444444, \"#bd3786\"], [0.5555555555555556, \"#d8576b\"], [0.6666666666666666, \"#ed7953\"], [0.7777777777777778, \"#fb9f3a\"], [0.8888888888888888, \"#fdca26\"], [1.0, \"#f0f921\"]], \"type\": \"surface\"}], \"table\": [{\"cells\": {\"fill\": {\"color\": \"#EBF0F8\"}, \"line\": {\"color\": \"white\"}}, \"header\": {\"fill\": {\"color\": \"#C8D4E3\"}, \"line\": {\"color\": \"white\"}}, \"type\": \"table\"}]}, \"layout\": {\"annotationdefaults\": {\"arrowcolor\": \"#2a3f5f\", \"arrowhead\": 0, \"arrowwidth\": 1}, \"coloraxis\": {\"colorbar\": {\"outlinewidth\": 0, \"ticks\": \"\"}}, \"colorscale\": {\"diverging\": [[0, \"#8e0152\"], [0.1, \"#c51b7d\"], [0.2, \"#de77ae\"], [0.3, \"#f1b6da\"], [0.4, \"#fde0ef\"], [0.5, \"#f7f7f7\"], [0.6, \"#e6f5d0\"], [0.7, \"#b8e186\"], [0.8, \"#7fbc41\"], [0.9, \"#4d9221\"], [1, \"#276419\"]], \"sequential\": [[0.0, \"#0d0887\"], [0.1111111111111111, \"#46039f\"], [0.2222222222222222, \"#7201a8\"], [0.3333333333333333, \"#9c179e\"], [0.4444444444444444, \"#bd3786\"], [0.5555555555555556, \"#d8576b\"], [0.6666666666666666, \"#ed7953\"], [0.7777777777777778, \"#fb9f3a\"], [0.8888888888888888, \"#fdca26\"], [1.0, \"#f0f921\"]], \"sequentialminus\": [[0.0, \"#0d0887\"], [0.1111111111111111, \"#46039f\"], [0.2222222222222222, \"#7201a8\"], [0.3333333333333333, \"#9c179e\"], [0.4444444444444444, \"#bd3786\"], [0.5555555555555556, \"#d8576b\"], [0.6666666666666666, \"#ed7953\"], [0.7777777777777778, \"#fb9f3a\"], [0.8888888888888888, \"#fdca26\"], [1.0, \"#f0f921\"]]}, \"colorway\": [\"#636efa\", \"#EF553B\", \"#00cc96\", \"#ab63fa\", \"#FFA15A\", \"#19d3f3\", \"#FF6692\", \"#B6E880\", \"#FF97FF\", \"#FECB52\"], \"font\": {\"color\": \"#2a3f5f\"}, \"geo\": {\"bgcolor\": \"white\", \"lakecolor\": \"white\", \"landcolor\": \"#E5ECF6\", \"showlakes\": true, \"showland\": true, \"subunitcolor\": \"white\"}, \"hoverlabel\": {\"align\": \"left\"}, \"hovermode\": \"closest\", \"mapbox\": {\"style\": \"light\"}, \"paper_bgcolor\": \"white\", \"plot_bgcolor\": \"#E5ECF6\", \"polar\": {\"angularaxis\": {\"gridcolor\": \"white\", \"linecolor\": \"white\", \"ticks\": \"\"}, \"bgcolor\": \"#E5ECF6\", \"radialaxis\": {\"gridcolor\": \"white\", \"linecolor\": \"white\", \"ticks\": \"\"}}, \"scene\": {\"xaxis\": {\"backgroundcolor\": \"#E5ECF6\", \"gridcolor\": \"white\", \"gridwidth\": 2, \"linecolor\": \"white\", \"showbackground\": true, \"ticks\": \"\", \"zerolinecolor\": \"white\"}, \"yaxis\": {\"backgroundcolor\": \"#E5ECF6\", \"gridcolor\": \"white\", \"gridwidth\": 2, \"linecolor\": \"white\", \"showbackground\": true, \"ticks\": \"\", \"zerolinecolor\": \"white\"}, \"zaxis\": {\"backgroundcolor\": \"#E5ECF6\", \"gridcolor\": \"white\", \"gridwidth\": 2, \"linecolor\": \"white\", \"showbackground\": true, \"ticks\": \"\", \"zerolinecolor\": \"white\"}}, \"shapedefaults\": {\"line\": {\"color\": \"#2a3f5f\"}}, \"ternary\": {\"aaxis\": {\"gridcolor\": \"white\", \"linecolor\": \"white\", \"ticks\": \"\"}, \"baxis\": {\"gridcolor\": \"white\", \"linecolor\": \"white\", \"ticks\": \"\"}, \"bgcolor\": \"#E5ECF6\", \"caxis\": {\"gridcolor\": \"white\", \"linecolor\": \"white\", \"ticks\": \"\"}}, \"title\": {\"x\": 0.05}, \"xaxis\": {\"automargin\": true, \"gridcolor\": \"white\", \"linecolor\": \"white\", \"ticks\": \"\", \"title\": {\"standoff\": 15}, \"zerolinecolor\": \"white\", \"zerolinewidth\": 2}, \"yaxis\": {\"automargin\": true, \"gridcolor\": \"white\", \"linecolor\": \"white\", \"ticks\": \"\", \"title\": {\"standoff\": 15}, \"zerolinecolor\": \"white\", \"zerolinewidth\": 2}}}, \"title\": {\"text\": \"TTV-BF for Earth-Moon with initial orbital speed\"}, \"xaxis\": {\"gridcolor\": \"rgb(0, 255, 255)\", \"gridwidth\": 1, \"showgrid\": true, \"title\": {\"text\": \"TTV, sec\"}, \"zeroline\": false}, \"yaxis\": {\"gridcolor\": \"rgb(0, 255, 255)\", \"gridwidth\": 1, \"showgrid\": true, \"title\": {\"text\": \"BF, nomalized units\"}, \"zeroline\": true}},\n",
       "                        {\"responsive\": true}\n",
       "                    ).then(function(){\n",
       "                            \n",
       "var gd = document.getElementById('9b22ce59-6f54-46d1-83a7-b2980255743e');\n",
       "var x = new MutationObserver(function (mutations, observer) {{\n",
       "        var display = window.getComputedStyle(gd).display;\n",
       "        if (!display || display === 'none') {{\n",
       "            console.log([gd, 'removed!']);\n",
       "            Plotly.purge(gd);\n",
       "            observer.disconnect();\n",
       "        }}\n",
       "}});\n",
       "\n",
       "// Listen for the removal of the full notebook cells\n",
       "var notebookContainer = gd.closest('#notebook-container');\n",
       "if (notebookContainer) {{\n",
       "    x.observe(notebookContainer, {childList: true});\n",
       "}}\n",
       "\n",
       "// Listen for the clearing of the current output cell\n",
       "var outputEl = gd.closest('.output');\n",
       "if (outputEl) {{\n",
       "    x.observe(outputEl, {childList: true});\n",
       "}}\n",
       "\n",
       "                        })\n",
       "                };\n",
       "                });\n",
       "            </script>\n",
       "        </div>"
      ]
     },
     "metadata": {},
     "output_type": "display_data"
    }
   ],
   "source": [
    "t = np.linspace(0, 10, 100)\n",
    "# pio.templates.default = \"simple_white\"\n",
    "fig = go.Figure()\n",
    "\n",
    "fig.add_trace(go.Scatter(\n",
    "    x=x, y=y,\n",
    "    name='TTV-BF', mode='lines',\n",
    "    marker_color='rgba(255, 182, 193, .9)'\n",
    "))\n",
    "fig.update_layout(\n",
    "    xaxis_title=\"TTV, sec\",\n",
    "    yaxis_title=\"BF, nomalized units\")\n",
    "# Set options common to all traces with fig.update_traces\n",
    "fig.update_traces(mode='markers', marker_line_width=2, marker_size=10)\n",
    "fig.update_layout(title='TTV-BF for Earth-Moon with initial orbital speed',\n",
    "                  yaxis_zeroline=True, xaxis_zeroline=False,plot_bgcolor= \"rgb(255, 255, 255)\")\n",
    "# hovermode='closest'\n",
    "fig.update_xaxes(showgrid=True, gridwidth=1, gridcolor='rgb(0, 255, 255)')\n",
    "fig.update_yaxes(showgrid=True, gridwidth=1, gridcolor='rgb(0, 255, 255)')\n",
    "fig.show()"
   ]
  },
  {
   "cell_type": "code",
   "execution_count": null,
   "metadata": {},
   "outputs": [],
   "source": []
  },
  {
   "cell_type": "code",
   "execution_count": null,
   "metadata": {},
   "outputs": [],
   "source": []
  },
  {
   "cell_type": "code",
   "execution_count": null,
   "metadata": {},
   "outputs": [],
   "source": []
  },
  {
   "cell_type": "markdown",
   "metadata": {},
   "source": [
    "### Plot star flux for one transit"
   ]
  },
  {
   "cell_type": "code",
   "execution_count": 90,
   "metadata": {},
   "outputs": [],
   "source": [
    "curve=[]\n",
    "index=[]\n",
    "k=0\n",
    "for i in range(-6000,6000):\n",
    "#     if Jo[2][i]!=1:\n",
    "    curve.append(Jo[2][i])\n",
    "    index.append(k)\n",
    "    k=k+1\n",
    "#         print('i=',i*10,Jo[2][i])"
   ]
  },
  {
   "cell_type": "code",
   "execution_count": 91,
   "metadata": {},
   "outputs": [
    {
     "data": {
      "image/png": "[encoded data removed]",
      "text/plain": [
       "<Figure size 1080x1440 with 1 Axes>"
      ]
     },
     "metadata": {
      "needs_background": "light"
     },
     "output_type": "display_data"
    }
   ],
   "source": [
    "import matplotlib.pyplot as plt \n",
    "\n",
    "from os import path\n",
    "import matplotlib.backends.backend_pdf\n",
    "import matplotlib.dates as mdates\n",
    "\n",
    "  \n",
    "f=plt.figure(figsize=[15,20])\n",
    "plt.gca().set_xlim([1600,11500])\n",
    "plt.gca().set_ylim([0.99986,1.00001])\n",
    "# plt.gca().xaxis.set_major_locator(mdates.DayLocator(interval=10000))\n",
    "\n",
    "ax = plt.gca()\n",
    "ax.set_facecolor((1.0, 1, 1))\n",
    "plt.plot(index,curve,'bo')\n",
    "\n",
    "plt.grid(True,color='blue',linestyle=\"--\")\n",
    "plt.show()"
   ]
  },
  {
   "cell_type": "code",
   "execution_count": null,
   "metadata": {},
   "outputs": [],
   "source": []
  },
  {
   "cell_type": "code",
   "execution_count": null,
   "metadata": {},
   "outputs": [],
   "source": []
  }
 ],
 "metadata": {
  "kernelspec": {
   "display_name": "Python 3",
   "language": "python",
   "name": "python3"
  },
  "language_info": {
   "codemirror_mode": {
    "name": "ipython",
    "version": 3
   },
   "file_extension": ".py",
   "mimetype": "text/x-python",
   "name": "python",
   "nbconvert_exporter": "python",
   "pygments_lexer": "ipython3",
   "version": "3.7.3"
  }
 },
 "nbformat": 4,
 "nbformat_minor": 2
}
