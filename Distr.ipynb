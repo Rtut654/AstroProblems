{
 "cells": [
  {
   "cell_type": "code",
   "execution_count": 30,
   "metadata": {},
   "outputs": [],
   "source": [
    "########################### Libraries ####################################\n",
    "import astropy\n",
    "import pandas as pd\n",
    "import numpy as np \n",
    "import matplotlib.pyplot as plt\n",
    "import json\n",
    "import scipy\n",
    "from scipy.signal import argrelextrema\n",
    "import matplotlib.backends.backend_pdf\n",
    "from gatspy import datasets, periodic\n",
    "from astroML.plotting import setup_text_plots\n",
    "setup_text_plots(fontsize=8, usetex=False)"
   ]
  },
  {
   "cell_type": "code",
   "execution_count": 5,
   "metadata": {},
   "outputs": [],
   "source": [
    "df1=pd.read_csv('df1_homogen_zg.csv')\n",
    "df2=pd.read_csv('df1_homogen_zr.csv')\n",
    "df3=pd.read_csv('df1_homogen_summ.csv')"
   ]
  },
  {
   "cell_type": "code",
   "execution_count": 8,
   "metadata": {
    "scrolled": true
   },
   "outputs": [
    {
     "data": {
      "text/plain": [
       "<Figure size 576x360 with 0 Axes>"
      ]
     },
     "metadata": {},
     "output_type": "display_data"
    },
    {
     "data": {
      "text/plain": [
       "<Figure size 576x360 with 0 Axes>"
      ]
     },
     "metadata": {},
     "output_type": "display_data"
    },
    {
     "data": {
      "text/plain": [
       "<Figure size 576x360 with 0 Axes>"
      ]
     },
     "metadata": {},
     "output_type": "display_data"
    },
    {
     "data": {
      "text/plain": [
       "<Figure size 576x360 with 0 Axes>"
      ]
     },
     "metadata": {},
     "output_type": "display_data"
    },
    {
     "data": {
      "text/plain": [
       "<Figure size 576x360 with 0 Axes>"
      ]
     },
     "metadata": {},
     "output_type": "display_data"
    },
    {
     "data": {
      "text/plain": [
       "<Figure size 576x360 with 0 Axes>"
      ]
     },
     "metadata": {},
     "output_type": "display_data"
    },
    {
     "data": {
      "text/plain": [
       "<Figure size 576x360 with 0 Axes>"
      ]
     },
     "metadata": {},
     "output_type": "display_data"
    },
    {
     "data": {
      "text/plain": [
       "<Figure size 576x360 with 0 Axes>"
      ]
     },
     "metadata": {},
     "output_type": "display_data"
    }
   ],
   "source": [
    "# names=df1['Type'].value_counts()[:100].index.tolist()\n",
    "names=['DCEP','CEP','BCEP','UG','DCEPS','CEP(B)','CEPS','RR']\n",
    "# pdf = matplotlib.backends.backend_pdf.PdfPages(\"234.pdf\")\n",
    "for item in names:\n",
    "    \n",
    "\n",
    "    data1=df1[df1['Type']==item]['Nobs'].tolist()\n",
    "    data2=df2[df2['Type']==item]['Nobs'].tolist()\n",
    "    data3=df3[df3['Type']==item]['Nobs'].tolist()\n",
    "    \n",
    "    \n",
    "    values1, base1 = np.histogram(data1, bins=60)\n",
    "    values2, base2 = np.histogram(data2, bins=60)\n",
    "    values3, base3 = np.histogram(data3, bins=60)\n",
    "    \n",
    "    \n",
    "    \n",
    "    cumulative1 = np.cumsum(values1)\n",
    "    cumulative2 = np.cumsum(values2)\n",
    "    cumulative3 = np.cumsum(values3)\n",
    "    \n",
    "    f=plt.figure(figsize=(8,5))\n",
    "#     plt.gca().set_xlim([0,160])\n",
    "#     ax = plt.gca()\n",
    "#     ax.set_ylim([0,2500])\n",
    "    \n",
    "#     ax.set_facecolor((1.0, 1, 1))\n",
    "#     plt.plot(base1[:-1], len(data1)-cumulative1, c='green')\n",
    "#     plt.plot(base2[:-1], len(data2)-cumulative2, c='red')\n",
    "#     plt.plot(base3[:-1], len(data3)-cumulative3, c='blue',)\n",
    "#     plt.legend(['ZG','ZR','SUMM'])\n",
    "#     plt.title(item)\n",
    "#     plt.grid(True,linestyle=\"--\")\n",
    "\n",
    "# #     pdf.savefig(f) #saving pdf\n",
    "#     plt.show()\n",
    "    \n",
    "# # pdf.close()\n"
   ]
  },
  {
   "cell_type": "code",
   "execution_count": 29,
   "metadata": {
    "scrolled": true
   },
   "outputs": [
    {
     "name": "stdout",
     "output_type": "stream",
     "text": [
      "Collecting matplotlib\n",
      "  Using cached https://files.pythonhosted.org/packages/b4/4d/8a2c06cb69935bb762738a8b9d5f8ce2a66be5a1410787839b71e146f000/matplotlib-3.2.1-cp37-cp37m-win_amd64.whl\n",
      "Requirement already satisfied, skipping upgrade: kiwisolver>=1.0.1 in c:\\users\\rtut6\\anaconda3\\lib\\site-packages (from matplotlib) (1.1.0)\n",
      "Requirement already satisfied, skipping upgrade: python-dateutil>=2.1 in c:\\users\\rtut6\\anaconda3\\lib\\site-packages (from matplotlib) (2.8.1)\n",
      "Requirement already satisfied, skipping upgrade: pyparsing!=2.0.4,!=2.1.2,!=2.1.6,>=2.0.1 in c:\\users\\rtut6\\anaconda3\\lib\\site-packages (from matplotlib) (2.4.6)\n",
      "Requirement already satisfied, skipping upgrade: cycler>=0.10 in c:\\users\\rtut6\\anaconda3\\lib\\site-packages (from matplotlib) (0.10.0)\n",
      "Requirement already satisfied, skipping upgrade: numpy>=1.11 in c:\\users\\rtut6\\anaconda3\\lib\\site-packages (from matplotlib) (1.18.1)\n",
      "Requirement already satisfied, skipping upgrade: setuptools in c:\\users\\rtut6\\anaconda3\\lib\\site-packages (from kiwisolver>=1.0.1->matplotlib) (44.0.0.post20200106)\n",
      "Requirement already satisfied, skipping upgrade: six>=1.5 in c:\\users\\rtut6\\anaconda3\\lib\\site-packages (from python-dateutil>=2.1->matplotlib) (1.13.0)\n",
      "Installing collected packages: matplotlib\n",
      "Successfully installed matplotlib-3.2.1\n"
     ]
    }
   ],
   "source": [
    "!pip install --upgrade matplotlib --user"
   ]
  },
  {
   "cell_type": "code",
   "execution_count": null,
   "metadata": {},
   "outputs": [],
   "source": [
    "obj_mjd"
   ]
  },
  {
   "cell_type": "code",
   "execution_count": 9,
   "metadata": {},
   "outputs": [],
   "source": [
    "# %%time\n",
    "df=pd.DataFrame(columns=['id','ra','dec','Nobs','filter','Name','mean_magn','amplitude','max_PSD','max_fs','skew','std','trand_angle'],index=range(35000))\n",
    "obj_mjd=[]\n",
    "obj_mag=[]\n",
    "obj_magerr=[]\n",
    "k=0\n",
    "\n",
    "        \n",
    "names=df1[df1['Type']=='DCEP']['Name'].tolist()[:1]\n",
    "for item in names:\n",
    "    \n",
    "    try:\n",
    "        with open(r\"C:\\Users\\rtut6\\Desktop\\Backup\\res\\{}.txt\".format(item)) as file:\n",
    "            res = file.read().replace(\"'\", '\"')\n",
    "            res=json.loads(res)\n",
    "            obj_mjd=[]\n",
    "            obj_mag=[]\n",
    "            obj_magerr=[]\n",
    "            for obj in res.keys():\n",
    "\n",
    "                for ii in res[obj]['lc']:\n",
    "                    obj_mjd.append(ii['mjd'])\n",
    "                    obj_mag.append(ii['mag'])\n",
    "                    obj_magerr.append(ii['magerr'])\n",
    "\n",
    "                Fs = 1/((np.array(obj_mjd).max() - np.array(obj_mjd).min() )/np.array(obj_mjd).size)\n",
    "                f, Pxx = scipy.signal.periodogram(np.array(obj_mag), fs=Fs)\n",
    "\n",
    "                df['ra'][k]=round(res[obj]['meta']['coord']['ra'],3)\n",
    "                df['dec'][k]=res[obj]['meta']['coord']['dec']\n",
    "                df['Nobs'][k]=res[obj]['meta']['nobs']                     \n",
    "                df['filter'][k]=res[obj]['meta']['filter']\n",
    "                df['Name'][k]=item\n",
    "                df['id'][k] = obj\n",
    "                df['mean_magn'][k] = np.array(obj_mag).mean()\n",
    "                df['amplitude'][k] = (np.array(obj_mag).max() - np.array(obj_mag).min())/2\n",
    "                df['trand_angle'][k] = np.polyfit(np.array(obj_mjd), np.array(obj_mag), 1)[0] \n",
    "                df['skew'][k] = scipy.stats.skew(np.array(obj_mag))\n",
    "                df['std'][k] = np.array(obj_mag).std()\n",
    "                df['max_PSD'][k] = Pxx.max()\n",
    "                df['max_fs'][k] = f[Pxx.argmax()]\n",
    "                k=k+1\n",
    "                \n",
    "    except Exception as ex:\n",
    "        print(\"file {} has error\".format(item[0]), ex)\n",
    "\n",
    "#         if item[0] % 1000 == 0 :\n",
    "#             print(111)\n",
    "    #         my_data.to_csv('backup_' + str(item[0]) + '.csv')"
   ]
  },
  {
   "cell_type": "code",
   "execution_count": 10,
   "metadata": {},
   "outputs": [
    {
     "data": {
      "text/html": [
       "<div>\n",
       "<style scoped>\n",
       "    .dataframe tbody tr th:only-of-type {\n",
       "        vertical-align: middle;\n",
       "    }\n",
       "\n",
       "    .dataframe tbody tr th {\n",
       "        vertical-align: top;\n",
       "    }\n",
       "\n",
       "    .dataframe thead th {\n",
       "        text-align: right;\n",
       "    }\n",
       "</style>\n",
       "<table border=\"1\" class=\"dataframe\">\n",
       "  <thead>\n",
       "    <tr style=\"text-align: right;\">\n",
       "      <th></th>\n",
       "      <th>id</th>\n",
       "      <th>ra</th>\n",
       "      <th>dec</th>\n",
       "      <th>Nobs</th>\n",
       "      <th>filter</th>\n",
       "      <th>Name</th>\n",
       "      <th>mean_magn</th>\n",
       "      <th>amplitude</th>\n",
       "      <th>max_PSD</th>\n",
       "      <th>max_fs</th>\n",
       "      <th>skew</th>\n",
       "      <th>std</th>\n",
       "      <th>trand_angle</th>\n",
       "    </tr>\n",
       "  </thead>\n",
       "  <tbody>\n",
       "    <tr>\n",
       "      <th>0</th>\n",
       "      <td>686103200001005</td>\n",
       "      <td>296.265</td>\n",
       "      <td>31.3308</td>\n",
       "      <td>98</td>\n",
       "      <td>zg</td>\n",
       "      <td>11423</td>\n",
       "      <td>13.3243</td>\n",
       "      <td>0.5055</td>\n",
       "      <td>3.09661</td>\n",
       "      <td>0.104069</td>\n",
       "      <td>-0.443101</td>\n",
       "      <td>0.304187</td>\n",
       "      <td>-0.000598276</td>\n",
       "    </tr>\n",
       "    <tr>\n",
       "      <th>1</th>\n",
       "      <td>NaN</td>\n",
       "      <td>NaN</td>\n",
       "      <td>NaN</td>\n",
       "      <td>NaN</td>\n",
       "      <td>NaN</td>\n",
       "      <td>NaN</td>\n",
       "      <td>NaN</td>\n",
       "      <td>NaN</td>\n",
       "      <td>NaN</td>\n",
       "      <td>NaN</td>\n",
       "      <td>NaN</td>\n",
       "      <td>NaN</td>\n",
       "      <td>NaN</td>\n",
       "    </tr>\n",
       "    <tr>\n",
       "      <th>2</th>\n",
       "      <td>NaN</td>\n",
       "      <td>NaN</td>\n",
       "      <td>NaN</td>\n",
       "      <td>NaN</td>\n",
       "      <td>NaN</td>\n",
       "      <td>NaN</td>\n",
       "      <td>NaN</td>\n",
       "      <td>NaN</td>\n",
       "      <td>NaN</td>\n",
       "      <td>NaN</td>\n",
       "      <td>NaN</td>\n",
       "      <td>NaN</td>\n",
       "      <td>NaN</td>\n",
       "    </tr>\n",
       "    <tr>\n",
       "      <th>3</th>\n",
       "      <td>NaN</td>\n",
       "      <td>NaN</td>\n",
       "      <td>NaN</td>\n",
       "      <td>NaN</td>\n",
       "      <td>NaN</td>\n",
       "      <td>NaN</td>\n",
       "      <td>NaN</td>\n",
       "      <td>NaN</td>\n",
       "      <td>NaN</td>\n",
       "      <td>NaN</td>\n",
       "      <td>NaN</td>\n",
       "      <td>NaN</td>\n",
       "      <td>NaN</td>\n",
       "    </tr>\n",
       "    <tr>\n",
       "      <th>4</th>\n",
       "      <td>NaN</td>\n",
       "      <td>NaN</td>\n",
       "      <td>NaN</td>\n",
       "      <td>NaN</td>\n",
       "      <td>NaN</td>\n",
       "      <td>NaN</td>\n",
       "      <td>NaN</td>\n",
       "      <td>NaN</td>\n",
       "      <td>NaN</td>\n",
       "      <td>NaN</td>\n",
       "      <td>NaN</td>\n",
       "      <td>NaN</td>\n",
       "      <td>NaN</td>\n",
       "    </tr>\n",
       "    <tr>\n",
       "      <th>...</th>\n",
       "      <td>...</td>\n",
       "      <td>...</td>\n",
       "      <td>...</td>\n",
       "      <td>...</td>\n",
       "      <td>...</td>\n",
       "      <td>...</td>\n",
       "      <td>...</td>\n",
       "      <td>...</td>\n",
       "      <td>...</td>\n",
       "      <td>...</td>\n",
       "      <td>...</td>\n",
       "      <td>...</td>\n",
       "      <td>...</td>\n",
       "    </tr>\n",
       "    <tr>\n",
       "      <th>95</th>\n",
       "      <td>NaN</td>\n",
       "      <td>NaN</td>\n",
       "      <td>NaN</td>\n",
       "      <td>NaN</td>\n",
       "      <td>NaN</td>\n",
       "      <td>NaN</td>\n",
       "      <td>NaN</td>\n",
       "      <td>NaN</td>\n",
       "      <td>NaN</td>\n",
       "      <td>NaN</td>\n",
       "      <td>NaN</td>\n",
       "      <td>NaN</td>\n",
       "      <td>NaN</td>\n",
       "    </tr>\n",
       "    <tr>\n",
       "      <th>96</th>\n",
       "      <td>NaN</td>\n",
       "      <td>NaN</td>\n",
       "      <td>NaN</td>\n",
       "      <td>NaN</td>\n",
       "      <td>NaN</td>\n",
       "      <td>NaN</td>\n",
       "      <td>NaN</td>\n",
       "      <td>NaN</td>\n",
       "      <td>NaN</td>\n",
       "      <td>NaN</td>\n",
       "      <td>NaN</td>\n",
       "      <td>NaN</td>\n",
       "      <td>NaN</td>\n",
       "    </tr>\n",
       "    <tr>\n",
       "      <th>97</th>\n",
       "      <td>NaN</td>\n",
       "      <td>NaN</td>\n",
       "      <td>NaN</td>\n",
       "      <td>NaN</td>\n",
       "      <td>NaN</td>\n",
       "      <td>NaN</td>\n",
       "      <td>NaN</td>\n",
       "      <td>NaN</td>\n",
       "      <td>NaN</td>\n",
       "      <td>NaN</td>\n",
       "      <td>NaN</td>\n",
       "      <td>NaN</td>\n",
       "      <td>NaN</td>\n",
       "    </tr>\n",
       "    <tr>\n",
       "      <th>98</th>\n",
       "      <td>NaN</td>\n",
       "      <td>NaN</td>\n",
       "      <td>NaN</td>\n",
       "      <td>NaN</td>\n",
       "      <td>NaN</td>\n",
       "      <td>NaN</td>\n",
       "      <td>NaN</td>\n",
       "      <td>NaN</td>\n",
       "      <td>NaN</td>\n",
       "      <td>NaN</td>\n",
       "      <td>NaN</td>\n",
       "      <td>NaN</td>\n",
       "      <td>NaN</td>\n",
       "    </tr>\n",
       "    <tr>\n",
       "      <th>99</th>\n",
       "      <td>NaN</td>\n",
       "      <td>NaN</td>\n",
       "      <td>NaN</td>\n",
       "      <td>NaN</td>\n",
       "      <td>NaN</td>\n",
       "      <td>NaN</td>\n",
       "      <td>NaN</td>\n",
       "      <td>NaN</td>\n",
       "      <td>NaN</td>\n",
       "      <td>NaN</td>\n",
       "      <td>NaN</td>\n",
       "      <td>NaN</td>\n",
       "      <td>NaN</td>\n",
       "    </tr>\n",
       "  </tbody>\n",
       "</table>\n",
       "<p>100 rows × 13 columns</p>\n",
       "</div>"
      ],
      "text/plain": [
       "                 id       ra      dec Nobs filter   Name mean_magn amplitude  \\\n",
       "0   686103200001005  296.265  31.3308   98     zg  11423   13.3243    0.5055   \n",
       "1               NaN      NaN      NaN  NaN    NaN    NaN       NaN       NaN   \n",
       "2               NaN      NaN      NaN  NaN    NaN    NaN       NaN       NaN   \n",
       "3               NaN      NaN      NaN  NaN    NaN    NaN       NaN       NaN   \n",
       "4               NaN      NaN      NaN  NaN    NaN    NaN       NaN       NaN   \n",
       "..              ...      ...      ...  ...    ...    ...       ...       ...   \n",
       "95              NaN      NaN      NaN  NaN    NaN    NaN       NaN       NaN   \n",
       "96              NaN      NaN      NaN  NaN    NaN    NaN       NaN       NaN   \n",
       "97              NaN      NaN      NaN  NaN    NaN    NaN       NaN       NaN   \n",
       "98              NaN      NaN      NaN  NaN    NaN    NaN       NaN       NaN   \n",
       "99              NaN      NaN      NaN  NaN    NaN    NaN       NaN       NaN   \n",
       "\n",
       "    max_PSD    max_fs      skew       std  trand_angle  \n",
       "0   3.09661  0.104069 -0.443101  0.304187 -0.000598276  \n",
       "1       NaN       NaN       NaN       NaN          NaN  \n",
       "2       NaN       NaN       NaN       NaN          NaN  \n",
       "3       NaN       NaN       NaN       NaN          NaN  \n",
       "4       NaN       NaN       NaN       NaN          NaN  \n",
       "..      ...       ...       ...       ...          ...  \n",
       "95      NaN       NaN       NaN       NaN          NaN  \n",
       "96      NaN       NaN       NaN       NaN          NaN  \n",
       "97      NaN       NaN       NaN       NaN          NaN  \n",
       "98      NaN       NaN       NaN       NaN          NaN  \n",
       "99      NaN       NaN       NaN       NaN          NaN  \n",
       "\n",
       "[100 rows x 13 columns]"
      ]
     },
     "execution_count": 10,
     "metadata": {},
     "output_type": "execute_result"
    }
   ],
   "source": [
    "df.head(100)"
   ]
  },
  {
   "cell_type": "code",
   "execution_count": 47,
   "metadata": {
    "scrolled": true
   },
   "outputs": [
    {
     "name": "stdout",
     "output_type": "stream",
     "text": [
      "Finding optimal frequency:\n",
      " - Estimated peak width = 0.0272\n",
      " - Using 5 steps per peak; omega_step = 0.00545\n",
      " - User-specified period range:  1 to 5\n",
      " - Computing periods at 924 steps\n",
      "Zooming-in on 5 candidate peaks:\n",
      " - Computing periods at 1000 steps\n",
      "Finding optimal frequency:\n",
      " - Estimated peak width = 0.0272\n",
      " - Using 5 steps per peak; omega_step = 0.00545\n",
      " - User-specified period range:  1 to 5\n",
      " - Computing periods at 924 steps\n",
      "Zooming-in on 8 candidate peaks:\n",
      " - Computing periods at 1600 steps\n"
     ]
    },
    {
     "data": {
      "text/plain": [
       "(array([4.28374317, 1.30116181, 4.21423065, 1.31091009]),\n",
       " array([0.8072557 , 0.77766658, 0.19914657, 0.18233168]))"
      ]
     },
     "execution_count": 47,
     "metadata": {},
     "output_type": "execute_result"
    }
   ],
   "source": [
    "model = periodic.LombScargleFast(fit_period=True)\n",
    "model.optimizer.period_range = (1, 5)\n",
    "model.fit(obj_mjd, obj_mag, obj_magerr)\n",
    "model.find_best_periods(n_periods=4,return_scores=True)\n",
    "# model.periodogram(periods=True)"
   ]
  },
  {
   "cell_type": "code",
   "execution_count": 36,
   "metadata": {},
   "outputs": [
    {
     "data": {
      "text/plain": [
       "<matplotlib.collections.PathCollection at 0x290f59926a0>"
      ]
     },
     "execution_count": 36,
     "metadata": {},
     "output_type": "execute_result"
    },
    {
     "data": {
      "image/png": "[encoded data removed]",
      "text/plain": [
       "<Figure size 432x288 with 1 Axes>"
      ]
     },
     "metadata": {
      "needs_background": "light"
     },
     "output_type": "display_data"
    }
   ],
   "source": [
    "periods = np.linspace(0.1, 10, 1000)\n",
    "scores = model.score(periods)\n",
    "for i in range(len(periods)):\n",
    "    periods[i]=round(periods.tolist()[i],4)\n",
    "    scores[i]=round(scores.tolist()[i],4)\n",
    "# plt.plot(periods,scores)\n",
    "\n",
    "plt.scatter(periods, scores)\n"
   ]
  },
  {
   "cell_type": "code",
   "execution_count": null,
   "metadata": {},
   "outputs": [],
   "source": [
    "type(scores)"
   ]
  },
  {
   "cell_type": "code",
   "execution_count": 48,
   "metadata": {},
   "outputs": [
    {
     "ename": "NameError",
     "evalue": "name 'LombScargleFast' is not defined",
     "output_type": "error",
     "traceback": [
      "\u001b[1;31m---------------------------------------------------------------------------\u001b[0m",
      "\u001b[1;31mNameError\u001b[0m                                 Traceback (most recent call last)",
      "\u001b[1;32m<ipython-input-48-6e17cf2a269c>\u001b[0m in \u001b[0;36m<module>\u001b[1;34m\u001b[0m\n\u001b[0;32m      4\u001b[0m \u001b[0momega\u001b[0m \u001b[1;33m=\u001b[0m \u001b[1;36m10\u001b[0m\u001b[1;33m\u001b[0m\u001b[1;33m\u001b[0m\u001b[0m\n\u001b[0;32m      5\u001b[0m \u001b[0my\u001b[0m \u001b[1;33m=\u001b[0m \u001b[0mnp\u001b[0m\u001b[1;33m.\u001b[0m\u001b[0msin\u001b[0m\u001b[1;33m(\u001b[0m\u001b[0momega\u001b[0m \u001b[1;33m*\u001b[0m \u001b[0mt\u001b[0m\u001b[1;33m)\u001b[0m \u001b[1;33m+\u001b[0m \u001b[0mdy\u001b[0m \u001b[1;33m*\u001b[0m \u001b[0mrng\u001b[0m\u001b[1;33m.\u001b[0m\u001b[0mrandn\u001b[0m\u001b[1;33m(\u001b[0m\u001b[1;36m100\u001b[0m\u001b[1;33m)\u001b[0m\u001b[1;33m\u001b[0m\u001b[1;33m\u001b[0m\u001b[0m\n\u001b[1;32m----> 6\u001b[1;33m \u001b[0mls\u001b[0m \u001b[1;33m=\u001b[0m \u001b[0mLombScargleFast\u001b[0m\u001b[1;33m(\u001b[0m\u001b[1;33m)\u001b[0m\u001b[1;33m.\u001b[0m\u001b[0mfit\u001b[0m\u001b[1;33m(\u001b[0m\u001b[0mt\u001b[0m\u001b[1;33m,\u001b[0m \u001b[0my\u001b[0m\u001b[1;33m,\u001b[0m \u001b[0mdy\u001b[0m\u001b[1;33m)\u001b[0m\u001b[1;33m\u001b[0m\u001b[1;33m\u001b[0m\u001b[0m\n\u001b[0m\u001b[0;32m      7\u001b[0m \u001b[0mls\u001b[0m\u001b[1;33m.\u001b[0m\u001b[0moptimizer\u001b[0m\u001b[1;33m.\u001b[0m\u001b[0mperiod_range\u001b[0m \u001b[1;33m=\u001b[0m \u001b[1;33m(\u001b[0m\u001b[1;36m0.2\u001b[0m\u001b[1;33m,\u001b[0m \u001b[1;36m1.2\u001b[0m\u001b[1;33m)\u001b[0m\u001b[1;33m\u001b[0m\u001b[1;33m\u001b[0m\u001b[0m\n\u001b[0;32m      8\u001b[0m \u001b[0mls\u001b[0m\u001b[1;33m.\u001b[0m\u001b[0mbest_period\u001b[0m\u001b[1;33m\u001b[0m\u001b[1;33m\u001b[0m\u001b[0m\n",
      "\u001b[1;31mNameError\u001b[0m: name 'LombScargleFast' is not defined"
     ]
    }
   ],
   "source": [
    "rng = np.random.RandomState(0)\n",
    "t = 100 * rng.rand(100)\n",
    "dy = 0.1\n",
    "omega = 10\n",
    "y = np.sin(omega * t) + dy * rng.randn(100)\n",
    "ls = LombScargleFast().fit(t, y, dy)\n",
    "ls.optimizer.period_range = (0.2, 1.2)\n",
    "ls.best_period"
   ]
  },
  {
   "cell_type": "code",
   "execution_count": null,
   "metadata": {},
   "outputs": [],
   "source": []
  }
 ],
 "metadata": {
  "kernelspec": {
   "display_name": "Python 3",
   "language": "python",
   "name": "python3"
  },
  "language_info": {
   "codemirror_mode": {
    "name": "ipython",
    "version": 3
   },
   "file_extension": ".py",
   "mimetype": "text/x-python",
   "name": "python",
   "nbconvert_exporter": "python",
   "pygments_lexer": "ipython3",
   "version": "3.7.3"
  }
 },
 "nbformat": 4,
 "nbformat_minor": 2
}
