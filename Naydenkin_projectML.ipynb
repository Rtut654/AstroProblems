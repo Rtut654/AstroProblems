{
 "cells": [
  {
   "cell_type": "code",
   "execution_count": 3,
   "metadata": {},
   "outputs": [],
   "source": [
    "########################### Libraries ####################################\n",
    "import astropy\n",
    "import pandas as pd\n",
    "import numpy as np \n",
    "import matplotlib.pyplot as plt\n",
    "import seaborn as sns\n",
    "import requests\n",
    "from astropy.coordinates.angle_utilities import hms_to_degrees, dms_to_degrees\n",
    "from astropy.coordinates import SkyCoord  # High-level coordinates\n",
    "from astropy.coordinates import ICRS, Galactic, FK4, FK5  # Low-level frames\n",
    "from astropy.coordinates import Angle, Latitude, Longitude  # Angles\n",
    "import astropy.units as u\n",
    "import re\n",
    "import json\n",
    "from collections import Counter\n",
    "from operator import itemgetter\n",
    "import scipy\n",
    "from scipy.signal import argrelextrema\n",
    "from astroML.time_series import lomb_scargle\n",
    "from gatspy.periodic import LombScargleFast"
   ]
  },
  {
   "cell_type": "code",
   "execution_count": 4,
   "metadata": {},
   "outputs": [],
   "source": [
    "#ОКПЗ\n",
    "data = astropy.io.ascii.read('gcvs5.txt', data_start=2, delimiter='|')\n",
    "data = data.to_pandas()\n",
    "datalistt=data['Max'].tolist()\n",
    "datalist=data['Min I'].tolist()"
   ]
  },
  {
   "cell_type": "code",
   "execution_count": 5,
   "metadata": {},
   "outputs": [
    {
     "data": {
      "text/html": [
       "<div>\n",
       "<style scoped>\n",
       "    .dataframe tbody tr th:only-of-type {\n",
       "        vertical-align: middle;\n",
       "    }\n",
       "\n",
       "    .dataframe tbody tr th {\n",
       "        vertical-align: top;\n",
       "    }\n",
       "\n",
       "    .dataframe thead th {\n",
       "        text-align: right;\n",
       "    }\n",
       "</style>\n",
       "<table border=\"1\" class=\"dataframe\">\n",
       "  <thead>\n",
       "    <tr style=\"text-align: right;\">\n",
       "      <th></th>\n",
       "      <th>NNo</th>\n",
       "      <th>GCVS</th>\n",
       "      <th>J2000.0</th>\n",
       "      <th>Type</th>\n",
       "      <th>Max</th>\n",
       "      <th>Min I</th>\n",
       "      <th>Min II</th>\n",
       "      <th>Epoch</th>\n",
       "      <th>Year</th>\n",
       "      <th>Period</th>\n",
       "      <th>M-m</th>\n",
       "      <th>Spectrum</th>\n",
       "      <th>References</th>\n",
       "      <th>Other desig. p.m.(as/yr)   Epoch     Ident.     New type    GCVS</th>\n",
       "    </tr>\n",
       "  </thead>\n",
       "  <tbody>\n",
       "    <tr>\n",
       "      <th>0</th>\n",
       "      <td>010001</td>\n",
       "      <td>R     And *</td>\n",
       "      <td>002401.95 +383437.3</td>\n",
       "      <td>M</td>\n",
       "      <td>5.8</td>\n",
       "      <td>15.2</td>\n",
       "      <td>NaN</td>\n",
       "      <td>V |53820.</td>\n",
       "      <td>NaN</td>\n",
       "      <td>409.2</td>\n",
       "      <td>38</td>\n",
       "      <td>S3,5e-S8,8e(M7e)</td>\n",
       "      <td>HIP   00002</td>\n",
       "      <td>|-0.016 -0.035|2000.0  | |Hip      |M         ...</td>\n",
       "    </tr>\n",
       "    <tr>\n",
       "      <th>1</th>\n",
       "      <td>010002</td>\n",
       "      <td>S     And *</td>\n",
       "      <td>004243.1  +411605.0</td>\n",
       "      <td>SNI</td>\n",
       "      <td>5.8</td>\n",
       "      <td>&lt; 16.</td>\n",
       "      <td>NaN</td>\n",
       "      <td>V |09775.</td>\n",
       "      <td>1885</td>\n",
       "      <td>NaN</td>\n",
       "      <td>NaN</td>\n",
       "      <td>(SNI)</td>\n",
       "      <td>V 377 V 338</td>\n",
       "      <td>=M31  V0894|             |1885.67 | |Lit.     ...</td>\n",
       "    </tr>\n",
       "    <tr>\n",
       "      <th>2</th>\n",
       "      <td>010003</td>\n",
       "      <td>T     And</td>\n",
       "      <td>002223.15 +265945.8</td>\n",
       "      <td>M</td>\n",
       "      <td>7.7</td>\n",
       "      <td>14.5</td>\n",
       "      <td>NaN</td>\n",
       "      <td>V |50854.</td>\n",
       "      <td>NaN</td>\n",
       "      <td>281.0</td>\n",
       "      <td>46</td>\n",
       "      <td>M4e-M7.5e</td>\n",
       "      <td>00001 00002</td>\n",
       "      <td>|-0.007 -0.003|2000.0  | |Tyc2     |M         ...</td>\n",
       "    </tr>\n",
       "    <tr>\n",
       "      <th>3</th>\n",
       "      <td>010004</td>\n",
       "      <td>U     And</td>\n",
       "      <td>011529.70 +404308.4</td>\n",
       "      <td>M</td>\n",
       "      <td>9.0</td>\n",
       "      <td>15.0</td>\n",
       "      <td>NaN</td>\n",
       "      <td>V |49564.</td>\n",
       "      <td>NaN</td>\n",
       "      <td>347.7</td>\n",
       "      <td>40</td>\n",
       "      <td>M6e</td>\n",
       "      <td>00001 00002</td>\n",
       "      <td>|+0.009 -0.011|2000.0  | |UCAC2    |M         ...</td>\n",
       "    </tr>\n",
       "    <tr>\n",
       "      <th>4</th>\n",
       "      <td>010005</td>\n",
       "      <td>V     And</td>\n",
       "      <td>005006.28 +353910.1</td>\n",
       "      <td>M</td>\n",
       "      <td>9.0</td>\n",
       "      <td>15.2</td>\n",
       "      <td>NaN</td>\n",
       "      <td>V |51528.</td>\n",
       "      <td>NaN</td>\n",
       "      <td>256.4</td>\n",
       "      <td>45</td>\n",
       "      <td>M2e-M3e</td>\n",
       "      <td>00001 00002</td>\n",
       "      <td>|-0.007 -0.007|2000.0  | |NPM      |M         ...</td>\n",
       "    </tr>\n",
       "  </tbody>\n",
       "</table>\n",
       "</div>"
      ],
      "text/plain": [
       "      NNo         GCVS              J2000.0 Type  Max  Min I Min II  \\\n",
       "0  010001  R     And *  002401.95 +383437.3    M  5.8   15.2    NaN   \n",
       "1  010002  S     And *  004243.1  +411605.0  SNI  5.8  < 16.    NaN   \n",
       "2  010003    T     And  002223.15 +265945.8    M  7.7   14.5    NaN   \n",
       "3  010004    U     And  011529.70 +404308.4    M  9.0   15.0    NaN   \n",
       "4  010005    V     And  005006.28 +353910.1    M  9.0   15.2    NaN   \n",
       "\n",
       "       Epoch  Year Period  M-m          Spectrum   References  \\\n",
       "0  V |53820.   NaN  409.2   38  S3,5e-S8,8e(M7e)  HIP   00002   \n",
       "1  V |09775.  1885    NaN  NaN             (SNI)  V 377 V 338   \n",
       "2  V |50854.   NaN  281.0   46         M4e-M7.5e  00001 00002   \n",
       "3  V |49564.   NaN  347.7   40               M6e  00001 00002   \n",
       "4  V |51528.   NaN  256.4   45           M2e-M3e  00001 00002   \n",
       "\n",
       "  Other desig. p.m.(as/yr)   Epoch     Ident.     New type    GCVS  \n",
       "0  |-0.016 -0.035|2000.0  | |Hip      |M         ...                \n",
       "1  =M31  V0894|             |1885.67 | |Lit.     ...                \n",
       "2  |-0.007 -0.003|2000.0  | |Tyc2     |M         ...                \n",
       "3  |+0.009 -0.011|2000.0  | |UCAC2    |M         ...                \n",
       "4  |-0.007 -0.007|2000.0  | |NPM      |M         ...                "
      ]
     },
     "execution_count": 5,
     "metadata": {},
     "output_type": "execute_result"
    }
   ],
   "source": [
    "data.head()"
   ]
  },
  {
   "cell_type": "markdown",
   "metadata": {},
   "source": [
    "### GCVS input ('Max'  and 'Min I' columns) corrections"
   ]
  },
  {
   "cell_type": "code",
   "execution_count": 6,
   "metadata": {},
   "outputs": [
    {
     "name": "stdout",
     "output_type": "stream",
     "text": [
      "17\n",
      "39\n",
      "40\n",
      "77\n",
      "147\n",
      "153\n",
      "261\n",
      "812\n",
      "835\n",
      "931\n",
      "953\n",
      "1209\n",
      "1495\n",
      "1567\n",
      "1588\n",
      "1946\n",
      "2120\n",
      "2149\n",
      "2155\n",
      "2163\n",
      "2316\n",
      "2395\n",
      "2528\n",
      "2821\n",
      "2856\n",
      "3287\n",
      "3431\n",
      "3952\n",
      "4113\n",
      "4155\n",
      "5118\n",
      "5144\n",
      "5287\n",
      "5299\n",
      "5330\n",
      "5340\n",
      "5464\n",
      "5465\n",
      "5553\n",
      "5745\n",
      "5809\n",
      "5810\n",
      "6129\n",
      "6130\n",
      "6157\n",
      "6178\n",
      "6185\n",
      "6210\n",
      "6304\n",
      "6616\n",
      "6617\n",
      "6812\n",
      "7207\n",
      "7236\n",
      "7243\n",
      "7526\n",
      "7531\n",
      "7545\n",
      "7548\n",
      "7604\n",
      "7754\n",
      "7755\n",
      "7942\n",
      "7959\n",
      "7967\n",
      "8029\n",
      "8404\n",
      "8445\n",
      "8555\n",
      "8558\n",
      "8647\n",
      "8888\n",
      "8895\n",
      "8909\n",
      "8964\n",
      "9610\n",
      "9880\n",
      "9907\n",
      "10020\n",
      "10063\n",
      "10115\n",
      "10140\n",
      "10145\n",
      "10477\n",
      "10478\n",
      "10531\n",
      "10824\n",
      "10866\n",
      "10869\n",
      "10929\n",
      "10934\n",
      "10937\n",
      "10938\n",
      "10939\n",
      "11343\n",
      "11472\n",
      "11570\n",
      "11636\n",
      "11646\n",
      "11672\n",
      "11858\n",
      "11890\n",
      "11903\n",
      "12316\n",
      "12320\n",
      "12358\n",
      "12440\n",
      "12486\n",
      "12512\n",
      "12530\n",
      "12659\n",
      "12700\n",
      "12872\n",
      "13353\n",
      "13437\n",
      "13622\n",
      "13866\n",
      "14079\n",
      "14189\n",
      "14191\n",
      "14243\n",
      "14259\n",
      "14336\n",
      "14344\n",
      "14532\n",
      "14902\n",
      "14907\n",
      "15015\n",
      "15150\n",
      "15796\n",
      "15814\n",
      "15833\n",
      "15844\n",
      "15886\n",
      "15887\n",
      "15896\n",
      "15897\n",
      "16066\n",
      "16130\n",
      "16131\n",
      "16132\n",
      "16138\n",
      "16148\n",
      "16186\n",
      "16358\n",
      "16463\n",
      "16877\n",
      "17070\n",
      "17303\n",
      "17365\n",
      "17590\n",
      "17988\n",
      "17992\n",
      "19067\n",
      "19155\n",
      "19159\n",
      "19160\n",
      "19753\n",
      "19798\n",
      "19831\n",
      "19873\n",
      "20179\n",
      "20197\n",
      "20200\n",
      "20213\n",
      "20216\n",
      "20349\n",
      "20417\n",
      "20875\n",
      "20878\n",
      "20885\n",
      "20902\n",
      "20903\n",
      "20908\n",
      "21113\n",
      "21162\n",
      "21200\n",
      "21230\n",
      "21303\n",
      "21497\n",
      "22120\n",
      "22431\n",
      "22432\n",
      "22433\n",
      "22524\n",
      "22608\n",
      "22726\n",
      "22916\n",
      "23185\n",
      "23214\n",
      "23319\n",
      "23331\n",
      "23464\n",
      "23697\n",
      "23851\n",
      "24121\n",
      "24146\n",
      "24192\n",
      "24850\n",
      "25044\n",
      "25241\n",
      "25454\n",
      "25779\n",
      "26190\n",
      "26225\n",
      "27221\n",
      "27989\n",
      "28065\n",
      "28069\n",
      "28071\n",
      "28079\n",
      "28083\n",
      "28264\n",
      "28407\n",
      "28446\n",
      "28608\n",
      "28839\n",
      "28840\n",
      "28909\n",
      "29231\n",
      "29441\n",
      "30557\n",
      "31054\n",
      "31072\n",
      "31141\n",
      "31538\n",
      "31622\n",
      "33235\n",
      "33629\n",
      "33631\n",
      "33846\n",
      "34021\n",
      "34137\n",
      "34203\n",
      "36007\n",
      "36173\n",
      "36191\n",
      "36195\n",
      "36297\n",
      "36367\n",
      "36567\n",
      "36868\n",
      "36969\n",
      "37344\n",
      "38242\n",
      "38477\n",
      "38482\n",
      "38546\n",
      "38547\n",
      "38561\n",
      "38562\n",
      "38575\n",
      "38621\n",
      "38871\n",
      "38873\n",
      "39109\n",
      "39341\n",
      "39455\n",
      "39538\n",
      "39661\n",
      "39792\n",
      "39946\n",
      "40001\n",
      "40013\n",
      "40038\n",
      "40508\n",
      "40849\n",
      "40892\n",
      "40924\n",
      "40965\n",
      "40990\n",
      "40991\n",
      "41095\n",
      "41103\n",
      "41226\n",
      "41316\n",
      "41669\n",
      "42226\n",
      "42551\n",
      "42784\n",
      "42929\n",
      "43131\n",
      "43416\n",
      "43448\n",
      "43664\n",
      "43670\n",
      "43687\n",
      "43816\n",
      "43858\n",
      "43860\n",
      "43906\n",
      "43908\n",
      "43910\n",
      "43912\n",
      "43914\n",
      "43915\n",
      "43916\n",
      "43917\n",
      "43919\n",
      "43920\n",
      "43922\n",
      "43924\n",
      "43929\n",
      "43930\n",
      "43934\n",
      "43935\n",
      "43938\n",
      "43939\n",
      "43943\n",
      "43944\n",
      "43945\n",
      "43948\n",
      "43950\n",
      "43952\n",
      "43953\n",
      "43955\n",
      "43956\n",
      "43961\n",
      "43994\n",
      "43997\n",
      "44011\n",
      "44012\n",
      "44270\n",
      "44675\n",
      "46514\n",
      "46540\n",
      "46893\n",
      "46958\n",
      "46959\n",
      "47364\n",
      "47403\n",
      "47425\n",
      "47633\n",
      "48230\n",
      "48233\n",
      "48234\n",
      "48245\n",
      "48379\n",
      "48466\n",
      "48468\n",
      "48469\n",
      "48473\n",
      "48495\n",
      "49038\n",
      "49082\n",
      "49835\n",
      "49838\n",
      "49842\n",
      "49843\n",
      "49985\n",
      "49990\n",
      "50054\n",
      "50222\n",
      "50224\n",
      "50252\n",
      "50336\n",
      "50411\n",
      "50447\n",
      "50459\n",
      "50535\n",
      "50539\n",
      "50576\n",
      "50617\n",
      "50634\n",
      "50893\n",
      "51040\n",
      "51267\n",
      "51912\n",
      "51981\n",
      "52469\n",
      "52737\n",
      "52985\n",
      "53061\n",
      "53269\n",
      "53610\n",
      "54419\n",
      "54441\n",
      "54451\n",
      "54497\n",
      "39\n",
      "835\n",
      "1567\n",
      "1588\n",
      "2395\n",
      "2528\n",
      "2821\n",
      "3431\n",
      "4113\n",
      "4155\n",
      "5340\n",
      "5809\n",
      "5810\n",
      "6304\n",
      "7545\n",
      "8445\n",
      "8558\n",
      "8888\n",
      "9610\n",
      "9880\n",
      "9907\n",
      "10145\n",
      "10477\n",
      "10478\n",
      "10531\n",
      "10824\n",
      "11343\n",
      "11472\n",
      "11570\n",
      "11632\n",
      "11903\n",
      "12316\n",
      "12358\n",
      "12440\n",
      "12486\n",
      "12512\n",
      "12659\n",
      "12707\n",
      "13353\n",
      "13434\n",
      "13437\n",
      "13866\n",
      "14079\n",
      "14243\n",
      "14259\n",
      "14336\n",
      "14344\n",
      "14907\n",
      "15015\n",
      "15150\n",
      "16066\n",
      "16186\n",
      "16463\n",
      "17070\n",
      "17303\n",
      "17590\n",
      "17988\n",
      "17992\n",
      "19067\n",
      "19159\n",
      "19798\n",
      "19831\n",
      "20213\n",
      "20417\n",
      "21113\n",
      "21200\n",
      "21230\n",
      "21524\n",
      "22608\n",
      "22726\n",
      "22916\n",
      "23185\n",
      "23214\n",
      "23464\n",
      "23697\n",
      "23851\n",
      "24121\n",
      "24146\n",
      "24850\n",
      "25241\n",
      "26190\n",
      "26225\n",
      "27221\n",
      "28041\n",
      "28065\n",
      "28069\n",
      "28071\n",
      "28079\n",
      "28083\n",
      "28407\n",
      "28446\n",
      "28608\n",
      "28839\n",
      "28840\n",
      "28909\n",
      "29231\n",
      "30557\n",
      "31072\n",
      "31141\n",
      "31538\n",
      "31622\n",
      "33223\n",
      "33224\n",
      "33228\n",
      "33233\n",
      "33234\n",
      "33236\n",
      "33237\n",
      "33240\n",
      "33241\n",
      "33429\n",
      "33481\n",
      "33484\n",
      "33502\n",
      "33511\n",
      "33522\n",
      "33524\n",
      "33527\n",
      "33551\n",
      "33580\n",
      "33581\n",
      "33584\n",
      "33599\n",
      "33601\n",
      "33611\n",
      "33629\n",
      "33630\n",
      "33631\n",
      "33637\n",
      "33644\n",
      "33846\n",
      "34021\n",
      "34087\n",
      "34090\n",
      "34093\n",
      "34203\n",
      "36007\n",
      "36195\n",
      "36297\n",
      "36316\n",
      "36317\n",
      "36367\n",
      "36969\n",
      "37344\n",
      "37978\n",
      "38621\n",
      "39109\n",
      "39341\n",
      "39455\n",
      "39792\n",
      "40001\n",
      "40038\n",
      "40849\n",
      "40892\n",
      "40924\n",
      "40965\n",
      "40990\n",
      "40991\n",
      "41095\n",
      "41103\n",
      "41226\n",
      "41316\n",
      "41669\n",
      "42226\n",
      "42551\n",
      "42784\n",
      "42929\n",
      "43131\n",
      "43416\n",
      "43448\n",
      "43664\n",
      "43670\n",
      "43687\n",
      "43816\n",
      "43858\n",
      "43860\n",
      "43906\n",
      "43908\n",
      "43910\n",
      "43912\n",
      "43914\n",
      "43916\n",
      "43917\n",
      "43919\n",
      "43922\n",
      "43924\n",
      "43929\n",
      "43930\n",
      "43934\n",
      "43938\n",
      "43948\n",
      "43950\n",
      "43952\n",
      "43953\n",
      "43955\n",
      "43956\n",
      "43961\n",
      "43994\n",
      "43997\n",
      "44011\n",
      "44270\n",
      "44675\n",
      "46514\n",
      "46893\n",
      "47364\n",
      "47633\n",
      "48473\n",
      "48495\n",
      "49985\n",
      "50025\n",
      "50054\n",
      "50222\n",
      "50224\n",
      "50252\n",
      "50336\n",
      "50411\n",
      "50447\n",
      "50459\n",
      "50535\n",
      "50539\n",
      "50576\n",
      "50617\n",
      "50634\n",
      "50893\n",
      "51040\n",
      "51981\n",
      "54441\n",
      "54497\n"
     ]
    }
   ],
   "source": [
    "name=datalistt[39]# save strange nan?\n",
    "for i in range(len(datalist)):\n",
    "    try:\n",
    "        if datalist[i][0]=='<':\n",
    "            datalist[i]=datalist[i][2:]\n",
    "        if datalist[i][-1]==':':\n",
    "            datalist[i]=datalist[i][:4]\n",
    "        if datalist[i][0]=='(':\n",
    "            datalist[i]=100\n",
    "    except:\n",
    "        print(i)\n",
    "        \n",
    "for i in range(len(datalistt)):\n",
    "    try:\n",
    "        if datalistt[i]==datalistt[39]:\n",
    "            datalistt[i]=0\n",
    "        if datalistt[i][0]=='|':\n",
    "            datalistt[i]=datalistt[1][1:]\n",
    "    except:\n",
    "        print(i)        "
   ]
  },
  {
   "cell_type": "markdown",
   "metadata": {},
   "source": [
    " # GCVS analyses  "
   ]
  },
  {
   "cell_type": "markdown",
   "metadata": {},
   "source": [
    "### Here we remove stars which min mag< 12m"
   ]
  },
  {
   "cell_type": "code",
   "execution_count": 7,
   "metadata": {},
   "outputs": [
    {
     "name": "stdout",
     "output_type": "stream",
     "text": [
      "1\n",
      "1\n"
     ]
    },
    {
     "data": {
      "text/plain": [
       "(48549, 16)"
      ]
     },
     "execution_count": 7,
     "metadata": {},
     "output_type": "execute_result"
    }
   ],
   "source": [
    "data['index']=data.index\n",
    "i=0\n",
    "k=0\n",
    "index=[]\n",
    "for i in range(len(datalist)):\n",
    "    try:\n",
    "        if float(datalist[i])<=10:\n",
    "            index.append(i)\n",
    "    except:\n",
    "        print(1)\n",
    "data=data.drop(index,axis=0)     \n",
    "data=data.reset_index()        \n",
    "data.shape"
   ]
  },
  {
   "cell_type": "markdown",
   "metadata": {},
   "source": [
    "### Here we calculate the num of stars which max-min range does not fully belong to [12:20]"
   ]
  },
  {
   "cell_type": "code",
   "execution_count": 8,
   "metadata": {},
   "outputs": [],
   "source": [
    "# k=0\n",
    "# d=0\n",
    "# for i in range(len(datalist)):\n",
    "#     try:\n",
    "#         if float(datalistt[i])<12:\n",
    "#             d=d+1\n",
    "# #             data=data.drop(index=i,axis=1)\n",
    "#     except:\n",
    "#         k=k+1\n",
    "# print(d)\n",
    "#18980"
   ]
  },
  {
   "cell_type": "markdown",
   "metadata": {},
   "source": [
    "### result N of stars which belong to [12:20]"
   ]
  },
  {
   "cell_type": "code",
   "execution_count": 9,
   "metadata": {},
   "outputs": [],
   "source": [
    "# data.shape[0]-d\n",
    "#35999"
   ]
  },
  {
   "cell_type": "code",
   "execution_count": 10,
   "metadata": {},
   "outputs": [],
   "source": [
    "# drop them\n",
    "# data1=data1.drop(index=d,axis=1,inplace=True)\n",
    "# data1=data1.reset_index()\n",
    "# data1"
   ]
  },
  {
   "cell_type": "markdown",
   "metadata": {},
   "source": [
    "### Take only necessary columns + coordinates preparation"
   ]
  },
  {
   "cell_type": "code",
   "execution_count": 11,
   "metadata": {},
   "outputs": [],
   "source": [
    "# ОКПЗ\n",
    "# data = astropy.io.ascii.read('gcvs5.txt', data_start=2, delimiter='|')"
   ]
  },
  {
   "cell_type": "code",
   "execution_count": 12,
   "metadata": {},
   "outputs": [],
   "source": [
    "data = data[['J2000.0', 'Type']]"
   ]
  },
  {
   "cell_type": "code",
   "execution_count": 13,
   "metadata": {
    "scrolled": true
   },
   "outputs": [],
   "source": [
    "# data = data.to_pandas()"
   ]
  },
  {
   "cell_type": "code",
   "execution_count": 14,
   "metadata": {},
   "outputs": [],
   "source": [
    "data.Type = data.Type.map(lambda item: re.sub(':', '', str(item) ) if str(item).endswith(':') else str(item) )"
   ]
  },
  {
   "cell_type": "code",
   "execution_count": 15,
   "metadata": {},
   "outputs": [],
   "source": [
    "data.rename(columns={'J2000.0':'coord'}, inplace=True)"
   ]
  },
  {
   "cell_type": "code",
   "execution_count": 16,
   "metadata": {},
   "outputs": [],
   "source": [
    "data.drop(index=data[data.coord.map(lambda x: type(x) is not str )].index.values.tolist(), inplace=True)"
   ]
  },
  {
   "cell_type": "code",
   "execution_count": 17,
   "metadata": {},
   "outputs": [],
   "source": [
    "data = data[ data.coord.map(lambda x: len(str(x)) == 19 ) ]"
   ]
  },
  {
   "cell_type": "code",
   "execution_count": 18,
   "metadata": {},
   "outputs": [],
   "source": [
    "data['ra'] = data.coord.map(lambda x: x[:9])\n",
    "data['dec'] = data.coord.map(lambda x: x[9:])"
   ]
  },
  {
   "cell_type": "code",
   "execution_count": 19,
   "metadata": {},
   "outputs": [],
   "source": [
    "data.dec = data.dec.map(lambda x: x.replace(' ', '') )"
   ]
  },
  {
   "cell_type": "code",
   "execution_count": 20,
   "metadata": {},
   "outputs": [],
   "source": [
    "data = data[ (data.dec.map(lambda x: x.startswith('+')) | data.dec.map(lambda x: x.startswith('-')) )\n",
    "            & data.dec.map(lambda x: len(x) == 9 ) ]"
   ]
  },
  {
   "cell_type": "code",
   "execution_count": 21,
   "metadata": {},
   "outputs": [],
   "source": [
    "data.reset_index(drop=True, inplace=True)"
   ]
  },
  {
   "cell_type": "code",
   "execution_count": 22,
   "metadata": {
    "scrolled": true
   },
   "outputs": [],
   "source": [
    "data.ra = data.ra.map(lambda x: hms_to_degrees(float(x[:2]), float(x[2:4]), float(x[4:])) )\n",
    "data.dec = data.dec.map(lambda x: dms_to_degrees(float(x[:3]), float(x[3:5]), float(x[5:])))"
   ]
  },
  {
   "cell_type": "code",
   "execution_count": 23,
   "metadata": {},
   "outputs": [],
   "source": [
    "#sorted(Counter(data.Type).items(), key=itemgetter(1), reverse=True)"
   ]
  },
  {
   "cell_type": "markdown",
   "metadata": {},
   "source": [
    "## Features engineering (for ML)"
   ]
  },
  {
   "cell_type": "code",
   "execution_count": 52,
   "metadata": {},
   "outputs": [],
   "source": [
    "#Построение периодограммы (фурье спектра сигнала) для текущего значения obj_mag,obj_magerr,ang_freqs\n",
    "# from astroML.time_series import lomb_scargle\n",
    "# periods = np.linspace(0.01, 200, 500)\n",
    "# ang_freqs = 2 * np.pi / periods\n",
    "# power = lomb_scargle(np.array(obj_mjd), np.array(obj_mag), np.array(obj_magerr), ang_freqs)\n",
    "# # plot the results\n",
    "# fig, ax = plt.subplots()\n",
    "# ax.plot(periods, power)\n",
    "# ax.set(ylim=(0, 0.8), xlabel='period (days)',\n",
    "#        ylabel='Lomb-Scargle Power');"
   ]
  },
  {
   "cell_type": "code",
   "execution_count": 53,
   "metadata": {
    "scrolled": true
   },
   "outputs": [],
   "source": [
    "# peak_data = scipy.signal.find_peaks(power,prominence=0.05)\n",
    "# f1=np.max(power[peak_data[0]])\n",
    "# ind1=power[peak_data[0]].argmax()\n",
    "# power[peak_data[0][ind1]]=0\n",
    "# f2=np.max(power[peak_data[0]])\n",
    "# ind2=power[peak_data[0]].argmax()\n",
    "# print(periods[peak_data[0][ind1]])\n",
    "# print(periods[peak_data[0][ind2]])\n",
    "# print(periods[ind1])\n",
    "# print(periods[ind2])"
   ]
  },
  {
   "cell_type": "code",
   "execution_count": 54,
   "metadata": {},
   "outputs": [],
   "source": [
    "# model = LombScargleFast().fit(np.array(obj_mjd), np.array(obj_mag), np.array(obj_magerr))\n",
    "# period, power = model.periodogram_auto(nyquist_factor=200)\n",
    "# print(\"period range: ({0}, {1})\".format(period.min(), period.max()))\n",
    "# print(\"number of periods: {0}\".format(len(period)))\n",
    "# print(type(periods))"
   ]
  },
  {
   "cell_type": "code",
   "execution_count": 24,
   "metadata": {},
   "outputs": [],
   "source": [
    "data1=data# Для быстрой загрузки с сервера"
   ]
  },
  {
   "cell_type": "code",
   "execution_count": 25,
   "metadata": {},
   "outputs": [],
   "source": [
    "# data1=data[42000:]"
   ]
  },
  {
   "cell_type": "code",
   "execution_count": 26,
   "metadata": {},
   "outputs": [
    {
     "data": {
      "text/plain": [
       "<generator object DataFrame.iterrows at 0x000001D30C0C1DE0>"
      ]
     },
     "execution_count": 26,
     "metadata": {},
     "output_type": "execute_result"
    }
   ],
   "source": [
    "data1.iterrows()"
   ]
  },
  {
   "cell_type": "code",
   "execution_count": 362,
   "metadata": {},
   "outputs": [
    {
     "ename": "AttributeError",
     "evalue": "'builtin_function_or_method' object has no attribute 'values'",
     "output_type": "error",
     "traceback": [
      "\u001b[1;31m---------------------------------------------------------------------------\u001b[0m",
      "\u001b[1;31mAttributeError\u001b[0m                            Traceback (most recent call last)",
      "\u001b[1;32m<ipython-input-362-718763619dd9>\u001b[0m in \u001b[0;36m<module>\u001b[1;34m\u001b[0m\n\u001b[1;32m----> 1\u001b[1;33m \u001b[0mrows\u001b[0m \u001b[1;33m=\u001b[0m \u001b[0mnp\u001b[0m\u001b[1;33m.\u001b[0m\u001b[0mrandom\u001b[0m\u001b[1;33m.\u001b[0m\u001b[0mchoice\u001b[0m\u001b[1;33m(\u001b[0m\u001b[0mdata\u001b[0m\u001b[1;33m.\u001b[0m\u001b[0mindex\u001b[0m\u001b[1;33m.\u001b[0m\u001b[0mvalues\u001b[0m\u001b[1;33m,\u001b[0m \u001b[1;36m3000\u001b[0m\u001b[1;33m)\u001b[0m\u001b[1;33m\u001b[0m\u001b[1;33m\u001b[0m\u001b[0m\n\u001b[0m\u001b[0;32m      2\u001b[0m \u001b[0mprint\u001b[0m\u001b[1;33m(\u001b[0m\u001b[0mdata1\u001b[0m\u001b[1;33m.\u001b[0m\u001b[0mshape\u001b[0m\u001b[1;33m)\u001b[0m\u001b[1;33m\u001b[0m\u001b[1;33m\u001b[0m\u001b[0m\n\u001b[0;32m      3\u001b[0m \u001b[0mdata1\u001b[0m\u001b[1;33m.\u001b[0m\u001b[0mhead\u001b[0m\u001b[1;33m(\u001b[0m\u001b[1;33m)\u001b[0m\u001b[1;33m\u001b[0m\u001b[1;33m\u001b[0m\u001b[0m\n",
      "\u001b[1;31mAttributeError\u001b[0m: 'builtin_function_or_method' object has no attribute 'values'"
     ]
    }
   ],
   "source": [
    "rows = np.random.choice(data.index.values, 3000)\n",
    "print(data1.shape)\n",
    "data1.head()"
   ]
  },
  {
   "cell_type": "markdown",
   "metadata": {},
   "source": [
    "## Sending requests with different conditions and parameters + saving files"
   ]
  },
  {
   "cell_type": "code",
   "execution_count": 519,
   "metadata": {},
   "outputs": [],
   "source": [
    "# %%time\n",
    "# obj_mjd1={}\n",
    "# obj_mag1={}\n",
    "# periods = np.linspace(0.01, 200, 500)\n",
    "# ang_freqs = 2 * np.pi / periods\n",
    "# my_data = pd.DataFrame({'obj_id':[],\n",
    "#                         'filter':[],\n",
    "# #                         'mean_magn':[],\n",
    "# #                         'amplitude':[],\n",
    "# #                         'trand_angle':[],\n",
    "# #                         'skew' : [],\n",
    "# #                         'std' : [],\n",
    "# #                         'max_PSD' : [],\n",
    "# #                         'max_fs' : [],\n",
    "#                         'pointsN': [],\n",
    "#                         'idN': [],\n",
    "#                         'dist':[],\n",
    "# #                         'dist1':[],\n",
    "# #                         'dist2':[],                        \n",
    "#                         'class':[]})\n",
    "# i=0\n",
    "# for item in data1.iterrows():\n",
    "# #     obj_mjd1[i]=obj_mjd\n",
    "# #     obj_mag1[i]=obj_mag\n",
    "# #     i=i+1\n",
    "# #     a=item[1].ra*u.degree\n",
    "# #     b=item[1].dec*u.degree\n",
    "#     try:\n",
    "#         resp = requests.get('http://db.ztf.snad.space/api/v1/circle/full/json?ra={ra}&dec={dec}&radius_arcsec={r}'.format(ra=item[1].ra, \n",
    "#                                                                                                                           dec=item[1].dec, \n",
    "#         res = resp.json()\n",
    "#         i=i+1\n",
    "#         if len(res.keys())==2:\n",
    "                                                                                                                          \n",
    "#             if i%1000==0:\n",
    "#                 print(i)\n",
    "#             c1=SkyCoord(res[list(res.keys())[0]]['meta']['coord']['ra']*u.degree, res[list(res.keys())[0]]['meta']['coord']['dec']*u.degree)\n",
    "#             c2=SkyCoord(res[list(res.keys())[1]]['meta']['coord']['ra']*u.degree, res[list(res.keys())[1]]['meta']['coord']['dec']*u.degree)\n",
    "# #             c3=SkyCoord(res[list(res.keys())[2]]['meta']['coord']['ra']*u.degree, res[list(res.keys())[2]]['meta']['coord']['dec']*u.degree)\n",
    "# #             c4=SkyCoord(res[list(res.keys())[3]]['meta']['coord']['ra']*u.degree, res[list(res.keys())[3]]['meta']['coord']['dec']*u.degree)\n",
    "        \n",
    "#             # sep = c1.separation(c2)\n",
    "# #             sep1 = c3.separation(c1)\n",
    "# #             sep2 = c3.separation(c2) \n",
    "# #             print(c1)\n",
    "# #             print(res.keys())\n",
    "# #             print(res[list(res.keys())[0]]['meta']['filter'])\n",
    "# #             print(res[list(res.keys())[0]]['meta']['nobs'])\n",
    " \n",
    "# # c3=SkyCoord(a,b)\n",
    "#             for obj_id in res.keys():\n",
    "#                 with open(obj_id+'.txt', 'w') as file:\n",
    "#                     file.write(json.dumps(res))\n",
    "                    \n",
    "#     #             if (res[obj_id]['meta']['filter']=='zg') & (len(res[obj_id]['lc'])>=5):\n",
    "#                 obj_mjd = []\n",
    "#                 obj_mag = []\n",
    "#                 obj_magerr = []\n",
    "#                 object_return = {}\n",
    "#                 obj_filter = res[obj_id]['meta']['filter']\n",
    "# #                     for ii in res[obj_id]['lc']:\n",
    "# #                         obj_mjd.append(ii['mjd'])\n",
    "# #                         obj_mag.append(ii['mag'])\n",
    "# #                         obj_magerr.append(ii['magerr'])\n",
    "#     #                 Fs = 1/((np.array(obj_mjd).max() - np.array(obj_mjd).min() )/np.array(obj_mjd).size)\n",
    "#     #                 Fs = np.linspace(0.01, 10)\n",
    "# #                     model = LombScargleFast().fit(obj_mjd, obj_mag, obj_magerr)\n",
    "#     #                 period, power = model.periodogram_auto(nyquist_factor=200)\n",
    "# #                     period=0\n",
    "# #                     power=0\n",
    "#                 object_return['obj_id'] = obj_id\n",
    "#                 object_return['filter'] = res[obj_id]['meta']['filter']\n",
    "# #                     object_return['mean_magn'] = np.array(obj_mag).mean()\n",
    "# #                     object_return['amplitude'] = np.array(obj_mag).max() - np.array(obj_mag).min()\n",
    "# #                     object_return['trand_angle'] = np.polyfit(np.array(obj_mjd), np.array(obj_mag), 1)[0] \n",
    "# #                     object_return['skew'] = scipy.stats.skew(np.array(obj_mag))\n",
    "#                 object_return['pointsN'] = len(res[obj_id]['lc'])\n",
    "#                 object_return['idN'] = len(res.keys())\n",
    "# #                 object_return['dist'] = sep \n",
    "# #                 object_return['dist1'] = sep1\n",
    "# #                 object_return['dist2'] = sep2\n",
    "\n",
    "#     #                 D1=np.max(power[peak_data[0]])\n",
    "#     #                 ind1=power[peak_data[0]].argmax()\n",
    "#     #                 power[peak_data[0][ind1]]=0\n",
    "#     #                 D2=np.max(power[peak_data[0]])\n",
    "#     #                 ind2=power[peak_data[0]].argmax() \n",
    "# #                     object_return['max_fs'] =0\n",
    "# #                     object_return['max_fs'] = 2*np.pi/(period[power.argmax()])\n",
    "#     #                 object_return['max_fs1'] = 2*np.pi/(period[peak_data[0][ind2]])                \n",
    "# #                     object_return['max_PSD'] = np.max(power)\n",
    "#     #                 object_return['max_PSD1'] = D2\n",
    "# #                     object_return['std'] = np.array(obj_mag).std()\n",
    "#                 my_data = my_data.append( pd.DataFrame({'obj_id' : [ object_return['obj_id'] ],\n",
    "#                                                           'filter' : [ object_return['filter'] ],\n",
    "# #                                                           'mean_magn' :[ object_return['mean_magn'] ],\n",
    "# #                                                           'amplitude' : [ object_return['amplitude'] ], \n",
    "# #                                                           'trand_angle' : [ object_return['trand_angle'] ],\n",
    "# #                                                           'skew' : [ object_return['skew'] ],\n",
    "# #                                                           'std' : [ object_return['std'] ],\n",
    "# #                                                           'max_PSD' : [ object_return['max_PSD']],\n",
    "# #                                                           'max_fs' : [ object_return['max_fs'] ],\n",
    "#                                                           'pointsN' : [ object_return['pointsN']],\n",
    "#                                                           'idN' : [ object_return['idN']],\n",
    "#                                                           'dist' : [ object_return['dist']],\n",
    "# #                                                           'dist1' : [ object_return['dist1']], \n",
    "# #                                                           'dist2' : [ object_return['dist2']],                                                           \n",
    "#                                                           'class' : [ item[1].Type ] }),\n",
    "#                                              ignore_index = True)\n",
    "    \n",
    "#     except Exception as ex:\n",
    "#         print(\"file {} has error\".format(item[0]), ex)\n",
    "#     if item[0] % 1000 == 0 :\n",
    "#         my_data.to_csv('backup_' + str(item[0]) + '.csv')    "
   ]
  },
  {
   "cell_type": "markdown",
   "metadata": {},
   "source": [
    "### Viewing all the names in folder"
   ]
  },
  {
   "cell_type": "code",
   "execution_count": 62,
   "metadata": {},
   "outputs": [],
   "source": [
    "from os import walk\n",
    "f = []\n",
    "mypath=r'C:\\Users\\rtut6\\Desktop\\Backup\\1' # first (1) or second (2) folder\n",
    "for (dirpath, dirnames, filenames) in walk(mypath):\n",
    "    f.extend(filenames)\n",
    "    break"
   ]
  },
  {
   "cell_type": "code",
   "execution_count": 63,
   "metadata": {},
   "outputs": [
    {
     "data": {
      "text/plain": [
       "['1.txt',\n",
       " '10024.txt',\n",
       " '10097.txt',\n",
       " '10100.txt',\n",
       " '10102.txt',\n",
       " '10112.txt',\n",
       " '10135.txt',\n",
       " '10136.txt',\n",
       " '10139.txt',\n",
       " '10140.txt',\n",
       " '10146.txt',\n",
       " '10157.txt',\n",
       " '10212.txt',\n",
       " '10213.txt',\n",
       " '10217.txt',\n",
       " '10220.txt',\n",
       " '10240.txt',\n",
       " '1047.txt',\n",
       " '1048.txt',\n",
       " '1049.txt',\n",
       " '1052.txt',\n",
       " '1053.txt',\n",
       " '1055.txt',\n",
       " '1056.txt',\n",
       " '1058.txt',\n",
       " '1059.txt',\n",
       " '1062.txt',\n",
       " '1067.txt',\n",
       " '1070.txt',\n",
       " '1071.txt',\n",
       " '1079.txt',\n",
       " '109.txt',\n",
       " '1101.txt',\n",
       " '11029.txt',\n",
       " '11030.txt',\n",
       " '11035.txt',\n",
       " '11044.txt',\n",
       " '11065.txt',\n",
       " '11070.txt',\n",
       " '11073.txt',\n",
       " '11085.txt',\n",
       " '11088.txt',\n",
       " '11095.txt',\n",
       " '11100.txt',\n",
       " '11110.txt',\n",
       " '11116.txt',\n",
       " '11117.txt',\n",
       " '11119.txt',\n",
       " '11128.txt',\n",
       " '11129.txt',\n",
       " '1113.txt',\n",
       " '11136.txt',\n",
       " '11138.txt',\n",
       " '11158.txt',\n",
       " '11161.txt',\n",
       " '11168.txt',\n",
       " '11169.txt',\n",
       " '11170.txt',\n",
       " '11171.txt',\n",
       " '11175.txt',\n",
       " '11177.txt',\n",
       " '11187.txt',\n",
       " '11191.txt',\n",
       " '11193.txt',\n",
       " '1121.txt',\n",
       " '1126.txt',\n",
       " '113.txt',\n",
       " '1130.txt',\n",
       " '11309.txt',\n",
       " '11310.txt',\n",
       " '11317.txt',\n",
       " '11323.txt',\n",
       " '11324.txt',\n",
       " '11325.txt',\n",
       " '11328.txt',\n",
       " '11333.txt',\n",
       " '11345.txt',\n",
       " '11346.txt',\n",
       " '11348.txt',\n",
       " '11349.txt',\n",
       " '11351.txt',\n",
       " '11352.txt',\n",
       " '11353.txt',\n",
       " '11360.txt',\n",
       " '11366.txt',\n",
       " '11367.txt',\n",
       " '11370.txt',\n",
       " '11371.txt',\n",
       " '11372.txt',\n",
       " '11373.txt',\n",
       " '11375.txt',\n",
       " '11376.txt',\n",
       " '11378.txt',\n",
       " '11390.txt',\n",
       " '11392.txt',\n",
       " '11393.txt',\n",
       " '11394.txt',\n",
       " '11395.txt',\n",
       " '11398.txt',\n",
       " '114.txt',\n",
       " '1140.txt',\n",
       " '11404.txt',\n",
       " '11407.txt',\n",
       " '1141.txt',\n",
       " '11411.txt',\n",
       " '11412.txt',\n",
       " '11414.txt',\n",
       " '1142.txt',\n",
       " '11421.txt',\n",
       " '11422.txt',\n",
       " '11423.txt',\n",
       " '11425.txt',\n",
       " '11429.txt',\n",
       " '1143.txt',\n",
       " '11431.txt',\n",
       " '11434.txt',\n",
       " '11436.txt',\n",
       " '11438.txt',\n",
       " '11441.txt',\n",
       " '11444.txt',\n",
       " '11448.txt',\n",
       " '11449.txt',\n",
       " '1145.txt',\n",
       " '11452.txt',\n",
       " '11455.txt',\n",
       " '11462.txt',\n",
       " '11465.txt',\n",
       " '11467.txt',\n",
       " '11468.txt',\n",
       " '11470.txt',\n",
       " '11476.txt',\n",
       " '11481.txt',\n",
       " '11484.txt',\n",
       " '11486.txt',\n",
       " '11487.txt',\n",
       " '11488.txt',\n",
       " '11489.txt',\n",
       " '11490.txt',\n",
       " '11491.txt',\n",
       " '11496.txt',\n",
       " '11499.txt',\n",
       " '11504.txt',\n",
       " '11506.txt',\n",
       " '11507.txt',\n",
       " '11511.txt',\n",
       " '11519.txt',\n",
       " '11528.txt',\n",
       " '11529.txt',\n",
       " '11534.txt',\n",
       " '11541.txt',\n",
       " '11543.txt',\n",
       " '11544.txt',\n",
       " '11547.txt',\n",
       " '11550.txt',\n",
       " '11569.txt',\n",
       " '1157.txt',\n",
       " '11571.txt',\n",
       " '11573.txt',\n",
       " '11576.txt',\n",
       " '11579.txt',\n",
       " '11581.txt',\n",
       " '11599.txt',\n",
       " '11603.txt',\n",
       " '11605.txt',\n",
       " '11617.txt',\n",
       " '11618.txt',\n",
       " '11619.txt',\n",
       " '11620.txt',\n",
       " '11625.txt',\n",
       " '11626.txt',\n",
       " '11630.txt',\n",
       " '11637.txt',\n",
       " '11640.txt',\n",
       " '11641.txt',\n",
       " '11642.txt',\n",
       " '11654.txt',\n",
       " '11662.txt',\n",
       " '11664.txt',\n",
       " '11668.txt',\n",
       " '11669.txt',\n",
       " '11671.txt',\n",
       " '11674.txt',\n",
       " '11677.txt',\n",
       " '11685.txt',\n",
       " '11687.txt',\n",
       " '1169.txt',\n",
       " '11693.txt',\n",
       " '11694.txt',\n",
       " '11695.txt',\n",
       " '1170.txt',\n",
       " '11713.txt',\n",
       " '11714.txt',\n",
       " '11715.txt',\n",
       " '11718.txt',\n",
       " '11721.txt',\n",
       " '1173.txt',\n",
       " '11735.txt',\n",
       " '11737.txt',\n",
       " '11739.txt',\n",
       " '1174.txt',\n",
       " '11743.txt',\n",
       " '11746.txt',\n",
       " '11747.txt',\n",
       " '1175.txt',\n",
       " '11750.txt',\n",
       " '11759.txt',\n",
       " '11761.txt',\n",
       " '11771.txt',\n",
       " '11772.txt',\n",
       " '11780.txt',\n",
       " '11781.txt',\n",
       " '11783.txt',\n",
       " '11789.txt',\n",
       " '11792.txt',\n",
       " '11793.txt',\n",
       " '11796.txt',\n",
       " '11805.txt',\n",
       " '11806.txt',\n",
       " '11807.txt',\n",
       " '11808.txt',\n",
       " '11809.txt',\n",
       " '11815.txt',\n",
       " '11817.txt',\n",
       " '11818.txt',\n",
       " '11821.txt',\n",
       " '11824.txt',\n",
       " '11828.txt',\n",
       " '11830.txt',\n",
       " '11833.txt',\n",
       " '11834.txt',\n",
       " '11835.txt',\n",
       " '11837.txt',\n",
       " '11842.txt',\n",
       " '11844.txt',\n",
       " '11845.txt',\n",
       " '11846.txt',\n",
       " '11847.txt',\n",
       " '11848.txt',\n",
       " '11850.txt',\n",
       " '11851.txt',\n",
       " '11855.txt',\n",
       " '11859.txt',\n",
       " '11860.txt',\n",
       " '11861.txt',\n",
       " '11864.txt',\n",
       " '11865.txt',\n",
       " '11866.txt',\n",
       " '11867.txt',\n",
       " '11869.txt',\n",
       " '11873.txt',\n",
       " '11874.txt',\n",
       " '11879.txt',\n",
       " '11883.txt',\n",
       " '11884.txt',\n",
       " '11891.txt',\n",
       " '11893.txt',\n",
       " '119.txt',\n",
       " '11911.txt',\n",
       " '11922.txt',\n",
       " '11926.txt',\n",
       " '11933.txt',\n",
       " '11936.txt',\n",
       " '11937.txt',\n",
       " '11956.txt',\n",
       " '11957.txt',\n",
       " '11959.txt',\n",
       " '11962.txt',\n",
       " '11964.txt',\n",
       " '11965.txt',\n",
       " '11967.txt',\n",
       " '11968.txt',\n",
       " '11973.txt',\n",
       " '11978.txt',\n",
       " '120.txt',\n",
       " '12028.txt',\n",
       " '12032.txt',\n",
       " '12039.txt',\n",
       " '1204.txt',\n",
       " '12042.txt',\n",
       " '1205.txt',\n",
       " '12065.txt',\n",
       " '12067.txt',\n",
       " '12083.txt',\n",
       " '12088.txt',\n",
       " '1209.txt',\n",
       " '12094.txt',\n",
       " '12100.txt',\n",
       " '12107.txt',\n",
       " '12109.txt',\n",
       " '12115.txt',\n",
       " '1212.txt',\n",
       " '12122.txt',\n",
       " '12123.txt',\n",
       " '12126.txt',\n",
       " '1213.txt',\n",
       " '12131.txt',\n",
       " '12134.txt',\n",
       " '12135.txt',\n",
       " '12139.txt',\n",
       " '1214.txt',\n",
       " '12142.txt',\n",
       " '12143.txt',\n",
       " '12152.txt',\n",
       " '12155.txt',\n",
       " '12164.txt',\n",
       " '12169.txt',\n",
       " '1217.txt',\n",
       " '12171.txt',\n",
       " '12172.txt',\n",
       " '12173.txt',\n",
       " '12174.txt',\n",
       " '12180.txt',\n",
       " '12181.txt',\n",
       " '12186.txt',\n",
       " '12191.txt',\n",
       " '12206.txt',\n",
       " '12213.txt',\n",
       " '12221.txt',\n",
       " '12222.txt',\n",
       " '12224.txt',\n",
       " '12249.txt',\n",
       " '12251.txt',\n",
       " '1226.txt',\n",
       " '12261.txt',\n",
       " '1228.txt',\n",
       " '12288.txt',\n",
       " '12291.txt',\n",
       " '12298.txt',\n",
       " '12300.txt',\n",
       " '12302.txt',\n",
       " '12306.txt',\n",
       " '12311.txt',\n",
       " '12319.txt',\n",
       " '12322.txt',\n",
       " '12323.txt',\n",
       " '12330.txt',\n",
       " '12331.txt',\n",
       " '12332.txt',\n",
       " '12334.txt',\n",
       " '12345.txt',\n",
       " '1235.txt',\n",
       " '12353.txt',\n",
       " '12357.txt',\n",
       " '12363.txt',\n",
       " '12365.txt',\n",
       " '1237.txt',\n",
       " '12374.txt',\n",
       " '12384.txt',\n",
       " '12385.txt',\n",
       " '12387.txt',\n",
       " '12413.txt',\n",
       " '12420.txt',\n",
       " '12427.txt',\n",
       " '12431.txt',\n",
       " '12438.txt',\n",
       " '12444.txt',\n",
       " '12445.txt',\n",
       " '1245.txt',\n",
       " '12452.txt',\n",
       " '12453.txt',\n",
       " '12454.txt',\n",
       " '12459.txt',\n",
       " '12462.txt',\n",
       " '12464.txt',\n",
       " '12467.txt',\n",
       " '1247.txt',\n",
       " '12473.txt',\n",
       " '12484.txt',\n",
       " '12485.txt',\n",
       " '12487.txt',\n",
       " '12488.txt',\n",
       " '12495.txt',\n",
       " '12496.txt',\n",
       " '12499.txt',\n",
       " '1250.txt',\n",
       " '12500.txt',\n",
       " '12503.txt',\n",
       " '12527.txt',\n",
       " '12542.txt',\n",
       " '12543.txt',\n",
       " '1255.txt',\n",
       " '12563.txt',\n",
       " '12565.txt',\n",
       " '12566.txt',\n",
       " '12568.txt',\n",
       " '12569.txt',\n",
       " '1257.txt',\n",
       " '12579.txt',\n",
       " '12580.txt',\n",
       " '12582.txt',\n",
       " '12598.txt',\n",
       " '12599.txt',\n",
       " '12601.txt',\n",
       " '12607.txt',\n",
       " '12608.txt',\n",
       " '12609.txt',\n",
       " '12621.txt',\n",
       " '12623.txt',\n",
       " '12624.txt',\n",
       " '12639.txt',\n",
       " '12644.txt',\n",
       " '12645.txt',\n",
       " '12647.txt',\n",
       " '12649.txt',\n",
       " '12659.txt',\n",
       " '12666.txt',\n",
       " '12673.txt',\n",
       " '12679.txt',\n",
       " '12684.txt',\n",
       " '12691.txt',\n",
       " '12692.txt',\n",
       " '12694.txt',\n",
       " '12695.txt',\n",
       " '12697.txt',\n",
       " '12702.txt',\n",
       " '12703.txt',\n",
       " '12705.txt',\n",
       " '12707.txt',\n",
       " '12712.txt',\n",
       " '12742.txt',\n",
       " '12748.txt',\n",
       " '12759.txt',\n",
       " '12764.txt',\n",
       " '12771.txt',\n",
       " '12772.txt',\n",
       " '12775.txt',\n",
       " '12778.txt',\n",
       " '12783.txt',\n",
       " '12795.txt',\n",
       " '12800.txt',\n",
       " '12808.txt',\n",
       " '12809.txt',\n",
       " '12820.txt',\n",
       " '12828.txt',\n",
       " '12833.txt',\n",
       " '12834.txt',\n",
       " '12838.txt',\n",
       " '1284.txt',\n",
       " '12843.txt',\n",
       " '12844.txt',\n",
       " '12847.txt',\n",
       " '12869.txt',\n",
       " '12879.txt',\n",
       " '12888.txt',\n",
       " '12889.txt',\n",
       " '12900.txt',\n",
       " '12901.txt',\n",
       " '12911.txt',\n",
       " '12912.txt',\n",
       " '12913.txt',\n",
       " '12916.txt',\n",
       " '12925.txt',\n",
       " '12927.txt',\n",
       " '12931.txt',\n",
       " '12938.txt',\n",
       " '12946.txt',\n",
       " '12949.txt',\n",
       " '12951.txt',\n",
       " '12952.txt',\n",
       " '12957.txt',\n",
       " '12961.txt',\n",
       " '12962.txt',\n",
       " '12968.txt',\n",
       " '12969.txt',\n",
       " '12970.txt',\n",
       " '12974.txt',\n",
       " '12975.txt',\n",
       " '12977.txt',\n",
       " '12978.txt',\n",
       " '12980.txt',\n",
       " '12981.txt',\n",
       " '12984.txt',\n",
       " '12985.txt',\n",
       " '12987.txt',\n",
       " '12990.txt',\n",
       " '12991.txt',\n",
       " '12993.txt',\n",
       " '12997.txt',\n",
       " '13003.txt',\n",
       " '13016.txt',\n",
       " '13017.txt',\n",
       " '13018.txt',\n",
       " '13020.txt',\n",
       " '13024.txt',\n",
       " '13027.txt',\n",
       " '13031.txt',\n",
       " '13032.txt',\n",
       " '13038.txt',\n",
       " '13048.txt',\n",
       " '13052.txt',\n",
       " '13053.txt',\n",
       " '13054.txt',\n",
       " '13055.txt',\n",
       " '13058.txt',\n",
       " '13062.txt',\n",
       " '13063.txt',\n",
       " '13069.txt',\n",
       " '13074.txt',\n",
       " '13077.txt',\n",
       " '1308.txt',\n",
       " '13088.txt',\n",
       " '13098.txt',\n",
       " '13099.txt',\n",
       " '13103.txt',\n",
       " '13104.txt',\n",
       " '13117.txt',\n",
       " '13129.txt',\n",
       " '13130.txt',\n",
       " '13132.txt',\n",
       " '13136.txt',\n",
       " '13138.txt',\n",
       " '1314.txt',\n",
       " '13164.txt',\n",
       " '13167.txt',\n",
       " '13177.txt',\n",
       " '13182.txt',\n",
       " '13187.txt',\n",
       " '13192.txt',\n",
       " '132.txt',\n",
       " '13201.txt',\n",
       " '13209.txt',\n",
       " '13210.txt',\n",
       " '13211.txt',\n",
       " '13213.txt',\n",
       " '13218.txt',\n",
       " '13222.txt',\n",
       " '13229.txt',\n",
       " '13242.txt',\n",
       " '13244.txt',\n",
       " '13249.txt',\n",
       " '13252.txt',\n",
       " '13253.txt',\n",
       " '13256.txt',\n",
       " '13257.txt',\n",
       " '13262.txt',\n",
       " '13263.txt',\n",
       " '13265.txt',\n",
       " '13270.txt',\n",
       " '13281.txt',\n",
       " '13283.txt',\n",
       " '13284.txt',\n",
       " '13285.txt',\n",
       " '13287.txt',\n",
       " '13308.txt',\n",
       " '13355.txt',\n",
       " '13360.txt',\n",
       " '13370.txt',\n",
       " '13375.txt',\n",
       " '13381.txt',\n",
       " '1341.txt',\n",
       " '13411.txt',\n",
       " '13413.txt',\n",
       " '13415.txt',\n",
       " '13416.txt',\n",
       " '13417.txt',\n",
       " '13421.txt',\n",
       " '13424.txt',\n",
       " '13441.txt',\n",
       " '13443.txt',\n",
       " '13449.txt',\n",
       " '13451.txt',\n",
       " '13452.txt',\n",
       " '13460.txt',\n",
       " '13461.txt',\n",
       " '13462.txt',\n",
       " '13463.txt',\n",
       " '1347.txt',\n",
       " '1350.txt',\n",
       " '1352.txt',\n",
       " '13521.txt',\n",
       " '13535.txt',\n",
       " '13539.txt',\n",
       " '1354.txt',\n",
       " '13542.txt',\n",
       " '1356.txt',\n",
       " '13564.txt',\n",
       " '1357.txt',\n",
       " '13588.txt',\n",
       " '13590.txt',\n",
       " '1360.txt',\n",
       " '1361.txt',\n",
       " '1363.txt',\n",
       " '13632.txt',\n",
       " '1364.txt',\n",
       " '13645.txt',\n",
       " '1365.txt',\n",
       " '13650.txt',\n",
       " '1366.txt',\n",
       " '1367.txt',\n",
       " '13679.txt',\n",
       " '1368.txt',\n",
       " '1369.txt',\n",
       " '13701.txt',\n",
       " '13716.txt',\n",
       " '13717.txt',\n",
       " '13718.txt',\n",
       " '13720.txt',\n",
       " '13725.txt',\n",
       " '13728.txt',\n",
       " '13731.txt',\n",
       " '13734.txt',\n",
       " '13744.txt',\n",
       " '13745.txt',\n",
       " '13758.txt',\n",
       " '13764.txt',\n",
       " '1377.txt',\n",
       " '13770.txt',\n",
       " '13771.txt',\n",
       " '13774.txt',\n",
       " '13782.txt',\n",
       " '13784.txt',\n",
       " '13785.txt',\n",
       " '13786.txt',\n",
       " '13787.txt',\n",
       " '13788.txt',\n",
       " '13790.txt',\n",
       " '13791.txt',\n",
       " '13792.txt',\n",
       " '13793.txt',\n",
       " '13794.txt',\n",
       " '13799.txt',\n",
       " '138.txt',\n",
       " '13800.txt',\n",
       " '13803.txt',\n",
       " '13804.txt',\n",
       " '13805.txt',\n",
       " '13806.txt',\n",
       " '13807.txt',\n",
       " '13808.txt',\n",
       " '13812.txt',\n",
       " '13817.txt',\n",
       " '13818.txt',\n",
       " '13820.txt',\n",
       " '13826.txt',\n",
       " '13827.txt',\n",
       " '13843.txt',\n",
       " '13849.txt',\n",
       " '13856.txt',\n",
       " '13857.txt',\n",
       " '13860.txt',\n",
       " '13865.txt',\n",
       " '13868.txt',\n",
       " '13872.txt',\n",
       " '13877.txt',\n",
       " '13879.txt',\n",
       " '13886.txt',\n",
       " '13889.txt',\n",
       " '13894.txt',\n",
       " '13899.txt',\n",
       " '1390.txt',\n",
       " '13902.txt',\n",
       " '13906.txt',\n",
       " '13915.txt',\n",
       " '1392.txt',\n",
       " '13924.txt',\n",
       " '1393.txt',\n",
       " '13941.txt',\n",
       " '1396.txt',\n",
       " '13968.txt',\n",
       " '13974.txt',\n",
       " '13980.txt',\n",
       " '1399.txt',\n",
       " '13990.txt',\n",
       " '13998.txt',\n",
       " '13999.txt',\n",
       " '1400.txt',\n",
       " '14001.txt',\n",
       " '14010.txt',\n",
       " '14012.txt',\n",
       " '14019.txt',\n",
       " '1402.txt',\n",
       " '14026.txt',\n",
       " '14028.txt',\n",
       " '14030.txt',\n",
       " '1404.txt',\n",
       " '14040.txt',\n",
       " '14043.txt',\n",
       " '1406.txt',\n",
       " '14109.txt',\n",
       " '14110.txt',\n",
       " '14115.txt',\n",
       " '1413.txt',\n",
       " '14141.txt',\n",
       " '14155.txt',\n",
       " '14162.txt',\n",
       " '14169.txt',\n",
       " '14186.txt',\n",
       " '1419.txt',\n",
       " '14198.txt',\n",
       " '1420.txt',\n",
       " '14206.txt',\n",
       " '14212.txt',\n",
       " '1422.txt',\n",
       " '14220.txt',\n",
       " '14227.txt',\n",
       " '14228.txt',\n",
       " '14229.txt',\n",
       " '14230.txt',\n",
       " '14232.txt',\n",
       " '14234.txt',\n",
       " '14239.txt',\n",
       " '14242.txt',\n",
       " '14245.txt',\n",
       " '14248.txt',\n",
       " '14251.txt',\n",
       " '14266.txt',\n",
       " '14273.txt',\n",
       " '14304.txt',\n",
       " '14305.txt',\n",
       " '14309.txt',\n",
       " '1433.txt',\n",
       " '14332.txt',\n",
       " '14340.txt',\n",
       " '14344.txt',\n",
       " '14348.txt',\n",
       " '14357.txt',\n",
       " '14361.txt',\n",
       " '14378.txt',\n",
       " '14379.txt',\n",
       " '14384.txt',\n",
       " '14408.txt',\n",
       " '14409.txt',\n",
       " '1441.txt',\n",
       " '14422.txt',\n",
       " '14424.txt',\n",
       " '1444.txt',\n",
       " '14448.txt',\n",
       " '14449.txt',\n",
       " '14457.txt',\n",
       " '1446.txt',\n",
       " '14463.txt',\n",
       " '14464.txt',\n",
       " '14465.txt',\n",
       " '14470.txt',\n",
       " '14473.txt',\n",
       " '14483.txt',\n",
       " '1449.txt',\n",
       " '14492.txt',\n",
       " '14498.txt',\n",
       " '1450.txt',\n",
       " '14506.txt',\n",
       " '14510.txt',\n",
       " '14517.txt',\n",
       " '14518.txt',\n",
       " '1453.txt',\n",
       " '14531.txt',\n",
       " '1454.txt',\n",
       " '14544.txt',\n",
       " '14545.txt',\n",
       " '14562.txt',\n",
       " '14568.txt',\n",
       " '1457.txt',\n",
       " '14574.txt',\n",
       " '14576.txt',\n",
       " '14577.txt',\n",
       " '1458.txt',\n",
       " '14585.txt',\n",
       " '14586.txt',\n",
       " '14591.txt',\n",
       " '14601.txt',\n",
       " '1461.txt',\n",
       " '14621.txt',\n",
       " '14625.txt',\n",
       " '14638.txt',\n",
       " '1464.txt',\n",
       " '14655.txt',\n",
       " '1466.txt',\n",
       " '14661.txt',\n",
       " '14666.txt',\n",
       " '14688.txt',\n",
       " '14695.txt',\n",
       " '1471.txt',\n",
       " '1472.txt',\n",
       " '1473.txt',\n",
       " '14736.txt',\n",
       " '14744.txt',\n",
       " '14751.txt',\n",
       " '14756.txt',\n",
       " '14758.txt',\n",
       " '14765.txt',\n",
       " '14767.txt',\n",
       " '1477.txt',\n",
       " '14774.txt',\n",
       " '14777.txt',\n",
       " '14779.txt',\n",
       " '14780.txt',\n",
       " '14787.txt',\n",
       " '14789.txt',\n",
       " '14790.txt',\n",
       " '14793.txt',\n",
       " '1480.txt',\n",
       " '14801.txt',\n",
       " '14802.txt',\n",
       " '14803.txt',\n",
       " '14804.txt',\n",
       " '14805.txt',\n",
       " '14806.txt',\n",
       " '14809.txt',\n",
       " '14810.txt',\n",
       " '14811.txt',\n",
       " '14816.txt',\n",
       " '14817.txt',\n",
       " '14819.txt',\n",
       " '14825.txt',\n",
       " '14826.txt',\n",
       " '14827.txt',\n",
       " '14831.txt',\n",
       " '14840.txt',\n",
       " '14843.txt',\n",
       " '14847.txt',\n",
       " '14852.txt',\n",
       " '14853.txt',\n",
       " '14858.txt',\n",
       " '1486.txt',\n",
       " '14862.txt',\n",
       " '14864.txt',\n",
       " '14866.txt',\n",
       " '14867.txt',\n",
       " '14870.txt',\n",
       " '14871.txt',\n",
       " '14872.txt',\n",
       " '14877.txt',\n",
       " '14878.txt',\n",
       " '14885.txt',\n",
       " '14886.txt',\n",
       " '1489.txt',\n",
       " '14891.txt',\n",
       " '14892.txt',\n",
       " '14894.txt',\n",
       " '14917.txt',\n",
       " '1492.txt',\n",
       " '14929.txt',\n",
       " '1493.txt',\n",
       " '14932.txt',\n",
       " '14942.txt',\n",
       " '14943.txt',\n",
       " '14948.txt',\n",
       " '14955.txt',\n",
       " '14958.txt',\n",
       " '14959.txt',\n",
       " '14960.txt',\n",
       " '14961.txt',\n",
       " '14979.txt',\n",
       " '1498.txt',\n",
       " '14981.txt',\n",
       " '14982.txt',\n",
       " '14986.txt',\n",
       " '14998.txt',\n",
       " '15.txt',\n",
       " '1500.txt',\n",
       " '15001.txt',\n",
       " '15006.txt',\n",
       " '15010.txt',\n",
       " '15012.txt',\n",
       " '15016.txt',\n",
       " '15020.txt',\n",
       " '15021.txt',\n",
       " '15026.txt',\n",
       " '15029.txt',\n",
       " '15033.txt',\n",
       " '15035.txt',\n",
       " '15038.txt',\n",
       " '15050.txt',\n",
       " '15064.txt',\n",
       " '15065.txt',\n",
       " '15071.txt',\n",
       " '15073.txt',\n",
       " '1508.txt',\n",
       " '15095.txt',\n",
       " '151.txt',\n",
       " '1511.txt',\n",
       " '15110.txt',\n",
       " '15113.txt',\n",
       " '15119.txt',\n",
       " '1512.txt',\n",
       " '15121.txt',\n",
       " '1513.txt',\n",
       " '1514.txt',\n",
       " '1516.txt',\n",
       " '1518.txt',\n",
       " '1524.txt',\n",
       " '15248.txt',\n",
       " '1525.txt',\n",
       " '15250.txt',\n",
       " '15264.txt',\n",
       " '15266.txt',\n",
       " '15267.txt',\n",
       " '15269.txt',\n",
       " '15271.txt',\n",
       " '15273.txt',\n",
       " '15277.txt',\n",
       " '15278.txt',\n",
       " '1528.txt',\n",
       " '15281.txt',\n",
       " '15286.txt',\n",
       " '1529.txt',\n",
       " '15295.txt',\n",
       " '15296.txt',\n",
       " '15299.txt',\n",
       " '15305.txt',\n",
       " '15310.txt',\n",
       " '15313.txt',\n",
       " '1532.txt',\n",
       " '15322.txt',\n",
       " '15325.txt',\n",
       " '15327.txt',\n",
       " '15331.txt',\n",
       " '15334.txt',\n",
       " '15343.txt',\n",
       " '15348.txt',\n",
       " '15349.txt',\n",
       " '1535.txt',\n",
       " '15351.txt',\n",
       " '15352.txt',\n",
       " '15355.txt',\n",
       " '15361.txt',\n",
       " '15366.txt',\n",
       " '15367.txt',\n",
       " '15369.txt',\n",
       " '1537.txt',\n",
       " '15373.txt',\n",
       " '15374.txt',\n",
       " '15375.txt',\n",
       " '15379.txt',\n",
       " '15380.txt',\n",
       " '15383.txt',\n",
       " '15384.txt',\n",
       " '15385.txt',\n",
       " '15387.txt',\n",
       " '1539.txt',\n",
       " '15395.txt',\n",
       " '15398.txt',\n",
       " '15399.txt',\n",
       " '15401.txt',\n",
       " '15426.txt',\n",
       " '15429.txt',\n",
       " '15431.txt',\n",
       " '15439.txt',\n",
       " '15440.txt',\n",
       " '15441.txt',\n",
       " '15442.txt',\n",
       " '15443.txt',\n",
       " '15446.txt',\n",
       " '1545.txt',\n",
       " '15454.txt',\n",
       " '15457.txt',\n",
       " '15461.txt',\n",
       " '15463.txt',\n",
       " '15471.txt',\n",
       " '15477.txt',\n",
       " '1548.txt',\n",
       " '15481.txt',\n",
       " '15482.txt',\n",
       " '15483.txt',\n",
       " '15484.txt',\n",
       " '15495.txt',\n",
       " '15496.txt',\n",
       " '15509.txt',\n",
       " '15515.txt',\n",
       " '15526.txt',\n",
       " '15528.txt',\n",
       " '1553.txt',\n",
       " '15530.txt',\n",
       " '15532.txt',\n",
       " '15534.txt',\n",
       " '15542.txt',\n",
       " '15545.txt',\n",
       " '15548.txt',\n",
       " '15565.txt',\n",
       " '1557.txt',\n",
       " '15582.txt',\n",
       " '15615.txt',\n",
       " '15629.txt',\n",
       " '15631.txt',\n",
       " '15632.txt',\n",
       " '15633.txt',\n",
       " '15637.txt',\n",
       " '15645.txt',\n",
       " '15649.txt',\n",
       " '15655.txt',\n",
       " '15665.txt',\n",
       " '1567.txt',\n",
       " '15670.txt',\n",
       " '15677.txt',\n",
       " '15679.txt',\n",
       " '1568.txt',\n",
       " '15681.txt',\n",
       " '15684.txt',\n",
       " '15686.txt',\n",
       " '1569.txt',\n",
       " '15693.txt',\n",
       " '15695.txt',\n",
       " '1570.txt',\n",
       " '15702.txt',\n",
       " '15703.txt',\n",
       " '15708.txt',\n",
       " '1571.txt',\n",
       " '1573.txt',\n",
       " '15749.txt',\n",
       " '15750.txt',\n",
       " ...]"
      ]
     },
     "execution_count": 63,
     "metadata": {},
     "output_type": "execute_result"
    }
   ],
   "source": [
    "f"
   ]
  },
  {
   "cell_type": "code",
   "execution_count": 64,
   "metadata": {},
   "outputs": [],
   "source": [
    "for i in range(len(f)):\n",
    "    try:\n",
    "        f[i]=f[i][:-4]\n",
    "    except:\n",
    "        print('1')"
   ]
  },
  {
   "cell_type": "code",
   "execution_count": 99,
   "metadata": {
    "scrolled": true
   },
   "outputs": [],
   "source": [
    "# for i in range(len(f)):\n",
    "#     if len(f[i])<13:\n",
    "#         f.pop(i) "
   ]
  },
  {
   "cell_type": "markdown",
   "metadata": {},
   "source": [
    "### Fill names1 with files of first folder (1 id ) and names 2 with files of second folder (2 id) etc."
   ]
  },
  {
   "cell_type": "code",
   "execution_count": 520,
   "metadata": {},
   "outputs": [],
   "source": [
    "# names1=f\n",
    "# names2=f\n",
    "# names3=f"
   ]
  },
  {
   "cell_type": "markdown",
   "metadata": {},
   "source": [
    "### id-distribution (numbers come from number of elements in folders"
   ]
  },
  {
   "cell_type": "code",
   "execution_count": 542,
   "metadata": {},
   "outputs": [
    {
     "data": {
      "application/vnd.plotly.v1+json": {
       "config": {
        "plotlyServerURL": "https://plot.ly"
       },
       "data": [
        {
         "domain": {
          "x": [
           0,
           1
          ],
          "y": [
           0,
           1
          ]
         },
         "hoverlabel": {
          "namelength": 0
         },
         "hovertemplate": "label=%{label}<br>value=%{value}",
         "labels": [
          "2.0 ID",
          "4.0 ID",
          "1.0 ID",
          "3.0 ID",
          "6.0 ID"
         ],
         "legendgroup": "",
         "name": "",
         "showlegend": true,
         "type": "pie",
         "values": [
          12580,
          1610,
          5330,
          273,
          49
         ]
        }
       ],
       "layout": {
        "legend": {
         "tracegroupgap": 0
        },
        "template": {
         "data": {
          "bar": [
           {
            "error_x": {
             "color": "#2a3f5f"
            },
            "error_y": {
             "color": "#2a3f5f"
            },
            "marker": {
             "line": {
              "color": "#E5ECF6",
              "width": 0.5
             }
            },
            "type": "bar"
           }
          ],
          "barpolar": [
           {
            "marker": {
             "line": {
              "color": "#E5ECF6",
              "width": 0.5
             }
            },
            "type": "barpolar"
           }
          ],
          "carpet": [
           {
            "aaxis": {
             "endlinecolor": "#2a3f5f",
             "gridcolor": "white",
             "linecolor": "white",
             "minorgridcolor": "white",
             "startlinecolor": "#2a3f5f"
            },
            "baxis": {
             "endlinecolor": "#2a3f5f",
             "gridcolor": "white",
             "linecolor": "white",
             "minorgridcolor": "white",
             "startlinecolor": "#2a3f5f"
            },
            "type": "carpet"
           }
          ],
          "choropleth": [
           {
            "colorbar": {
             "outlinewidth": 0,
             "ticks": ""
            },
            "type": "choropleth"
           }
          ],
          "contour": [
           {
            "colorbar": {
             "outlinewidth": 0,
             "ticks": ""
            },
            "colorscale": [
             [
              0,
              "#0d0887"
             ],
             [
              0.1111111111111111,
              "#46039f"
             ],
             [
              0.2222222222222222,
              "#7201a8"
             ],
             [
              0.3333333333333333,
              "#9c179e"
             ],
             [
              0.4444444444444444,
              "#bd3786"
             ],
             [
              0.5555555555555556,
              "#d8576b"
             ],
             [
              0.6666666666666666,
              "#ed7953"
             ],
             [
              0.7777777777777778,
              "#fb9f3a"
             ],
             [
              0.8888888888888888,
              "#fdca26"
             ],
             [
              1,
              "#f0f921"
             ]
            ],
            "type": "contour"
           }
          ],
          "contourcarpet": [
           {
            "colorbar": {
             "outlinewidth": 0,
             "ticks": ""
            },
            "type": "contourcarpet"
           }
          ],
          "heatmap": [
           {
            "colorbar": {
             "outlinewidth": 0,
             "ticks": ""
            },
            "colorscale": [
             [
              0,
              "#0d0887"
             ],
             [
              0.1111111111111111,
              "#46039f"
             ],
             [
              0.2222222222222222,
              "#7201a8"
             ],
             [
              0.3333333333333333,
              "#9c179e"
             ],
             [
              0.4444444444444444,
              "#bd3786"
             ],
             [
              0.5555555555555556,
              "#d8576b"
             ],
             [
              0.6666666666666666,
              "#ed7953"
             ],
             [
              0.7777777777777778,
              "#fb9f3a"
             ],
             [
              0.8888888888888888,
              "#fdca26"
             ],
             [
              1,
              "#f0f921"
             ]
            ],
            "type": "heatmap"
           }
          ],
          "heatmapgl": [
           {
            "colorbar": {
             "outlinewidth": 0,
             "ticks": ""
            },
            "colorscale": [
             [
              0,
              "#0d0887"
             ],
             [
              0.1111111111111111,
              "#46039f"
             ],
             [
              0.2222222222222222,
              "#7201a8"
             ],
             [
              0.3333333333333333,
              "#9c179e"
             ],
             [
              0.4444444444444444,
              "#bd3786"
             ],
             [
              0.5555555555555556,
              "#d8576b"
             ],
             [
              0.6666666666666666,
              "#ed7953"
             ],
             [
              0.7777777777777778,
              "#fb9f3a"
             ],
             [
              0.8888888888888888,
              "#fdca26"
             ],
             [
              1,
              "#f0f921"
             ]
            ],
            "type": "heatmapgl"
           }
          ],
          "histogram": [
           {
            "marker": {
             "colorbar": {
              "outlinewidth": 0,
              "ticks": ""
             }
            },
            "type": "histogram"
           }
          ],
          "histogram2d": [
           {
            "colorbar": {
             "outlinewidth": 0,
             "ticks": ""
            },
            "colorscale": [
             [
              0,
              "#0d0887"
             ],
             [
              0.1111111111111111,
              "#46039f"
             ],
             [
              0.2222222222222222,
              "#7201a8"
             ],
             [
              0.3333333333333333,
              "#9c179e"
             ],
             [
              0.4444444444444444,
              "#bd3786"
             ],
             [
              0.5555555555555556,
              "#d8576b"
             ],
             [
              0.6666666666666666,
              "#ed7953"
             ],
             [
              0.7777777777777778,
              "#fb9f3a"
             ],
             [
              0.8888888888888888,
              "#fdca26"
             ],
             [
              1,
              "#f0f921"
             ]
            ],
            "type": "histogram2d"
           }
          ],
          "histogram2dcontour": [
           {
            "colorbar": {
             "outlinewidth": 0,
             "ticks": ""
            },
            "colorscale": [
             [
              0,
              "#0d0887"
             ],
             [
              0.1111111111111111,
              "#46039f"
             ],
             [
              0.2222222222222222,
              "#7201a8"
             ],
             [
              0.3333333333333333,
              "#9c179e"
             ],
             [
              0.4444444444444444,
              "#bd3786"
             ],
             [
              0.5555555555555556,
              "#d8576b"
             ],
             [
              0.6666666666666666,
              "#ed7953"
             ],
             [
              0.7777777777777778,
              "#fb9f3a"
             ],
             [
              0.8888888888888888,
              "#fdca26"
             ],
             [
              1,
              "#f0f921"
             ]
            ],
            "type": "histogram2dcontour"
           }
          ],
          "mesh3d": [
           {
            "colorbar": {
             "outlinewidth": 0,
             "ticks": ""
            },
            "type": "mesh3d"
           }
          ],
          "parcoords": [
           {
            "line": {
             "colorbar": {
              "outlinewidth": 0,
              "ticks": ""
             }
            },
            "type": "parcoords"
           }
          ],
          "pie": [
           {
            "automargin": true,
            "type": "pie"
           }
          ],
          "scatter": [
           {
            "marker": {
             "colorbar": {
              "outlinewidth": 0,
              "ticks": ""
             }
            },
            "type": "scatter"
           }
          ],
          "scatter3d": [
           {
            "line": {
             "colorbar": {
              "outlinewidth": 0,
              "ticks": ""
             }
            },
            "marker": {
             "colorbar": {
              "outlinewidth": 0,
              "ticks": ""
             }
            },
            "type": "scatter3d"
           }
          ],
          "scattercarpet": [
           {
            "marker": {
             "colorbar": {
              "outlinewidth": 0,
              "ticks": ""
             }
            },
            "type": "scattercarpet"
           }
          ],
          "scattergeo": [
           {
            "marker": {
             "colorbar": {
              "outlinewidth": 0,
              "ticks": ""
             }
            },
            "type": "scattergeo"
           }
          ],
          "scattergl": [
           {
            "marker": {
             "colorbar": {
              "outlinewidth": 0,
              "ticks": ""
             }
            },
            "type": "scattergl"
           }
          ],
          "scattermapbox": [
           {
            "marker": {
             "colorbar": {
              "outlinewidth": 0,
              "ticks": ""
             }
            },
            "type": "scattermapbox"
           }
          ],
          "scatterpolar": [
           {
            "marker": {
             "colorbar": {
              "outlinewidth": 0,
              "ticks": ""
             }
            },
            "type": "scatterpolar"
           }
          ],
          "scatterpolargl": [
           {
            "marker": {
             "colorbar": {
              "outlinewidth": 0,
              "ticks": ""
             }
            },
            "type": "scatterpolargl"
           }
          ],
          "scatterternary": [
           {
            "marker": {
             "colorbar": {
              "outlinewidth": 0,
              "ticks": ""
             }
            },
            "type": "scatterternary"
           }
          ],
          "surface": [
           {
            "colorbar": {
             "outlinewidth": 0,
             "ticks": ""
            },
            "colorscale": [
             [
              0,
              "#0d0887"
             ],
             [
              0.1111111111111111,
              "#46039f"
             ],
             [
              0.2222222222222222,
              "#7201a8"
             ],
             [
              0.3333333333333333,
              "#9c179e"
             ],
             [
              0.4444444444444444,
              "#bd3786"
             ],
             [
              0.5555555555555556,
              "#d8576b"
             ],
             [
              0.6666666666666666,
              "#ed7953"
             ],
             [
              0.7777777777777778,
              "#fb9f3a"
             ],
             [
              0.8888888888888888,
              "#fdca26"
             ],
             [
              1,
              "#f0f921"
             ]
            ],
            "type": "surface"
           }
          ],
          "table": [
           {
            "cells": {
             "fill": {
              "color": "#EBF0F8"
             },
             "line": {
              "color": "white"
             }
            },
            "header": {
             "fill": {
              "color": "#C8D4E3"
             },
             "line": {
              "color": "white"
             }
            },
            "type": "table"
           }
          ]
         },
         "layout": {
          "annotationdefaults": {
           "arrowcolor": "#2a3f5f",
           "arrowhead": 0,
           "arrowwidth": 1
          },
          "coloraxis": {
           "colorbar": {
            "outlinewidth": 0,
            "ticks": ""
           }
          },
          "colorscale": {
           "diverging": [
            [
             0,
             "#8e0152"
            ],
            [
             0.1,
             "#c51b7d"
            ],
            [
             0.2,
             "#de77ae"
            ],
            [
             0.3,
             "#f1b6da"
            ],
            [
             0.4,
             "#fde0ef"
            ],
            [
             0.5,
             "#f7f7f7"
            ],
            [
             0.6,
             "#e6f5d0"
            ],
            [
             0.7,
             "#b8e186"
            ],
            [
             0.8,
             "#7fbc41"
            ],
            [
             0.9,
             "#4d9221"
            ],
            [
             1,
             "#276419"
            ]
           ],
           "sequential": [
            [
             0,
             "#0d0887"
            ],
            [
             0.1111111111111111,
             "#46039f"
            ],
            [
             0.2222222222222222,
             "#7201a8"
            ],
            [
             0.3333333333333333,
             "#9c179e"
            ],
            [
             0.4444444444444444,
             "#bd3786"
            ],
            [
             0.5555555555555556,
             "#d8576b"
            ],
            [
             0.6666666666666666,
             "#ed7953"
            ],
            [
             0.7777777777777778,
             "#fb9f3a"
            ],
            [
             0.8888888888888888,
             "#fdca26"
            ],
            [
             1,
             "#f0f921"
            ]
           ],
           "sequentialminus": [
            [
             0,
             "#0d0887"
            ],
            [
             0.1111111111111111,
             "#46039f"
            ],
            [
             0.2222222222222222,
             "#7201a8"
            ],
            [
             0.3333333333333333,
             "#9c179e"
            ],
            [
             0.4444444444444444,
             "#bd3786"
            ],
            [
             0.5555555555555556,
             "#d8576b"
            ],
            [
             0.6666666666666666,
             "#ed7953"
            ],
            [
             0.7777777777777778,
             "#fb9f3a"
            ],
            [
             0.8888888888888888,
             "#fdca26"
            ],
            [
             1,
             "#f0f921"
            ]
           ]
          },
          "colorway": [
           "#636efa",
           "#EF553B",
           "#00cc96",
           "#ab63fa",
           "#FFA15A",
           "#19d3f3",
           "#FF6692",
           "#B6E880",
           "#FF97FF",
           "#FECB52"
          ],
          "font": {
           "color": "#2a3f5f"
          },
          "geo": {
           "bgcolor": "white",
           "lakecolor": "white",
           "landcolor": "#E5ECF6",
           "showlakes": true,
           "showland": true,
           "subunitcolor": "white"
          },
          "hoverlabel": {
           "align": "left"
          },
          "hovermode": "closest",
          "mapbox": {
           "style": "light"
          },
          "paper_bgcolor": "white",
          "plot_bgcolor": "#E5ECF6",
          "polar": {
           "angularaxis": {
            "gridcolor": "white",
            "linecolor": "white",
            "ticks": ""
           },
           "bgcolor": "#E5ECF6",
           "radialaxis": {
            "gridcolor": "white",
            "linecolor": "white",
            "ticks": ""
           }
          },
          "scene": {
           "xaxis": {
            "backgroundcolor": "#E5ECF6",
            "gridcolor": "white",
            "gridwidth": 2,
            "linecolor": "white",
            "showbackground": true,
            "ticks": "",
            "zerolinecolor": "white"
           },
           "yaxis": {
            "backgroundcolor": "#E5ECF6",
            "gridcolor": "white",
            "gridwidth": 2,
            "linecolor": "white",
            "showbackground": true,
            "ticks": "",
            "zerolinecolor": "white"
           },
           "zaxis": {
            "backgroundcolor": "#E5ECF6",
            "gridcolor": "white",
            "gridwidth": 2,
            "linecolor": "white",
            "showbackground": true,
            "ticks": "",
            "zerolinecolor": "white"
           }
          },
          "shapedefaults": {
           "line": {
            "color": "#2a3f5f"
           }
          },
          "ternary": {
           "aaxis": {
            "gridcolor": "white",
            "linecolor": "white",
            "ticks": ""
           },
           "baxis": {
            "gridcolor": "white",
            "linecolor": "white",
            "ticks": ""
           },
           "bgcolor": "#E5ECF6",
           "caxis": {
            "gridcolor": "white",
            "linecolor": "white",
            "ticks": ""
           }
          },
          "title": {
           "x": 0.05
          },
          "xaxis": {
           "automargin": true,
           "gridcolor": "white",
           "linecolor": "white",
           "ticks": "",
           "title": {
            "standoff": 15
           },
           "zerolinecolor": "white",
           "zerolinewidth": 2
          },
          "yaxis": {
           "automargin": true,
           "gridcolor": "white",
           "linecolor": "white",
           "ticks": "",
           "title": {
            "standoff": 15
           },
           "zerolinecolor": "white",
           "zerolinewidth": 2
          }
         }
        },
        "title": {
         "text": "ID distribution"
        }
       }
      },
      "text/html": [
       "<div>\n",
       "        \n",
       "        \n",
       "            <div id=\"4d397cb0-1f3f-4b33-b0d3-0daffeb8197c\" class=\"plotly-graph-div\" style=\"height:525px; width:100%;\"></div>\n",
       "            <script type=\"text/javascript\">\n",
       "                require([\"plotly\"], function(Plotly) {\n",
       "                    window.PLOTLYENV=window.PLOTLYENV || {};\n",
       "                    \n",
       "                if (document.getElementById(\"4d397cb0-1f3f-4b33-b0d3-0daffeb8197c\")) {\n",
       "                    Plotly.newPlot(\n",
       "                        '4d397cb0-1f3f-4b33-b0d3-0daffeb8197c',\n",
       "                        [{\"domain\": {\"x\": [0.0, 1.0], \"y\": [0.0, 1.0]}, \"hoverlabel\": {\"namelength\": 0}, \"hovertemplate\": \"label=%{label}<br>value=%{value}\", \"labels\": [\"2.0 ID\", \"4.0 ID\", \"1.0 ID\", \"3.0 ID\", \"6.0 ID\"], \"legendgroup\": \"\", \"name\": \"\", \"showlegend\": true, \"type\": \"pie\", \"values\": [12580, 1610, 5330, 273, 49]}],\n",
       "                        {\"legend\": {\"tracegroupgap\": 0}, \"template\": {\"data\": {\"bar\": [{\"error_x\": {\"color\": \"#2a3f5f\"}, \"error_y\": {\"color\": \"#2a3f5f\"}, \"marker\": {\"line\": {\"color\": \"#E5ECF6\", \"width\": 0.5}}, \"type\": \"bar\"}], \"barpolar\": [{\"marker\": {\"line\": {\"color\": \"#E5ECF6\", \"width\": 0.5}}, \"type\": \"barpolar\"}], \"carpet\": [{\"aaxis\": {\"endlinecolor\": \"#2a3f5f\", \"gridcolor\": \"white\", \"linecolor\": \"white\", \"minorgridcolor\": \"white\", \"startlinecolor\": \"#2a3f5f\"}, \"baxis\": {\"endlinecolor\": \"#2a3f5f\", \"gridcolor\": \"white\", \"linecolor\": \"white\", \"minorgridcolor\": \"white\", \"startlinecolor\": \"#2a3f5f\"}, \"type\": \"carpet\"}], \"choropleth\": [{\"colorbar\": {\"outlinewidth\": 0, \"ticks\": \"\"}, \"type\": \"choropleth\"}], \"contour\": [{\"colorbar\": {\"outlinewidth\": 0, \"ticks\": \"\"}, \"colorscale\": [[0.0, \"#0d0887\"], [0.1111111111111111, \"#46039f\"], [0.2222222222222222, \"#7201a8\"], [0.3333333333333333, \"#9c179e\"], [0.4444444444444444, \"#bd3786\"], [0.5555555555555556, \"#d8576b\"], [0.6666666666666666, \"#ed7953\"], [0.7777777777777778, \"#fb9f3a\"], [0.8888888888888888, \"#fdca26\"], [1.0, \"#f0f921\"]], \"type\": \"contour\"}], \"contourcarpet\": [{\"colorbar\": {\"outlinewidth\": 0, \"ticks\": \"\"}, \"type\": \"contourcarpet\"}], \"heatmap\": [{\"colorbar\": {\"outlinewidth\": 0, \"ticks\": \"\"}, \"colorscale\": [[0.0, \"#0d0887\"], [0.1111111111111111, \"#46039f\"], [0.2222222222222222, \"#7201a8\"], [0.3333333333333333, \"#9c179e\"], [0.4444444444444444, \"#bd3786\"], [0.5555555555555556, \"#d8576b\"], [0.6666666666666666, \"#ed7953\"], [0.7777777777777778, \"#fb9f3a\"], [0.8888888888888888, \"#fdca26\"], [1.0, \"#f0f921\"]], \"type\": \"heatmap\"}], \"heatmapgl\": [{\"colorbar\": {\"outlinewidth\": 0, \"ticks\": \"\"}, \"colorscale\": [[0.0, \"#0d0887\"], [0.1111111111111111, \"#46039f\"], [0.2222222222222222, \"#7201a8\"], [0.3333333333333333, \"#9c179e\"], [0.4444444444444444, \"#bd3786\"], [0.5555555555555556, \"#d8576b\"], [0.6666666666666666, \"#ed7953\"], [0.7777777777777778, \"#fb9f3a\"], [0.8888888888888888, \"#fdca26\"], [1.0, \"#f0f921\"]], \"type\": \"heatmapgl\"}], \"histogram\": [{\"marker\": {\"colorbar\": {\"outlinewidth\": 0, \"ticks\": \"\"}}, \"type\": \"histogram\"}], \"histogram2d\": [{\"colorbar\": {\"outlinewidth\": 0, \"ticks\": \"\"}, \"colorscale\": [[0.0, \"#0d0887\"], [0.1111111111111111, \"#46039f\"], [0.2222222222222222, \"#7201a8\"], [0.3333333333333333, \"#9c179e\"], [0.4444444444444444, \"#bd3786\"], [0.5555555555555556, \"#d8576b\"], [0.6666666666666666, \"#ed7953\"], [0.7777777777777778, \"#fb9f3a\"], [0.8888888888888888, \"#fdca26\"], [1.0, \"#f0f921\"]], \"type\": \"histogram2d\"}], \"histogram2dcontour\": [{\"colorbar\": {\"outlinewidth\": 0, \"ticks\": \"\"}, \"colorscale\": [[0.0, \"#0d0887\"], [0.1111111111111111, \"#46039f\"], [0.2222222222222222, \"#7201a8\"], [0.3333333333333333, \"#9c179e\"], [0.4444444444444444, \"#bd3786\"], [0.5555555555555556, \"#d8576b\"], [0.6666666666666666, \"#ed7953\"], [0.7777777777777778, \"#fb9f3a\"], [0.8888888888888888, \"#fdca26\"], [1.0, \"#f0f921\"]], \"type\": \"histogram2dcontour\"}], \"mesh3d\": [{\"colorbar\": {\"outlinewidth\": 0, \"ticks\": \"\"}, \"type\": \"mesh3d\"}], \"parcoords\": [{\"line\": {\"colorbar\": {\"outlinewidth\": 0, \"ticks\": \"\"}}, \"type\": \"parcoords\"}], \"pie\": [{\"automargin\": true, \"type\": \"pie\"}], \"scatter\": [{\"marker\": {\"colorbar\": {\"outlinewidth\": 0, \"ticks\": \"\"}}, \"type\": \"scatter\"}], \"scatter3d\": [{\"line\": {\"colorbar\": {\"outlinewidth\": 0, \"ticks\": \"\"}}, \"marker\": {\"colorbar\": {\"outlinewidth\": 0, \"ticks\": \"\"}}, \"type\": \"scatter3d\"}], \"scattercarpet\": [{\"marker\": {\"colorbar\": {\"outlinewidth\": 0, \"ticks\": \"\"}}, \"type\": \"scattercarpet\"}], \"scattergeo\": [{\"marker\": {\"colorbar\": {\"outlinewidth\": 0, \"ticks\": \"\"}}, \"type\": \"scattergeo\"}], \"scattergl\": [{\"marker\": {\"colorbar\": {\"outlinewidth\": 0, \"ticks\": \"\"}}, \"type\": \"scattergl\"}], \"scattermapbox\": [{\"marker\": {\"colorbar\": {\"outlinewidth\": 0, \"ticks\": \"\"}}, \"type\": \"scattermapbox\"}], \"scatterpolar\": [{\"marker\": {\"colorbar\": {\"outlinewidth\": 0, \"ticks\": \"\"}}, \"type\": \"scatterpolar\"}], \"scatterpolargl\": [{\"marker\": {\"colorbar\": {\"outlinewidth\": 0, \"ticks\": \"\"}}, \"type\": \"scatterpolargl\"}], \"scatterternary\": [{\"marker\": {\"colorbar\": {\"outlinewidth\": 0, \"ticks\": \"\"}}, \"type\": \"scatterternary\"}], \"surface\": [{\"colorbar\": {\"outlinewidth\": 0, \"ticks\": \"\"}, \"colorscale\": [[0.0, \"#0d0887\"], [0.1111111111111111, \"#46039f\"], [0.2222222222222222, \"#7201a8\"], [0.3333333333333333, \"#9c179e\"], [0.4444444444444444, \"#bd3786\"], [0.5555555555555556, \"#d8576b\"], [0.6666666666666666, \"#ed7953\"], [0.7777777777777778, \"#fb9f3a\"], [0.8888888888888888, \"#fdca26\"], [1.0, \"#f0f921\"]], \"type\": \"surface\"}], \"table\": [{\"cells\": {\"fill\": {\"color\": \"#EBF0F8\"}, \"line\": {\"color\": \"white\"}}, \"header\": {\"fill\": {\"color\": \"#C8D4E3\"}, \"line\": {\"color\": \"white\"}}, \"type\": \"table\"}]}, \"layout\": {\"annotationdefaults\": {\"arrowcolor\": \"#2a3f5f\", \"arrowhead\": 0, \"arrowwidth\": 1}, \"coloraxis\": {\"colorbar\": {\"outlinewidth\": 0, \"ticks\": \"\"}}, \"colorscale\": {\"diverging\": [[0, \"#8e0152\"], [0.1, \"#c51b7d\"], [0.2, \"#de77ae\"], [0.3, \"#f1b6da\"], [0.4, \"#fde0ef\"], [0.5, \"#f7f7f7\"], [0.6, \"#e6f5d0\"], [0.7, \"#b8e186\"], [0.8, \"#7fbc41\"], [0.9, \"#4d9221\"], [1, \"#276419\"]], \"sequential\": [[0.0, \"#0d0887\"], [0.1111111111111111, \"#46039f\"], [0.2222222222222222, \"#7201a8\"], [0.3333333333333333, \"#9c179e\"], [0.4444444444444444, \"#bd3786\"], [0.5555555555555556, \"#d8576b\"], [0.6666666666666666, \"#ed7953\"], [0.7777777777777778, \"#fb9f3a\"], [0.8888888888888888, \"#fdca26\"], [1.0, \"#f0f921\"]], \"sequentialminus\": [[0.0, \"#0d0887\"], [0.1111111111111111, \"#46039f\"], [0.2222222222222222, \"#7201a8\"], [0.3333333333333333, \"#9c179e\"], [0.4444444444444444, \"#bd3786\"], [0.5555555555555556, \"#d8576b\"], [0.6666666666666666, \"#ed7953\"], [0.7777777777777778, \"#fb9f3a\"], [0.8888888888888888, \"#fdca26\"], [1.0, \"#f0f921\"]]}, \"colorway\": [\"#636efa\", \"#EF553B\", \"#00cc96\", \"#ab63fa\", \"#FFA15A\", \"#19d3f3\", \"#FF6692\", \"#B6E880\", \"#FF97FF\", \"#FECB52\"], \"font\": {\"color\": \"#2a3f5f\"}, \"geo\": {\"bgcolor\": \"white\", \"lakecolor\": \"white\", \"landcolor\": \"#E5ECF6\", \"showlakes\": true, \"showland\": true, \"subunitcolor\": \"white\"}, \"hoverlabel\": {\"align\": \"left\"}, \"hovermode\": \"closest\", \"mapbox\": {\"style\": \"light\"}, \"paper_bgcolor\": \"white\", \"plot_bgcolor\": \"#E5ECF6\", \"polar\": {\"angularaxis\": {\"gridcolor\": \"white\", \"linecolor\": \"white\", \"ticks\": \"\"}, \"bgcolor\": \"#E5ECF6\", \"radialaxis\": {\"gridcolor\": \"white\", \"linecolor\": \"white\", \"ticks\": \"\"}}, \"scene\": {\"xaxis\": {\"backgroundcolor\": \"#E5ECF6\", \"gridcolor\": \"white\", \"gridwidth\": 2, \"linecolor\": \"white\", \"showbackground\": true, \"ticks\": \"\", \"zerolinecolor\": \"white\"}, \"yaxis\": {\"backgroundcolor\": \"#E5ECF6\", \"gridcolor\": \"white\", \"gridwidth\": 2, \"linecolor\": \"white\", \"showbackground\": true, \"ticks\": \"\", \"zerolinecolor\": \"white\"}, \"zaxis\": {\"backgroundcolor\": \"#E5ECF6\", \"gridcolor\": \"white\", \"gridwidth\": 2, \"linecolor\": \"white\", \"showbackground\": true, \"ticks\": \"\", \"zerolinecolor\": \"white\"}}, \"shapedefaults\": {\"line\": {\"color\": \"#2a3f5f\"}}, \"ternary\": {\"aaxis\": {\"gridcolor\": \"white\", \"linecolor\": \"white\", \"ticks\": \"\"}, \"baxis\": {\"gridcolor\": \"white\", \"linecolor\": \"white\", \"ticks\": \"\"}, \"bgcolor\": \"#E5ECF6\", \"caxis\": {\"gridcolor\": \"white\", \"linecolor\": \"white\", \"ticks\": \"\"}}, \"title\": {\"x\": 0.05}, \"xaxis\": {\"automargin\": true, \"gridcolor\": \"white\", \"linecolor\": \"white\", \"ticks\": \"\", \"title\": {\"standoff\": 15}, \"zerolinecolor\": \"white\", \"zerolinewidth\": 2}, \"yaxis\": {\"automargin\": true, \"gridcolor\": \"white\", \"linecolor\": \"white\", \"ticks\": \"\", \"title\": {\"standoff\": 15}, \"zerolinecolor\": \"white\", \"zerolinewidth\": 2}}}, \"title\": {\"text\": \"ID distribution\"}},\n",
       "                        {\"responsive\": true}\n",
       "                    ).then(function(){\n",
       "                            \n",
       "var gd = document.getElementById('4d397cb0-1f3f-4b33-b0d3-0daffeb8197c');\n",
       "var x = new MutationObserver(function (mutations, observer) {{\n",
       "        var display = window.getComputedStyle(gd).display;\n",
       "        if (!display || display === 'none') {{\n",
       "            console.log([gd, 'removed!']);\n",
       "            Plotly.purge(gd);\n",
       "            observer.disconnect();\n",
       "        }}\n",
       "}});\n",
       "\n",
       "// Listen for the removal of the full notebook cells\n",
       "var notebookContainer = gd.closest('#notebook-container');\n",
       "if (notebookContainer) {{\n",
       "    x.observe(notebookContainer, {childList: true});\n",
       "}}\n",
       "\n",
       "// Listen for the clearing of the current output cell\n",
       "var outputEl = gd.closest('.output');\n",
       "if (outputEl) {{\n",
       "    x.observe(outputEl, {childList: true});\n",
       "}}\n",
       "\n",
       "                        })\n",
       "                };\n",
       "                });\n",
       "            </script>\n",
       "        </div>"
      ]
     },
     "metadata": {},
     "output_type": "display_data"
    }
   ],
   "source": [
    "# my_data.head(20)\n",
    "# my_data['idN'].value_counts().nlargest(n=5)  # пять самых больших классов\n",
    "labels = '2.0 ID', '4.0 ID', '1.0 ID', '3.0 ID','6.0 ID'\n",
    "sizes = [12580, 1610, 5330, 273,49] # Размеры пяти самых больших классов\n",
    "\n",
    "import plotly.express as px\n",
    "# df = px.data.gapminder().query(\"year == 2007\").query(\"continent == 'Europe'\")\n",
    "# df.loc[df[''] < 2.e6, 'country'] = 'Other countries' # Represent only large countries\n",
    "fig = px.pie(sizes, values=sizes, names=labels, title='ID distribution')\n",
    "fig.show()"
   ]
  },
  {
   "cell_type": "markdown",
   "metadata": {},
   "source": [
    "### Distribution for distances in GCVS-ZTF for answers with 1 ID, r=5arcsec"
   ]
  },
  {
   "cell_type": "code",
   "execution_count": 522,
   "metadata": {},
   "outputs": [
    {
     "data": {
      "text/plain": [
       "Text(0.5, 1.0, 'Distribution for distances in GCVS-ZTF for answers with 1 ID, r=5arcsec')"
      ]
     },
     "execution_count": 522,
     "metadata": {},
     "output_type": "execute_result"
    },
    {
     "data": {
      "image/png": "[encoded data removed]",
      "text/plain": [
       "<Figure size 432x288 with 1 Axes>"
      ]
     },
     "metadata": {
      "needs_background": "light"
     },
     "output_type": "display_data"
    }
   ],
   "source": [
    "df = pd.read_csv(r'1IDobj.csv',sep='\\t')\n",
    "df['dist1']=df['dist1']\n",
    "df['dist1'].hist(bins=100)\n",
    "plt.title (\"Distribution for distances in GCVS-ZTF for answers with 1 ID, r=5arcsec\") #данные по всему каталогу "
   ]
  },
  {
   "cell_type": "code",
   "execution_count": 544,
   "metadata": {},
   "outputs": [],
   "source": [
    "listl=[]\n",
    "for item in names2: \n",
    "    with open(r\"C:\\Users\\rtut6\\Desktop\\Backup\\2\\{}.txt\".format(item)) as file:\n",
    "        res = file.read().replace(\"'\", '\"')\n",
    "    res=json.loads(res)\n",
    "    c1=SkyCoord(res[list(res.keys())[0]]['meta']['coord']['ra']*u.degree, res[list(res.keys())[0]]['meta']['coord']['dec']*u.degree)\n",
    "    c2=SkyCoord(res[list(res.keys())[1]]['meta']['coord']['ra']*u.degree, res[list(res.keys())[1]]['meta']['coord']['dec']*u.degree)\n",
    "    sep0 = c1.separation(c2)\n",
    "    listl.append(sep0.value)"
   ]
  },
  {
   "cell_type": "code",
   "execution_count": 548,
   "metadata": {},
   "outputs": [],
   "source": [
    "for i in range(len(listl)):\n",
    "    listl[i]=listl[i]*3600"
   ]
  },
  {
   "cell_type": "markdown",
   "metadata": {},
   "source": [
    "### Distribution for distances in ZTF for answers with 2 id (between ids), r=1.5arcsec"
   ]
  },
  {
   "cell_type": "code",
   "execution_count": 549,
   "metadata": {},
   "outputs": [
    {
     "data": {
      "text/plain": [
       "Text(0.5, 1.0, 'Distribution for distances in ZTF for answers with 2 id (between ids), r=1.5arcsec')"
      ]
     },
     "execution_count": 549,
     "metadata": {},
     "output_type": "execute_result"
    },
    {
     "data": {
      "image/png": "[encoded data removed]",
      "text/plain": [
       "<Figure size 432x288 with 1 Axes>"
      ]
     },
     "metadata": {
      "needs_background": "light"
     },
     "output_type": "display_data"
    }
   ],
   "source": [
    "df=pd.DataFrame(index=range(len(listl)),columns=['degr'])\n",
    "df['degr']=listl\n",
    "df.hist(bins=100)\n",
    "# np.cumsum(a)\n",
    "plt.title (\"Distribution for distances in ZTF for answers with 2 id (between ids), r=1.5arcsec\") #данные по всему каталогу "
   ]
  },
  {
   "cell_type": "markdown",
   "metadata": {},
   "source": [
    "### Create a DataFrame:"
   ]
  },
  {
   "cell_type": "code",
   "execution_count": 327,
   "metadata": {},
   "outputs": [],
   "source": [
    "df=pd.DataFrame(columns=['ra','dec','Nobs','filter','Name'],index=range(35000))"
   ]
  },
  {
   "cell_type": "markdown",
   "metadata": {},
   "source": [
    "### Each new row - one single observation (for each 2-id object we get 2 rows)"
   ]
  },
  {
   "cell_type": "code",
   "execution_count": 333,
   "metadata": {
    "scrolled": true
   },
   "outputs": [],
   "source": [
    "# i=0\n",
    "for item in names2: # names1 or names2 (replace to switch)\n",
    "    with open(r\"C:\\Users\\rtut6\\Desktop\\Backup\\2\\{}.txt\".format(item)) as file: # 2 or 1 folder (replace to switch)\n",
    "        res = file.read().replace(\"'\", '\"')\n",
    "    res=json.loads(res)\n",
    "#     c1=SkyCoord(res[list(res.keys())[0]]['meta']['coord']['ra']*u.degree, res[list(res.keys())[0]]['meta']['coord']['dec']*u.degree)\n",
    "#     c2=SkyCoord(res[list(res.keys())[1]]['meta']['coord']['ra']*u.degree, res[list(res.keys())[1]]['meta']['coord']['dec']*u.degree)\n",
    "#     sep0 = c1.separation(c2)\n",
    "#     listl.append(sep0.value)\n",
    "    if res[list(res.keys())[0]]['meta']['filter']=='zg':\n",
    "        df['ra'][i]=round(res[list(res.keys())[0]]['meta']['coord']['ra'],3)\n",
    "        df['dec'][i]=res[list(res.keys())[0]]['meta']['coord']['dec']\n",
    "        df['Nobs'][i]=res[list(res.keys())[0]]['meta']['nobs']\n",
    "        df['filter'][i]='zg'\n",
    "        df['Name'][i]=item\n",
    "        i=i+1\n",
    "    if res[list(res.keys())[0]]['meta']['filter']=='zr':\n",
    "        df['ra'][i]=round(res[list(res.keys())[0]]['meta']['coord']['ra'],3)\n",
    "        df['dec'][i]=res[list(res.keys())[0]]['meta']['coord']['dec']\n",
    "        df['Nobs'][i]=res[list(res.keys())[0]]['meta']['nobs']\n",
    "        df['filter'][i]='zr'\n",
    "        df['Name'][i]=item\n",
    "        i=i+1 \n",
    "    # this part has been made for second (2) folder: (add to switch)\n",
    "#     if res[list(res.keys())[1]]['meta']['filter']=='zg':\n",
    "#         df['ra'][i]=round(res[list(res.keys())[1]]['meta']['coord']['ra'],3)\n",
    "#         df['dec'][i]=res[list(res.keys())[1]]['meta']['coord']['dec']\n",
    "#         df['Nobs'][i]=res[list(res.keys())[1]]['meta']['nobs']\n",
    "#         df['filter'][i]='zg'\n",
    "#         df['Name'][i]=item\n",
    "#         i=i+1\n",
    "        \n",
    "#     if res[list(res.keys())[1]]['meta']['filter']=='zr':\n",
    "#         df['ra'][i]=round(res[list(res.keys())[1]]['meta']['coord']['ra'],3)\n",
    "#         df['dec'][i]=res[list(res.keys())[1]]['meta']['coord']['dec']\n",
    "#         df['Nobs'][i]=res[list(res.keys())[1]]['meta']['nobs']\n",
    "#         df['filter'][i]='zr'\n",
    "#         df['Name'][i]=item\n",
    "#         i=i+1\n",
    "\n",
    "                \n",
    "#     df.append([res[list(res.keys())[1]]['meta']['coord']['ra']],[res[list(res.keys())[1]]['meta']['coord']['dec']])\n",
    "#     if sep0.value*3600>0.5 or res[list(res.keys())[0]]['meta']['fieldid']==res[list(res.keys())[1]]['meta']['fieldid'] and res[list(res.keys())[0]]['meta']['filter']==res[list(res.keys())[1]]['meta']['filter']:\n",
    "#     special1.append(item)\n",
    "# special1        \n",
    "#     sep1 = c2.separation(c0)\n",
    "#     df['dist1'][i]=sep0.value\n",
    "#     df['dist2'][i]=sep1.value\n",
    "# #     if len(d2.keys())==3:\n",
    "# #         list3[k]=item\n",
    "# #         k=k+1\n",
    "#     d=d+1    \n",
    "#     if d % 1000==0:\n",
    "#             print(d)"
   ]
  },
  {
   "cell_type": "markdown",
   "metadata": {},
   "source": [
    "### Next we want to match coordinates of an object with its type of variability"
   ]
  },
  {
   "cell_type": "markdown",
   "metadata": {},
   "source": [
    "### Here some problems with merging initial dataframe (data1) with new one (df)"
   ]
  },
  {
   "cell_type": "code",
   "execution_count": 360,
   "metadata": {},
   "outputs": [
    {
     "data": {
      "text/html": [
       "<div>\n",
       "<style scoped>\n",
       "    .dataframe tbody tr th:only-of-type {\n",
       "        vertical-align: middle;\n",
       "    }\n",
       "\n",
       "    .dataframe tbody tr th {\n",
       "        vertical-align: top;\n",
       "    }\n",
       "\n",
       "    .dataframe thead th {\n",
       "        text-align: right;\n",
       "    }\n",
       "</style>\n",
       "<table border=\"1\" class=\"dataframe\">\n",
       "  <thead>\n",
       "    <tr style=\"text-align: right;\">\n",
       "      <th></th>\n",
       "      <th>ra</th>\n",
       "      <th>dec</th>\n",
       "      <th>Nobs</th>\n",
       "      <th>filter</th>\n",
       "      <th>Name</th>\n",
       "    </tr>\n",
       "  </thead>\n",
       "  <tbody>\n",
       "    <tr>\n",
       "      <th>12788</th>\n",
       "      <td>290.22</td>\n",
       "      <td>37.7496</td>\n",
       "      <td>56</td>\n",
       "      <td>zg</td>\n",
       "      <td>19426</td>\n",
       "    </tr>\n",
       "    <tr>\n",
       "      <th>12789</th>\n",
       "      <td>290.22</td>\n",
       "      <td>37.7496</td>\n",
       "      <td>56</td>\n",
       "      <td>zr</td>\n",
       "      <td>19426</td>\n",
       "    </tr>\n",
       "    <tr>\n",
       "      <th>12790</th>\n",
       "      <td>290.22</td>\n",
       "      <td>37.7769</td>\n",
       "      <td>56</td>\n",
       "      <td>zg</td>\n",
       "      <td>19427</td>\n",
       "    </tr>\n",
       "    <tr>\n",
       "      <th>12791</th>\n",
       "      <td>290.22</td>\n",
       "      <td>37.7769</td>\n",
       "      <td>56</td>\n",
       "      <td>zr</td>\n",
       "      <td>19427</td>\n",
       "    </tr>\n",
       "    <tr>\n",
       "      <th>13030</th>\n",
       "      <td>290.22</td>\n",
       "      <td>41.6407</td>\n",
       "      <td>56</td>\n",
       "      <td>zg</td>\n",
       "      <td>19580</td>\n",
       "    </tr>\n",
       "    <tr>\n",
       "      <th>13031</th>\n",
       "      <td>290.22</td>\n",
       "      <td>41.6407</td>\n",
       "      <td>57</td>\n",
       "      <td>zr</td>\n",
       "      <td>19580</td>\n",
       "    </tr>\n",
       "  </tbody>\n",
       "</table>\n",
       "</div>"
      ],
      "text/plain": [
       "           ra      dec Nobs filter   Name\n",
       "12788  290.22  37.7496   56     zg  19426\n",
       "12789  290.22  37.7496   56     zr  19426\n",
       "12790  290.22  37.7769   56     zg  19427\n",
       "12791  290.22  37.7769   56     zr  19427\n",
       "13030  290.22  41.6407   56     zg  19580\n",
       "13031  290.22  41.6407   57     zr  19580"
      ]
     },
     "execution_count": 360,
     "metadata": {},
     "output_type": "execute_result"
    }
   ],
   "source": [
    "df[df['ra']==290.22]"
   ]
  },
  {
   "cell_type": "code",
   "execution_count": 373,
   "metadata": {},
   "outputs": [
    {
     "data": {
      "text/html": [
       "<div>\n",
       "<style scoped>\n",
       "    .dataframe tbody tr th:only-of-type {\n",
       "        vertical-align: middle;\n",
       "    }\n",
       "\n",
       "    .dataframe tbody tr th {\n",
       "        vertical-align: top;\n",
       "    }\n",
       "\n",
       "    .dataframe thead th {\n",
       "        text-align: right;\n",
       "    }\n",
       "</style>\n",
       "<table border=\"1\" class=\"dataframe\">\n",
       "  <thead>\n",
       "    <tr style=\"text-align: right;\">\n",
       "      <th></th>\n",
       "      <th>coord</th>\n",
       "      <th>Type</th>\n",
       "      <th>ra</th>\n",
       "      <th>dec</th>\n",
       "    </tr>\n",
       "  </thead>\n",
       "  <tbody>\n",
       "    <tr>\n",
       "      <th>22482</th>\n",
       "      <td>192052.77 +374458.7</td>\n",
       "      <td>BY</td>\n",
       "      <td>290.22</td>\n",
       "      <td>37.750</td>\n",
       "    </tr>\n",
       "    <tr>\n",
       "      <th>22483</th>\n",
       "      <td>192052.90 +374636.8</td>\n",
       "      <td>ELL</td>\n",
       "      <td>290.22</td>\n",
       "      <td>37.777</td>\n",
       "    </tr>\n",
       "    <tr>\n",
       "      <th>22661</th>\n",
       "      <td>192052.80 +413825.9</td>\n",
       "      <td>L</td>\n",
       "      <td>290.22</td>\n",
       "      <td>41.641</td>\n",
       "    </tr>\n",
       "  </tbody>\n",
       "</table>\n",
       "</div>"
      ],
      "text/plain": [
       "                     coord Type      ra     dec\n",
       "22482  192052.77 +374458.7   BY  290.22  37.750\n",
       "22483  192052.90 +374636.8  ELL  290.22  37.777\n",
       "22661  192052.80 +413825.9    L  290.22  41.641"
      ]
     },
     "execution_count": 373,
     "metadata": {},
     "output_type": "execute_result"
    }
   ],
   "source": [
    "data1[data1['ra']==290.22]"
   ]
  },
  {
   "cell_type": "markdown",
   "metadata": {},
   "source": [
    "### With \"merge\" function we'll have all possible combinations of ra from data1 and df (if they are the same). Here -18 rows. Because of that we have to filter rows of our dataframe by dec in data1 and df"
   ]
  },
  {
   "cell_type": "code",
   "execution_count": null,
   "metadata": {},
   "outputs": [],
   "source": [
    "for i in range(data1.shape[0]):\n",
    "    data1['dec'][i]=round(data1['dec'][i],3)"
   ]
  },
  {
   "cell_type": "code",
   "execution_count": null,
   "metadata": {},
   "outputs": [],
   "source": [
    "# dff=pd.merge(df, data1, on='ra')\n",
    "df1=df.merge(data1, left_on=['ra'], right_on=['ra'])"
   ]
  },
  {
   "cell_type": "code",
   "execution_count": null,
   "metadata": {},
   "outputs": [],
   "source": [
    "# Error correction\n",
    "index=[]\n",
    "for i in range(df1.shape[0]):\n",
    "    if abs(df1['dec_x'][i]-df1['dec_y'][i])>=0.003:\n",
    "        index.append(i)\n",
    "d1f=df1.drop(index,axis=0)  "
   ]
  },
  {
   "cell_type": "code",
   "execution_count": null,
   "metadata": {},
   "outputs": [],
   "source": [
    "df1 = df1.reset_index(drop=True)"
   ]
  },
  {
   "cell_type": "markdown",
   "metadata": {},
   "source": [
    "### V types from GCVS:"
   ]
  },
  {
   "cell_type": "code",
   "execution_count": 344,
   "metadata": {},
   "outputs": [],
   "source": [
    "eruptive=['FU', 'GCAS', 'I', 'IA', 'IB', 'IN', 'INA', 'INB', 'INT', 'IT', 'IN(YY)', 'IS', 'ISA',\n",
    "          'ISB', 'RCB', 'RS', 'SDOR', 'UV', 'UVN', 'WR']\n",
    "pulsating=['ACYG', 'BCEP', 'BCEPS', 'CEP', 'CEP(B)', 'CW', 'CWA', 'CWB', 'DCEP', 'DCEPS',\n",
    "           'DSCT', 'DSCTC', 'GDOR', 'L', 'LB', 'LC', 'M', 'PVTEL', 'RPHS', 'RR', 'RR(B)', 'RRAB',\n",
    "           'RRC', 'RV', 'RVA', 'RVB', 'SR', 'SRA', 'SRB', 'SRC', 'SRD', 'SXPHE', 'ZZ', 'ZZA', 'ZZB']\n",
    "rotating=['ACV', 'ACVO', 'BY', 'ELL', 'FKCOM', 'PSR', 'SXARI']\n",
    "cataclysmic=['N', 'NA', 'NB', 'NC', 'NL', 'NR','SN', 'SNI', 'SNII', 'UG', 'UGSS', 'UGSU', 'UGZ', 'ZAND']\n",
    "eclipsing=['E', 'EA', 'EB', 'EW', 'GS', 'PN', 'RS', 'WD', 'WR', 'AR', 'D', 'DM','DS', 'DW', 'K', 'KE', 'KW', 'SD']\n",
    "intense=['X', 'XB', 'XF', 'XI', 'XJ', 'XND', 'XNG', 'XP', 'XPR','XPRM', 'XM']\n",
    "other=['BLLAC', 'CST', 'GAL', 'L:', 'QSO', 'S', '*', '+', ':','ZZO', 'AM', 'R', 'BE', 'LBV', 'BLBOO', 'EP', 'SRS', 'LPB']"
   ]
  },
  {
   "cell_type": "markdown",
   "metadata": {},
   "source": [
    "### Make a new column ('Num') with class of variability"
   ]
  },
  {
   "cell_type": "code",
   "execution_count": 406,
   "metadata": {},
   "outputs": [
    {
     "name": "stderr",
     "output_type": "stream",
     "text": [
      "C:\\Users\\rtut6\\Anaconda3\\lib\\site-packages\\ipykernel_launcher.py:13: SettingWithCopyWarning: \n",
      "A value is trying to be set on a copy of a slice from a DataFrame\n",
      "\n",
      "See the caveats in the documentation: http://pandas.pydata.org/pandas-docs/stable/user_guide/indexing.html#returning-a-view-versus-a-copy\n",
      "  del sys.path[0]\n",
      "C:\\Users\\rtut6\\Anaconda3\\lib\\site-packages\\ipykernel_launcher.py:7: SettingWithCopyWarning: \n",
      "A value is trying to be set on a copy of a slice from a DataFrame\n",
      "\n",
      "See the caveats in the documentation: http://pandas.pydata.org/pandas-docs/stable/user_guide/indexing.html#returning-a-view-versus-a-copy\n",
      "  import sys\n",
      "C:\\Users\\rtut6\\Anaconda3\\lib\\site-packages\\ipykernel_launcher.py:16: SettingWithCopyWarning: \n",
      "A value is trying to be set on a copy of a slice from a DataFrame\n",
      "\n",
      "See the caveats in the documentation: http://pandas.pydata.org/pandas-docs/stable/user_guide/indexing.html#returning-a-view-versus-a-copy\n",
      "  app.launch_new_instance()\n",
      "C:\\Users\\rtut6\\Anaconda3\\lib\\site-packages\\ipykernel_launcher.py:4: SettingWithCopyWarning: \n",
      "A value is trying to be set on a copy of a slice from a DataFrame\n",
      "\n",
      "See the caveats in the documentation: http://pandas.pydata.org/pandas-docs/stable/user_guide/indexing.html#returning-a-view-versus-a-copy\n",
      "  after removing the cwd from sys.path.\n",
      "C:\\Users\\rtut6\\Anaconda3\\lib\\site-packages\\ipykernel_launcher.py:21: SettingWithCopyWarning: \n",
      "A value is trying to be set on a copy of a slice from a DataFrame\n",
      "\n",
      "See the caveats in the documentation: http://pandas.pydata.org/pandas-docs/stable/user_guide/indexing.html#returning-a-view-versus-a-copy\n",
      "C:\\Users\\rtut6\\Anaconda3\\lib\\site-packages\\ipykernel_launcher.py:10: SettingWithCopyWarning: \n",
      "A value is trying to be set on a copy of a slice from a DataFrame\n",
      "\n",
      "See the caveats in the documentation: http://pandas.pydata.org/pandas-docs/stable/user_guide/indexing.html#returning-a-view-versus-a-copy\n",
      "  # Remove the CWD from sys.path while we load stuff.\n",
      "C:\\Users\\rtut6\\Anaconda3\\lib\\site-packages\\ipykernel_launcher.py:19: SettingWithCopyWarning: \n",
      "A value is trying to be set on a copy of a slice from a DataFrame\n",
      "\n",
      "See the caveats in the documentation: http://pandas.pydata.org/pandas-docs/stable/user_guide/indexing.html#returning-a-view-versus-a-copy\n"
     ]
    }
   ],
   "source": [
    "#Numerate classes\n",
    "df1['Num']=0\n",
    "for i in range(df1.shape[0]):\n",
    "    if df1['Type'][i] in eruptive:\n",
    "        df1['Num'][i]=0\n",
    "        continue\n",
    "    if df1['Type'][i] in pulsating:\n",
    "        df1['Num'][i]=1\n",
    "        continue\n",
    "    if df1['Type'][i] in rotating:\n",
    "        df1['Num'][i]=2\n",
    "        continue\n",
    "    if df1['Type'][i] in cataclysmic:\n",
    "        df1['Num'][i]=3\n",
    "        continue\n",
    "    if df1['Type'][i] in eclipsing:\n",
    "        df1['Num'][i]=4\n",
    "        continue\n",
    "    if df1['Type'][i] in intense:\n",
    "        df1['Num'][i]=5\n",
    "    else:\n",
    "        df1['Num'][i]=6"
   ]
  },
  {
   "cell_type": "markdown",
   "metadata": {},
   "source": [
    "### Look at names of files in pulsating type:"
   ]
  },
  {
   "cell_type": "code",
   "execution_count": 539,
   "metadata": {},
   "outputs": [
    {
     "data": {
      "text/plain": [
       "['10024',\n",
       " '10100',\n",
       " '10136',\n",
       " '10139',\n",
       " '10140',\n",
       " '10157',\n",
       " '10212',\n",
       " '10240',\n",
       " '1047',\n",
       " '1048',\n",
       " '1052',\n",
       " '1053',\n",
       " '1055',\n",
       " '1056',\n",
       " '1058',\n",
       " '1059',\n",
       " '1062',\n",
       " '1070',\n",
       " '1071',\n",
       " '1079',\n",
       " '109',\n",
       " '1101',\n",
       " '11029',\n",
       " '11030',\n",
       " '11100',\n",
       " '11116',\n",
       " '11117',\n",
       " '11129',\n",
       " '11138',\n",
       " '11158',\n",
       " '11161',\n",
       " '11169',\n",
       " '11170',\n",
       " '11171',\n",
       " '11175',\n",
       " '11177',\n",
       " '11187',\n",
       " '1121',\n",
       " '1126',\n",
       " '1130',\n",
       " '11310',\n",
       " '11317',\n",
       " '11323',\n",
       " '11324',\n",
       " '11325',\n",
       " '11328',\n",
       " '11333',\n",
       " '11345',\n",
       " '11346',\n",
       " '11348',\n",
       " '11351',\n",
       " '11352',\n",
       " '11360',\n",
       " '11367',\n",
       " '11370',\n",
       " '11371',\n",
       " '11372',\n",
       " '11373',\n",
       " '11375',\n",
       " '11376',\n",
       " '11378',\n",
       " '11390',\n",
       " '11393',\n",
       " '11394',\n",
       " '11395',\n",
       " '11398',\n",
       " '114',\n",
       " '1140',\n",
       " '11404',\n",
       " '11407',\n",
       " '1141',\n",
       " '11411',\n",
       " '11412',\n",
       " '11414',\n",
       " '1142',\n",
       " '11423',\n",
       " '11425',\n",
       " '11429',\n",
       " '3083',\n",
       " '3083',\n",
       " '11436',\n",
       " '11438',\n",
       " '11441',\n",
       " '11444',\n",
       " '11448',\n",
       " '11449',\n",
       " '1145',\n",
       " '11452',\n",
       " '11455',\n",
       " '11462',\n",
       " '11465',\n",
       " '11467',\n",
       " '11541',\n",
       " '11468',\n",
       " '11470',\n",
       " '11481',\n",
       " '2151',\n",
       " '2151',\n",
       " '11486',\n",
       " '11487',\n",
       " '11488',\n",
       " '11489',\n",
       " '11490',\n",
       " '11491',\n",
       " '11499',\n",
       " '11504',\n",
       " '11506',\n",
       " '11507',\n",
       " '11511',\n",
       " '11519',\n",
       " '11528',\n",
       " '11529',\n",
       " '11534',\n",
       " '11547',\n",
       " '11550',\n",
       " '1157',\n",
       " '11571',\n",
       " '11576',\n",
       " '11579',\n",
       " '11581',\n",
       " '11599',\n",
       " '11603',\n",
       " '11605',\n",
       " '11617',\n",
       " '11746',\n",
       " '11618',\n",
       " '11619',\n",
       " '11625',\n",
       " '11630',\n",
       " '11637',\n",
       " '11640',\n",
       " '11641',\n",
       " '2022',\n",
       " '11662',\n",
       " '11664',\n",
       " '11668',\n",
       " '11669',\n",
       " '11671',\n",
       " '11674',\n",
       " '1899',\n",
       " '11685',\n",
       " '11687',\n",
       " '11693',\n",
       " '11694',\n",
       " '1170',\n",
       " '11713',\n",
       " '11718',\n",
       " '11735',\n",
       " '1174',\n",
       " '11743',\n",
       " '11747',\n",
       " '1175',\n",
       " '11750',\n",
       " '11759',\n",
       " '11771',\n",
       " '11772',\n",
       " '11780',\n",
       " '11783',\n",
       " '11792',\n",
       " '11793',\n",
       " '11796',\n",
       " '11807',\n",
       " '11808',\n",
       " '11809',\n",
       " '11815',\n",
       " '11817',\n",
       " '11818',\n",
       " '11824',\n",
       " '11828',\n",
       " '11830',\n",
       " '12741',\n",
       " '12741',\n",
       " '11833',\n",
       " '11834',\n",
       " '11837',\n",
       " '11842',\n",
       " '11844',\n",
       " '11845',\n",
       " '11847',\n",
       " '11848',\n",
       " '11850',\n",
       " '11851',\n",
       " '11855',\n",
       " '1251',\n",
       " '1251',\n",
       " '11859',\n",
       " '11860',\n",
       " '11861',\n",
       " '11865',\n",
       " '11866',\n",
       " '11867',\n",
       " '11873',\n",
       " '11883',\n",
       " '11884',\n",
       " '11891',\n",
       " '11893',\n",
       " '119',\n",
       " '11911',\n",
       " '11926',\n",
       " '11933',\n",
       " '11936',\n",
       " '11937',\n",
       " '11956',\n",
       " '11962',\n",
       " '11968',\n",
       " '11978',\n",
       " '120',\n",
       " '12028',\n",
       " '12039',\n",
       " '12042',\n",
       " '1205',\n",
       " '12065',\n",
       " '1604',\n",
       " '1604',\n",
       " '12088',\n",
       " '12094',\n",
       " '12107',\n",
       " '12115',\n",
       " '1212',\n",
       " '12122',\n",
       " '12123',\n",
       " '1213',\n",
       " '12131',\n",
       " '12134',\n",
       " '12135',\n",
       " '12139',\n",
       " '43097',\n",
       " '43097',\n",
       " '1214',\n",
       " '12143',\n",
       " '12152',\n",
       " '12155',\n",
       " '12171',\n",
       " '12172',\n",
       " '12173',\n",
       " '12174',\n",
       " '12180',\n",
       " '12181',\n",
       " '30348',\n",
       " '2632',\n",
       " '12206',\n",
       " '12213',\n",
       " '12221',\n",
       " '12224',\n",
       " '12249',\n",
       " '1228',\n",
       " '12291',\n",
       " '12298',\n",
       " '12302',\n",
       " '12319',\n",
       " '12330',\n",
       " '12331',\n",
       " '12332',\n",
       " '12334',\n",
       " '11760',\n",
       " '11760',\n",
       " '2123',\n",
       " '2123',\n",
       " '12353',\n",
       " '12357',\n",
       " '12363',\n",
       " '12365',\n",
       " '12374',\n",
       " '12384',\n",
       " '12385',\n",
       " '12387',\n",
       " '12431',\n",
       " '12438',\n",
       " '12444',\n",
       " '12452',\n",
       " '12453',\n",
       " '12454',\n",
       " '12462',\n",
       " '1247',\n",
       " '12484',\n",
       " '12488',\n",
       " '12495',\n",
       " '12496',\n",
       " '12499',\n",
       " '12500',\n",
       " '12503',\n",
       " '12542',\n",
       " '12543',\n",
       " '12563',\n",
       " '12565',\n",
       " '12568',\n",
       " '12569',\n",
       " '12580',\n",
       " '12582',\n",
       " '1870',\n",
       " '30359',\n",
       " '30359',\n",
       " '12607',\n",
       " '12609',\n",
       " '12623',\n",
       " '12624',\n",
       " '12639',\n",
       " '12647',\n",
       " '12341',\n",
       " '12341',\n",
       " '12659',\n",
       " '12666',\n",
       " '12679',\n",
       " '12684',\n",
       " '12691',\n",
       " '12692',\n",
       " '12991',\n",
       " '12694',\n",
       " '12695',\n",
       " '12697',\n",
       " '12702',\n",
       " '12703',\n",
       " '12748',\n",
       " '12764',\n",
       " '12771',\n",
       " '12772',\n",
       " '12775',\n",
       " '12778',\n",
       " '12783',\n",
       " '12795',\n",
       " '12800',\n",
       " '12808',\n",
       " '12809',\n",
       " '12828',\n",
       " '12838',\n",
       " '12843',\n",
       " '12844',\n",
       " '12847',\n",
       " '12889',\n",
       " '12900',\n",
       " '12901',\n",
       " '12911',\n",
       " '12912',\n",
       " '12913',\n",
       " '12925',\n",
       " '12927',\n",
       " '12931',\n",
       " '12938',\n",
       " '12949',\n",
       " '8976',\n",
       " '12951',\n",
       " '12952',\n",
       " '12961',\n",
       " '12962',\n",
       " '12969',\n",
       " '12970',\n",
       " '12975',\n",
       " '12977',\n",
       " '12978',\n",
       " '12980',\n",
       " '12984',\n",
       " '12985',\n",
       " '12987',\n",
       " '12990',\n",
       " '12993',\n",
       " '12997',\n",
       " '13003',\n",
       " '13018',\n",
       " '13024',\n",
       " '13031',\n",
       " '13032',\n",
       " '13048',\n",
       " '13055',\n",
       " '13062',\n",
       " '13063',\n",
       " '13074',\n",
       " '13077',\n",
       " '1308',\n",
       " '13099',\n",
       " '13103',\n",
       " '13104',\n",
       " '13117',\n",
       " '13129',\n",
       " '13130',\n",
       " '13132',\n",
       " '13138',\n",
       " '1314',\n",
       " '1315',\n",
       " '1315',\n",
       " '13164',\n",
       " '13167',\n",
       " '13177',\n",
       " '42802',\n",
       " '13187',\n",
       " '13192',\n",
       " '132',\n",
       " '13210',\n",
       " '13211',\n",
       " '13213',\n",
       " '13222',\n",
       " '13242',\n",
       " '1619',\n",
       " '1619',\n",
       " '13244',\n",
       " '13249',\n",
       " '13252',\n",
       " '13253',\n",
       " '13256',\n",
       " '13257',\n",
       " '13262',\n",
       " '13263',\n",
       " '13265',\n",
       " '13270',\n",
       " '13281',\n",
       " '13283',\n",
       " '13284',\n",
       " '13285',\n",
       " '13287',\n",
       " '19506',\n",
       " '19506',\n",
       " '13355',\n",
       " '12603',\n",
       " '12603',\n",
       " '13360',\n",
       " '13370',\n",
       " '13375',\n",
       " '1341',\n",
       " '13411',\n",
       " '13415',\n",
       " '13417',\n",
       " '13421',\n",
       " '13441',\n",
       " '13451',\n",
       " '13463',\n",
       " '1347',\n",
       " '1350',\n",
       " '1352',\n",
       " '1354',\n",
       " '13521',\n",
       " '9194',\n",
       " '9194',\n",
       " '1356',\n",
       " '1357',\n",
       " '1360',\n",
       " '1361',\n",
       " '1363',\n",
       " '1364',\n",
       " '1365',\n",
       " '1366',\n",
       " '1367',\n",
       " '13679',\n",
       " '1368',\n",
       " '1369',\n",
       " '13716',\n",
       " '13717',\n",
       " '13718',\n",
       " '13720',\n",
       " '13725',\n",
       " '13728',\n",
       " '13731',\n",
       " '13734',\n",
       " '13744',\n",
       " '13745',\n",
       " '13758',\n",
       " '1377',\n",
       " '13770',\n",
       " '13771',\n",
       " '13774',\n",
       " '13782',\n",
       " '13784',\n",
       " '13785',\n",
       " '13786',\n",
       " '13787',\n",
       " '13788',\n",
       " '13790',\n",
       " '13791',\n",
       " '13792',\n",
       " '13793',\n",
       " '13794',\n",
       " '13799',\n",
       " '138',\n",
       " '13800',\n",
       " '13803',\n",
       " '13804',\n",
       " '13806',\n",
       " '13807',\n",
       " '13808',\n",
       " '13812',\n",
       " '13817',\n",
       " '13818',\n",
       " '13820',\n",
       " '13826',\n",
       " '13827',\n",
       " '13849',\n",
       " '13856',\n",
       " '13857',\n",
       " '13860',\n",
       " '13865',\n",
       " '13868',\n",
       " '13872',\n",
       " '13877',\n",
       " '13879',\n",
       " '13886',\n",
       " '13894',\n",
       " '13006',\n",
       " '13006',\n",
       " '13899',\n",
       " '1390',\n",
       " '13902',\n",
       " '13915',\n",
       " '1392',\n",
       " '1393',\n",
       " '13941',\n",
       " '1396',\n",
       " '13980',\n",
       " '1399',\n",
       " '13998',\n",
       " '13999',\n",
       " '1400',\n",
       " '14010',\n",
       " '1844',\n",
       " '1404',\n",
       " '1996',\n",
       " '14110',\n",
       " '1413',\n",
       " '14141',\n",
       " '14162',\n",
       " '14169',\n",
       " '1419',\n",
       " '1420',\n",
       " '14206',\n",
       " '14212',\n",
       " '1422',\n",
       " '14220',\n",
       " '43015',\n",
       " '43015',\n",
       " '14228',\n",
       " '14232',\n",
       " '2510',\n",
       " '2510',\n",
       " '14242',\n",
       " '14248',\n",
       " '14273',\n",
       " '1433',\n",
       " '14384',\n",
       " '14408',\n",
       " '14409',\n",
       " '1441',\n",
       " '14424',\n",
       " '1444',\n",
       " '14448',\n",
       " '14457',\n",
       " '1446',\n",
       " '14465',\n",
       " '14470',\n",
       " '14483',\n",
       " '1449',\n",
       " '14492',\n",
       " '14498',\n",
       " '1450',\n",
       " '14506',\n",
       " '14517',\n",
       " '14518',\n",
       " '1453',\n",
       " '14531',\n",
       " '1454',\n",
       " '14544',\n",
       " '14562',\n",
       " '14568',\n",
       " '1457',\n",
       " '14574',\n",
       " '14576',\n",
       " '1458',\n",
       " '14585',\n",
       " '14586',\n",
       " '14591',\n",
       " '1461',\n",
       " '14625',\n",
       " '14638',\n",
       " '1464',\n",
       " '14655',\n",
       " '1466',\n",
       " '2196',\n",
       " '2196',\n",
       " '14695',\n",
       " '1472',\n",
       " '1473',\n",
       " '14736',\n",
       " '14744',\n",
       " '14756',\n",
       " '14765',\n",
       " '14767',\n",
       " '1477',\n",
       " '14774',\n",
       " '14777',\n",
       " '14779',\n",
       " '14787',\n",
       " '14890',\n",
       " '14890',\n",
       " '14789',\n",
       " '14790',\n",
       " '14793',\n",
       " '14801',\n",
       " '14802',\n",
       " '14803',\n",
       " '14804',\n",
       " '14805',\n",
       " '14809',\n",
       " '14810',\n",
       " '14817',\n",
       " '14819',\n",
       " '14827',\n",
       " '14840',\n",
       " '14843',\n",
       " '14847',\n",
       " '14852',\n",
       " '14853',\n",
       " '14858',\n",
       " '1486',\n",
       " '14862',\n",
       " '14864',\n",
       " '14866',\n",
       " '14871',\n",
       " '14872',\n",
       " '14885',\n",
       " '14886',\n",
       " '1489',\n",
       " '14891',\n",
       " '14892',\n",
       " '14894',\n",
       " '14917',\n",
       " '1492',\n",
       " '1493',\n",
       " '14932',\n",
       " '14942',\n",
       " '14955',\n",
       " '14958',\n",
       " '14959',\n",
       " '14960',\n",
       " '1498',\n",
       " '31754',\n",
       " '31754',\n",
       " '14981',\n",
       " '14982',\n",
       " '14986',\n",
       " '14998',\n",
       " '15',\n",
       " '15001',\n",
       " '15006',\n",
       " '15010',\n",
       " '15012',\n",
       " '15016',\n",
       " '15020',\n",
       " '15021',\n",
       " '15033',\n",
       " '1508',\n",
       " '15095',\n",
       " '151',\n",
       " '1511',\n",
       " '1512',\n",
       " '2423',\n",
       " '2423',\n",
       " '1513',\n",
       " '1514',\n",
       " '1518',\n",
       " '1525',\n",
       " '23504',\n",
       " '15264',\n",
       " '15266',\n",
       " '15267',\n",
       " '15269',\n",
       " '15273',\n",
       " '15277',\n",
       " '1528',\n",
       " '15281',\n",
       " '1529',\n",
       " '15296',\n",
       " '15299',\n",
       " '1532',\n",
       " '15322',\n",
       " '15325',\n",
       " '15327',\n",
       " '15331',\n",
       " '15334',\n",
       " '15343',\n",
       " '15348',\n",
       " '1535',\n",
       " '19643',\n",
       " '19643',\n",
       " '15351',\n",
       " '15352',\n",
       " '15355',\n",
       " '16364',\n",
       " '15367',\n",
       " '15369',\n",
       " '1537',\n",
       " '15373',\n",
       " '15379',\n",
       " '15380',\n",
       " '15383',\n",
       " '15384',\n",
       " '15385',\n",
       " '38603',\n",
       " '15387',\n",
       " '1539',\n",
       " '15398',\n",
       " '15401',\n",
       " '15429',\n",
       " '15431',\n",
       " '15439',\n",
       " '15440',\n",
       " '15441',\n",
       " '15442',\n",
       " '15443',\n",
       " '15446',\n",
       " '1545',\n",
       " '15454',\n",
       " '15457',\n",
       " '15461',\n",
       " '15463',\n",
       " '15471',\n",
       " '1548',\n",
       " '15481',\n",
       " '15482',\n",
       " '24405',\n",
       " '24405',\n",
       " '15484',\n",
       " '15495',\n",
       " '15496',\n",
       " '15509',\n",
       " '15515',\n",
       " '15526',\n",
       " '1553',\n",
       " '15530',\n",
       " '15532',\n",
       " '15534',\n",
       " '15545',\n",
       " '15565',\n",
       " '1557',\n",
       " '15582',\n",
       " '15629',\n",
       " '22721',\n",
       " '22721',\n",
       " '15631',\n",
       " '15632',\n",
       " '15633',\n",
       " '15637',\n",
       " '15645',\n",
       " '23086',\n",
       " '15649',\n",
       " '1567',\n",
       " '15677',\n",
       " '1568',\n",
       " '15684',\n",
       " '1569',\n",
       " '15693',\n",
       " '15695',\n",
       " '1570',\n",
       " '15702',\n",
       " '15703',\n",
       " '15708',\n",
       " '1571',\n",
       " '1573',\n",
       " '15750',\n",
       " '15758',\n",
       " '1576',\n",
       " '15776',\n",
       " '15786',\n",
       " '15791',\n",
       " '15792',\n",
       " '1580',\n",
       " '15812',\n",
       " '15829',\n",
       " '15852',\n",
       " '15903',\n",
       " '1591',\n",
       " '1592',\n",
       " '1593',\n",
       " '15934',\n",
       " '1595',\n",
       " '15951',\n",
       " '1602',\n",
       " '16026',\n",
       " '1603',\n",
       " '12497',\n",
       " '12497',\n",
       " '16031',\n",
       " '21899',\n",
       " '16035',\n",
       " '16036',\n",
       " '16038',\n",
       " '16049',\n",
       " '22514',\n",
       " '22514',\n",
       " '23209',\n",
       " '1611',\n",
       " '16119',\n",
       " '1612',\n",
       " '16127',\n",
       " '37925',\n",
       " '37925',\n",
       " '16136',\n",
       " '1616',\n",
       " '1620',\n",
       " '1623',\n",
       " '16230',\n",
       " '16258',\n",
       " '16267',\n",
       " '16295',\n",
       " '1631',\n",
       " '1632',\n",
       " '16321',\n",
       " '16339',\n",
       " '16365',\n",
       " '16374',\n",
       " '16412',\n",
       " '16446',\n",
       " '1650',\n",
       " '16518',\n",
       " '16522',\n",
       " '16523',\n",
       " '16532',\n",
       " '16533',\n",
       " '16555',\n",
       " '1658',\n",
       " '1659',\n",
       " '16595',\n",
       " '1660',\n",
       " '16605',\n",
       " '1663',\n",
       " '1664',\n",
       " '1666',\n",
       " '1667',\n",
       " '1669',\n",
       " '16704',\n",
       " '16707',\n",
       " '16708',\n",
       " '16709',\n",
       " '16711',\n",
       " '16712',\n",
       " '16713',\n",
       " '16717',\n",
       " '16720',\n",
       " '16723',\n",
       " '16726',\n",
       " '16727',\n",
       " '16729',\n",
       " '16759',\n",
       " '16834',\n",
       " '16867',\n",
       " '1688',\n",
       " '1689',\n",
       " '1690',\n",
       " '1692',\n",
       " '1693',\n",
       " '16962',\n",
       " '1700',\n",
       " '1702',\n",
       " '1705',\n",
       " '1706',\n",
       " '1709',\n",
       " '1712',\n",
       " '1715',\n",
       " '1718',\n",
       " '17181',\n",
       " '17183',\n",
       " '172',\n",
       " '1720',\n",
       " '17205',\n",
       " '17209',\n",
       " '17213',\n",
       " '17218',\n",
       " '17219',\n",
       " '1722',\n",
       " '42479',\n",
       " '43000',\n",
       " '17221',\n",
       " '17225',\n",
       " '1723',\n",
       " '17235',\n",
       " '1724',\n",
       " '17241',\n",
       " '17246',\n",
       " '17247',\n",
       " '17253',\n",
       " '17254',\n",
       " '17256',\n",
       " '17260',\n",
       " '17261',\n",
       " '17262',\n",
       " '17265',\n",
       " '17270',\n",
       " '17271',\n",
       " '17274',\n",
       " '17276',\n",
       " '17280',\n",
       " '17281',\n",
       " '17284',\n",
       " '1730',\n",
       " '17317',\n",
       " '17323',\n",
       " '17339',\n",
       " '32704',\n",
       " '17340',\n",
       " '17346',\n",
       " '17365',\n",
       " '17371',\n",
       " '17376',\n",
       " '17377',\n",
       " '17380',\n",
       " '17383',\n",
       " '17389',\n",
       " '1739',\n",
       " '17393',\n",
       " '17396',\n",
       " '17398',\n",
       " '17430',\n",
       " '17439',\n",
       " '17440',\n",
       " '1745',\n",
       " '17451',\n",
       " '17452',\n",
       " '17455',\n",
       " '17459',\n",
       " '17465',\n",
       " '17466',\n",
       " '17482',\n",
       " '17486',\n",
       " '17493',\n",
       " '17496',\n",
       " '17502',\n",
       " '17511',\n",
       " '17518',\n",
       " '1752',\n",
       " '1753',\n",
       " '30683',\n",
       " '13071',\n",
       " '13071',\n",
       " '17534',\n",
       " '17542',\n",
       " '1755',\n",
       " '1881',\n",
       " '1881',\n",
       " '17551',\n",
       " '1757',\n",
       " '30374',\n",
       " '30374',\n",
       " '1760',\n",
       " '1762',\n",
       " '17637',\n",
       " '1765',\n",
       " '1766',\n",
       " '17696',\n",
       " '177',\n",
       " '1771',\n",
       " '17712',\n",
       " '17726',\n",
       " '17730',\n",
       " '17737',\n",
       " '17750',\n",
       " '17752',\n",
       " '1776',\n",
       " '17762',\n",
       " '17791',\n",
       " '17800',\n",
       " '1783',\n",
       " '1785',\n",
       " '17854',\n",
       " '1787',\n",
       " '17898',\n",
       " '1790',\n",
       " '1791',\n",
       " '1795',\n",
       " '30946',\n",
       " '17959',\n",
       " '18013',\n",
       " '18016',\n",
       " '18024',\n",
       " '1803',\n",
       " '18039',\n",
       " '1804',\n",
       " '18040',\n",
       " '18041',\n",
       " '18043',\n",
       " '18046',\n",
       " '1805',\n",
       " '18050',\n",
       " '1806',\n",
       " '18063',\n",
       " '18065',\n",
       " '18068',\n",
       " '18080',\n",
       " '18081',\n",
       " '18094',\n",
       " '1812',\n",
       " '18141',\n",
       " '18148',\n",
       " '18159',\n",
       " '1816',\n",
       " '18163',\n",
       " '18166',\n",
       " '18167',\n",
       " '18169',\n",
       " '18179',\n",
       " '18181',\n",
       " '18182',\n",
       " '18184',\n",
       " '18186',\n",
       " '18187',\n",
       " '18194',\n",
       " ...]"
      ]
     },
     "execution_count": 539,
     "metadata": {},
     "output_type": "execute_result"
    }
   ],
   "source": [
    "df1[df1['Num']==1]['Name'].tolist()"
   ]
  },
  {
   "cell_type": "code",
   "execution_count": 538,
   "metadata": {},
   "outputs": [
    {
     "data": {
      "text/plain": [
       "<matplotlib.axes._subplots.AxesSubplot at 0x1d31ec22f60>"
      ]
     },
     "execution_count": 538,
     "metadata": {},
     "output_type": "execute_result"
    },
    {
     "data": {
      "image/png": "[encoded data removed]",
      "text/plain": [
       "<Figure size 1440x720 with 1 Axes>"
      ]
     },
     "metadata": {
      "needs_background": "light"
     },
     "output_type": "display_data"
    }
   ],
   "source": [
    "dfff0=pd.DataFrame(list(zip(dfff.index.tolist(),df1[df1['filter']=='zg']['Type'].value_counts().tolist(),df1[df1['filter']=='zr']['Type'].value_counts().tolist())),columns=['name','zg','zr'])\n",
    "# dfff=df1['Type'].value_counts()[:100]\n",
    "dfff0.index=dfff.index.tolist()\n",
    "dfff0.plot(kind='bar',figsize=(20,10))"
   ]
  },
  {
   "cell_type": "code",
   "execution_count": null,
   "metadata": {},
   "outputs": [],
   "source": [
    "names=df1['Type'].value_counts()[:90].index.tolist()"
   ]
  },
  {
   "cell_type": "code",
   "execution_count": null,
   "metadata": {},
   "outputs": [],
   "source": [
    "k=0\n",
    "list1=[]\n",
    "df11=df1[df1['filter']=='zr']\n",
    "for item in names:\n",
    "    list1.append(df11[df11['Type']==item]['Nobs'].sum()/df11[df11['Type']==item].shape[0])\n",
    "    k=k+1\n",
    "t=0\n",
    "list2=[]\n",
    "df11=df1[df1['filter']=='zg']\n",
    "for item in names:\n",
    "    list2.append(df11[df11['Type']==item]['Nobs'].sum()/df11[df11['Type']==item].shape[0])\n",
    "    t=t+1    "
   ]
  },
  {
   "cell_type": "code",
   "execution_count": null,
   "metadata": {},
   "outputs": [],
   "source": [
    "obs=pd.DataFrame(list(zip(names,list1, list2)),columns=['Type','zg','zr'])\n",
    "obs['Type']=names\n",
    "\n",
    "for i in range(obs.shape[0]):\n",
    "    obs['zg'][i]=int(obs['zg'][i])\n",
    "    obs['zr'][i]=int(obs['zr'][i])"
   ]
  },
  {
   "cell_type": "code",
   "execution_count": 569,
   "metadata": {},
   "outputs": [
    {
     "data": {
      "text/plain": [
       "<matplotlib.axes._subplots.AxesSubplot at 0x1d31f6857f0>"
      ]
     },
     "execution_count": 569,
     "metadata": {},
     "output_type": "execute_result"
    },
    {
     "data": {
      "image/png": "[encoded data removed]",
      "text/plain": [
       "<Figure size 1440x720 with 1 Axes>"
      ]
     },
     "metadata": {
      "needs_background": "light"
     },
     "output_type": "display_data"
    }
   ],
   "source": [
    "obs.plot(kind='bar',figsize=(20,10))"
   ]
  },
  {
   "cell_type": "code",
   "execution_count": null,
   "metadata": {},
   "outputs": [],
   "source": []
  },
  {
   "cell_type": "code",
   "execution_count": null,
   "metadata": {},
   "outputs": [],
   "source": []
  },
  {
   "cell_type": "code",
   "execution_count": null,
   "metadata": {},
   "outputs": [],
   "source": []
  },
  {
   "cell_type": "markdown",
   "metadata": {},
   "source": [
    "### Plot  curves for five random objects of type 'n'"
   ]
  },
  {
   "cell_type": "code",
   "execution_count": 516,
   "metadata": {},
   "outputs": [
    {
     "data": {
      "image/png": "[encoded data removed]",
      "text/plain": [
       "<Figure size 432x288 with 1 Axes>"
      ]
     },
     "metadata": {
      "needs_background": "light"
     },
     "output_type": "display_data"
    },
    {
     "data": {
      "image/png": "[encoded data removed]",
      "text/plain": [
       "<Figure size 432x288 with 1 Axes>"
      ]
     },
     "metadata": {
      "needs_background": "light"
     },
     "output_type": "display_data"
    },
    {
     "data": {
      "image/png": "[encoded data removed]",
      "text/plain": [
       "<Figure size 432x288 with 1 Axes>"
      ]
     },
     "metadata": {
      "needs_background": "light"
     },
     "output_type": "display_data"
    },
    {
     "data": {
      "image/png": "[encoded data removed]",
      "text/plain": [
       "<Figure size 432x288 with 1 Axes>"
      ]
     },
     "metadata": {
      "needs_background": "light"
     },
     "output_type": "display_data"
    },
    {
     "data": {
      "image/png": "[encoded data removed]",
      "text/plain": [
       "<Figure size 432x288 with 1 Axes>"
      ]
     },
     "metadata": {
      "needs_background": "light"
     },
     "output_type": "display_data"
    }
   ],
   "source": [
    "import random\n",
    "from os import path\n",
    "import matplotlib.backends.backend_pdf\n",
    "import matplotlib.dates as mdates\n",
    "outpath = \"path/of/your/folder/\"\n",
    "n=2\n",
    "pdf = matplotlib.backends.backend_pdf.PdfPages(str(n)+\".pdf\")\n",
    "names=random.sample(df1[df1['Num']==n]['Name'].tolist(), 5)\n",
    "for item in names:\n",
    "    with open(r\"C:\\Users\\rtut6\\Desktop\\Backup\\2\\{}.txt\".format(item)) as file:\n",
    "        res = file.read().replace(\"'\", '\"')\n",
    "        res=json.loads(res)\n",
    "    x=[]\n",
    "    y=[]\n",
    "    for i in range(len(res[list(res.keys())[0]]['lc'])):\n",
    "        x.append(res[list(res.keys())[0]]['lc'][i]['mjd'])\n",
    "        y.append(res[list(res.keys())[0]]['lc'][i]['mag'])\n",
    "\n",
    "\n",
    "#         days = mdates.drange(start,end,dt.timedelta(days=1))\n",
    "    f=plt.figure()\n",
    "    plt.gca().xaxis.set_major_formatter(mdates.DateFormatter('%Y-%m-%d'))\n",
    "    plt.gca().xaxis.set_major_locator(mdates.DayLocator(interval=30))\n",
    "    ax = plt.gca()\n",
    "    ax.set_facecolor((1.0, 0.94, 1))\n",
    "    plt.plot(x,y)\n",
    "    plt.gcf().autofmt_xdate()\n",
    "    plt.ylabel(item)\n",
    "    plt.grid(True,color='blue',linestyle=\"--\")\n",
    "    pdf.savefig(f) #saving pdf\n",
    "    plt.show()\n",
    "pdf.close()"
   ]
  },
  {
   "cell_type": "code",
   "execution_count": 463,
   "metadata": {},
   "outputs": [],
   "source": [
    "with open(r\"C:\\Users\\rtut6\\Desktop\\Backup\\1\\11619.txt\".format(item)) as file: \n",
    "    res = file.read().replace(\"'\", '\"')\n",
    "    res=json.loads(res)"
   ]
  },
  {
   "cell_type": "code",
   "execution_count": 464,
   "metadata": {},
   "outputs": [],
   "source": [
    "x=[]\n",
    "y=[]\n",
    "for i in range(len(res[list(res.keys())[0]]['lc'])):\n",
    "    x.append(res[list(res.keys())[0]]['lc'][i]['mjd'])\n",
    "    y.append(res[list(res.keys())[0]]['lc'][i]['mag'])"
   ]
  },
  {
   "cell_type": "code",
   "execution_count": 465,
   "metadata": {},
   "outputs": [
    {
     "data": {
      "image/png": "[encoded data removed]",
      "text/plain": [
       "<Figure size 432x288 with 1 Axes>"
      ]
     },
     "metadata": {
      "needs_background": "light"
     },
     "output_type": "display_data"
    }
   ],
   "source": [
    "plt.plot(x, y, 'ro')\n",
    "plt.show()"
   ]
  },
  {
   "cell_type": "markdown",
   "metadata": {},
   "source": [
    "# Machine Learning "
   ]
  },
  {
   "cell_type": "code",
   "execution_count": null,
   "metadata": {},
   "outputs": [],
   "source": [
    "# from sklearn.ensemble import RandomForestClassifier\n",
    "# from sklearn.model_selection import train_test_split\n",
    "# from xgboost import XGBClassifier\n",
    "# from sklearn.metrics import average_precision_score\n",
    "# from sklearn.metrics import mean_absolute_error\n",
    "# from sklearn.metrics import roc_curve, auc,recall_score,precision_score\n",
    "# from sklearn.metrics import accuracy_score"
   ]
  },
  {
   "cell_type": "code",
   "execution_count": null,
   "metadata": {},
   "outputs": [],
   "source": [
    "# data1=df.drop(['filter','obj_id'], axis=1)"
   ]
  },
  {
   "cell_type": "code",
   "execution_count": null,
   "metadata": {},
   "outputs": [],
   "source": [
    "# RandomForestClassifier"
   ]
  },
  {
   "cell_type": "code",
   "execution_count": null,
   "metadata": {},
   "outputs": [],
   "source": [
    "# df1=df.iloc[1500:1725]\n",
    "# array = data1.values\n",
    "# X = array[:,0:7]\n",
    "# Y = array[:,7]\n",
    "# validation_size = 0.2\n",
    "# seed = 5\n",
    "# X_train=X[0:1500]\n",
    "# X_validation=X[1500:1725]\n",
    "# Y_train=Y[0:1500]\n",
    "# Y_validation=Y[1500:1725]\n",
    "# X_train, X_validation, Y_train, Y_validation = train_test_split(X, Y, test_size=validation_size, random_state=seed)\n",
    "# X_train1, X_testt, Y_train1, Y_testt = train_test_split(X_train, Y_train, test_size=validation_size1, random_state=seed)\n",
    "# print(Y)\n",
    "# train.head()"
   ]
  },
  {
   "cell_type": "code",
   "execution_count": null,
   "metadata": {},
   "outputs": [],
   "source": [
    "#Learning with XGB model\n",
    "# model = XGBClassifier(random_state=34, seed=7, colsample_bytree=0.8, subsample=0.6, n_estimators=2000)\n",
    "# model.fit(X_train,Y_train)\n",
    "# pred = model.predict(X_validation)\n",
    "# accuracy = accuracy_score(Y_validation, pred)\n",
    "# print(\"Accuracy: %.2f%%\" % (accuracy * 100.0))"
   ]
  },
  {
   "cell_type": "code",
   "execution_count": null,
   "metadata": {},
   "outputs": [],
   "source": [
    "# df1['pred']=pred\n",
    "# df1.head(1000)"
   ]
  },
  {
   "cell_type": "code",
   "execution_count": null,
   "metadata": {},
   "outputs": [],
   "source": [
    "# plt.figure(figsize=(10,5))\n",
    "# plt.plot(np.array(obj_mjd1[9]), np.array(obj_mag1[9]))"
   ]
  },
  {
   "cell_type": "code",
   "execution_count": null,
   "metadata": {},
   "outputs": [],
   "source": [
    "# obj_mag"
   ]
  }
 ],
 "metadata": {
  "kernelspec": {
   "display_name": "Python 3",
   "language": "python",
   "name": "python3"
  },
  "language_info": {
   "codemirror_mode": {
    "name": "ipython",
    "version": 3
   },
   "file_extension": ".py",
   "mimetype": "text/x-python",
   "name": "python",
   "nbconvert_exporter": "python",
   "pygments_lexer": "ipython3",
   "version": "3.7.3"
  }
 },
 "nbformat": 4,
 "nbformat_minor": 2
}
