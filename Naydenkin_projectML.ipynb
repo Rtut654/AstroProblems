{
 "cells": [
  {
   "cell_type": "code",
   "execution_count": 1,
   "metadata": {},
   "outputs": [],
   "source": [
    "import astropy\n",
    "import pandas as pd\n",
    "import numpy as np\n",
    "import matplotlib.pyplot as plt\n",
    "import seaborn as sns\n",
    "import requests\n",
    "from astropy.coordinates.angle_utilities import hms_to_degrees, dms_to_degrees\n",
    "from astropy.coordinates import SkyCoord  # High-level coordinates\n",
    "from astropy.coordinates import ICRS, Galactic, FK4, FK5  # Low-level frames\n",
    "from astropy.coordinates import Angle, Latitude, Longitude  # Angles\n",
    "import astropy.units as u\n",
    "import re\n",
    "import json\n",
    "from collections import Counter\n",
    "from operator import itemgetter\n",
    "import scipy\n",
    "from scipy.signal import argrelextrema"
   ]
  },
  {
   "cell_type": "code",
   "execution_count": 2,
   "metadata": {},
   "outputs": [],
   "source": [
    "#ОКПЗ\n",
    "data = astropy.io.ascii.read('gcvs5.txt', data_start=2, delimiter='|')"
   ]
  },
  {
   "cell_type": "code",
   "execution_count": 3,
   "metadata": {},
   "outputs": [],
   "source": [
    "data = data[['J2000.0', 'Type']]"
   ]
  },
  {
   "cell_type": "code",
   "execution_count": 4,
   "metadata": {
    "scrolled": true
   },
   "outputs": [],
   "source": [
    "data = data.to_pandas()"
   ]
  },
  {
   "cell_type": "code",
   "execution_count": 5,
   "metadata": {},
   "outputs": [],
   "source": [
    "data.Type = data.Type.map(lambda item: re.sub(':', '', str(item) ) if str(item).endswith(':') else str(item) )"
   ]
  },
  {
   "cell_type": "code",
   "execution_count": 6,
   "metadata": {},
   "outputs": [],
   "source": [
    "data.rename(columns={'J2000.0':'coord'}, inplace=True)"
   ]
  },
  {
   "cell_type": "code",
   "execution_count": 7,
   "metadata": {},
   "outputs": [],
   "source": [
    "data.drop(index=data[data.coord.map(lambda x: type(x) is not str )].index.values.tolist(), inplace=True)"
   ]
  },
  {
   "cell_type": "code",
   "execution_count": 8,
   "metadata": {},
   "outputs": [],
   "source": [
    "data = data[ data.coord.map(lambda x: len(str(x)) == 19 ) ]"
   ]
  },
  {
   "cell_type": "code",
   "execution_count": 9,
   "metadata": {},
   "outputs": [],
   "source": [
    "data['ra'] = data.coord.map(lambda x: x[:9])\n",
    "data['dec'] = data.coord.map(lambda x: x[9:])"
   ]
  },
  {
   "cell_type": "code",
   "execution_count": 10,
   "metadata": {},
   "outputs": [],
   "source": [
    "data.dec = data.dec.map(lambda x: x.replace(' ', '') )"
   ]
  },
  {
   "cell_type": "code",
   "execution_count": 11,
   "metadata": {},
   "outputs": [],
   "source": [
    "data = data[ (data.dec.map(lambda x: x.startswith('+')) | data.dec.map(lambda x: x.startswith('-')) )\n",
    "            & data.dec.map(lambda x: len(x) == 9 ) ]"
   ]
  },
  {
   "cell_type": "code",
   "execution_count": 12,
   "metadata": {},
   "outputs": [],
   "source": [
    "data.reset_index(drop=True, inplace=True)"
   ]
  },
  {
   "cell_type": "code",
   "execution_count": 13,
   "metadata": {
    "scrolled": true
   },
   "outputs": [],
   "source": [
    "data.ra = data.ra.map(lambda x: hms_to_degrees(float(x[:2]), float(x[2:4]), float(x[4:])) )\n",
    "data.dec = data.dec.map(lambda x: dms_to_degrees(float(x[:3]), float(x[3:5]), float(x[5:])))"
   ]
  },
  {
   "cell_type": "code",
   "execution_count": 14,
   "metadata": {},
   "outputs": [],
   "source": [
    "#sorted(Counter(data.Type).items(), key=itemgetter(1), reverse=True)"
   ]
  },
  {
   "cell_type": "code",
   "execution_count": 15,
   "metadata": {},
   "outputs": [],
   "source": [
    "################################################################"
   ]
  },
  {
   "cell_type": "code",
   "execution_count": 16,
   "metadata": {},
   "outputs": [],
   "source": [
    "#Построение периодограммы (фурье спектра сигнала) для текущего значения obj_mag,obj_magerr,ang_freqs\n",
    "# from astroML.time_series import lomb_scargle\n",
    "# periods = np.linspace(0.01, 200, 500)\n",
    "# ang_freqs = 2 * np.pi / periods\n",
    "# power = lomb_scargle(np.array(obj_mjd), np.array(obj_mag), np.array(obj_magerr), ang_freqs)\n",
    "\n",
    "# # plot the results\n",
    "# fig, ax = plt.subplots()\n",
    "# ax.plot(periods, power)\n",
    "# ax.set(ylim=(0, 0.8), xlabel='period (days)',\n",
    "#        ylabel='Lomb-Scargle Power');"
   ]
  },
  {
   "cell_type": "code",
   "execution_count": 17,
   "metadata": {
    "scrolled": true
   },
   "outputs": [],
   "source": [
    "# peak_data = scipy.signal.find_peaks(power,prominence=0.05)\n",
    "# f1=np.max(power[peak_data[0]])\n",
    "# ind1=power[peak_data[0]].argmax()\n",
    "# power[peak_data[0][ind1]]=0\n",
    "# f2=np.max(power[peak_data[0]])\n",
    "# ind2=power[peak_data[0]].argmax()\n",
    "# print(periods[peak_data[0][ind1]])\n",
    "# print(periods[peak_data[0][ind2]])\n",
    "# print(periods[ind1])\n",
    "# print(periods[ind2])"
   ]
  },
  {
   "cell_type": "code",
   "execution_count": 18,
   "metadata": {},
   "outputs": [],
   "source": [
    "# model = LombScargleFast().fit(np.array(obj_mjd), np.array(obj_mag), np.array(obj_magerr))\n",
    "\n",
    "# period, power = model.periodogram_auto(nyquist_factor=200)\n",
    "\n",
    "# print(\"period range: ({0}, {1})\".format(period.min(), period.max()))\n",
    "# print(\"number of periods: {0}\".format(len(period)))\n",
    "# print(type(periods))"
   ]
  },
  {
   "cell_type": "code",
   "execution_count": 19,
   "metadata": {},
   "outputs": [
    {
     "data": {
      "text/plain": [
       "(54603, 4)"
      ]
     },
     "execution_count": 19,
     "metadata": {},
     "output_type": "execute_result"
    }
   ],
   "source": [
    "data.shape"
   ]
  },
  {
   "cell_type": "code",
   "execution_count": 25,
   "metadata": {},
   "outputs": [],
   "source": [
    "data1=data.iloc[0:3000]# Для быстрой загрузки с сервера"
   ]
  },
  {
   "cell_type": "code",
   "execution_count": 26,
   "metadata": {},
   "outputs": [
    {
     "name": "stdout",
     "output_type": "stream",
     "text": [
      "(3000, 4)\n"
     ]
    },
    {
     "data": {
      "text/html": [
       "<div>\n",
       "<style scoped>\n",
       "    .dataframe tbody tr th:only-of-type {\n",
       "        vertical-align: middle;\n",
       "    }\n",
       "\n",
       "    .dataframe tbody tr th {\n",
       "        vertical-align: top;\n",
       "    }\n",
       "\n",
       "    .dataframe thead th {\n",
       "        text-align: right;\n",
       "    }\n",
       "</style>\n",
       "<table border=\"1\" class=\"dataframe\">\n",
       "  <thead>\n",
       "    <tr style=\"text-align: right;\">\n",
       "      <th></th>\n",
       "      <th>coord</th>\n",
       "      <th>Type</th>\n",
       "      <th>ra</th>\n",
       "      <th>dec</th>\n",
       "    </tr>\n",
       "  </thead>\n",
       "  <tbody>\n",
       "    <tr>\n",
       "      <th>0</th>\n",
       "      <td>002401.95 +383437.3</td>\n",
       "      <td>M</td>\n",
       "      <td>6.008125</td>\n",
       "      <td>38.577028</td>\n",
       "    </tr>\n",
       "    <tr>\n",
       "      <th>1</th>\n",
       "      <td>004243.1  +411605.0</td>\n",
       "      <td>SNI</td>\n",
       "      <td>10.679583</td>\n",
       "      <td>41.268056</td>\n",
       "    </tr>\n",
       "    <tr>\n",
       "      <th>2</th>\n",
       "      <td>002223.15 +265945.8</td>\n",
       "      <td>M</td>\n",
       "      <td>5.596458</td>\n",
       "      <td>26.996056</td>\n",
       "    </tr>\n",
       "    <tr>\n",
       "      <th>3</th>\n",
       "      <td>011529.70 +404308.4</td>\n",
       "      <td>M</td>\n",
       "      <td>18.873750</td>\n",
       "      <td>40.719000</td>\n",
       "    </tr>\n",
       "    <tr>\n",
       "      <th>4</th>\n",
       "      <td>005006.28 +353910.1</td>\n",
       "      <td>M</td>\n",
       "      <td>12.526167</td>\n",
       "      <td>35.652806</td>\n",
       "    </tr>\n",
       "  </tbody>\n",
       "</table>\n",
       "</div>"
      ],
      "text/plain": [
       "                 coord Type         ra        dec\n",
       "0  002401.95 +383437.3    M   6.008125  38.577028\n",
       "1  004243.1  +411605.0  SNI  10.679583  41.268056\n",
       "2  002223.15 +265945.8    M   5.596458  26.996056\n",
       "3  011529.70 +404308.4    M  18.873750  40.719000\n",
       "4  005006.28 +353910.1    M  12.526167  35.652806"
      ]
     },
     "execution_count": 26,
     "metadata": {},
     "output_type": "execute_result"
    }
   ],
   "source": [
    "rows = np.random.choice(data.index.values, 3000)\n",
    "print(data1.shape)\n",
    "data1.head()"
   ]
  },
  {
   "cell_type": "code",
   "execution_count": 27,
   "metadata": {},
   "outputs": [
    {
     "name": "stdout",
     "output_type": "stream",
     "text": [
      "file 2720 has error Extra data: line 1 column 5 (char 4)\n",
      "Wall time: 6min 37s\n"
     ]
    }
   ],
   "source": [
    "%%time\n",
    "obj_mjd1={}\n",
    "obj_mag1={}\n",
    "from astroML.time_series import lomb_scargle\n",
    "from gatspy.periodic import LombScargleFast\n",
    "periods = np.linspace(0.01, 200, 500)\n",
    "ang_freqs = 2 * np.pi / periods\n",
    "my_data = pd.DataFrame({'obj_id':[],\n",
    "                        'filter':[],\n",
    "#                         'mean_magn':[],\n",
    "#                         'amplitude':[],\n",
    "#                         'trand_angle':[],\n",
    "#                         'skew' : [],\n",
    "#                         'std' : [],\n",
    "#                         'max_PSD' : [],\n",
    "#                         'max_fs' : [],\n",
    "                        'pointsN': [],\n",
    "                        'idN': [],\n",
    "                        'dist':[],\n",
    "#                         'dist1':[],\n",
    "#                         'dist2':[],                        \n",
    "                        'class':[]})\n",
    "i=0\n",
    "for item in data1.iterrows():\n",
    "#     obj_mjd1[i]=obj_mjd\n",
    "#     obj_mag1[i]=obj_mag\n",
    "#     i=i+1\n",
    "    a=item[1].ra*u.degree\n",
    "    b=item[1].dec*u.degree\n",
    "    try:\n",
    "        resp = requests.get('http://db.ztf.snad.space/api/v1/circle/full/json?ra={ra}&dec={dec}&radius_arcsec={r}'.format(ra=item[1].ra, \n",
    "                                                                                                                          dec=item[1].dec, \n",
    "                                                                                                                  r=5))\n",
    "        res = resp.json()\n",
    "        if len(res.keys())==2:\n",
    "            c1=SkyCoord(res[list(res.keys())[0]]['meta']['coord']['ra']*u.degree, res[list(res.keys())[0]]['meta']['coord']['dec']*u.degree)\n",
    "            c2=SkyCoord(res[list(res.keys())[1]]['meta']['coord']['ra']*u.degree, res[list(res.keys())[1]]['meta']['coord']['dec']*u.degree)\n",
    "            c3=SkyCoord(a,b)\n",
    "            sep = c1.separation(c2)\n",
    "#             sep1 = c3.separation(c1)\n",
    "#             sep2 = c3.separation(c2)\n",
    "            for obj_id in res.keys():\n",
    "    #             if (res[obj_id]['meta']['filter']=='zg') & (len(res[obj_id]['lc'])>=5):\n",
    "                obj_mjd = []\n",
    "                obj_mag = []\n",
    "                obj_magerr = []\n",
    "                object_return = {}\n",
    "                obj_filter = res[obj_id]['meta']['filter']   \n",
    "#                     for ii in res[obj_id]['lc']:\n",
    "#                         obj_mjd.append(ii['mjd'])\n",
    "#                         obj_mag.append(ii['mag'])\n",
    "#                         obj_magerr.append(ii['magerr'])\n",
    "    #                 Fs = 1/((np.array(obj_mjd).max() - np.array(obj_mjd).min() )/np.array(obj_mjd).size)\n",
    "    #                 Fs = np.linspace(0.01, 10)\n",
    "#                     model = LombScargleFast().fit(obj_mjd, obj_mag, obj_magerr)\n",
    "    #                 period, power = model.periodogram_auto(nyquist_factor=200)\n",
    "#                     period=0\n",
    "#                     power=0\n",
    "                object_return['obj_id'] = obj_id\n",
    "                object_return['filter'] = res[obj_id]['meta']['filter']\n",
    "#                     object_return['mean_magn'] = np.array(obj_mag).mean()\n",
    "#                     object_return['amplitude'] = np.array(obj_mag).max() - np.array(obj_mag).min()\n",
    "#                     object_return['trand_angle'] = np.polyfit(np.array(obj_mjd), np.array(obj_mag), 1)[0] \n",
    "#                     object_return['skew'] = scipy.stats.skew(np.array(obj_mag))\n",
    "                object_return['pointsN'] = len(res[obj_id]['lc'])\n",
    "                object_return['idN'] = len(res.keys())\n",
    "                object_return['dist'] = sep \n",
    "#                 object_return['dist1'] = sep1\n",
    "#                 object_return['dist2'] = sep2\n",
    "            \n",
    "    #                 D1=np.max(power[peak_data[0]])\n",
    "    #                 ind1=power[peak_data[0]].argmax()\n",
    "    #                 power[peak_data[0][ind1]]=0\n",
    "    #                 D2=np.max(power[peak_data[0]])\n",
    "    #                 ind2=power[peak_data[0]].argmax() \n",
    "#                     object_return['max_fs'] =0\n",
    "#                     object_return['max_fs'] = 2*np.pi/(period[power.argmax()])\n",
    "    #                 object_return['max_fs1'] = 2*np.pi/(period[peak_data[0][ind2]])                \n",
    "#                     object_return['max_PSD'] = np.max(power)\n",
    "    #                 object_return['max_PSD1'] = D2\n",
    "#                     object_return['std'] = np.array(obj_mag).std()\n",
    "                my_data = my_data.append( pd.DataFrame({'obj_id' : [ object_return['obj_id'] ],\n",
    "                                                          'filter' : [ object_return['filter'] ],\n",
    "#                                                           'mean_magn' :[ object_return['mean_magn'] ],\n",
    "#                                                           'amplitude' : [ object_return['amplitude'] ], \n",
    "#                                                           'trand_angle' : [ object_return['trand_angle'] ],\n",
    "#                                                           'skew' : [ object_return['skew'] ],\n",
    "#                                                           'std' : [ object_return['std'] ],\n",
    "#                                                           'max_PSD' : [ object_return['max_PSD']],\n",
    "#                                                           'max_fs' : [ object_return['max_fs'] ],\n",
    "                                                          'pointsN' : [ object_return['pointsN']],\n",
    "                                                          'idN' : [ object_return['idN']],\n",
    "                                                          'dist' : [ object_return['dist']],\n",
    "#                                                           'dist1' : [ object_return['dist1']], \n",
    "#                                                           'dist2' : [ object_return['dist2']],                                                           \n",
    "                                                          'class' : [ item[1].Type ] }),\n",
    "                                             ignore_index = True)\n",
    "\n",
    "    except Exception as ex:\n",
    "        print(\"file {} has error\".format(item[0]), ex)\n",
    "\n",
    "    if item[0] % 1000 == 0 :\n",
    "        my_data.to_csv('backup_' + str(item[0]) + '.csv')\n"
   ]
  },
  {
   "cell_type": "code",
   "execution_count": 28,
   "metadata": {},
   "outputs": [
    {
     "data": {
      "text/html": [
       "<div>\n",
       "<style scoped>\n",
       "    .dataframe tbody tr th:only-of-type {\n",
       "        vertical-align: middle;\n",
       "    }\n",
       "\n",
       "    .dataframe tbody tr th {\n",
       "        vertical-align: top;\n",
       "    }\n",
       "\n",
       "    .dataframe thead th {\n",
       "        text-align: right;\n",
       "    }\n",
       "</style>\n",
       "<table border=\"1\" class=\"dataframe\">\n",
       "  <thead>\n",
       "    <tr style=\"text-align: right;\">\n",
       "      <th></th>\n",
       "      <th>obj_id</th>\n",
       "      <th>filter</th>\n",
       "      <th>pointsN</th>\n",
       "      <th>idN</th>\n",
       "      <th>dist</th>\n",
       "      <th>class</th>\n",
       "    </tr>\n",
       "  </thead>\n",
       "  <tbody>\n",
       "    <tr>\n",
       "      <th>0</th>\n",
       "      <td>649105100012433</td>\n",
       "      <td>zg</td>\n",
       "      <td>44.0</td>\n",
       "      <td>2.0</td>\n",
       "      <td>0d00m00.0978s</td>\n",
       "      <td>M</td>\n",
       "    </tr>\n",
       "    <tr>\n",
       "      <th>1</th>\n",
       "      <td>650108200003776</td>\n",
       "      <td>zg</td>\n",
       "      <td>47.0</td>\n",
       "      <td>2.0</td>\n",
       "      <td>0d00m00.0978s</td>\n",
       "      <td>M</td>\n",
       "    </tr>\n",
       "    <tr>\n",
       "      <th>2</th>\n",
       "      <td>734105200007800</td>\n",
       "      <td>zg</td>\n",
       "      <td>45.0</td>\n",
       "      <td>2.0</td>\n",
       "      <td>0d00m00.1702s</td>\n",
       "      <td>M</td>\n",
       "    </tr>\n",
       "    <tr>\n",
       "      <th>3</th>\n",
       "      <td>734205200033834</td>\n",
       "      <td>zr</td>\n",
       "      <td>51.0</td>\n",
       "      <td>2.0</td>\n",
       "      <td>0d00m00.1702s</td>\n",
       "      <td>M</td>\n",
       "    </tr>\n",
       "    <tr>\n",
       "      <th>4</th>\n",
       "      <td>601113300001178</td>\n",
       "      <td>zg</td>\n",
       "      <td>50.0</td>\n",
       "      <td>2.0</td>\n",
       "      <td>0d00m00.036s</td>\n",
       "      <td>EA</td>\n",
       "    </tr>\n",
       "  </tbody>\n",
       "</table>\n",
       "</div>"
      ],
      "text/plain": [
       "            obj_id filter  pointsN  idN           dist class\n",
       "0  649105100012433     zg     44.0  2.0  0d00m00.0978s     M\n",
       "1  650108200003776     zg     47.0  2.0  0d00m00.0978s     M\n",
       "2  734105200007800     zg     45.0  2.0  0d00m00.1702s     M\n",
       "3  734205200033834     zr     51.0  2.0  0d00m00.1702s     M\n",
       "4  601113300001178     zg     50.0  2.0   0d00m00.036s    EA"
      ]
     },
     "execution_count": 28,
     "metadata": {},
     "output_type": "execute_result"
    }
   ],
   "source": [
    "my_data.head()"
   ]
  },
  {
   "cell_type": "code",
   "execution_count": 29,
   "metadata": {
    "scrolled": true
   },
   "outputs": [
    {
     "name": "stderr",
     "output_type": "stream",
     "text": [
      "C:\\Users\\rtut6\\Anaconda3\\lib\\site-packages\\ipykernel_launcher.py:3: SettingWithCopyWarning: \n",
      "A value is trying to be set on a copy of a slice from a DataFrame\n",
      "\n",
      "See the caveats in the documentation: http://pandas.pydata.org/pandas-docs/stable/user_guide/indexing.html#returning-a-view-versus-a-copy\n",
      "  This is separate from the ipykernel package so we can avoid doing imports until\n"
     ]
    },
    {
     "data": {
      "text/plain": [
       "array([[<matplotlib.axes._subplots.AxesSubplot object at 0x00000261344AA5C0>]],\n",
       "      dtype=object)"
      ]
     },
     "execution_count": 29,
     "metadata": {},
     "output_type": "execute_result"
    },
    {
     "data": {
      "image/png": "[encoded data removed]",
      "text/plain": [
       "<Figure size 432x288 with 1 Axes>"
      ]
     },
     "metadata": {
      "needs_background": "light"
     },
     "output_type": "display_data"
    }
   ],
   "source": [
    "my_data['dist1']=0\n",
    "for i in range(1,1282):\n",
    "    my_data['dist1'][i]=my_data['dist'][i]*3600\n",
    "my_data.hist(column=\"dist1\")\n",
    "#распределение по расстоянию для ответов с 2ID (3000 рандомных запрсов)"
   ]
  },
  {
   "cell_type": "code",
   "execution_count": 30,
   "metadata": {},
   "outputs": [
    {
     "data": {
      "image/png": "[encoded data removed]",
      "text/plain": [
       "<Figure size 432x288 with 1 Axes>"
      ]
     },
     "metadata": {},
     "output_type": "display_data"
    }
   ],
   "source": [
    "# my_data.head(20)\n",
    "# my_data['idN'].value_counts().nlargest(n=5)  # пять самых больших классов\n",
    "labels = '2.0 ID', '4.0 ID', '1.0 ID', '3.0 ID','6.0 ID'\n",
    "sizes = [1346, 444, 277, 162,60] # Размеры пяти самых больших классов\n",
    "colors = ['yellow', 'blue', 'pink', 'green','red']\n",
    "explode = (0.1, 0, 0, 0)  # explode 1st slice\n",
    "# Plot\n",
    "plt.pie(sizes, labels=labels, colors=colors,autopct='%1.1f%%', shadow=True, startangle=140)\n",
    "plt.axis('equal')\n",
    "plt.title (\"Процентное оотношение API-ответов с различным числом ID\") # данные для 3000 рандомных запросов\n",
    "plt.show()"
   ]
  },
  {
   "cell_type": "code",
   "execution_count": 31,
   "metadata": {},
   "outputs": [
    {
     "data": {
      "text/plain": [
       "Text(0.5, 1.0, 'Распределение по расстоянию ОКПЗ-ZTF для ответов с 1 ID')"
      ]
     },
     "execution_count": 31,
     "metadata": {},
     "output_type": "execute_result"
    },
    {
     "data": {
      "image/png": "[encoded data removed]",
      "text/plain": [
       "<Figure size 432x288 with 1 Axes>"
      ]
     },
     "metadata": {
      "needs_background": "light"
     },
     "output_type": "display_data"
    }
   ],
   "source": [
    "df = pd.read_csv(r'1IDobj.csv',sep='\\t')\n",
    "df['dist1']=df['dist1']\n",
    "df['dist1'].hist()\n",
    "plt.title (\"Распределение по расстоянию ОКПЗ-ZTF для ответов с 1 ID\") #данные по всему каталогу "
   ]
  },
  {
   "cell_type": "code",
   "execution_count": null,
   "metadata": {},
   "outputs": [],
   "source": [
    "df.head()"
   ]
  },
  {
   "cell_type": "code",
   "execution_count": null,
   "metadata": {},
   "outputs": [],
   "source": [
    "my_data.to_csv('1IDobj-.csv', sep='\\t')"
   ]
  },
  {
   "cell_type": "code",
   "execution_count": null,
   "metadata": {},
   "outputs": [],
   "source": [
    "# оставляем только популярные классы"
   ]
  },
  {
   "cell_type": "code",
   "execution_count": null,
   "metadata": {},
   "outputs": [],
   "source": [
    "largest_classes = list(df['class'].value_counts().nlargest(n=5).index)"
   ]
  },
  {
   "cell_type": "code",
   "execution_count": null,
   "metadata": {},
   "outputs": [],
   "source": [
    "largest_classes"
   ]
  },
  {
   "cell_type": "code",
   "execution_count": null,
   "metadata": {},
   "outputs": [],
   "source": [
    "to_replace = list(set(df['class'].values) - set(largest_classes))"
   ]
  },
  {
   "cell_type": "code",
   "execution_count": null,
   "metadata": {},
   "outputs": [],
   "source": [
    "df['class'].replace(list(to_replace), 'OTHER', inplace=True)"
   ]
  },
  {
   "cell_type": "code",
   "execution_count": null,
   "metadata": {
    "scrolled": true
   },
   "outputs": [],
   "source": [
    "df.shape"
   ]
  },
  {
   "cell_type": "code",
   "execution_count": null,
   "metadata": {
    "scrolled": true
   },
   "outputs": [],
   "source": [
    "df['class'].value_counts().nlargest(n=5)"
   ]
  },
  {
   "cell_type": "code",
   "execution_count": null,
   "metadata": {},
   "outputs": [],
   "source": [
    "# df.to_csv('prepared_data.csv')"
   ]
  },
  {
   "cell_type": "code",
   "execution_count": null,
   "metadata": {},
   "outputs": [],
   "source": [
    "from sklearn.ensemble import RandomForestClassifier\n",
    "from sklearn.model_selection import train_test_split\n",
    "from xgboost import XGBClassifier\n",
    "from sklearn.metrics import average_precision_score\n",
    "from sklearn.metrics import mean_absolute_error\n",
    "from sklearn.metrics import roc_curve, auc,recall_score,precision_score\n",
    "from sklearn.metrics import accuracy_score"
   ]
  },
  {
   "cell_type": "code",
   "execution_count": null,
   "metadata": {},
   "outputs": [],
   "source": [
    "data1=df.drop(['filter','obj_id'], axis=1)"
   ]
  },
  {
   "cell_type": "code",
   "execution_count": null,
   "metadata": {},
   "outputs": [],
   "source": [
    "RandomForestClassifier"
   ]
  },
  {
   "cell_type": "code",
   "execution_count": null,
   "metadata": {},
   "outputs": [],
   "source": [
    "df1=df.iloc[1500:1725]\n",
    "array = data1.values\n",
    "X = array[:,0:7]\n",
    "Y = array[:,7]\n",
    "validation_size = 0.2\n",
    "seed = 5\n",
    "X_train=X[0:1500]\n",
    "X_validation=X[1500:1725]\n",
    "Y_train=Y[0:1500]\n",
    "Y_validation=Y[1500:1725]\n",
    "# X_train, X_validation, Y_train, Y_validation = train_test_split(X, Y, test_size=validation_size, random_state=seed)\n",
    "# X_train1, X_testt, Y_train1, Y_testt = train_test_split(X_train, Y_train, test_size=validation_size1, random_state=seed)\n",
    "print(Y)\n",
    "# train.head()"
   ]
  },
  {
   "cell_type": "code",
   "execution_count": null,
   "metadata": {},
   "outputs": [],
   "source": [
    "#Learning with XGB model\n",
    "model = XGBClassifier(random_state=34, seed=7, colsample_bytree=0.8, subsample=0.6, n_estimators=2000)\n",
    "model.fit(X_train,Y_train)\n",
    "pred = model.predict(X_validation)\n",
    "accuracy = accuracy_score(Y_validation, pred)\n",
    "print(\"Accuracy: %.2f%%\" % (accuracy * 100.0))"
   ]
  },
  {
   "cell_type": "code",
   "execution_count": null,
   "metadata": {},
   "outputs": [],
   "source": [
    "df1['pred']=pred\n",
    "df1.head(1000)"
   ]
  },
  {
   "cell_type": "code",
   "execution_count": null,
   "metadata": {},
   "outputs": [],
   "source": [
    "plt.figure(figsize=(10,5))\n",
    "plt.plot(np.array(obj_mjd1[9]), np.array(obj_mag1[9]))"
   ]
  },
  {
   "cell_type": "code",
   "execution_count": null,
   "metadata": {},
   "outputs": [],
   "source": [
    "obj_mag"
   ]
  },
  {
   "cell_type": "code",
   "execution_count": null,
   "metadata": {},
   "outputs": [],
   "source": []
  }
 ],
 "metadata": {
  "kernelspec": {
   "display_name": "Python 3",
   "language": "python",
   "name": "python3"
  },
  "language_info": {
   "codemirror_mode": {
    "name": "ipython",
    "version": 3
   },
   "file_extension": ".py",
   "mimetype": "text/x-python",
   "name": "python",
   "nbconvert_exporter": "python",
   "pygments_lexer": "ipython3",
   "version": "3.7.3"
  }
 },
 "nbformat": 4,
 "nbformat_minor": 2
}
