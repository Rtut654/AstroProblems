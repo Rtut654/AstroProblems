{
 "cells": [
  {
   "cell_type": "code",
   "execution_count": 40,
   "metadata": {},
   "outputs": [],
   "source": [
    "########################### Libraries ####################################\n",
    "import astropy\n",
    "import pandas as pd\n",
    "import numpy as np \n",
    "import matplotlib.pyplot as plt\n",
    "import seaborn as sns\n",
    "import requests\n",
    "from astropy.coordinates.angle_utilities import hms_to_degrees, dms_to_degrees\n",
    "from astropy.coordinates import SkyCoord  # High-level coordinates\n",
    "from astropy.coordinates import ICRS, Galactic, FK4, FK5  # Low-level frames\n",
    "from astropy.coordinates import Angle, Latitude, Longitude  # Angles\n",
    "import astropy.units as u\n",
    "import re\n",
    "import json\n",
    "from collections import Counter\n",
    "from operator import itemgetter\n",
    "import scipy\n",
    "from scipy.signal import argrelextrema\n",
    "from astroML.time_series import lomb_scargle\n",
    "from gatspy.periodic import LombScargleFast"
   ]
  },
  {
   "cell_type": "code",
   "execution_count": 41,
   "metadata": {},
   "outputs": [],
   "source": [
    "#ОКПЗ\n",
    "data = astropy.io.ascii.read('gcvs5.txt', data_start=2, delimiter='|')\n",
    "data = data.to_pandas()\n",
    "datalistt=data['Max'].tolist()\n",
    "datalist=data['Min I'].tolist()"
   ]
  },
  {
   "cell_type": "code",
   "execution_count": 42,
   "metadata": {},
   "outputs": [
    {
     "data": {
      "text/html": [
       "<div>\n",
       "<style scoped>\n",
       "    .dataframe tbody tr th:only-of-type {\n",
       "        vertical-align: middle;\n",
       "    }\n",
       "\n",
       "    .dataframe tbody tr th {\n",
       "        vertical-align: top;\n",
       "    }\n",
       "\n",
       "    .dataframe thead th {\n",
       "        text-align: right;\n",
       "    }\n",
       "</style>\n",
       "<table border=\"1\" class=\"dataframe\">\n",
       "  <thead>\n",
       "    <tr style=\"text-align: right;\">\n",
       "      <th></th>\n",
       "      <th>NNo</th>\n",
       "      <th>GCVS</th>\n",
       "      <th>J2000.0</th>\n",
       "      <th>Type</th>\n",
       "      <th>Max</th>\n",
       "      <th>Min I</th>\n",
       "      <th>Min II</th>\n",
       "      <th>Epoch</th>\n",
       "      <th>Year</th>\n",
       "      <th>Period</th>\n",
       "      <th>M-m</th>\n",
       "      <th>Spectrum</th>\n",
       "      <th>References</th>\n",
       "      <th>Other desig. p.m.(as/yr)   Epoch     Ident.     New type    GCVS</th>\n",
       "    </tr>\n",
       "  </thead>\n",
       "  <tbody>\n",
       "    <tr>\n",
       "      <th>0</th>\n",
       "      <td>010001</td>\n",
       "      <td>R     And *</td>\n",
       "      <td>002401.95 +383437.3</td>\n",
       "      <td>M</td>\n",
       "      <td>5.8</td>\n",
       "      <td>15.2</td>\n",
       "      <td>NaN</td>\n",
       "      <td>V |53820.</td>\n",
       "      <td>NaN</td>\n",
       "      <td>409.2</td>\n",
       "      <td>38</td>\n",
       "      <td>S3,5e-S8,8e(M7e)</td>\n",
       "      <td>HIP   00002</td>\n",
       "      <td>|-0.016 -0.035|2000.0  | |Hip      |M         ...</td>\n",
       "    </tr>\n",
       "    <tr>\n",
       "      <th>1</th>\n",
       "      <td>010002</td>\n",
       "      <td>S     And *</td>\n",
       "      <td>004243.1  +411605.0</td>\n",
       "      <td>SNI</td>\n",
       "      <td>5.8</td>\n",
       "      <td>&lt; 16.</td>\n",
       "      <td>NaN</td>\n",
       "      <td>V |09775.</td>\n",
       "      <td>1885</td>\n",
       "      <td>NaN</td>\n",
       "      <td>NaN</td>\n",
       "      <td>(SNI)</td>\n",
       "      <td>V 377 V 338</td>\n",
       "      <td>=M31  V0894|             |1885.67 | |Lit.     ...</td>\n",
       "    </tr>\n",
       "    <tr>\n",
       "      <th>2</th>\n",
       "      <td>010003</td>\n",
       "      <td>T     And</td>\n",
       "      <td>002223.15 +265945.8</td>\n",
       "      <td>M</td>\n",
       "      <td>7.7</td>\n",
       "      <td>14.5</td>\n",
       "      <td>NaN</td>\n",
       "      <td>V |50854.</td>\n",
       "      <td>NaN</td>\n",
       "      <td>281.0</td>\n",
       "      <td>46</td>\n",
       "      <td>M4e-M7.5e</td>\n",
       "      <td>00001 00002</td>\n",
       "      <td>|-0.007 -0.003|2000.0  | |Tyc2     |M         ...</td>\n",
       "    </tr>\n",
       "    <tr>\n",
       "      <th>3</th>\n",
       "      <td>010004</td>\n",
       "      <td>U     And</td>\n",
       "      <td>011529.70 +404308.4</td>\n",
       "      <td>M</td>\n",
       "      <td>9.0</td>\n",
       "      <td>15.0</td>\n",
       "      <td>NaN</td>\n",
       "      <td>V |49564.</td>\n",
       "      <td>NaN</td>\n",
       "      <td>347.7</td>\n",
       "      <td>40</td>\n",
       "      <td>M6e</td>\n",
       "      <td>00001 00002</td>\n",
       "      <td>|+0.009 -0.011|2000.0  | |UCAC2    |M         ...</td>\n",
       "    </tr>\n",
       "    <tr>\n",
       "      <th>4</th>\n",
       "      <td>010005</td>\n",
       "      <td>V     And</td>\n",
       "      <td>005006.28 +353910.1</td>\n",
       "      <td>M</td>\n",
       "      <td>9.0</td>\n",
       "      <td>15.2</td>\n",
       "      <td>NaN</td>\n",
       "      <td>V |51528.</td>\n",
       "      <td>NaN</td>\n",
       "      <td>256.4</td>\n",
       "      <td>45</td>\n",
       "      <td>M2e-M3e</td>\n",
       "      <td>00001 00002</td>\n",
       "      <td>|-0.007 -0.007|2000.0  | |NPM      |M         ...</td>\n",
       "    </tr>\n",
       "  </tbody>\n",
       "</table>\n",
       "</div>"
      ],
      "text/plain": [
       "      NNo         GCVS              J2000.0 Type  Max  Min I Min II  \\\n",
       "0  010001  R     And *  002401.95 +383437.3    M  5.8   15.2    NaN   \n",
       "1  010002  S     And *  004243.1  +411605.0  SNI  5.8  < 16.    NaN   \n",
       "2  010003    T     And  002223.15 +265945.8    M  7.7   14.5    NaN   \n",
       "3  010004    U     And  011529.70 +404308.4    M  9.0   15.0    NaN   \n",
       "4  010005    V     And  005006.28 +353910.1    M  9.0   15.2    NaN   \n",
       "\n",
       "       Epoch  Year Period  M-m          Spectrum   References  \\\n",
       "0  V |53820.   NaN  409.2   38  S3,5e-S8,8e(M7e)  HIP   00002   \n",
       "1  V |09775.  1885    NaN  NaN             (SNI)  V 377 V 338   \n",
       "2  V |50854.   NaN  281.0   46         M4e-M7.5e  00001 00002   \n",
       "3  V |49564.   NaN  347.7   40               M6e  00001 00002   \n",
       "4  V |51528.   NaN  256.4   45           M2e-M3e  00001 00002   \n",
       "\n",
       "  Other desig. p.m.(as/yr)   Epoch     Ident.     New type    GCVS  \n",
       "0  |-0.016 -0.035|2000.0  | |Hip      |M         ...                \n",
       "1  =M31  V0894|             |1885.67 | |Lit.     ...                \n",
       "2  |-0.007 -0.003|2000.0  | |Tyc2     |M         ...                \n",
       "3  |+0.009 -0.011|2000.0  | |UCAC2    |M         ...                \n",
       "4  |-0.007 -0.007|2000.0  | |NPM      |M         ...                "
      ]
     },
     "execution_count": 42,
     "metadata": {},
     "output_type": "execute_result"
    }
   ],
   "source": [
    "data.head()"
   ]
  },
  {
   "cell_type": "markdown",
   "metadata": {},
   "source": [
    "### GCVS input ('Max'  and 'Min I' columns) corrections"
   ]
  },
  {
   "cell_type": "code",
   "execution_count": 43,
   "metadata": {},
   "outputs": [],
   "source": [
    "name=datalistt[39]# save strange nan?\n",
    "for i in range(len(datalist)):\n",
    "    try:\n",
    "        if datalist[i][0]=='<':\n",
    "            datalist[i]=datalist[i][2:]\n",
    "        if datalist[i][-1]==':':\n",
    "            datalist[i]=datalist[i][:4]\n",
    "        if datalist[i][0]=='(':\n",
    "            datalist[i]=100\n",
    "    except:\n",
    "        1==1\n",
    "#         print(i)\n",
    "        \n",
    "for i in range(len(datalistt)):\n",
    "    try:\n",
    "        if datalistt[i]==datalistt[39]:\n",
    "            datalistt[i]=0\n",
    "        if datalistt[i][0]=='|':\n",
    "            datalistt[i]=datalistt[1][1:]\n",
    "    except:\n",
    "        1==1\n",
    "#         print(i)        "
   ]
  },
  {
   "cell_type": "markdown",
   "metadata": {},
   "source": [
    " # GCVS analyses  "
   ]
  },
  {
   "cell_type": "markdown",
   "metadata": {},
   "source": [
    "### Here we remove stars which min mag< 12m"
   ]
  },
  {
   "cell_type": "code",
   "execution_count": 44,
   "metadata": {},
   "outputs": [
    {
     "name": "stdout",
     "output_type": "stream",
     "text": [
      "1\n",
      "1\n"
     ]
    },
    {
     "data": {
      "text/plain": [
       "(48549, 16)"
      ]
     },
     "execution_count": 44,
     "metadata": {},
     "output_type": "execute_result"
    }
   ],
   "source": [
    "data['index']=data.index\n",
    "i=0\n",
    "k=0\n",
    "index=[]\n",
    "for i in range(len(datalist)):\n",
    "    try:\n",
    "        if float(datalist[i])<=10:\n",
    "            index.append(i)\n",
    "    except:\n",
    "        print(1)\n",
    "data=data.drop(index,axis=0)     \n",
    "data=data.reset_index()        \n",
    "data.shape"
   ]
  },
  {
   "cell_type": "markdown",
   "metadata": {},
   "source": [
    "### Here we calculate the num of stars which max-min range does not fully belong to [12:20]"
   ]
  },
  {
   "cell_type": "code",
   "execution_count": 45,
   "metadata": {},
   "outputs": [],
   "source": [
    "# k=0\n",
    "# d=0\n",
    "# for i in range(len(datalist)):\n",
    "#     try:\n",
    "#         if float(datalistt[i])<12:\n",
    "#             d=d+1\n",
    "# #             data=data.drop(index=i,axis=1)\n",
    "#     except:\n",
    "#         k=k+1\n",
    "# print(d)\n",
    "#18980"
   ]
  },
  {
   "cell_type": "markdown",
   "metadata": {},
   "source": [
    "### result N of stars which belong to [12:20]"
   ]
  },
  {
   "cell_type": "code",
   "execution_count": 46,
   "metadata": {},
   "outputs": [],
   "source": [
    "# data.shape[0]-d\n",
    "#35999"
   ]
  },
  {
   "cell_type": "code",
   "execution_count": 47,
   "metadata": {},
   "outputs": [],
   "source": [
    "# drop them\n",
    "# data1=data1.drop(index=d,axis=1,inplace=True)\n",
    "# data1=data1.reset_index()\n",
    "# data1"
   ]
  },
  {
   "cell_type": "markdown",
   "metadata": {},
   "source": [
    "### Take only necessary columns + coordinates preparation"
   ]
  },
  {
   "cell_type": "code",
   "execution_count": 48,
   "metadata": {},
   "outputs": [],
   "source": [
    "# ОКПЗ\n",
    "# data = astropy.io.ascii.read('gcvs5.txt', data_start=2, delimiter='|')"
   ]
  },
  {
   "cell_type": "code",
   "execution_count": 49,
   "metadata": {},
   "outputs": [],
   "source": [
    "data = data[['J2000.0', 'Type']]"
   ]
  },
  {
   "cell_type": "code",
   "execution_count": 50,
   "metadata": {
    "scrolled": true
   },
   "outputs": [],
   "source": [
    "# data = data.to_pandas()"
   ]
  },
  {
   "cell_type": "code",
   "execution_count": 51,
   "metadata": {},
   "outputs": [],
   "source": [
    "data.Type = data.Type.map(lambda item: re.sub(':', '', str(item) ) if str(item).endswith(':') else str(item) )"
   ]
  },
  {
   "cell_type": "code",
   "execution_count": 52,
   "metadata": {},
   "outputs": [],
   "source": [
    "data.rename(columns={'J2000.0':'coord'}, inplace=True)"
   ]
  },
  {
   "cell_type": "code",
   "execution_count": 53,
   "metadata": {},
   "outputs": [],
   "source": [
    "data.drop(index=data[data.coord.map(lambda x: type(x) is not str )].index.values.tolist(), inplace=True)"
   ]
  },
  {
   "cell_type": "code",
   "execution_count": 54,
   "metadata": {},
   "outputs": [],
   "source": [
    "data = data[ data.coord.map(lambda x: len(str(x)) == 19 ) ]"
   ]
  },
  {
   "cell_type": "code",
   "execution_count": 55,
   "metadata": {},
   "outputs": [],
   "source": [
    "data['ra'] = data.coord.map(lambda x: x[:9])\n",
    "data['dec'] = data.coord.map(lambda x: x[9:])"
   ]
  },
  {
   "cell_type": "code",
   "execution_count": 56,
   "metadata": {},
   "outputs": [],
   "source": [
    "data.dec = data.dec.map(lambda x: x.replace(' ', '') )"
   ]
  },
  {
   "cell_type": "code",
   "execution_count": 57,
   "metadata": {},
   "outputs": [],
   "source": [
    "data = data[ (data.dec.map(lambda x: x.startswith('+')) | data.dec.map(lambda x: x.startswith('-')) )\n",
    "            & data.dec.map(lambda x: len(x) == 9 ) ]"
   ]
  },
  {
   "cell_type": "code",
   "execution_count": 58,
   "metadata": {},
   "outputs": [],
   "source": [
    "data.reset_index(drop=True, inplace=True)"
   ]
  },
  {
   "cell_type": "code",
   "execution_count": 59,
   "metadata": {
    "scrolled": true
   },
   "outputs": [],
   "source": [
    "data.ra = data.ra.map(lambda x: hms_to_degrees(float(x[:2]), float(x[2:4]), float(x[4:])) )\n",
    "data.dec = data.dec.map(lambda x: dms_to_degrees(float(x[:3]), float(x[3:5]), float(x[5:])))"
   ]
  },
  {
   "cell_type": "code",
   "execution_count": 60,
   "metadata": {},
   "outputs": [],
   "source": [
    "#sorted(Counter(data.Type).items(), key=itemgetter(1), reverse=True)"
   ]
  },
  {
   "cell_type": "markdown",
   "metadata": {},
   "source": [
    "## Features engineering (for ML)"
   ]
  },
  {
   "cell_type": "code",
   "execution_count": 61,
   "metadata": {},
   "outputs": [],
   "source": [
    "#Построение периодограммы (фурье спектра сигнала) для текущего значения obj_mag,obj_magerr,ang_freqs\n",
    "# from astroML.time_series import lomb_scargle\n",
    "# periods = np.linspace(0.01, 200, 500)\n",
    "# ang_freqs = 2 * np.pi / periods\n",
    "# power = lomb_scargle(np.array(obj_mjd), np.array(obj_mag), np.array(obj_magerr), ang_freqs)\n",
    "# # plot the results\n",
    "# fig, ax = plt.subplots()\n",
    "# ax.plot(periods, power)\n",
    "# ax.set(ylim=(0, 0.8), xlabel='period (days)',\n",
    "#        ylabel='Lomb-Scargle Power');"
   ]
  },
  {
   "cell_type": "code",
   "execution_count": 62,
   "metadata": {
    "scrolled": true
   },
   "outputs": [],
   "source": [
    "# peak_data = scipy.signal.find_peaks(power,prominence=0.05)\n",
    "# f1=np.max(power[peak_data[0]])\n",
    "# ind1=power[peak_data[0]].argmax()\n",
    "# power[peak_data[0][ind1]]=0\n",
    "# f2=np.max(power[peak_data[0]])\n",
    "# ind2=power[peak_data[0]].argmax()\n",
    "# print(periods[peak_data[0][ind1]])\n",
    "# print(periods[peak_data[0][ind2]])\n",
    "# print(periods[ind1])\n",
    "# print(periods[ind2])"
   ]
  },
  {
   "cell_type": "code",
   "execution_count": 63,
   "metadata": {},
   "outputs": [],
   "source": [
    "# model = LombScargleFast().fit(np.array(obj_mjd), np.array(obj_mag), np.array(obj_magerr))\n",
    "# period, power = model.periodogram_auto(nyquist_factor=200)\n",
    "# print(\"period range: ({0}, {1})\".format(period.min(), period.max()))\n",
    "# print(\"number of periods: {0}\".format(len(period)))\n",
    "# print(type(periods))"
   ]
  },
  {
   "cell_type": "code",
   "execution_count": 64,
   "metadata": {},
   "outputs": [],
   "source": [
    "data1=data# Для быстрой загрузки с сервера"
   ]
  },
  {
   "cell_type": "code",
   "execution_count": 65,
   "metadata": {},
   "outputs": [],
   "source": [
    "# data1=data[42000:]"
   ]
  },
  {
   "cell_type": "code",
   "execution_count": 66,
   "metadata": {},
   "outputs": [
    {
     "data": {
      "text/plain": [
       "<generator object DataFrame.iterrows at 0x000001558AFD8480>"
      ]
     },
     "execution_count": 66,
     "metadata": {},
     "output_type": "execute_result"
    }
   ],
   "source": [
    "data1.iterrows()"
   ]
  },
  {
   "cell_type": "code",
   "execution_count": 67,
   "metadata": {},
   "outputs": [
    {
     "name": "stdout",
     "output_type": "stream",
     "text": [
      "(48173, 4)\n"
     ]
    },
    {
     "data": {
      "text/html": [
       "<div>\n",
       "<style scoped>\n",
       "    .dataframe tbody tr th:only-of-type {\n",
       "        vertical-align: middle;\n",
       "    }\n",
       "\n",
       "    .dataframe tbody tr th {\n",
       "        vertical-align: top;\n",
       "    }\n",
       "\n",
       "    .dataframe thead th {\n",
       "        text-align: right;\n",
       "    }\n",
       "</style>\n",
       "<table border=\"1\" class=\"dataframe\">\n",
       "  <thead>\n",
       "    <tr style=\"text-align: right;\">\n",
       "      <th></th>\n",
       "      <th>coord</th>\n",
       "      <th>Type</th>\n",
       "      <th>ra</th>\n",
       "      <th>dec</th>\n",
       "    </tr>\n",
       "  </thead>\n",
       "  <tbody>\n",
       "    <tr>\n",
       "      <th>0</th>\n",
       "      <td>002401.95 +383437.3</td>\n",
       "      <td>M</td>\n",
       "      <td>6.008125</td>\n",
       "      <td>38.577028</td>\n",
       "    </tr>\n",
       "    <tr>\n",
       "      <th>1</th>\n",
       "      <td>004243.1  +411605.0</td>\n",
       "      <td>SNI</td>\n",
       "      <td>10.679583</td>\n",
       "      <td>41.268056</td>\n",
       "    </tr>\n",
       "    <tr>\n",
       "      <th>2</th>\n",
       "      <td>002223.15 +265945.8</td>\n",
       "      <td>M</td>\n",
       "      <td>5.596458</td>\n",
       "      <td>26.996056</td>\n",
       "    </tr>\n",
       "    <tr>\n",
       "      <th>3</th>\n",
       "      <td>011529.70 +404308.4</td>\n",
       "      <td>M</td>\n",
       "      <td>18.873750</td>\n",
       "      <td>40.719000</td>\n",
       "    </tr>\n",
       "    <tr>\n",
       "      <th>4</th>\n",
       "      <td>005006.28 +353910.1</td>\n",
       "      <td>M</td>\n",
       "      <td>12.526167</td>\n",
       "      <td>35.652806</td>\n",
       "    </tr>\n",
       "  </tbody>\n",
       "</table>\n",
       "</div>"
      ],
      "text/plain": [
       "                 coord Type         ra        dec\n",
       "0  002401.95 +383437.3    M   6.008125  38.577028\n",
       "1  004243.1  +411605.0  SNI  10.679583  41.268056\n",
       "2  002223.15 +265945.8    M   5.596458  26.996056\n",
       "3  011529.70 +404308.4    M  18.873750  40.719000\n",
       "4  005006.28 +353910.1    M  12.526167  35.652806"
      ]
     },
     "execution_count": 67,
     "metadata": {},
     "output_type": "execute_result"
    }
   ],
   "source": [
    "rows = np.random.choice(data.index.values, 3000)\n",
    "print(data1.shape)\n",
    "data1.head()"
   ]
  },
  {
   "cell_type": "markdown",
   "metadata": {},
   "source": [
    "## Sending requests with different conditions and parameters + saving files"
   ]
  },
  {
   "cell_type": "code",
   "execution_count": 68,
   "metadata": {},
   "outputs": [],
   "source": [
    "# %%time\n",
    "# obj_mjd1={}\n",
    "# obj_mag1={}\n",
    "# periods = np.linspace(0.01, 200, 500)\n",
    "# ang_freqs = 2 * np.pi / periods\n",
    "# my_data = pd.DataFrame({'obj_id':[],\n",
    "#                         'filter':[],\n",
    "# #                         'mean_magn':[],\n",
    "# #                         'amplitude':[],\n",
    "# #                         'trand_angle':[],\n",
    "# #                         'skew' : [],\n",
    "# #                         'std' : [],\n",
    "# #                         'max_PSD' : [],\n",
    "# #                         'max_fs' : [],\n",
    "#                         'pointsN': [],\n",
    "#                         'idN': [],\n",
    "#                         'dist':[],\n",
    "# #                         'dist1':[],\n",
    "# #                         'dist2':[],                        \n",
    "#                         'class':[]})\n",
    "# i=0\n",
    "# for item in data1.iterrows():\n",
    "# #     obj_mjd1[i]=obj_mjd\n",
    "# #     obj_mag1[i]=obj_mag\n",
    "# #     i=i+1\n",
    "# #     a=item[1].ra*u.degree\n",
    "# #     b=item[1].dec*u.degree\n",
    "#     try:\n",
    "#         resp = requests.get('http://db.ztf.snad.space/api/v1/circle/full/json?ra={ra}&dec={dec}&radius_arcsec={r}'.format(ra=item[1].ra, \n",
    "#                                                                                                                           dec=item[1].dec, \n",
    "#         res = resp.json()\n",
    "#         i=i+1\n",
    "#         if len(res.keys())==2:\n",
    "                                                                                                                          \n",
    "#             if i%1000==0:\n",
    "#                 print(i)\n",
    "#             c1=SkyCoord(res[list(res.keys())[0]]['meta']['coord']['ra']*u.degree, res[list(res.keys())[0]]['meta']['coord']['dec']*u.degree)\n",
    "#             c2=SkyCoord(res[list(res.keys())[1]]['meta']['coord']['ra']*u.degree, res[list(res.keys())[1]]['meta']['coord']['dec']*u.degree)\n",
    "# #             c3=SkyCoord(res[list(res.keys())[2]]['meta']['coord']['ra']*u.degree, res[list(res.keys())[2]]['meta']['coord']['dec']*u.degree)\n",
    "# #             c4=SkyCoord(res[list(res.keys())[3]]['meta']['coord']['ra']*u.degree, res[list(res.keys())[3]]['meta']['coord']['dec']*u.degree)\n",
    "        \n",
    "#             # sep = c1.separation(c2)\n",
    "# #             sep1 = c3.separation(c1)\n",
    "# #             sep2 = c3.separation(c2) \n",
    "# #             print(c1)\n",
    "# #             print(res.keys())\n",
    "# #             print(res[list(res.keys())[0]]['meta']['filter'])\n",
    "# #             print(res[list(res.keys())[0]]['meta']['nobs'])\n",
    " \n",
    "# # c3=SkyCoord(a,b)\n",
    "#             for obj_id in res.keys():\n",
    "#                 with open(obj_id+'.txt', 'w') as file:\n",
    "#                     file.write(json.dumps(res))\n",
    "                    \n",
    "#     #             if (res[obj_id]['meta']['filter']=='zg') & (len(res[obj_id]['lc'])>=5):\n",
    "#                 obj_mjd = []\n",
    "#                 obj_mag = []\n",
    "#                 obj_magerr = []\n",
    "#                 object_return = {}\n",
    "#                 obj_filter = res[obj_id]['meta']['filter']\n",
    "# #                     for ii in res[obj_id]['lc']:\n",
    "# #                         obj_mjd.append(ii['mjd'])\n",
    "# #                         obj_mag.append(ii['mag'])\n",
    "# #                         obj_magerr.append(ii['magerr'])\n",
    "#     #                 Fs = 1/((np.array(obj_mjd).max() - np.array(obj_mjd).min() )/np.array(obj_mjd).size)\n",
    "#     #                 Fs = np.linspace(0.01, 10)\n",
    "# #                     model = LombScargleFast().fit(obj_mjd, obj_mag, obj_magerr)\n",
    "#     #                 period, power = model.periodogram_auto(nyquist_factor=200)\n",
    "# #                     period=0\n",
    "# #                     power=0\n",
    "#                 object_return['obj_id'] = obj_id\n",
    "#                 object_return['filter'] = res[obj_id]['meta']['filter']\n",
    "# #                     object_return['mean_magn'] = np.array(obj_mag).mean()\n",
    "# #                     object_return['amplitude'] = np.array(obj_mag).max() - np.array(obj_mag).min()\n",
    "# #                     object_return['trand_angle'] = np.polyfit(np.array(obj_mjd), np.array(obj_mag), 1)[0] \n",
    "# #                     object_return['skew'] = scipy.stats.skew(np.array(obj_mag))\n",
    "#                 object_return['pointsN'] = len(res[obj_id]['lc'])\n",
    "#                 object_return['idN'] = len(res.keys())\n",
    "# #                 object_return['dist'] = sep \n",
    "# #                 object_return['dist1'] = sep1\n",
    "# #                 object_return['dist2'] = sep2\n",
    "\n",
    "#     #                 D1=np.max(power[peak_data[0]])\n",
    "#     #                 ind1=power[peak_data[0]].argmax()\n",
    "#     #                 power[peak_data[0][ind1]]=0\n",
    "#     #                 D2=np.max(power[peak_data[0]])\n",
    "#     #                 ind2=power[peak_data[0]].argmax() \n",
    "# #                     object_return['max_fs'] =0\n",
    "# #                     object_return['max_fs'] = 2*np.pi/(period[power.argmax()])\n",
    "#     #                 object_return['max_fs1'] = 2*np.pi/(period[peak_data[0][ind2]])                \n",
    "# #                     object_return['max_PSD'] = np.max(power)\n",
    "#     #                 object_return['max_PSD1'] = D2\n",
    "# #                     object_return['std'] = np.array(obj_mag).std()\n",
    "#                 my_data = my_data.append( pd.DataFrame({'obj_id' : [ object_return['obj_id'] ],\n",
    "#                                                           'filter' : [ object_return['filter'] ],\n",
    "# #                                                           'mean_magn' :[ object_return['mean_magn'] ],\n",
    "# #                                                           'amplitude' : [ object_return['amplitude'] ], \n",
    "# #                                                           'trand_angle' : [ object_return['trand_angle'] ],\n",
    "# #                                                           'skew' : [ object_return['skew'] ],\n",
    "# #                                                           'std' : [ object_return['std'] ],\n",
    "# #                                                           'max_PSD' : [ object_return['max_PSD']],\n",
    "# #                                                           'max_fs' : [ object_return['max_fs'] ],\n",
    "#                                                           'pointsN' : [ object_return['pointsN']],\n",
    "#                                                           'idN' : [ object_return['idN']],\n",
    "#                                                           'dist' : [ object_return['dist']],\n",
    "# #                                                           'dist1' : [ object_return['dist1']], \n",
    "# #                                                           'dist2' : [ object_return['dist2']],                                                           \n",
    "#                                                           'class' : [ item[1].Type ] }),\n",
    "#                                              ignore_index = True)\n",
    "    \n",
    "#     except Exception as ex:\n",
    "#         print(\"file {} has error\".format(item[0]), ex)\n",
    "#     if item[0] % 1000 == 0 :\n",
    "#         my_data.to_csv('backup_' + str(item[0]) + '.csv')    "
   ]
  },
  {
   "cell_type": "markdown",
   "metadata": {},
   "source": [
    "### Viewing all the names in folder"
   ]
  },
  {
   "cell_type": "code",
   "execution_count": 69,
   "metadata": {},
   "outputs": [],
   "source": [
    "from os import walk\n",
    "f = []\n",
    "mypath=r'C:\\Users\\rtut6\\Desktop\\Backup\\1' # first (1) or second (2) folder\n",
    "for (dirpath, dirnames, filenames) in walk(mypath):\n",
    "    f.extend(filenames)\n",
    "    break"
   ]
  },
  {
   "cell_type": "code",
   "execution_count": 70,
   "metadata": {},
   "outputs": [],
   "source": [
    "# f"
   ]
  },
  {
   "cell_type": "code",
   "execution_count": 71,
   "metadata": {},
   "outputs": [],
   "source": [
    "for i in range(len(f)):\n",
    "    try:\n",
    "        f[i]=f[i][:-4]\n",
    "    except:\n",
    "        print('1')"
   ]
  },
  {
   "cell_type": "code",
   "execution_count": 72,
   "metadata": {
    "scrolled": true
   },
   "outputs": [],
   "source": [
    "# for i in range(len(f)):\n",
    "#     if len(f[i])<13:\n",
    "#         f.pop(i) "
   ]
  },
  {
   "cell_type": "markdown",
   "metadata": {},
   "source": [
    "### Fill names1 with files of first folder (1 id ) and names 2 with files of second folder (2 id) etc."
   ]
  },
  {
   "cell_type": "code",
   "execution_count": 73,
   "metadata": {},
   "outputs": [],
   "source": [
    "# names1=f\n",
    "# names2=f\n",
    "# names3=f"
   ]
  },
  {
   "cell_type": "markdown",
   "metadata": {},
   "source": [
    "### id-distribution (numbers come from number of elements in folders"
   ]
  },
  {
   "cell_type": "code",
   "execution_count": 74,
   "metadata": {},
   "outputs": [
    {
     "data": {
      "application/vnd.plotly.v1+json": {
       "config": {
        "plotlyServerURL": "https://plot.ly"
       },
       "data": [
        {
         "domain": {
          "x": [
           0,
           1
          ],
          "y": [
           0,
           1
          ]
         },
         "hoverlabel": {
          "namelength": 0
         },
         "hovertemplate": "label=%{label}<br>value=%{value}",
         "labels": [
          "2.0 ID",
          "4.0 ID",
          "1.0 ID",
          "3.0 ID",
          "6.0 ID"
         ],
         "legendgroup": "",
         "name": "",
         "showlegend": true,
         "type": "pie",
         "values": [
          12580,
          1610,
          5330,
          273,
          49
         ]
        }
       ],
       "layout": {
        "legend": {
         "tracegroupgap": 0
        },
        "template": {
         "data": {
          "bar": [
           {
            "error_x": {
             "color": "#2a3f5f"
            },
            "error_y": {
             "color": "#2a3f5f"
            },
            "marker": {
             "line": {
              "color": "#E5ECF6",
              "width": 0.5
             }
            },
            "type": "bar"
           }
          ],
          "barpolar": [
           {
            "marker": {
             "line": {
              "color": "#E5ECF6",
              "width": 0.5
             }
            },
            "type": "barpolar"
           }
          ],
          "carpet": [
           {
            "aaxis": {
             "endlinecolor": "#2a3f5f",
             "gridcolor": "white",
             "linecolor": "white",
             "minorgridcolor": "white",
             "startlinecolor": "#2a3f5f"
            },
            "baxis": {
             "endlinecolor": "#2a3f5f",
             "gridcolor": "white",
             "linecolor": "white",
             "minorgridcolor": "white",
             "startlinecolor": "#2a3f5f"
            },
            "type": "carpet"
           }
          ],
          "choropleth": [
           {
            "colorbar": {
             "outlinewidth": 0,
             "ticks": ""
            },
            "type": "choropleth"
           }
          ],
          "contour": [
           {
            "colorbar": {
             "outlinewidth": 0,
             "ticks": ""
            },
            "colorscale": [
             [
              0,
              "#0d0887"
             ],
             [
              0.1111111111111111,
              "#46039f"
             ],
             [
              0.2222222222222222,
              "#7201a8"
             ],
             [
              0.3333333333333333,
              "#9c179e"
             ],
             [
              0.4444444444444444,
              "#bd3786"
             ],
             [
              0.5555555555555556,
              "#d8576b"
             ],
             [
              0.6666666666666666,
              "#ed7953"
             ],
             [
              0.7777777777777778,
              "#fb9f3a"
             ],
             [
              0.8888888888888888,
              "#fdca26"
             ],
             [
              1,
              "#f0f921"
             ]
            ],
            "type": "contour"
           }
          ],
          "contourcarpet": [
           {
            "colorbar": {
             "outlinewidth": 0,
             "ticks": ""
            },
            "type": "contourcarpet"
           }
          ],
          "heatmap": [
           {
            "colorbar": {
             "outlinewidth": 0,
             "ticks": ""
            },
            "colorscale": [
             [
              0,
              "#0d0887"
             ],
             [
              0.1111111111111111,
              "#46039f"
             ],
             [
              0.2222222222222222,
              "#7201a8"
             ],
             [
              0.3333333333333333,
              "#9c179e"
             ],
             [
              0.4444444444444444,
              "#bd3786"
             ],
             [
              0.5555555555555556,
              "#d8576b"
             ],
             [
              0.6666666666666666,
              "#ed7953"
             ],
             [
              0.7777777777777778,
              "#fb9f3a"
             ],
             [
              0.8888888888888888,
              "#fdca26"
             ],
             [
              1,
              "#f0f921"
             ]
            ],
            "type": "heatmap"
           }
          ],
          "heatmapgl": [
           {
            "colorbar": {
             "outlinewidth": 0,
             "ticks": ""
            },
            "colorscale": [
             [
              0,
              "#0d0887"
             ],
             [
              0.1111111111111111,
              "#46039f"
             ],
             [
              0.2222222222222222,
              "#7201a8"
             ],
             [
              0.3333333333333333,
              "#9c179e"
             ],
             [
              0.4444444444444444,
              "#bd3786"
             ],
             [
              0.5555555555555556,
              "#d8576b"
             ],
             [
              0.6666666666666666,
              "#ed7953"
             ],
             [
              0.7777777777777778,
              "#fb9f3a"
             ],
             [
              0.8888888888888888,
              "#fdca26"
             ],
             [
              1,
              "#f0f921"
             ]
            ],
            "type": "heatmapgl"
           }
          ],
          "histogram": [
           {
            "marker": {
             "colorbar": {
              "outlinewidth": 0,
              "ticks": ""
             }
            },
            "type": "histogram"
           }
          ],
          "histogram2d": [
           {
            "colorbar": {
             "outlinewidth": 0,
             "ticks": ""
            },
            "colorscale": [
             [
              0,
              "#0d0887"
             ],
             [
              0.1111111111111111,
              "#46039f"
             ],
             [
              0.2222222222222222,
              "#7201a8"
             ],
             [
              0.3333333333333333,
              "#9c179e"
             ],
             [
              0.4444444444444444,
              "#bd3786"
             ],
             [
              0.5555555555555556,
              "#d8576b"
             ],
             [
              0.6666666666666666,
              "#ed7953"
             ],
             [
              0.7777777777777778,
              "#fb9f3a"
             ],
             [
              0.8888888888888888,
              "#fdca26"
             ],
             [
              1,
              "#f0f921"
             ]
            ],
            "type": "histogram2d"
           }
          ],
          "histogram2dcontour": [
           {
            "colorbar": {
             "outlinewidth": 0,
             "ticks": ""
            },
            "colorscale": [
             [
              0,
              "#0d0887"
             ],
             [
              0.1111111111111111,
              "#46039f"
             ],
             [
              0.2222222222222222,
              "#7201a8"
             ],
             [
              0.3333333333333333,
              "#9c179e"
             ],
             [
              0.4444444444444444,
              "#bd3786"
             ],
             [
              0.5555555555555556,
              "#d8576b"
             ],
             [
              0.6666666666666666,
              "#ed7953"
             ],
             [
              0.7777777777777778,
              "#fb9f3a"
             ],
             [
              0.8888888888888888,
              "#fdca26"
             ],
             [
              1,
              "#f0f921"
             ]
            ],
            "type": "histogram2dcontour"
           }
          ],
          "mesh3d": [
           {
            "colorbar": {
             "outlinewidth": 0,
             "ticks": ""
            },
            "type": "mesh3d"
           }
          ],
          "parcoords": [
           {
            "line": {
             "colorbar": {
              "outlinewidth": 0,
              "ticks": ""
             }
            },
            "type": "parcoords"
           }
          ],
          "pie": [
           {
            "automargin": true,
            "type": "pie"
           }
          ],
          "scatter": [
           {
            "marker": {
             "colorbar": {
              "outlinewidth": 0,
              "ticks": ""
             }
            },
            "type": "scatter"
           }
          ],
          "scatter3d": [
           {
            "line": {
             "colorbar": {
              "outlinewidth": 0,
              "ticks": ""
             }
            },
            "marker": {
             "colorbar": {
              "outlinewidth": 0,
              "ticks": ""
             }
            },
            "type": "scatter3d"
           }
          ],
          "scattercarpet": [
           {
            "marker": {
             "colorbar": {
              "outlinewidth": 0,
              "ticks": ""
             }
            },
            "type": "scattercarpet"
           }
          ],
          "scattergeo": [
           {
            "marker": {
             "colorbar": {
              "outlinewidth": 0,
              "ticks": ""
             }
            },
            "type": "scattergeo"
           }
          ],
          "scattergl": [
           {
            "marker": {
             "colorbar": {
              "outlinewidth": 0,
              "ticks": ""
             }
            },
            "type": "scattergl"
           }
          ],
          "scattermapbox": [
           {
            "marker": {
             "colorbar": {
              "outlinewidth": 0,
              "ticks": ""
             }
            },
            "type": "scattermapbox"
           }
          ],
          "scatterpolar": [
           {
            "marker": {
             "colorbar": {
              "outlinewidth": 0,
              "ticks": ""
             }
            },
            "type": "scatterpolar"
           }
          ],
          "scatterpolargl": [
           {
            "marker": {
             "colorbar": {
              "outlinewidth": 0,
              "ticks": ""
             }
            },
            "type": "scatterpolargl"
           }
          ],
          "scatterternary": [
           {
            "marker": {
             "colorbar": {
              "outlinewidth": 0,
              "ticks": ""
             }
            },
            "type": "scatterternary"
           }
          ],
          "surface": [
           {
            "colorbar": {
             "outlinewidth": 0,
             "ticks": ""
            },
            "colorscale": [
             [
              0,
              "#0d0887"
             ],
             [
              0.1111111111111111,
              "#46039f"
             ],
             [
              0.2222222222222222,
              "#7201a8"
             ],
             [
              0.3333333333333333,
              "#9c179e"
             ],
             [
              0.4444444444444444,
              "#bd3786"
             ],
             [
              0.5555555555555556,
              "#d8576b"
             ],
             [
              0.6666666666666666,
              "#ed7953"
             ],
             [
              0.7777777777777778,
              "#fb9f3a"
             ],
             [
              0.8888888888888888,
              "#fdca26"
             ],
             [
              1,
              "#f0f921"
             ]
            ],
            "type": "surface"
           }
          ],
          "table": [
           {
            "cells": {
             "fill": {
              "color": "#EBF0F8"
             },
             "line": {
              "color": "white"
             }
            },
            "header": {
             "fill": {
              "color": "#C8D4E3"
             },
             "line": {
              "color": "white"
             }
            },
            "type": "table"
           }
          ]
         },
         "layout": {
          "annotationdefaults": {
           "arrowcolor": "#2a3f5f",
           "arrowhead": 0,
           "arrowwidth": 1
          },
          "coloraxis": {
           "colorbar": {
            "outlinewidth": 0,
            "ticks": ""
           }
          },
          "colorscale": {
           "diverging": [
            [
             0,
             "#8e0152"
            ],
            [
             0.1,
             "#c51b7d"
            ],
            [
             0.2,
             "#de77ae"
            ],
            [
             0.3,
             "#f1b6da"
            ],
            [
             0.4,
             "#fde0ef"
            ],
            [
             0.5,
             "#f7f7f7"
            ],
            [
             0.6,
             "#e6f5d0"
            ],
            [
             0.7,
             "#b8e186"
            ],
            [
             0.8,
             "#7fbc41"
            ],
            [
             0.9,
             "#4d9221"
            ],
            [
             1,
             "#276419"
            ]
           ],
           "sequential": [
            [
             0,
             "#0d0887"
            ],
            [
             0.1111111111111111,
             "#46039f"
            ],
            [
             0.2222222222222222,
             "#7201a8"
            ],
            [
             0.3333333333333333,
             "#9c179e"
            ],
            [
             0.4444444444444444,
             "#bd3786"
            ],
            [
             0.5555555555555556,
             "#d8576b"
            ],
            [
             0.6666666666666666,
             "#ed7953"
            ],
            [
             0.7777777777777778,
             "#fb9f3a"
            ],
            [
             0.8888888888888888,
             "#fdca26"
            ],
            [
             1,
             "#f0f921"
            ]
           ],
           "sequentialminus": [
            [
             0,
             "#0d0887"
            ],
            [
             0.1111111111111111,
             "#46039f"
            ],
            [
             0.2222222222222222,
             "#7201a8"
            ],
            [
             0.3333333333333333,
             "#9c179e"
            ],
            [
             0.4444444444444444,
             "#bd3786"
            ],
            [
             0.5555555555555556,
             "#d8576b"
            ],
            [
             0.6666666666666666,
             "#ed7953"
            ],
            [
             0.7777777777777778,
             "#fb9f3a"
            ],
            [
             0.8888888888888888,
             "#fdca26"
            ],
            [
             1,
             "#f0f921"
            ]
           ]
          },
          "colorway": [
           "#636efa",
           "#EF553B",
           "#00cc96",
           "#ab63fa",
           "#FFA15A",
           "#19d3f3",
           "#FF6692",
           "#B6E880",
           "#FF97FF",
           "#FECB52"
          ],
          "font": {
           "color": "#2a3f5f"
          },
          "geo": {
           "bgcolor": "white",
           "lakecolor": "white",
           "landcolor": "#E5ECF6",
           "showlakes": true,
           "showland": true,
           "subunitcolor": "white"
          },
          "hoverlabel": {
           "align": "left"
          },
          "hovermode": "closest",
          "mapbox": {
           "style": "light"
          },
          "paper_bgcolor": "white",
          "plot_bgcolor": "#E5ECF6",
          "polar": {
           "angularaxis": {
            "gridcolor": "white",
            "linecolor": "white",
            "ticks": ""
           },
           "bgcolor": "#E5ECF6",
           "radialaxis": {
            "gridcolor": "white",
            "linecolor": "white",
            "ticks": ""
           }
          },
          "scene": {
           "xaxis": {
            "backgroundcolor": "#E5ECF6",
            "gridcolor": "white",
            "gridwidth": 2,
            "linecolor": "white",
            "showbackground": true,
            "ticks": "",
            "zerolinecolor": "white"
           },
           "yaxis": {
            "backgroundcolor": "#E5ECF6",
            "gridcolor": "white",
            "gridwidth": 2,
            "linecolor": "white",
            "showbackground": true,
            "ticks": "",
            "zerolinecolor": "white"
           },
           "zaxis": {
            "backgroundcolor": "#E5ECF6",
            "gridcolor": "white",
            "gridwidth": 2,
            "linecolor": "white",
            "showbackground": true,
            "ticks": "",
            "zerolinecolor": "white"
           }
          },
          "shapedefaults": {
           "line": {
            "color": "#2a3f5f"
           }
          },
          "ternary": {
           "aaxis": {
            "gridcolor": "white",
            "linecolor": "white",
            "ticks": ""
           },
           "baxis": {
            "gridcolor": "white",
            "linecolor": "white",
            "ticks": ""
           },
           "bgcolor": "#E5ECF6",
           "caxis": {
            "gridcolor": "white",
            "linecolor": "white",
            "ticks": ""
           }
          },
          "title": {
           "x": 0.05
          },
          "xaxis": {
           "automargin": true,
           "gridcolor": "white",
           "linecolor": "white",
           "ticks": "",
           "title": {
            "standoff": 15
           },
           "zerolinecolor": "white",
           "zerolinewidth": 2
          },
          "yaxis": {
           "automargin": true,
           "gridcolor": "white",
           "linecolor": "white",
           "ticks": "",
           "title": {
            "standoff": 15
           },
           "zerolinecolor": "white",
           "zerolinewidth": 2
          }
         }
        },
        "title": {
         "text": "ID distribution"
        }
       }
      },
      "text/html": [
       "<div>\n",
       "        \n",
       "        \n",
       "            <div id=\"8f6213fc-9133-49b9-b23c-1e6438f18654\" class=\"plotly-graph-div\" style=\"height:525px; width:100%;\"></div>\n",
       "            <script type=\"text/javascript\">\n",
       "                require([\"plotly\"], function(Plotly) {\n",
       "                    window.PLOTLYENV=window.PLOTLYENV || {};\n",
       "                    \n",
       "                if (document.getElementById(\"8f6213fc-9133-49b9-b23c-1e6438f18654\")) {\n",
       "                    Plotly.newPlot(\n",
       "                        '8f6213fc-9133-49b9-b23c-1e6438f18654',\n",
       "                        [{\"domain\": {\"x\": [0.0, 1.0], \"y\": [0.0, 1.0]}, \"hoverlabel\": {\"namelength\": 0}, \"hovertemplate\": \"label=%{label}<br>value=%{value}\", \"labels\": [\"2.0 ID\", \"4.0 ID\", \"1.0 ID\", \"3.0 ID\", \"6.0 ID\"], \"legendgroup\": \"\", \"name\": \"\", \"showlegend\": true, \"type\": \"pie\", \"values\": [12580, 1610, 5330, 273, 49]}],\n",
       "                        {\"legend\": {\"tracegroupgap\": 0}, \"template\": {\"data\": {\"bar\": [{\"error_x\": {\"color\": \"#2a3f5f\"}, \"error_y\": {\"color\": \"#2a3f5f\"}, \"marker\": {\"line\": {\"color\": \"#E5ECF6\", \"width\": 0.5}}, \"type\": \"bar\"}], \"barpolar\": [{\"marker\": {\"line\": {\"color\": \"#E5ECF6\", \"width\": 0.5}}, \"type\": \"barpolar\"}], \"carpet\": [{\"aaxis\": {\"endlinecolor\": \"#2a3f5f\", \"gridcolor\": \"white\", \"linecolor\": \"white\", \"minorgridcolor\": \"white\", \"startlinecolor\": \"#2a3f5f\"}, \"baxis\": {\"endlinecolor\": \"#2a3f5f\", \"gridcolor\": \"white\", \"linecolor\": \"white\", \"minorgridcolor\": \"white\", \"startlinecolor\": \"#2a3f5f\"}, \"type\": \"carpet\"}], \"choropleth\": [{\"colorbar\": {\"outlinewidth\": 0, \"ticks\": \"\"}, \"type\": \"choropleth\"}], \"contour\": [{\"colorbar\": {\"outlinewidth\": 0, \"ticks\": \"\"}, \"colorscale\": [[0.0, \"#0d0887\"], [0.1111111111111111, \"#46039f\"], [0.2222222222222222, \"#7201a8\"], [0.3333333333333333, \"#9c179e\"], [0.4444444444444444, \"#bd3786\"], [0.5555555555555556, \"#d8576b\"], [0.6666666666666666, \"#ed7953\"], [0.7777777777777778, \"#fb9f3a\"], [0.8888888888888888, \"#fdca26\"], [1.0, \"#f0f921\"]], \"type\": \"contour\"}], \"contourcarpet\": [{\"colorbar\": {\"outlinewidth\": 0, \"ticks\": \"\"}, \"type\": \"contourcarpet\"}], \"heatmap\": [{\"colorbar\": {\"outlinewidth\": 0, \"ticks\": \"\"}, \"colorscale\": [[0.0, \"#0d0887\"], [0.1111111111111111, \"#46039f\"], [0.2222222222222222, \"#7201a8\"], [0.3333333333333333, \"#9c179e\"], [0.4444444444444444, \"#bd3786\"], [0.5555555555555556, \"#d8576b\"], [0.6666666666666666, \"#ed7953\"], [0.7777777777777778, \"#fb9f3a\"], [0.8888888888888888, \"#fdca26\"], [1.0, \"#f0f921\"]], \"type\": \"heatmap\"}], \"heatmapgl\": [{\"colorbar\": {\"outlinewidth\": 0, \"ticks\": \"\"}, \"colorscale\": [[0.0, \"#0d0887\"], [0.1111111111111111, \"#46039f\"], [0.2222222222222222, \"#7201a8\"], [0.3333333333333333, \"#9c179e\"], [0.4444444444444444, \"#bd3786\"], [0.5555555555555556, \"#d8576b\"], [0.6666666666666666, \"#ed7953\"], [0.7777777777777778, \"#fb9f3a\"], [0.8888888888888888, \"#fdca26\"], [1.0, \"#f0f921\"]], \"type\": \"heatmapgl\"}], \"histogram\": [{\"marker\": {\"colorbar\": {\"outlinewidth\": 0, \"ticks\": \"\"}}, \"type\": \"histogram\"}], \"histogram2d\": [{\"colorbar\": {\"outlinewidth\": 0, \"ticks\": \"\"}, \"colorscale\": [[0.0, \"#0d0887\"], [0.1111111111111111, \"#46039f\"], [0.2222222222222222, \"#7201a8\"], [0.3333333333333333, \"#9c179e\"], [0.4444444444444444, \"#bd3786\"], [0.5555555555555556, \"#d8576b\"], [0.6666666666666666, \"#ed7953\"], [0.7777777777777778, \"#fb9f3a\"], [0.8888888888888888, \"#fdca26\"], [1.0, \"#f0f921\"]], \"type\": \"histogram2d\"}], \"histogram2dcontour\": [{\"colorbar\": {\"outlinewidth\": 0, \"ticks\": \"\"}, \"colorscale\": [[0.0, \"#0d0887\"], [0.1111111111111111, \"#46039f\"], [0.2222222222222222, \"#7201a8\"], [0.3333333333333333, \"#9c179e\"], [0.4444444444444444, \"#bd3786\"], [0.5555555555555556, \"#d8576b\"], [0.6666666666666666, \"#ed7953\"], [0.7777777777777778, \"#fb9f3a\"], [0.8888888888888888, \"#fdca26\"], [1.0, \"#f0f921\"]], \"type\": \"histogram2dcontour\"}], \"mesh3d\": [{\"colorbar\": {\"outlinewidth\": 0, \"ticks\": \"\"}, \"type\": \"mesh3d\"}], \"parcoords\": [{\"line\": {\"colorbar\": {\"outlinewidth\": 0, \"ticks\": \"\"}}, \"type\": \"parcoords\"}], \"pie\": [{\"automargin\": true, \"type\": \"pie\"}], \"scatter\": [{\"marker\": {\"colorbar\": {\"outlinewidth\": 0, \"ticks\": \"\"}}, \"type\": \"scatter\"}], \"scatter3d\": [{\"line\": {\"colorbar\": {\"outlinewidth\": 0, \"ticks\": \"\"}}, \"marker\": {\"colorbar\": {\"outlinewidth\": 0, \"ticks\": \"\"}}, \"type\": \"scatter3d\"}], \"scattercarpet\": [{\"marker\": {\"colorbar\": {\"outlinewidth\": 0, \"ticks\": \"\"}}, \"type\": \"scattercarpet\"}], \"scattergeo\": [{\"marker\": {\"colorbar\": {\"outlinewidth\": 0, \"ticks\": \"\"}}, \"type\": \"scattergeo\"}], \"scattergl\": [{\"marker\": {\"colorbar\": {\"outlinewidth\": 0, \"ticks\": \"\"}}, \"type\": \"scattergl\"}], \"scattermapbox\": [{\"marker\": {\"colorbar\": {\"outlinewidth\": 0, \"ticks\": \"\"}}, \"type\": \"scattermapbox\"}], \"scatterpolar\": [{\"marker\": {\"colorbar\": {\"outlinewidth\": 0, \"ticks\": \"\"}}, \"type\": \"scatterpolar\"}], \"scatterpolargl\": [{\"marker\": {\"colorbar\": {\"outlinewidth\": 0, \"ticks\": \"\"}}, \"type\": \"scatterpolargl\"}], \"scatterternary\": [{\"marker\": {\"colorbar\": {\"outlinewidth\": 0, \"ticks\": \"\"}}, \"type\": \"scatterternary\"}], \"surface\": [{\"colorbar\": {\"outlinewidth\": 0, \"ticks\": \"\"}, \"colorscale\": [[0.0, \"#0d0887\"], [0.1111111111111111, \"#46039f\"], [0.2222222222222222, \"#7201a8\"], [0.3333333333333333, \"#9c179e\"], [0.4444444444444444, \"#bd3786\"], [0.5555555555555556, \"#d8576b\"], [0.6666666666666666, \"#ed7953\"], [0.7777777777777778, \"#fb9f3a\"], [0.8888888888888888, \"#fdca26\"], [1.0, \"#f0f921\"]], \"type\": \"surface\"}], \"table\": [{\"cells\": {\"fill\": {\"color\": \"#EBF0F8\"}, \"line\": {\"color\": \"white\"}}, \"header\": {\"fill\": {\"color\": \"#C8D4E3\"}, \"line\": {\"color\": \"white\"}}, \"type\": \"table\"}]}, \"layout\": {\"annotationdefaults\": {\"arrowcolor\": \"#2a3f5f\", \"arrowhead\": 0, \"arrowwidth\": 1}, \"coloraxis\": {\"colorbar\": {\"outlinewidth\": 0, \"ticks\": \"\"}}, \"colorscale\": {\"diverging\": [[0, \"#8e0152\"], [0.1, \"#c51b7d\"], [0.2, \"#de77ae\"], [0.3, \"#f1b6da\"], [0.4, \"#fde0ef\"], [0.5, \"#f7f7f7\"], [0.6, \"#e6f5d0\"], [0.7, \"#b8e186\"], [0.8, \"#7fbc41\"], [0.9, \"#4d9221\"], [1, \"#276419\"]], \"sequential\": [[0.0, \"#0d0887\"], [0.1111111111111111, \"#46039f\"], [0.2222222222222222, \"#7201a8\"], [0.3333333333333333, \"#9c179e\"], [0.4444444444444444, \"#bd3786\"], [0.5555555555555556, \"#d8576b\"], [0.6666666666666666, \"#ed7953\"], [0.7777777777777778, \"#fb9f3a\"], [0.8888888888888888, \"#fdca26\"], [1.0, \"#f0f921\"]], \"sequentialminus\": [[0.0, \"#0d0887\"], [0.1111111111111111, \"#46039f\"], [0.2222222222222222, \"#7201a8\"], [0.3333333333333333, \"#9c179e\"], [0.4444444444444444, \"#bd3786\"], [0.5555555555555556, \"#d8576b\"], [0.6666666666666666, \"#ed7953\"], [0.7777777777777778, \"#fb9f3a\"], [0.8888888888888888, \"#fdca26\"], [1.0, \"#f0f921\"]]}, \"colorway\": [\"#636efa\", \"#EF553B\", \"#00cc96\", \"#ab63fa\", \"#FFA15A\", \"#19d3f3\", \"#FF6692\", \"#B6E880\", \"#FF97FF\", \"#FECB52\"], \"font\": {\"color\": \"#2a3f5f\"}, \"geo\": {\"bgcolor\": \"white\", \"lakecolor\": \"white\", \"landcolor\": \"#E5ECF6\", \"showlakes\": true, \"showland\": true, \"subunitcolor\": \"white\"}, \"hoverlabel\": {\"align\": \"left\"}, \"hovermode\": \"closest\", \"mapbox\": {\"style\": \"light\"}, \"paper_bgcolor\": \"white\", \"plot_bgcolor\": \"#E5ECF6\", \"polar\": {\"angularaxis\": {\"gridcolor\": \"white\", \"linecolor\": \"white\", \"ticks\": \"\"}, \"bgcolor\": \"#E5ECF6\", \"radialaxis\": {\"gridcolor\": \"white\", \"linecolor\": \"white\", \"ticks\": \"\"}}, \"scene\": {\"xaxis\": {\"backgroundcolor\": \"#E5ECF6\", \"gridcolor\": \"white\", \"gridwidth\": 2, \"linecolor\": \"white\", \"showbackground\": true, \"ticks\": \"\", \"zerolinecolor\": \"white\"}, \"yaxis\": {\"backgroundcolor\": \"#E5ECF6\", \"gridcolor\": \"white\", \"gridwidth\": 2, \"linecolor\": \"white\", \"showbackground\": true, \"ticks\": \"\", \"zerolinecolor\": \"white\"}, \"zaxis\": {\"backgroundcolor\": \"#E5ECF6\", \"gridcolor\": \"white\", \"gridwidth\": 2, \"linecolor\": \"white\", \"showbackground\": true, \"ticks\": \"\", \"zerolinecolor\": \"white\"}}, \"shapedefaults\": {\"line\": {\"color\": \"#2a3f5f\"}}, \"ternary\": {\"aaxis\": {\"gridcolor\": \"white\", \"linecolor\": \"white\", \"ticks\": \"\"}, \"baxis\": {\"gridcolor\": \"white\", \"linecolor\": \"white\", \"ticks\": \"\"}, \"bgcolor\": \"#E5ECF6\", \"caxis\": {\"gridcolor\": \"white\", \"linecolor\": \"white\", \"ticks\": \"\"}}, \"title\": {\"x\": 0.05}, \"xaxis\": {\"automargin\": true, \"gridcolor\": \"white\", \"linecolor\": \"white\", \"ticks\": \"\", \"title\": {\"standoff\": 15}, \"zerolinecolor\": \"white\", \"zerolinewidth\": 2}, \"yaxis\": {\"automargin\": true, \"gridcolor\": \"white\", \"linecolor\": \"white\", \"ticks\": \"\", \"title\": {\"standoff\": 15}, \"zerolinecolor\": \"white\", \"zerolinewidth\": 2}}}, \"title\": {\"text\": \"ID distribution\"}},\n",
       "                        {\"responsive\": true}\n",
       "                    ).then(function(){\n",
       "                            \n",
       "var gd = document.getElementById('8f6213fc-9133-49b9-b23c-1e6438f18654');\n",
       "var x = new MutationObserver(function (mutations, observer) {{\n",
       "        var display = window.getComputedStyle(gd).display;\n",
       "        if (!display || display === 'none') {{\n",
       "            console.log([gd, 'removed!']);\n",
       "            Plotly.purge(gd);\n",
       "            observer.disconnect();\n",
       "        }}\n",
       "}});\n",
       "\n",
       "// Listen for the removal of the full notebook cells\n",
       "var notebookContainer = gd.closest('#notebook-container');\n",
       "if (notebookContainer) {{\n",
       "    x.observe(notebookContainer, {childList: true});\n",
       "}}\n",
       "\n",
       "// Listen for the clearing of the current output cell\n",
       "var outputEl = gd.closest('.output');\n",
       "if (outputEl) {{\n",
       "    x.observe(outputEl, {childList: true});\n",
       "}}\n",
       "\n",
       "                        })\n",
       "                };\n",
       "                });\n",
       "            </script>\n",
       "        </div>"
      ]
     },
     "metadata": {},
     "output_type": "display_data"
    }
   ],
   "source": [
    "# my_data.head(20)\n",
    "# my_data['idN'].value_counts().nlargest(n=5)  # пять самых больших классов\n",
    "labels = '2.0 ID', '4.0 ID', '1.0 ID', '3.0 ID','6.0 ID'\n",
    "sizes = [12580, 1610, 5330, 273,49] # Размеры пяти самых больших классов\n",
    "\n",
    "import plotly.express as px\n",
    "# df = px.data.gapminder().query(\"year == 2007\").query(\"continent == 'Europe'\")\n",
    "# df.loc[df[''] < 2.e6, 'country'] = 'Other countries' # Represent only large countries\n",
    "fig = px.pie(sizes, values=sizes, names=labels, title='ID distribution')\n",
    "fig.show()"
   ]
  },
  {
   "cell_type": "markdown",
   "metadata": {},
   "source": [
    "### Distribution for distances in GCVS-ZTF for answers with 1 ID, r=5arcsec"
   ]
  },
  {
   "cell_type": "code",
   "execution_count": 75,
   "metadata": {},
   "outputs": [
    {
     "data": {
      "text/plain": [
       "Text(0.5, 1.0, 'Distribution for distances in GCVS-ZTF for answers with 1 ID, r=5arcsec')"
      ]
     },
     "execution_count": 75,
     "metadata": {},
     "output_type": "execute_result"
    },
    {
     "data": {
      "image/png": "[encoded data removed]",
      "text/plain": [
       "<Figure size 432x288 with 1 Axes>"
      ]
     },
     "metadata": {
      "needs_background": "light"
     },
     "output_type": "display_data"
    }
   ],
   "source": [
    "df = pd.read_csv(r'1IDobj.csv',sep='\\t')\n",
    "df['dist1']=df['dist1']\n",
    "df['dist1'].hist(bins=100)\n",
    "plt.title (\"Distribution for distances in GCVS-ZTF for answers with 1 ID, r=5arcsec\") #данные по всему каталогу "
   ]
  },
  {
   "cell_type": "code",
   "execution_count": 76,
   "metadata": {},
   "outputs": [],
   "source": [
    "# listl=[]\n",
    "# for item in names2: \n",
    "#     with open(r\"C:\\Users\\rtut6\\Desktop\\Backup\\2\\{}.txt\".format(item)) as file:\n",
    "#         res = file.read().replace(\"'\", '\"')\n",
    "#     res=json.loads(res)\n",
    "#     c1=SkyCoord(res[list(res.keys())[0]]['meta']['coord']['ra']*u.degree, res[list(res.keys())[0]]['meta']['coord']['dec']*u.degree)\n",
    "#     c2=SkyCoord(res[list(res.keys())[1]]['meta']['coord']['ra']*u.degree, res[list(res.keys())[1]]['meta']['coord']['dec']*u.degree)\n",
    "#     sep0 = c1.separation(c2)\n",
    "#     listl.append(sep0.value)"
   ]
  },
  {
   "cell_type": "code",
   "execution_count": 77,
   "metadata": {},
   "outputs": [],
   "source": [
    "# with open('listl.csv', 'wb') as f:\n",
    "#     pickle.dump(listl, f)"
   ]
  },
  {
   "cell_type": "code",
   "execution_count": 78,
   "metadata": {},
   "outputs": [],
   "source": [
    "import pickle\n",
    "with open('listl.csv', 'rb') as f:\n",
    "    listl = pickle.load(f)"
   ]
  },
  {
   "cell_type": "code",
   "execution_count": 79,
   "metadata": {},
   "outputs": [],
   "source": [
    "# for i in range(len(listl)):\n",
    "#     listl[i]=listl[i]*3600"
   ]
  },
  {
   "cell_type": "markdown",
   "metadata": {},
   "source": [
    "### Distribution for distances in ZTF for answers with 2 id (between ids), r=1.5arcsec"
   ]
  },
  {
   "cell_type": "code",
   "execution_count": 80,
   "metadata": {},
   "outputs": [
    {
     "data": {
      "text/plain": [
       "Text(0.5, 1.0, 'Distribution for distances in ZTF for answers with 2 id (between ids), r=1.5arcsec')"
      ]
     },
     "execution_count": 80,
     "metadata": {},
     "output_type": "execute_result"
    },
    {
     "data": {
      "image/png": "[encoded data removed]",
      "text/plain": [
       "<Figure size 432x288 with 1 Axes>"
      ]
     },
     "metadata": {
      "needs_background": "light"
     },
     "output_type": "display_data"
    }
   ],
   "source": [
    "df=pd.DataFrame(index=range(len(listl)),columns=['degr'])\n",
    "df['degr']=listl\n",
    "df.hist(bins=100)\n",
    "# np.cumsum(a)\n",
    "plt.title (\"Distribution for distances in ZTF for answers with 2 id (between ids), r=1.5arcsec\") #данные по всему каталогу "
   ]
  },
  {
   "cell_type": "markdown",
   "metadata": {},
   "source": [
    "### Create a DataFrame:"
   ]
  },
  {
   "cell_type": "code",
   "execution_count": 81,
   "metadata": {},
   "outputs": [],
   "source": [
    "df=pd.DataFrame(columns=['ra','dec','Nobs','filter','Name'],index=range(35000))"
   ]
  },
  {
   "cell_type": "markdown",
   "metadata": {},
   "source": [
    "### Each new row - one single observation (for each 2-id object we get 2 rows)"
   ]
  },
  {
   "cell_type": "code",
   "execution_count": 82,
   "metadata": {
    "scrolled": true
   },
   "outputs": [],
   "source": [
    "# # i=0\n",
    "# for item in names2: # names1 or names2 (replace to switch)\n",
    "#     with open(r\"C:\\Users\\rtut6\\Desktop\\Backup\\2\\{}.txt\".format(item)) as file: # 2 or 1 folder (replace to switch)\n",
    "#         res = file.read().replace(\"'\", '\"')\n",
    "#     res=json.loads(res)\n",
    "\n",
    "#     if res[list(res.keys())[0]]['meta']['filter']=='zg':\n",
    "#         df['ra'][i]=round(res[list(res.keys())[0]]['meta']['coord']['ra'],3)\n",
    "#         df['dec'][i]=res[list(res.keys())[0]]['meta']['coord']['dec']\n",
    "#         df['Nobs'][i]=res[list(res.keys())[0]]['meta']['nobs']\n",
    "#         df['filter'][i]='zg'\n",
    "#         df['Name'][i]=item\n",
    "#         i=i+1\n",
    "#     if res[list(res.keys())[0]]['meta']['filter']=='zr':\n",
    "#         df['ra'][i]=round(res[list(res.keys())[0]]['meta']['coord']['ra'],3)\n",
    "#         df['dec'][i]=res[list(res.keys())[0]]['meta']['coord']['dec']\n",
    "#         df['Nobs'][i]=res[list(res.keys())[0]]['meta']['nobs']\n",
    "#         df['filter'][i]='zr'\n",
    "#         df['Name'][i]=item\n",
    "#         i=i+1 \n",
    "        \n",
    "    # this part has been made for second (2) folder: (add to switch)\n",
    "#     if res[list(res.keys())[1]]['meta']['filter']=='zg':\n",
    "#         df['ra'][i]=round(res[list(res.keys())[1]]['meta']['coord']['ra'],3)\n",
    "#         df['dec'][i]=res[list(res.keys())[1]]['meta']['coord']['dec']\n",
    "#         df['Nobs'][i]=res[list(res.keys())[1]]['meta']['nobs']\n",
    "#         df['filter'][i]='zg'\n",
    "#         df['Name'][i]=item\n",
    "#         i=i+1\n",
    "        \n",
    "#     if res[list(res.keys())[1]]['meta']['filter']=='zr':\n",
    "#         df['ra'][i]=round(res[list(res.keys())[1]]['meta']['coord']['ra'],3)\n",
    "#         df['dec'][i]=res[list(res.keys())[1]]['meta']['coord']['dec']\n",
    "#         df['Nobs'][i]=res[list(res.keys())[1]]['meta']['nobs']\n",
    "#         df['filter'][i]='zr'\n",
    "#         df['Name'][i]=item\n",
    "#         i=i+1\n",
    "\n",
    "                \n",
    "#     df.append([res[list(res.keys())[1]]['meta']['coord']['ra']],[res[list(res.keys())[1]]['meta']['coord']['dec']])\n",
    "#     if sep0.value*3600>0.5 or res[list(res.keys())[0]]['meta']['fieldid']==res[list(res.keys())[1]]['meta']['fieldid'] and res[list(res.keys())[0]]['meta']['filter']==res[list(res.keys())[1]]['meta']['filter']:\n",
    "#     special1.append(item)\n",
    "# special1        \n",
    "#     sep1 = c2.separation(c0)\n",
    "#     df['dist1'][i]=sep0.value\n",
    "#     df['dist2'][i]=sep1.value\n",
    "# #     if len(d2.keys())==3:\n",
    "# #         list3[k]=item\n",
    "# #         k=k+1\n",
    "#     d=d+1    \n",
    "#     if d % 1000==0:\n",
    "#             print(d)"
   ]
  },
  {
   "cell_type": "markdown",
   "metadata": {},
   "source": [
    "### Next we want to match coordinates of an object with its type of variability"
   ]
  },
  {
   "cell_type": "markdown",
   "metadata": {},
   "source": [
    "### Here some problems with merging initial dataframe (data1) with new one (df)"
   ]
  },
  {
   "cell_type": "code",
   "execution_count": 83,
   "metadata": {},
   "outputs": [],
   "source": [
    "# df[df['ra']==290.22]"
   ]
  },
  {
   "cell_type": "code",
   "execution_count": 84,
   "metadata": {},
   "outputs": [],
   "source": [
    "# data1[data1['ra']==290.22]"
   ]
  },
  {
   "cell_type": "markdown",
   "metadata": {},
   "source": [
    "### With \"merge\" function we'll have all possible combinations of ra from data1 and df (if they are the same). Here -18 rows. Because of that we have to filter rows of our dataframe by dec in data1 and df"
   ]
  },
  {
   "cell_type": "code",
   "execution_count": 85,
   "metadata": {},
   "outputs": [],
   "source": [
    "# for i in range(data1.shape[0]):\n",
    "#     data1['dec'][i]=round(data1['dec'][i],3)"
   ]
  },
  {
   "cell_type": "code",
   "execution_count": 86,
   "metadata": {},
   "outputs": [],
   "source": [
    "# dff=pd.merge(df, data1, on='ra')\n",
    "# df1=df.merge(data1, left_on=['ra'], right_on=['ra'])"
   ]
  },
  {
   "cell_type": "code",
   "execution_count": 87,
   "metadata": {},
   "outputs": [],
   "source": [
    "# Error correction\n",
    "# index=[]\n",
    "# for i in range(df1.shape[0]):\n",
    "#     if abs(df1['dec_x'][i]-df1['dec_y'][i])>=0.003:\n",
    "#         index.append(i)\n",
    "# d1f=df1.drop(index,axis=0)  "
   ]
  },
  {
   "cell_type": "code",
   "execution_count": 88,
   "metadata": {},
   "outputs": [],
   "source": [
    "# df1 = df1.reset_index(drop=True)"
   ]
  },
  {
   "cell_type": "code",
   "execution_count": 89,
   "metadata": {},
   "outputs": [],
   "source": [
    "# df1.to_csv('df1.csv', sep='\\t')"
   ]
  },
  {
   "cell_type": "markdown",
   "metadata": {},
   "source": [
    "### V types from GCVS:"
   ]
  },
  {
   "cell_type": "code",
   "execution_count": 90,
   "metadata": {},
   "outputs": [],
   "source": [
    "eruptive=['FU', 'GCAS', 'I', 'IA', 'IB', 'IN', 'INA', 'INB', 'INT', 'IT', 'IN(YY)', 'IS', 'ISA',\n",
    "          'ISB', 'RCB', 'RS', 'SDOR', 'UV', 'UVN', 'WR']\n",
    "pulsating=['ACYG', 'BCEP', 'BCEPS', 'CEP', 'CEP(B)', 'CW', 'CWA', 'CWB', 'DCEP', 'DCEPS',\n",
    "           'DSCT', 'DSCTC', 'GDOR', 'L', 'LB', 'LC', 'M', 'PVTEL', 'RPHS', 'RR', 'RR(B)', 'RRAB',\n",
    "           'RRC', 'RV', 'RVA', 'RVB', 'SR', 'SRA', 'SRB', 'SRC', 'SRD', 'SXPHE', 'ZZ', 'ZZA', 'ZZB']\n",
    "rotating=['ACV', 'ACVO', 'BY', 'ELL', 'FKCOM', 'PSR', 'SXARI']\n",
    "cataclysmic=['N', 'NA', 'NB', 'NC', 'NL', 'NR','SN', 'SNI', 'SNII', 'UG', 'UGSS', 'UGSU', 'UGZ', 'ZAND']\n",
    "eclipsing=['E', 'EA', 'EB', 'EW', 'GS', 'PN', 'RS', 'WD', 'WR', 'AR', 'D', 'DM','DS', 'DW', 'K', 'KE', 'KW', 'SD']\n",
    "intense=['X', 'XB', 'XF', 'XI', 'XJ', 'XND', 'XNG', 'XP', 'XPR','XPRM', 'XM']\n",
    "other=['BLLAC', 'CST', 'GAL', 'L:', 'QSO', 'S', '*', '+', ':','ZZO', 'AM', 'R', 'BE', 'LBV', 'BLBOO', 'EP', 'SRS', 'LPB']"
   ]
  },
  {
   "cell_type": "markdown",
   "metadata": {},
   "source": [
    "### Make a new column ('Num') with class of variability"
   ]
  },
  {
   "cell_type": "code",
   "execution_count": 91,
   "metadata": {},
   "outputs": [],
   "source": [
    "# #Numerate classes\n",
    "# df1['Num']=0\n",
    "# for i in range(df1.shape[0]):\n",
    "#     if df1['Type'][i] in eruptive:\n",
    "#         df1['Num'][i]=0\n",
    "#         continue\n",
    "#     if df1['Type'][i] in pulsating:\n",
    "#         df1['Num'][i]=1\n",
    "#         continue\n",
    "#     if df1['Type'][i] in rotating:\n",
    "#         df1['Num'][i]=2\n",
    "#         continue\n",
    "#     if df1['Type'][i] in cataclysmic:\n",
    "#         df1['Num'][i]=3\n",
    "#         continue\n",
    "#     if df1['Type'][i] in eclipsing:\n",
    "#         df1['Num'][i]=4\n",
    "#         continue\n",
    "#     if df1['Type'][i] in intense:\n",
    "#         df1['Num'][i]=5\n",
    "#     else:\n",
    "#         df1['Num'][i]=6"
   ]
  },
  {
   "cell_type": "markdown",
   "metadata": {},
   "source": [
    "### Look at names of files in pulsating type:"
   ]
  },
  {
   "cell_type": "code",
   "execution_count": 92,
   "metadata": {},
   "outputs": [],
   "source": [
    "# df1[df1['Num']==1]['Name'].tolist()"
   ]
  },
  {
   "cell_type": "code",
   "execution_count": 93,
   "metadata": {},
   "outputs": [],
   "source": [
    "df1=pd.read_csv('df1.csv', sep='\\t')"
   ]
  },
  {
   "cell_type": "code",
   "execution_count": 106,
   "metadata": {},
   "outputs": [],
   "source": [
    "names=df1['Type'].value_counts()[:90].index.tolist()"
   ]
  },
  {
   "cell_type": "code",
   "execution_count": 107,
   "metadata": {},
   "outputs": [
    {
     "data": {
      "text/plain": [
       "<matplotlib.axes._subplots.AxesSubplot at 0x155860a6b38>"
      ]
     },
     "execution_count": 107,
     "metadata": {},
     "output_type": "execute_result"
    },
    {
     "data": {
      "image/png": "[encoded data removed]",
      "text/plain": [
       "<Figure size 1440x720 with 1 Axes>"
      ]
     },
     "metadata": {
      "needs_background": "light"
     },
     "output_type": "display_data"
    }
   ],
   "source": [
    "dfff0=pd.DataFrame(list(zip(names,df1[df1['filter']=='zg']['Type'].value_counts().tolist(),df1[df1['filter']=='zr']['Type'].value_counts().tolist())),columns=['name','zg','zr'])\n",
    "# dfff=df1['Type'].value_counts()[:100]\n",
    "dfff0.index=names\n",
    "dfff0.plot(kind='bar',figsize=(20,10))"
   ]
  },
  {
   "cell_type": "code",
   "execution_count": 108,
   "metadata": {},
   "outputs": [],
   "source": [
    "k=0\n",
    "list1=[]\n",
    "df11=df1[df1['filter']=='zr']\n",
    "for item in names:\n",
    "    list1.append(df11[df11['Type']==item]['Nobs'].sum()/df11[df11['Type']==item].shape[0])\n",
    "    k=k+1\n",
    "t=0\n",
    "list2=[]\n",
    "df11=df1[df1['filter']=='zg']\n",
    "for item in names:\n",
    "    list2.append(df11[df11['Type']==item]['Nobs'].sum()/df11[df11['Type']==item].shape[0])\n",
    "    t=t+1    "
   ]
  },
  {
   "cell_type": "code",
   "execution_count": 109,
   "metadata": {},
   "outputs": [
    {
     "name": "stderr",
     "output_type": "stream",
     "text": [
      "C:\\Users\\rtut6\\Anaconda3\\lib\\site-packages\\ipykernel_launcher.py:5: SettingWithCopyWarning:\n",
      "\n",
      "\n",
      "A value is trying to be set on a copy of a slice from a DataFrame\n",
      "\n",
      "See the caveats in the documentation: http://pandas.pydata.org/pandas-docs/stable/user_guide/indexing.html#returning-a-view-versus-a-copy\n",
      "\n",
      "C:\\Users\\rtut6\\Anaconda3\\lib\\site-packages\\ipykernel_launcher.py:6: SettingWithCopyWarning:\n",
      "\n",
      "\n",
      "A value is trying to be set on a copy of a slice from a DataFrame\n",
      "\n",
      "See the caveats in the documentation: http://pandas.pydata.org/pandas-docs/stable/user_guide/indexing.html#returning-a-view-versus-a-copy\n",
      "\n"
     ]
    }
   ],
   "source": [
    "obs=pd.DataFrame(list(zip(names,list1, list2)),columns=['Type','zg','zr'])\n",
    "obs['Type']=names\n",
    "\n",
    "for i in range(obs.shape[0]):\n",
    "    obs['zg'][i]=int(obs['zg'][i])\n",
    "    obs['zr'][i]=int(obs['zr'][i])"
   ]
  },
  {
   "cell_type": "code",
   "execution_count": 110,
   "metadata": {},
   "outputs": [
    {
     "data": {
      "text/plain": [
       "<matplotlib.axes._subplots.AxesSubplot at 0x1558613aba8>"
      ]
     },
     "execution_count": 110,
     "metadata": {},
     "output_type": "execute_result"
    },
    {
     "data": {
      "image/png": "[encoded data removed]",
      "text/plain": [
       "<Figure size 1440x720 with 1 Axes>"
      ]
     },
     "metadata": {
      "needs_background": "light"
     },
     "output_type": "display_data"
    }
   ],
   "source": [
    "obs.plot(kind='bar',figsize=(20,10))"
   ]
  },
  {
   "cell_type": "code",
   "execution_count": null,
   "metadata": {},
   "outputs": [],
   "source": []
  },
  {
   "cell_type": "code",
   "execution_count": null,
   "metadata": {},
   "outputs": [],
   "source": []
  },
  {
   "cell_type": "code",
   "execution_count": null,
   "metadata": {},
   "outputs": [],
   "source": []
  },
  {
   "cell_type": "markdown",
   "metadata": {},
   "source": [
    "### Plot  curves for five random objects of type 'n'"
   ]
  },
  {
   "cell_type": "code",
   "execution_count": 111,
   "metadata": {},
   "outputs": [
    {
     "data": {
      "image/png": "[encoded data removed]",
      "text/plain": [
       "<Figure size 432x288 with 1 Axes>"
      ]
     },
     "metadata": {
      "needs_background": "light"
     },
     "output_type": "display_data"
    },
    {
     "data": {
      "image/png": "[encoded data removed]",
      "text/plain": [
       "<Figure size 432x288 with 1 Axes>"
      ]
     },
     "metadata": {
      "needs_background": "light"
     },
     "output_type": "display_data"
    },
    {
     "data": {
      "image/png": "[encoded data removed]",
      "text/plain": [
       "<Figure size 432x288 with 1 Axes>"
      ]
     },
     "metadata": {
      "needs_background": "light"
     },
     "output_type": "display_data"
    },
    {
     "data": {
      "image/png": "[encoded data removed]",
      "text/plain": [
       "<Figure size 432x288 with 1 Axes>"
      ]
     },
     "metadata": {
      "needs_background": "light"
     },
     "output_type": "display_data"
    },
    {
     "data": {
      "image/png": "[encoded data removed]",
      "text/plain": [
       "<Figure size 432x288 with 1 Axes>"
      ]
     },
     "metadata": {
      "needs_background": "light"
     },
     "output_type": "display_data"
    }
   ],
   "source": [
    "import random\n",
    "from os import path\n",
    "import matplotlib.backends.backend_pdf\n",
    "import matplotlib.dates as mdates\n",
    "outpath = \"path/of/your/folder/\"\n",
    "n=2\n",
    "pdf = matplotlib.backends.backend_pdf.PdfPages(str(n)+\".pdf\")\n",
    "names=random.sample(df1[df1['Num']==n]['Name'].tolist(), 5)\n",
    "for item in names:\n",
    "    with open(r\"C:\\Users\\rtut6\\Desktop\\Backup\\2\\{}.txt\".format(item)) as file:\n",
    "        res = file.read().replace(\"'\", '\"')\n",
    "        res=json.loads(res)\n",
    "    x=[]\n",
    "    y=[]\n",
    "    for i in range(len(res[list(res.keys())[0]]['lc'])):\n",
    "        x.append(res[list(res.keys())[0]]['lc'][i]['mjd'])\n",
    "        y.append(res[list(res.keys())[0]]['lc'][i]['mag'])\n",
    "\n",
    "\n",
    "#         days = mdates.drange(start,end,dt.timedelta(days=1))\n",
    "    f=plt.figure()\n",
    "    plt.gca().xaxis.set_major_formatter(mdates.DateFormatter('%Y-%m-%d'))\n",
    "    plt.gca().xaxis.set_major_locator(mdates.DayLocator(interval=30))\n",
    "    ax = plt.gca()\n",
    "    ax.set_facecolor((1.0, 0.94, 1))\n",
    "    plt.plot(x,y)\n",
    "    plt.gcf().autofmt_xdate()\n",
    "    plt.ylabel(item)\n",
    "    plt.grid(True,color='blue',linestyle=\"--\")\n",
    "    pdf.savefig(f) #saving pdf\n",
    "    plt.show()\n",
    "pdf.close()"
   ]
  },
  {
   "cell_type": "code",
   "execution_count": 112,
   "metadata": {},
   "outputs": [],
   "source": [
    "with open(r\"C:\\Users\\rtut6\\Desktop\\Backup\\1\\11619.txt\".format(item)) as file: \n",
    "    res = file.read().replace(\"'\", '\"')\n",
    "    res=json.loads(res)"
   ]
  },
  {
   "cell_type": "code",
   "execution_count": 113,
   "metadata": {},
   "outputs": [],
   "source": [
    "x=[]\n",
    "y=[]\n",
    "for i in range(len(res[list(res.keys())[0]]['lc'])):\n",
    "    x.append(res[list(res.keys())[0]]['lc'][i]['mjd'])\n",
    "    y.append(res[list(res.keys())[0]]['lc'][i]['mag'])"
   ]
  },
  {
   "cell_type": "code",
   "execution_count": 114,
   "metadata": {},
   "outputs": [
    {
     "data": {
      "image/png": "[encoded data removed]",
      "text/plain": [
       "<Figure size 432x288 with 1 Axes>"
      ]
     },
     "metadata": {
      "needs_background": "light"
     },
     "output_type": "display_data"
    }
   ],
   "source": [
    "plt.plot(x, y, 'ro')\n",
    "plt.show()"
   ]
  },
  {
   "cell_type": "markdown",
   "metadata": {},
   "source": [
    "# Machine Learning "
   ]
  },
  {
   "cell_type": "code",
   "execution_count": 115,
   "metadata": {},
   "outputs": [],
   "source": [
    "# from sklearn.ensemble import RandomForestClassifier\n",
    "# from sklearn.model_selection import train_test_split\n",
    "# from xgboost import XGBClassifier\n",
    "# from sklearn.metrics import average_precision_score\n",
    "# from sklearn.metrics import mean_absolute_error\n",
    "# from sklearn.metrics import roc_curve, auc,recall_score,precision_score\n",
    "# from sklearn.metrics import accuracy_score"
   ]
  },
  {
   "cell_type": "code",
   "execution_count": null,
   "metadata": {},
   "outputs": [],
   "source": [
    "# data1=df.drop(['filter','obj_id'], axis=1)"
   ]
  },
  {
   "cell_type": "code",
   "execution_count": null,
   "metadata": {},
   "outputs": [],
   "source": [
    "# RandomForestClassifier"
   ]
  },
  {
   "cell_type": "code",
   "execution_count": null,
   "metadata": {},
   "outputs": [],
   "source": [
    "# df1=df.iloc[1500:1725]\n",
    "# array = data1.values\n",
    "# X = array[:,0:7]\n",
    "# Y = array[:,7]\n",
    "# validation_size = 0.2\n",
    "# seed = 5\n",
    "# X_train=X[0:1500]\n",
    "# X_validation=X[1500:1725]\n",
    "# Y_train=Y[0:1500]\n",
    "# Y_validation=Y[1500:1725]\n",
    "# X_train, X_validation, Y_train, Y_validation = train_test_split(X, Y, test_size=validation_size, random_state=seed)\n",
    "# X_train1, X_testt, Y_train1, Y_testt = train_test_split(X_train, Y_train, test_size=validation_size1, random_state=seed)\n",
    "# print(Y)\n",
    "# train.head()"
   ]
  },
  {
   "cell_type": "code",
   "execution_count": null,
   "metadata": {},
   "outputs": [],
   "source": [
    "#Learning with XGB model\n",
    "# model = XGBClassifier(random_state=34, seed=7, colsample_bytree=0.8, subsample=0.6, n_estimators=2000)\n",
    "# model.fit(X_train,Y_train)\n",
    "# pred = model.predict(X_validation)\n",
    "# accuracy = accuracy_score(Y_validation, pred)\n",
    "# print(\"Accuracy: %.2f%%\" % (accuracy * 100.0))"
   ]
  },
  {
   "cell_type": "code",
   "execution_count": null,
   "metadata": {},
   "outputs": [],
   "source": [
    "# df1['pred']=pred\n",
    "# df1.head(1000)"
   ]
  },
  {
   "cell_type": "code",
   "execution_count": null,
   "metadata": {},
   "outputs": [],
   "source": [
    "# plt.figure(figsize=(10,5))\n",
    "# plt.plot(np.array(obj_mjd1[9]), np.array(obj_mag1[9]))"
   ]
  },
  {
   "cell_type": "code",
   "execution_count": null,
   "metadata": {},
   "outputs": [],
   "source": [
    "# obj_mag"
   ]
  }
 ],
 "metadata": {
  "kernelspec": {
   "display_name": "Python 3",
   "language": "python",
   "name": "python3"
  },
  "language_info": {
   "codemirror_mode": {
    "name": "ipython",
    "version": 3
   },
   "file_extension": ".py",
   "mimetype": "text/x-python",
   "name": "python",
   "nbconvert_exporter": "python",
   "pygments_lexer": "ipython3",
   "version": "3.7.3"
  }
 },
 "nbformat": 4,
 "nbformat_minor": 2
}
